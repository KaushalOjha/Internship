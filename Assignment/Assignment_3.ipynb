{
 "cells": [
  {
   "cell_type": "markdown",
   "id": "402f8e88",
   "metadata": {},
   "source": [
    "## Assignment 3\n",
    "### Q1 Write a python program which searches all the product under a particular product from www.amazon.in.\n",
    "### The product to be searched will be taken as input from user. For e.g. If user input is ‘guitar’. Then search\n",
    "### for guitars.\n",
    "### Q2 In the above question, now scrape the following details of each product listed in first 3 pages of your \n",
    "### search results and save it in a data frame and csv. In case if any product has less than 3 pages in search \n",
    "### results then scrape all the products available under that productname. Details to be scraped are: \"Brand\n",
    "###  Name\", \"Name of the Product\", \"Price\", \"Return/Exchange\", \"Expected Delivery\", \"Availability\"and “Product\n",
    "###  URL”. In case, if any of the details are missing for any of the productthen replace it by “-“."
   ]
  },
  {
   "cell_type": "code",
   "execution_count": 19,
   "id": "600782c7",
   "metadata": {},
   "outputs": [
    {
     "name": "stdout",
     "output_type": "stream",
     "text": [
      "Requirement already satisfied: selenium in e:\\datatrained\\anaconda\\lib\\site-packages (4.1.0)\n",
      "Requirement already satisfied: trio-websocket~=0.9 in e:\\datatrained\\anaconda\\lib\\site-packages (from selenium) (0.9.2)\n",
      "Requirement already satisfied: urllib3[secure]~=1.26 in e:\\datatrained\\anaconda\\lib\\site-packages (from selenium) (1.26.7)\n",
      "Requirement already satisfied: trio~=0.17 in e:\\datatrained\\anaconda\\lib\\site-packages (from selenium) (0.19.0)\n",
      "Requirement already satisfied: idna in e:\\datatrained\\anaconda\\lib\\site-packages (from trio~=0.17->selenium) (3.2)\n",
      "Requirement already satisfied: sortedcontainers in e:\\datatrained\\anaconda\\lib\\site-packages (from trio~=0.17->selenium) (2.4.0)\n",
      "Requirement already satisfied: sniffio in e:\\datatrained\\anaconda\\lib\\site-packages (from trio~=0.17->selenium) (1.2.0)\n",
      "Requirement already satisfied: cffi>=1.14 in e:\\datatrained\\anaconda\\lib\\site-packages (from trio~=0.17->selenium) (1.14.6)\n",
      "Requirement already satisfied: outcome in e:\\datatrained\\anaconda\\lib\\site-packages (from trio~=0.17->selenium) (1.1.0)\n",
      "Requirement already satisfied: async-generator>=1.9 in e:\\datatrained\\anaconda\\lib\\site-packages (from trio~=0.17->selenium) (1.10)\n",
      "Requirement already satisfied: attrs>=19.2.0 in e:\\datatrained\\anaconda\\lib\\site-packages (from trio~=0.17->selenium) (21.2.0)\n",
      "Requirement already satisfied: pycparser in e:\\datatrained\\anaconda\\lib\\site-packages (from cffi>=1.14->trio~=0.17->selenium) (2.20)\n",
      "Requirement already satisfied: wsproto>=0.14 in e:\\datatrained\\anaconda\\lib\\site-packages (from trio-websocket~=0.9->selenium) (1.0.0)\n",
      "Requirement already satisfied: pyOpenSSL>=0.14 in e:\\datatrained\\anaconda\\lib\\site-packages (from urllib3[secure]~=1.26->selenium) (21.0.0)\n",
      "Requirement already satisfied: cryptography>=1.3.4 in e:\\datatrained\\anaconda\\lib\\site-packages (from urllib3[secure]~=1.26->selenium) (3.4.8)\n",
      "Requirement already satisfied: certifi in e:\\datatrained\\anaconda\\lib\\site-packages (from urllib3[secure]~=1.26->selenium) (2021.10.8)\n",
      "Requirement already satisfied: six>=1.5.2 in e:\\datatrained\\anaconda\\lib\\site-packages (from pyOpenSSL>=0.14->urllib3[secure]~=1.26->selenium) (1.16.0)\n",
      "Requirement already satisfied: h11<1,>=0.9.0 in e:\\datatrained\\anaconda\\lib\\site-packages (from wsproto>=0.14->trio-websocket~=0.9->selenium) (0.12.0)\n"
     ]
    }
   ],
   "source": [
    "\n",
    "!pip install selenium\n",
    "\n",
    "from bs4 import BeautifulSoup\n",
    "import selenium\n",
    "from selenium import webdriver\n",
    "import requests\n",
    "import pandas as pd\n",
    "import warnings\n",
    "warnings.filterwarnings(\"ignore\")"
   ]
  },
  {
   "cell_type": "code",
   "execution_count": 20,
   "id": "7e7731fd",
   "metadata": {},
   "outputs": [],
   "source": [
    "# Run the driver\n",
    "driver = webdriver.Chrome('chromedriver.exe')\n",
    "\n",
    "# inserting url to driver\n",
    "url1 = 'https://www.amazon.in/'\n",
    "driver.get(url1)"
   ]
  },
  {
   "cell_type": "code",
   "execution_count": 21,
   "id": "de8343db",
   "metadata": {},
   "outputs": [
    {
     "data": {
      "text/plain": [
       "<selenium.webdriver.remote.webelement.WebElement (session=\"7dcc622a51ce8aae5800133b21250ef4\", element=\"aca4304b-4bd4-4b6c-b45b-780fb8652286\")>"
      ]
     },
     "execution_count": 21,
     "metadata": {},
     "output_type": "execute_result"
    }
   ],
   "source": [
    "#to find element\n",
    "srch_title_xpath = driver.find_element_by_xpath('/html/body/div[1]/header/div/div[1]/div[2]/div/form/div[2]/div[1]/input')\n",
    "srch_title_xpath"
   ]
  },
  {
   "cell_type": "code",
   "execution_count": 22,
   "id": "8137549f",
   "metadata": {},
   "outputs": [
    {
     "name": "stdout",
     "output_type": "stream",
     "text": [
      "type your text here:watch\n"
     ]
    }
   ],
   "source": [
    "# Input from user \"watch\"\n",
    "search_prod=input('type your text here:')"
   ]
  },
  {
   "cell_type": "code",
   "execution_count": 23,
   "id": "71b9e840",
   "metadata": {},
   "outputs": [],
   "source": [
    "#to fill search colomn \n",
    "srch_title_xpath.send_keys(search_prod)"
   ]
  },
  {
   "cell_type": "code",
   "execution_count": 24,
   "id": "4126b191",
   "metadata": {},
   "outputs": [],
   "source": [
    "#to click on search button\n",
    "searchbtn = driver.find_element_by_xpath('/html/body/div[1]/header/div/div[1]/div[2]/div/form/div[3]/div/span/input')\n",
    "searchbtn.click()"
   ]
  },
  {
   "cell_type": "markdown",
   "id": "4301d5bf",
   "metadata": {},
   "source": [
    "### In the above question, now scrape the following details of each product listed in first 3 pages of your search results and save it in a data frame and csv. In case if any product has less than 3 pages in search results then scrape all the products available under that productname. Details to be scraped are: \"Brand Name\", \"Name of the Product\", \"Price\", \"Return/Exchange\", \"Expected Delivery\", \"Availability\"and “Product URL”. In case, if any of the details are missing for any of the productthen replace it by “-“.\n"
   ]
  },
  {
   "cell_type": "code",
   "execution_count": 25,
   "id": "9da83c2e",
   "metadata": {},
   "outputs": [
    {
     "data": {
      "text/plain": [
       "67"
      ]
     },
     "execution_count": 25,
     "metadata": {},
     "output_type": "execute_result"
    }
   ],
   "source": [
    "# to fetch brand names\n",
    "Brand_name = driver.find_elements_by_xpath('//h5[@class=\"s-line-clamp-1\"]')\n",
    "len(Brand_name)"
   ]
  },
  {
   "cell_type": "code",
   "execution_count": 26,
   "id": "ee1121bd",
   "metadata": {},
   "outputs": [
    {
     "data": {
      "text/plain": [
       "['Reebok',\n",
       " 'Analogue',\n",
       " 'Sylvi',\n",
       " 'casera',\n",
       " 'boAt',\n",
       " 'SHREE NOVA',\n",
       " 'Shocknshop',\n",
       " 'REDUX',\n",
       " 'boAt',\n",
       " 'boAt',\n",
       " 'Fire-Boltt',\n",
       " 'boAt',\n",
       " 'Noise',\n",
       " 'RIZZER',\n",
       " 'Adipin',\n",
       " 'Noise',\n",
       " 'Fastrack',\n",
       " 'Noise',\n",
       " 'Fire-Boltt',\n",
       " 'TIMEWEAR',\n",
       " 'Casio',\n",
       " 'SWISSTONE',\n",
       " 'SF',\n",
       " '',\n",
       " '',\n",
       " '',\n",
       " '',\n",
       " 'Britex',\n",
       " 'Analogue',\n",
       " 'Hemt',\n",
       " 'SWISSTYLE',\n",
       " 'MARVIK',\n",
       " 'ITRUE',\n",
       " 'Fastrack',\n",
       " 'Fire-Boltt',\n",
       " 'DIVALTH',\n",
       " 'SELLORIA',\n",
       " 'VILLS LAURRENS',\n",
       " 'REDUX',\n",
       " 'Samsung',\n",
       " 'Shocknshop',\n",
       " 'STYLEDOSE',\n",
       " 'DECORVAIZ',\n",
       " 'REDUX',\n",
       " 'Generic',\n",
       " 'SWISSTONE',\n",
       " 'Spigen',\n",
       " 'boAt',\n",
       " 'SHOPTOSHOP',\n",
       " 'Shocknshop',\n",
       " 'DIVALTH',\n",
       " 'Casio',\n",
       " 'PANKATI',\n",
       " 'Generic',\n",
       " 'SWISSTYLE',\n",
       " 'TIMEWEAR',\n",
       " 'MAGBOT',\n",
       " 'TIMEWEAR',\n",
       " 'MI',\n",
       " 'TRAXOT',\n",
       " 'Fastrack',\n",
       " 'Fastrack',\n",
       " 'Fossil',\n",
       " 'HEMT',\n",
       " 'Analogue',\n",
       " 'VILLS LAURRENS',\n",
       " 'REDUX']"
      ]
     },
     "execution_count": 26,
     "metadata": {},
     "output_type": "execute_result"
    }
   ],
   "source": [
    "# Creating list of brand name\n",
    "\n",
    "Brand = []\n",
    "for i in Brand_name:\n",
    "    Brand.append(i.text)\n",
    "\n",
    "Brand"
   ]
  },
  {
   "cell_type": "code",
   "execution_count": 27,
   "id": "346c7e26",
   "metadata": {},
   "outputs": [
    {
     "data": {
      "text/plain": [
       "67"
      ]
     },
     "execution_count": 27,
     "metadata": {},
     "output_type": "execute_result"
    }
   ],
   "source": [
    "# fetching name of product\n",
    "prod_desc = driver.find_elements_by_xpath('//span[@class=\"a-size-base-plus a-color-base a-text-normal\"]')\n",
    "len(prod_desc)"
   ]
  },
  {
   "cell_type": "code",
   "execution_count": 28,
   "id": "eef8ef64",
   "metadata": {},
   "outputs": [
    {
     "data": {
      "text/plain": [
       "['Reebok ActiveFit 1.0 Smartwatch- 1.3\" Full-Touch HD Display, SpO2 Sensor, Dynamic HRM, BP & Sleep Monitor, Durable Spindrop Strap, 15+ Sports Modes & Upto 15 Days Battery- RV-ATF-U0-PBIB-BB- Black',\n",
       " \"Analog Men's Watch (Black Dial)\",\n",
       " \"Multi-Function Premium Chronograph Waterproof Sports Look Analog-Digital All Black Round Dial with PU Strap Men's Watch - Mens & Boys Style Watch\",\n",
       " '7680-Digital Sports Multi Functional Black Dial Watch for Men and Boys',\n",
       " 'boAt Xtend Smartwatch with Alexa Built-in, 1.69” HD Display, Multiple Watch Faces, Stress Monitor, Heart & SpO2 Monitoring, 14 Sports Modes, Sleep Monitor & 5 ATM Water Resistance(Pitch Black)',\n",
       " 'SHREE NOVA ID116 Plus Bluetooth Fitness Smart Watch for Men Women and Kids Activity Tracker (Black)',\n",
       " 'Digital Sports Multi Functional Black Dial Watch for Mens Boys -315RED',\n",
       " \"Analog Linear Designer Dial Men’s & Boy's Watch\",\n",
       " 'boAt Xtend Smartwatch with Alexa Built-in, 1.69” HD Display, Multiple Watch Faces, Stress Monitor, Heart & SpO2 Monitoring, 14 Sports Modes, Sleep Monitor & 5 ATM Water Resistance(Sandy Cream)',\n",
       " 'boAt Xtend Smartwatch with Alexa Built-in, 1.69” HD Display, Multiple Watch Faces, Stress Monitor, Heart & SpO2 Monitoring, 14 Sports Modes, Sleep Monitor & 5 ATM Water Resistance(Olive Green)',\n",
       " 'Fire-Boltt Ring Bluetooth Calling Smartwatch with SpO2 & 1.7” Metal Body with Blood Oxygen Monitoring, Continuous Heart Rate, Full Touch & Multiple Watch Faces (Black), M (BSW005)',\n",
       " 'boAt Flash Edition Smartwatch with Activity Tracker,Multiple Sports Modes,Full Touch 1.3\" Screen,Sleep Monitor,Gesture, Camera & Music Control,IP68 Dust,Sweat & Splash Resistance(Lightning Black)',\n",
       " 'Noise ColorFit Pro 2 Full Touch Control Smart Watch with 35g Weight & Upgraded LCD Display,IP68 Waterproof,Heart Rate Monitor,Sleep & Step Tracker,Call & Message Alerts & Long Battery Life (Jet Black)',\n",
       " 'RIZZER ID116 Plus Bluetooth Fitness Smart Watch for Men Women and Kids Activity Tracker (Black)',\n",
       " 'Smart Watch D116 Bluetooth 1.3\" LED with Daily Activity Tracker, Heart Rate Sensor, BP Monitor, Sports Watch for All Boys & Girls Wristband',\n",
       " 'Noise ColorFit Pulse Smartwatch with 1.4\" Full Touch HD Display, SpO2, Heart Rate, Sleep Monitors & 10-Day Battery - Deep Wine',\n",
       " 'Fastrack reflex Vox Rectangle Unisex Smart Watch activity tracker - Full touch, color display, Heart rate monitor, silicone strap and up to 10 days battery life -38072AP01 (Carbon Black)',\n",
       " 'Noise ColorFit Pulse Spo2 Smart Watch with 10 days battery life, 60+ Watch Faces, 1.4\" Full Touch HD Display Smartwatch, 24*7 Heart Rate Monitor Smart Band, Sleep Monitoring Smart Watches for Men and Women & IP68 Waterproof (Jet Black)',\n",
       " 'Fire-Boltt Ninja 2 SpO2 Full Touch Smartwatch with 30 Workout Modes, Heart Rate Tracking, and 100+ Cloud Watch Faces, 7 Days of extensive Battery, Deep Black, M',\n",
       " 'Analog Day Date Functioning Stainless Steel Chain Watch for Men',\n",
       " 'Vintage Series Digital Black Dial Unisex Watch - A-158WA-1Q(D011)',\n",
       " \"Analogue Women's Watch (Pink Dial SIlver Colored Strap)\",\n",
       " \"Analog Black Round Dial Men's Casual Watch-NL7930PP01\",\n",
       " '',\n",
       " '',\n",
       " '',\n",
       " '',\n",
       " 'Mesh Strap All Black Men Quartz Watch with Free Premium King Bracelet Water Resistant Feature Rakhi/Raksha Bandhan/Bhai Dooj Gift Pack Combo Analog Watch - for Boys - BT8050+King',\n",
       " 'Midnight Black Dial & Silicon Mesh Strap with Water Resistant & 1 Year Quartz Warranty Boys Series',\n",
       " \"Analog Black Dial Men's Watch-HM-GR092-BLK-CH\",\n",
       " \"Analog Black Dial Men's Watch-SS-GR06612-BLK-CH\",\n",
       " 'MARVIK® Smart Watch D116 for Xiaomi Mi Note 9 Smart Watch LED with Activity Tracker, Heart Rate Sensor, Sleep Monitor and Basic Functionality for All Boys & Girls - Black',\n",
       " 'ITRUE Waterproof D20 Touchscreen Smart Watch Bluetooth Smartwatch with Blood Pressure Tracking, Heart Rate Sensor and Basic Functionality (Watch-C)',\n",
       " 'Tees Analog Black Dial Unisex-Adult Watch-38024PP25',\n",
       " 'Fire-Boltt Ninja 2 SpO2 Full Touch Smartwatch with 30 Workout Modes, Heart Rate Tracking, and 100+ Cloud Watch Faces, 7 Days of extensive Battery - (Dark Green), M',\n",
       " 'Smart Watch for Mens Womens, Android Smartwatch Touch Screen Bluetooth Smart Watches for Android iOS Phones Wrist Phone Watch - Y68 Smart Watch',\n",
       " 'Digital Unisex-Child Watch (Black Dial) (Pack of 2)',\n",
       " \"Analogue Men's Watch (Black Dial Black Colored Strap)\",\n",
       " \"Analogue IPG Golden Dial Men’s & Boy's Watch\",\n",
       " 'Samsung Galaxy Watch 3 45mm Bluetooth (Mystic Black),SM-R840NZKAINS',\n",
       " 'Outdoor Sports Digital Black Dial Mens Boys Watch (Black, Back)',\n",
       " 'Branded Analogue Black Dial Magnet Watch with Gift Bracelet for Women or Girls and Watch for Girl or Women (Combo of 3)',\n",
       " 'DECORVAIZ Generic Digital 24 Images Spiderman Projector Watch for Kids(Unisex, Assorted Design)',\n",
       " \"Analog Blue-Grey Dial Men's Watch\",\n",
       " 'Smartest ID116 Plus Bluetooth Smart Fitness Band Watch with Heart Rate Activity Tracker Waterproof Body, Step and Calorie Counter, Distance Measure, OLED Touchscreen for Men/Women,',\n",
       " \"Analogue Women's Watch (Pink Dial SIlver Colored Strap)\",\n",
       " 'Spigen Lite Fit Fabric Band Strap Compatible with Apple Watch Series 7 (45mm) | 6 | 5 | 4 (44mm) | 3 | 2 | 1 (42mm) - Black',\n",
       " 'boAt Watch Matrix with 1.65” AMOLED Display, Always On Mode, Slim Premium Design, Heart Rate & SpO2 Monitoring, Your own Health Ecosystem & Multiple Sports Modes, 3ATM Water Resistance(Ocean Blue)',\n",
       " 'Activity Tracker',\n",
       " 'Digital Sports Multi Functional Watch for Mens Boys (Black Dial Colored Strap) -W04BLK',\n",
       " 'Smart Watch D116 Smart Watch, Bluetooth 1.3\" Smart Watch LED with Daily Activity Tracker, Heart Rate Sensor, for All Boys & Girls Wristband - Black',\n",
       " 'Vintage Series Digital Black Dial Unisex Watch - A-158WA-1Q(D011)',\n",
       " 'Watch Storage Box Organizer with Faux Leather Finish',\n",
       " 'T55 Series 6 Smart Watch Enabled with Bluetooth Calling and Fitness Tracker',\n",
       " \"Analog Black Dial Men's Watch-SS-GR06612-BLK-CH\",\n",
       " \"Digital Men's Watch\",\n",
       " 'MAGBOT QTX Bluetoth Wireless Smart Watch Fitness Band for Boys, Girls, Men, Women & Kids | Sports Watch for All Smart Phones I Heart Rate and BP Monitor',\n",
       " 'Analog Two Hands Slim Watch for Men',\n",
       " 'Mi Smart Band 5 – India’s No. 1 Fitness Band, 1.1 inch (2.8 cm) AMOLED Color Display, Magnetic Charging, 2 Weeks Battery Life, Personal Activity Intelligence (PAI), Women’s Health Tracking',\n",
       " 'TRAXOT ID Bluetoth Wireless Smart Watch Fitness Band for Boys, Girls, Men, Women & Kids | Sports Watch for All Smart Phones I Heart Rate and BP Monitor',\n",
       " 'Analog Black Dial Unisex-Adult Watch-9915PP56',\n",
       " 'Fastrack reflex Vox Rectangle Unisex Smart Watch activity tracker - Full touch, color display, Heart rate monitor, silicone strap and up to 10 days battery life -38072AP02 (Blazing Blue)',\n",
       " 'Chronograph Black Men Watch FS4832',\n",
       " \"Analog Gold Dial Men's Watch-2018\",\n",
       " 'All Blue Boys Series',\n",
       " \"Analogue Men's Watch (Black Dial Black Colored Strap)\",\n",
       " \"RWS0014S Analogue Black Dial Man's & Boy's Watch\"]"
      ]
     },
     "execution_count": 28,
     "metadata": {},
     "output_type": "execute_result"
    }
   ],
   "source": [
    "# Creating list of product name\n",
    "\n",
    "Product_name = []\n",
    "for i in prod_desc:\n",
    "    Product_name.append(i.text)\n",
    "\n",
    "Product_name"
   ]
  },
  {
   "cell_type": "code",
   "execution_count": 29,
   "id": "f8d26fee",
   "metadata": {},
   "outputs": [
    {
     "name": "stdout",
     "output_type": "stream",
     "text": [
      "67\n"
     ]
    },
    {
     "data": {
      "text/plain": [
       "['₹5,411\\n45',\n",
       " '₹199',\n",
       " '₹584',\n",
       " '₹299',\n",
       " '₹2,999',\n",
       " '₹465',\n",
       " '₹299',\n",
       " '₹299',\n",
       " '₹2,999',\n",
       " '₹2,999',\n",
       " '₹4,999',\n",
       " '₹2,499',\n",
       " '₹2,799',\n",
       " '₹350',\n",
       " '₹560',\n",
       " '₹1,999',\n",
       " '₹5,995',\n",
       " '₹2,499',\n",
       " '₹1,899',\n",
       " '₹339',\n",
       " '₹1,295',\n",
       " '₹435',\n",
       " '₹599',\n",
       " '',\n",
       " '',\n",
       " '',\n",
       " '',\n",
       " '₹239',\n",
       " '₹199',\n",
       " '₹279',\n",
       " '₹374',\n",
       " '₹549',\n",
       " '₹649',\n",
       " '₹850',\n",
       " '₹1,899',\n",
       " '₹699',\n",
       " '₹259',\n",
       " '₹352',\n",
       " '₹349',\n",
       " '₹15,990',\n",
       " '₹494',\n",
       " '₹299',\n",
       " '₹190',\n",
       " '₹279',\n",
       " '₹548',\n",
       " '₹435',\n",
       " '₹999',\n",
       " '₹3,999',\n",
       " '₹474',\n",
       " '₹399',\n",
       " '₹649',\n",
       " '₹1,295',\n",
       " '₹849',\n",
       " '₹1,110',\n",
       " '₹374',\n",
       " '₹699',\n",
       " '₹599',\n",
       " '₹359',\n",
       " '₹2,449',\n",
       " '₹499',\n",
       " '₹950',\n",
       " '₹5,995',\n",
       " '₹7,497',\n",
       " '₹459',\n",
       " '₹199',\n",
       " '₹352',\n",
       " '₹205']"
      ]
     },
     "execution_count": 29,
     "metadata": {},
     "output_type": "execute_result"
    }
   ],
   "source": [
    "#Fetching price of products\n",
    "fetch_price = driver.find_elements_by_xpath('//span[@class=\"a-price\"]')\n",
    "print(len(fetch_price))\n",
    "\n",
    "#creating list for price\n",
    "price = []\n",
    "for i in fetch_price:\n",
    "    price.append(i.text)\n",
    "    \n",
    "price "
   ]
  },
  {
   "cell_type": "code",
   "execution_count": 123,
   "id": "a03b01e3",
   "metadata": {},
   "outputs": [
    {
     "data": {
      "text/plain": [
       "['-',\n",
       " '-',\n",
       " '-',\n",
       " '-',\n",
       " '-',\n",
       " '-',\n",
       " '-',\n",
       " '-',\n",
       " '-',\n",
       " '-',\n",
       " '-',\n",
       " '-',\n",
       " '-',\n",
       " '-',\n",
       " '-',\n",
       " '-',\n",
       " '-',\n",
       " '-',\n",
       " '-',\n",
       " '-',\n",
       " '-',\n",
       " '-',\n",
       " '-',\n",
       " '-',\n",
       " '-',\n",
       " '-',\n",
       " '-',\n",
       " '-',\n",
       " '-',\n",
       " '-',\n",
       " '-',\n",
       " '-',\n",
       " '-',\n",
       " '-',\n",
       " '-',\n",
       " '-',\n",
       " '-',\n",
       " '-',\n",
       " '-',\n",
       " '-',\n",
       " '-',\n",
       " '-',\n",
       " '-',\n",
       " '-',\n",
       " '-',\n",
       " '-',\n",
       " '-',\n",
       " '-',\n",
       " '-',\n",
       " '-',\n",
       " '-',\n",
       " '-',\n",
       " '-',\n",
       " '-',\n",
       " '-',\n",
       " '-',\n",
       " '-',\n",
       " '-',\n",
       " '-',\n",
       " '-',\n",
       " '-',\n",
       " '-',\n",
       " '-',\n",
       " '-',\n",
       " '-',\n",
       " '-',\n",
       " '-']"
      ]
     },
     "execution_count": 123,
     "metadata": {},
     "output_type": "execute_result"
    }
   ],
   "source": [
    "#Exchange/return not available\n",
    "Exchange_return = []\n",
    "for i in range(67):\n",
    "    Exchange_return.append('-')\n",
    "\n",
    "Exchange_return"
   ]
  },
  {
   "cell_type": "code",
   "execution_count": 30,
   "id": "07b9ced1",
   "metadata": {},
   "outputs": [
    {
     "name": "stdout",
     "output_type": "stream",
     "text": [
      "66\n"
     ]
    },
    {
     "data": {
      "text/plain": [
       "['Friday, February 4',\n",
       " 'Saturday, February 5',\n",
       " 'Tomorrow, February 3',\n",
       " 'Friday, February 4',\n",
       " 'Tomorrow, February 3',\n",
       " 'Saturday, February 5',\n",
       " 'Tomorrow, February 3',\n",
       " 'Tomorrow, February 3',\n",
       " 'Tomorrow, February 3',\n",
       " 'Tomorrow, February 3',\n",
       " 'Tomorrow, February 3',\n",
       " 'Tomorrow, February 3',\n",
       " 'Tomorrow, February 3',\n",
       " 'Sunday, February 6',\n",
       " 'Monday, February 7',\n",
       " 'Tomorrow, February 3',\n",
       " 'Friday, February 4',\n",
       " 'Friday, February 4',\n",
       " 'Tomorrow, February 3',\n",
       " 'Saturday, February 5',\n",
       " 'Tomorrow, February 3',\n",
       " 'Friday, February 4',\n",
       " 'Tomorrow, February 3',\n",
       " '',\n",
       " '',\n",
       " '',\n",
       " 'Saturday, February 5',\n",
       " 'Saturday, February 5',\n",
       " 'Saturday, February 5',\n",
       " 'Tomorrow, February 3',\n",
       " 'Saturday, February 5',\n",
       " 'Saturday, February 5',\n",
       " 'Friday, February 4',\n",
       " 'Tomorrow, February 3',\n",
       " 'Sunday, February 6',\n",
       " 'Sunday, February 6',\n",
       " 'Saturday, February 5',\n",
       " 'Friday, February 4',\n",
       " 'Tomorrow, February 3',\n",
       " 'Tomorrow, February 3',\n",
       " 'Friday, February 4',\n",
       " 'Sunday, February 6',\n",
       " 'Friday, February 4',\n",
       " 'Sunday, February 6',\n",
       " 'Friday, February 4',\n",
       " 'Tomorrow, February 3',\n",
       " 'Tomorrow, February 3',\n",
       " 'Saturday, February 5',\n",
       " 'Tomorrow, February 3',\n",
       " 'Monday, February 7',\n",
       " 'Tomorrow, February 3',\n",
       " 'Saturday, February 5',\n",
       " 'Saturday, February 5',\n",
       " 'Tomorrow, February 3',\n",
       " 'Friday, February 4',\n",
       " 'Saturday, February 5',\n",
       " 'Saturday, February 5',\n",
       " 'Tomorrow, February 3',\n",
       " 'Saturday, February 5',\n",
       " 'Tomorrow, February 3',\n",
       " 'Friday, February 4',\n",
       " 'Tomorrow, February 3',\n",
       " 'Saturday, February 5',\n",
       " 'Saturday, February 5',\n",
       " 'Saturday, February 5',\n",
       " 'Tomorrow, February 3']"
      ]
     },
     "execution_count": 30,
     "metadata": {},
     "output_type": "execute_result"
    }
   ],
   "source": [
    "#Fetching expected delivery of products\n",
    "fetch_delvry = driver.find_elements_by_xpath('//span[@class=\"a-color-base a-text-bold\"]')\n",
    "print(len(fetch_delvry))\n",
    "\n",
    "#creating list for delivery time\n",
    "delivery_time = []\n",
    "for i in fetch_delvry:\n",
    "    delivery_time.append(i.text)\n",
    "    \n",
    "delivery_time"
   ]
  },
  {
   "cell_type": "code",
   "execution_count": 120,
   "id": "0f19a95b",
   "metadata": {},
   "outputs": [
    {
     "name": "stdout",
     "output_type": "stream",
     "text": [
      "67\n"
     ]
    },
    {
     "data": {
      "text/plain": [
       "['https://www.amazon.in/gp/slredirect/picassoRedirect.html/ref=pa_sp_atf_aps_sr_pg1_1?ie=UTF8&adId=A101521591IUXIGYD6F6&url=%2FReebok-ActiveFit-Smartwatch-Full-Touch-RV-ATF-U0-PBIB-BB%2Fdp%2FB09QHZQVVG%2Fref%3Dsr_1_1_sspa%3Fcrid%3D2J9YD0FV8ZQNZ%26keywords%3Dwatch%26qid%3D1643747668%26sprefix%3Dwatch%252Caps%252C549%26sr%3D8-1-spons%26psc%3D1&qualifier=1643747668&id=3344465318148437&widgetName=sp_atf',\n",
       " 'https://www.amazon.in/gp/slredirect/picassoRedirect.html/ref=pa_sp_atf_aps_sr_pg1_1?ie=UTF8&adId=A032059110RERRCI45YXM&url=%2FAnalogue-Mens-Black-Fancy-Watch%2Fdp%2FB085WNDZJ4%2Fref%3Dsr_1_2_sspa%3Fcrid%3D2J9YD0FV8ZQNZ%26keywords%3Dwatch%26qid%3D1643747668%26sprefix%3Dwatch%252Caps%252C549%26sr%3D8-2-spons%26psc%3D1&qualifier=1643747668&id=3344465318148437&widgetName=sp_atf',\n",
       " 'https://www.amazon.in/gp/slredirect/picassoRedirect.html/ref=pa_sp_atf_aps_sr_pg1_1?ie=UTF8&adId=A05008983KDEC4ESQZ1S1&url=%2FSylvi-YD-Digital-Waterproof-Analogue-Digital-Black%2Fdp%2FB07D1L41K1%2Fref%3Dsr_1_3_sspa%3Fcrid%3D2J9YD0FV8ZQNZ%26keywords%3Dwatch%26qid%3D1643747668%26sprefix%3Dwatch%252Caps%252C549%26sr%3D8-3-spons%26psc%3D1&qualifier=1643747668&id=3344465318148437&widgetName=sp_atf',\n",
       " 'https://www.amazon.in/gp/slredirect/picassoRedirect.html/ref=pa_sp_atf_aps_sr_pg1_1?ie=UTF8&adId=A06263842W0FPGZLNFK8O&url=%2FCasera-7680-Digital-Sports-Multi-Functional%2Fdp%2FB095M5JV2X%2Fref%3Dsr_1_4_sspa%3Fcrid%3D2J9YD0FV8ZQNZ%26keywords%3Dwatch%26qid%3D1643747668%26sprefix%3Dwatch%252Caps%252C549%26sr%3D8-4-spons%26psc%3D1%26smid%3DA3AZEPTHQG27U0&qualifier=1643747668&id=3344465318148437&widgetName=sp_atf',\n",
       " 'https://www.amazon.in/boAt-Smartwatch-Multiple-Monitoring-Resistance/dp/B096VF5YYF/ref=sr_1_5?crid=2J9YD0FV8ZQNZ&keywords=watch&qid=1643747668&sprefix=watch%2Caps%2C549&sr=8-5',\n",
       " 'https://www.amazon.in/SHREE-NOVA-Bluetooth-Fitness-Activity/dp/B09K5CVTNC/ref=sr_1_6?crid=2J9YD0FV8ZQNZ&keywords=watch&qid=1643747668&sprefix=watch%2Caps%2C549&sr=8-6',\n",
       " 'https://www.amazon.in/Shocknshop-Digital-Sports-Functional-315RED/dp/B08X1HCVWF/ref=sr_1_7?crid=2J9YD0FV8ZQNZ&keywords=watch&qid=1643747668&sprefix=watch%2Caps%2C549&sr=8-7',\n",
       " 'https://www.amazon.in/Redux-Analogue-Blue-Watch-RWS0216S/dp/B07KVZD6XM/ref=sr_1_8?crid=2J9YD0FV8ZQNZ&keywords=watch&qid=1643747668&sprefix=watch%2Caps%2C549&sr=8-8',\n",
       " 'https://www.amazon.in/boAt-Smartwatch-Multiple-Monitoring-Resistance/dp/B096VFND31/ref=sr_1_9?crid=2J9YD0FV8ZQNZ&keywords=watch&qid=1643747668&sprefix=watch%2Caps%2C549&sr=8-9',\n",
       " 'https://www.amazon.in/boAt-Smartwatch-Multiple-Monitoring-Resistance/dp/B096VF1PJ8/ref=sr_1_10?crid=2J9YD0FV8ZQNZ&keywords=watch&qid=1643747668&sprefix=watch%2Caps%2C549&sr=8-10',\n",
       " 'https://www.amazon.in/Fire-Boltt-Smartwatch-Monitoring-Continuous-BSW005/dp/B0972BQ2RS/ref=sr_1_11?crid=2J9YD0FV8ZQNZ&keywords=watch&qid=1643747668&sprefix=watch%2Caps%2C549&sr=8-11',\n",
       " 'https://www.amazon.in/boAt-Flash-Smartwatch-Resistance-Lightning/dp/B0949SBKMP/ref=sr_1_12?crid=2J9YD0FV8ZQNZ&keywords=watch&qid=1643747668&sprefix=watch%2Caps%2C549&sr=8-12',\n",
       " 'https://www.amazon.in/Noise-Colorfit-Pro-Touch-Control/dp/B07YY1BY5B/ref=sr_1_13?crid=2J9YD0FV8ZQNZ&keywords=watch&qid=1643747668&sprefix=watch%2Caps%2C549&sr=8-13',\n",
       " 'https://www.amazon.in/RIZZER-Bluetooth-Fitness-Activity-Tracker/dp/B09PBFYFSL/ref=sr_1_14?crid=2J9YD0FV8ZQNZ&keywords=watch&qid=1643747668&sprefix=watch%2Caps%2C549&sr=8-14',\n",
       " 'https://www.amazon.in/D116-Bluetooth-Activity-Tracker-Wristband/dp/B09P7JDFHZ/ref=sr_1_15?crid=2J9YD0FV8ZQNZ&keywords=watch&qid=1643747668&sprefix=watch%2Caps%2C549&sr=8-15',\n",
       " 'https://www.amazon.in/Noise-ColorFit-Smartwatch-Display-Monitors/dp/B097R3HPGY/ref=sr_1_16?crid=2J9YD0FV8ZQNZ&keywords=watch&qid=1643747668&smid=A14CZOWI0VEHLG&sprefix=watch%2Caps%2C549&sr=8-16',\n",
       " 'https://www.amazon.in/Fastrack-reflex-Rectangle-activity-tracker/dp/B09QKLM2VK/ref=sr_1_17?crid=2J9YD0FV8ZQNZ&keywords=watch&qid=1643747668&sprefix=watch%2Caps%2C549&sr=8-17',\n",
       " 'https://www.amazon.in/Noise-ColorFit-Smartwatch-Monitoring-Waterproof/dp/B097R25DP7/ref=sr_1_18?crid=2J9YD0FV8ZQNZ&keywords=watch&qid=1643747668&sprefix=watch%2Caps%2C549&sr=8-18',\n",
       " 'https://www.amazon.in/Fire-Boltt-Smartwatch-Workout-Tracking-extensive/dp/B09NM8S1V4/ref=sr_1_19?crid=2J9YD0FV8ZQNZ&keywords=watch&qid=1643747668&sprefix=watch%2Caps%2C549&sr=8-19',\n",
       " 'https://www.amazon.in/TIMEWEAR-Functioning-White-Chain-Watch/dp/B07MDGSP8F/ref=sr_1_20?crid=2J9YD0FV8ZQNZ&keywords=watch&qid=1643747668&sprefix=watch%2Caps%2C549&sr=8-20',\n",
       " 'https://www.amazon.in/Casio-Vintage-Digital-Grey-Watch-A158WA-1Q/dp/B000GAYQJ0/ref=sxin_28_slsr_d_i_fs4star_fa_0_B000GAYQJ0?crid=2J9YD0FV8ZQNZ&cv_ct_cx=watch&keywords=watch&pd_rd_i=B000GAYQJ0&pd_rd_r=126cdbd4-db34-41c3-807e-cbfa64f877a9&pd_rd_w=zZHYs&pd_rd_wg=Kxxl7&pf_rd_p=b93071c4-fda4-47b1-b1ed-7681d73c8c3e&pf_rd_r=TA5Y7Z09Q79NCDKD7DZ3&psc=1&qid=1643747668&sprefix=watch%2Caps%2C549&sr=1-1-41e0d225-3819-4755-898e-7f0f48633b47',\n",
       " 'https://www.amazon.in/SWISSTONE-Analogue-Silver-Plated-Bracelet/dp/B07FCPL5NX/ref=sxin_28_slsr_d_i_fs4star_fa_1_B07FCPL5NX?crid=2J9YD0FV8ZQNZ&cv_ct_cx=watch&keywords=watch&pd_rd_i=B07FCPL5NX&pd_rd_r=126cdbd4-db34-41c3-807e-cbfa64f877a9&pd_rd_w=zZHYs&pd_rd_wg=Kxxl7&pf_rd_p=b93071c4-fda4-47b1-b1ed-7681d73c8c3e&pf_rd_r=TA5Y7Z09Q79NCDKD7DZ3&psc=1&qid=1643747668&smid=A2BURQ2IK0ITXD&sprefix=watch%2Caps%2C549&sr=1-2-41e0d225-3819-4755-898e-7f0f48633b47',\n",
       " 'https://www.amazon.in/Sonata-Super-Fibre-Analog-Watch-NH7930PP01C/dp/B00ECWG1NC/ref=sxin_28_slsr_d_i_fs4star_fa_2_B00ECWG1NC?crid=2J9YD0FV8ZQNZ&cv_ct_cx=watch&keywords=watch&pd_rd_i=B00ECWG1NC&pd_rd_r=126cdbd4-db34-41c3-807e-cbfa64f877a9&pd_rd_w=zZHYs&pd_rd_wg=Kxxl7&pf_rd_p=b93071c4-fda4-47b1-b1ed-7681d73c8c3e&pf_rd_r=TA5Y7Z09Q79NCDKD7DZ3&psc=1&qid=1643747668&sprefix=watch%2Caps%2C549&sr=1-3-41e0d225-3819-4755-898e-7f0f48633b47',\n",
       " 'https://www.amazon.in/Sonata-Digital-Grey-Dial-Watch-NK7982PP04/dp/B00B81QJBO/ref=sxin_28_slsr_d_i_fs4star_fa_3_B00B81QJBO?crid=2J9YD0FV8ZQNZ&cv_ct_cx=watch&keywords=watch&pd_rd_i=B00B81QJBO&pd_rd_r=126cdbd4-db34-41c3-807e-cbfa64f877a9&pd_rd_w=zZHYs&pd_rd_wg=Kxxl7&pf_rd_p=b93071c4-fda4-47b1-b1ed-7681d73c8c3e&pf_rd_r=TA5Y7Z09Q79NCDKD7DZ3&psc=1&qid=1643747668&sprefix=watch%2Caps%2C549&sr=1-4-41e0d225-3819-4755-898e-7f0f48633b47',\n",
       " 'https://www.amazon.in/Fastrack-Black-Magic-Analog-Watch-NK3089SL05/dp/B00BSE5WQ4/ref=sxin_28_slsr_d_i_fs4star_fa_4_B00BSE5WQ4?crid=2J9YD0FV8ZQNZ&cv_ct_cx=watch&keywords=watch&pd_rd_i=B00BSE5WQ4&pd_rd_r=126cdbd4-db34-41c3-807e-cbfa64f877a9&pd_rd_w=zZHYs&pd_rd_wg=Kxxl7&pf_rd_p=b93071c4-fda4-47b1-b1ed-7681d73c8c3e&pf_rd_r=TA5Y7Z09Q79NCDKD7DZ3&psc=1&qid=1643747668&sprefix=watch%2Caps%2C549&sr=1-5-41e0d225-3819-4755-898e-7f0f48633b47',\n",
       " 'https://www.amazon.in/Sonata-Analog-Black-Dial-Watch-NK7924NM01/dp/B00KCOPMWK/ref=sxin_28_slsr_d_i_fs4star_fa_5_B00KCOPMWK?crid=2J9YD0FV8ZQNZ&cv_ct_cx=watch&keywords=watch&pd_rd_i=B00KCOPMWK&pd_rd_r=126cdbd4-db34-41c3-807e-cbfa64f877a9&pd_rd_w=zZHYs&pd_rd_wg=Kxxl7&pf_rd_p=b93071c4-fda4-47b1-b1ed-7681d73c8c3e&pf_rd_r=TA5Y7Z09Q79NCDKD7DZ3&psc=1&qid=1643747668&sprefix=watch%2Caps%2C549&sr=1-6-41e0d225-3819-4755-898e-7f0f48633b47',\n",
       " 'https://www.amazon.in/Sonata-Analog-Blue-Womens-Watch-NJ8989PP04C/dp/B00KCOPWY8/ref=sxin_28_slsr_d_i_fs4star_fa_6_B00KCOPWY8?crid=2J9YD0FV8ZQNZ&cv_ct_cx=watch&keywords=watch&pd_rd_i=B00KCOPWY8&pd_rd_r=126cdbd4-db34-41c3-807e-cbfa64f877a9&pd_rd_w=zZHYs&pd_rd_wg=Kxxl7&pf_rd_p=b93071c4-fda4-47b1-b1ed-7681d73c8c3e&pf_rd_r=TA5Y7Z09Q79NCDKD7DZ3&psc=1&qid=1643747668&sprefix=watch%2Caps%2C549&sr=1-7-41e0d225-3819-4755-898e-7f0f48633b47',\n",
       " 'https://www.amazon.in/gp/slredirect/picassoRedirect.html/ref=pa_sp_mtf_aps_sr_pg1_1?ie=UTF8&adId=A00907225INQKALMZ4RX&url=%2FBritex-Premium-Bracelet-Resistant-Feature%2Fdp%2FB09GPQXDPS%2Fref%3Dsr_1_21_sspa%3Fcrid%3D2J9YD0FV8ZQNZ%26keywords%3Dwatch%26qid%3D1643747668%26sprefix%3Dwatch%252Caps%252C549%26sr%3D8-21-spons%26psc%3D1&qualifier=1643747668&id=3344465318148437&widgetName=sp_mtf',\n",
       " 'https://www.amazon.in/gp/slredirect/picassoRedirect.html/ref=pa_sp_mtf_aps_sr_pg1_1?ie=UTF8&adId=A0320067270YTQBG6PCQF&url=%2FMidnight-Silicon-Resistant-Quartz-Warranty%2Fdp%2FB097NBTHSH%2Fref%3Dsr_1_22_sspa%3Fcrid%3D2J9YD0FV8ZQNZ%26keywords%3Dwatch%26qid%3D1643747668%26sprefix%3Dwatch%252Caps%252C549%26sr%3D8-22-spons%26psc%3D1&qualifier=1643747668&id=3344465318148437&widgetName=sp_mtf',\n",
       " 'https://www.amazon.in/gp/slredirect/picassoRedirect.html/ref=pa_sp_mtf_aps_sr_pg1_1?ie=UTF8&adId=A034679025OWEWLVW1JPP&url=%2FHemt-Analogue-Black-Day-n-Date-Display%2Fdp%2FB07HJ273RZ%2Fref%3Dsr_1_23_sspa%3Fcrid%3D2J9YD0FV8ZQNZ%26keywords%3Dwatch%26qid%3D1643747668%26sprefix%3Dwatch%252Caps%252C549%26sr%3D8-23-spons%26psc%3D1&qualifier=1643747668&id=3344465318148437&widgetName=sp_mtf',\n",
       " 'https://www.amazon.in/gp/slredirect/picassoRedirect.html/ref=pa_sp_mtf_aps_sr_pg1_1?ie=UTF8&adId=A03704051O5AGCRK0MHU1&url=%2FSwisstyle-Anolog-Black-Dial-Watch-SS-GR06612-BLK-CH%2Fdp%2FB078HLGKJW%2Fref%3Dsr_1_24_sspa%3Fcrid%3D2J9YD0FV8ZQNZ%26keywords%3Dwatch%26qid%3D1643747668%26sprefix%3Dwatch%252Caps%252C549%26sr%3D8-24-spons%26psc%3D1%26smid%3DA1AJKKS0W3656P&qualifier=1643747668&id=3344465318148437&widgetName=sp_mtf',\n",
       " 'https://www.amazon.in/MARVIK%C2%AE-Activity-Tracker-Monitor-Functionality/dp/B09P3LBC3T/ref=sr_1_25?crid=2J9YD0FV8ZQNZ&keywords=watch&qid=1643747668&sprefix=watch%2Caps%2C549&sr=8-25',\n",
       " 'https://www.amazon.in/ITRUE-Waterproof-Touchscreen-Smartwatch-Functionality/dp/B09QYXX5B2/ref=sr_1_26?crid=2J9YD0FV8ZQNZ&keywords=watch&qid=1643747668&sprefix=watch%2Caps%2C549&sr=8-26',\n",
       " 'https://www.amazon.in/Fastrack-Analog-Black-Unisex-Adult-Watch-38024PP25/dp/B099WNYHY2/ref=sr_1_27?crid=2J9YD0FV8ZQNZ&keywords=watch&qid=1643747668&sprefix=watch%2Caps%2C549&sr=8-27',\n",
       " 'https://www.amazon.in/Fire-Boltt-Smartwatch-Workout-Tracking-extensive/dp/B09NM8LBP2/ref=sr_1_28?crid=2J9YD0FV8ZQNZ&keywords=watch&qid=1643747668&sprefix=watch%2Caps%2C549&sr=8-28',\n",
       " 'https://www.amazon.in/Womens-Android-Smartwatch-Bluetooth-Watches/dp/B09QYXKNFT/ref=sr_1_29?crid=2J9YD0FV8ZQNZ&keywords=watch&qid=1643747668&sprefix=watch%2Caps%2C549&sr=8-29',\n",
       " 'https://www.amazon.in/SELLORIA-Digital-Silicone-Bracelet-Watches/dp/B0844GJT7Q/ref=sr_1_30?crid=2J9YD0FV8ZQNZ&keywords=watch&qid=1643747668&sprefix=watch%2Caps%2C549&sr=8-30',\n",
       " 'https://www.amazon.in/Vills-Laurrens-VL-1114-Stunning-Black/dp/B07GL4RYMC/ref=sr_1_31?crid=2J9YD0FV8ZQNZ&keywords=watch&qid=1643747668&sprefix=watch%2Caps%2C549&sr=8-31',\n",
       " 'https://www.amazon.in/Redux-Premium-Functioning-Golden-Chain/dp/B07S5ZTTHJ/ref=sr_1_32?crid=2J9YD0FV8ZQNZ&keywords=watch&qid=1643747668&sprefix=watch%2Caps%2C549&sr=8-32',\n",
       " 'https://www.amazon.in/Samsung-Galaxy-Bluetooth-Mystic-SM-R840NZKAINS/dp/B08FN4Q6VZ/ref=sr_1_33?crid=2J9YD0FV8ZQNZ&keywords=watch&qid=1643747668&sprefix=watch%2Caps%2C549&sr=8-33',\n",
       " 'https://www.amazon.in/Shocknshop-Outdoor-Sports-Digital-Black/dp/B0924XBF8W/ref=sr_1_34?crid=2J9YD0FV8ZQNZ&keywords=watch&qid=1643747668&sprefix=watch%2Caps%2C549&sr=8-34',\n",
       " 'https://www.amazon.in/STYLEDOSE-Diamond-Studded-Analogue-Bracelet/dp/B08YZ39MX4/ref=sr_1_35?crid=2J9YD0FV8ZQNZ&keywords=watch&qid=1643747668&sprefix=watch%2Caps%2C549&sr=8-35',\n",
       " 'https://www.amazon.in/Generic-images-Spiderman-Projector-Birthday/dp/B00MS3822K/ref=sr_1_36?crid=2J9YD0FV8ZQNZ&keywords=watch&qid=1643747668&sprefix=watch%2Caps%2C549&sr=8-36',\n",
       " 'https://www.amazon.in/Redux-Stainless-Steel-Analog-RWS0042S/dp/B073S8ZPDZ/ref=sr_1_37?crid=2J9YD0FV8ZQNZ&keywords=watch&qid=1643747668&sprefix=watch%2Caps%2C549&sr=8-37',\n",
       " 'https://www.amazon.in/Smartest-Bluetooth-Activity-Waterproof-Touchscreen/dp/B09PLCQ5XG/ref=sr_1_38?crid=2J9YD0FV8ZQNZ&keywords=watch&qid=1643747668&sprefix=watch%2Caps%2C549&sr=8-38',\n",
       " 'https://www.amazon.in/SWISSTONE-Analogue-Silver-Plated-Bracelet/dp/B07FCPL5NX/ref=sr_1_39?crid=2J9YD0FV8ZQNZ&keywords=watch&qid=1643747668&smid=A2BURQ2IK0ITXD&sprefix=watch%2Caps%2C549&sr=8-39',\n",
       " 'https://www.amazon.in/Spigen-Fabric-Strap-Compatible-Apple/dp/B08KWS77TC/ref=sr_1_40?crid=2J9YD0FV8ZQNZ&keywords=watch&qid=1643747668&sprefix=watch%2Caps%2C549&sr=8-40',\n",
       " 'https://www.amazon.in/boAt-Watch-Matrix-Monitoring-Resistance/dp/B09P8G14R8/ref=sr_1_41?crid=2J9YD0FV8ZQNZ&keywords=watch&qid=1643747668&sprefix=watch%2Caps%2C549&sr=8-41',\n",
       " 'https://www.amazon.in/SHOPTOSHOP-Activity-Tracker-Bluetooth-Black/dp/B084SZT76Y/ref=sr_1_42?crid=2J9YD0FV8ZQNZ&keywords=watch&qid=1643747668&sprefix=watch%2Caps%2C549&sr=8-42',\n",
       " 'https://www.amazon.in/Shocknshop-Digital-Functional-Colored-W04BLK/dp/B09CH1VVND/ref=sr_1_43?crid=2J9YD0FV8ZQNZ&keywords=watch&qid=1643747668&sprefix=watch%2Caps%2C549&sr=8-43',\n",
       " 'https://www.amazon.in/Bluetooth-Activity-Tracker-Sensor-Wristband/dp/B09M74BBYX/ref=sr_1_44?crid=2J9YD0FV8ZQNZ&keywords=watch&qid=1643747668&sprefix=watch%2Caps%2C549&sr=8-44',\n",
       " 'https://www.amazon.in/Casio-Vintage-Digital-Grey-Watch-A158WA-1Q/dp/B000GAYQJ0/ref=sr_1_45?crid=2J9YD0FV8ZQNZ&keywords=watch&qid=1643747668&sprefix=watch%2Caps%2C549&sr=8-45',\n",
       " 'https://www.amazon.in/zaradise-Leather-Storage-Display-Organizer/dp/B01MECT2OE/ref=sr_1_46?crid=2J9YD0FV8ZQNZ&keywords=watch&qid=1643747668&sprefix=watch%2Caps%2C549&sr=8-46',\n",
       " 'https://www.amazon.in/T55-Enabled-Bluetooth-Calling-Fitness/dp/B09NTMR6G1/ref=sr_1_47?crid=2J9YD0FV8ZQNZ&keywords=watch&qid=1643747668&sprefix=watch%2Caps%2C549&sr=8-47',\n",
       " 'https://www.amazon.in/Swisstyle-Anolog-Black-Dial-Watch-SS-GR06612-BLK-CH/dp/B078HLGKJW/ref=sr_1_48?crid=2J9YD0FV8ZQNZ&keywords=watch&qid=1643747668&sprefix=watch%2Caps%2C549&sr=8-48',\n",
       " 'https://www.amazon.in/Timewear-Military-Analogue-Digital-Black/dp/B07L3351J4/ref=sr_1_49?crid=2J9YD0FV8ZQNZ&keywords=watch&qid=1643747668&sprefix=watch%2Caps%2C549&sr=8-49',\n",
       " 'https://www.amazon.in/MAGBOT-Bluetoth-Wireless-Fitness-Monitor/dp/B09BFPFC9S/ref=sr_1_50?crid=2J9YD0FV8ZQNZ&keywords=watch&qid=1643747668&sprefix=watch%2Caps%2C549&sr=8-50',\n",
       " 'https://www.amazon.in/Timewear-Formal-White-Dial-Watch/dp/B07DN93B9R/ref=sr_1_51?crid=2J9YD0FV8ZQNZ&keywords=watch&qid=1643747668&sprefix=watch%2Caps%2C549&sr=8-51',\n",
       " 'https://www.amazon.in/Smart-AMOLED-Display-Battery-Resistant/dp/B08GXC2NTX/ref=sr_1_52?crid=2J9YD0FV8ZQNZ&keywords=watch&qid=1643747668&sprefix=watch%2Caps%2C549&sr=8-52',\n",
       " 'https://www.amazon.in/TRAXOT-ID-Bluetoth-Wireless-Fitness/dp/B09R4SBZWK/ref=sr_1_53?crid=2J9YD0FV8ZQNZ&keywords=watch&qid=1643747668&sprefix=watch%2Caps%2C549&sr=8-53',\n",
       " 'https://www.amazon.in/Fastrack-Analog-Black-Unisex-Adult-Watch-9915PP56/dp/B099WRMCJD/ref=sr_1_54?crid=2J9YD0FV8ZQNZ&keywords=watch&qid=1643747668&sprefix=watch%2Caps%2C549&sr=8-54',\n",
       " 'https://www.amazon.in/Fastrack-reflex-Rectangle-activity-tracker/dp/B09QKL7BM6/ref=sr_1_55?crid=2J9YD0FV8ZQNZ&keywords=watch&qid=1643747668&sprefix=watch%2Caps%2C549&sr=8-55',\n",
       " 'https://www.amazon.in/Fossil-Grant-Chronograph-Analog-Black/dp/B00BEU5CTE/ref=sr_1_56?crid=2J9YD0FV8ZQNZ&keywords=watch&qid=1643747668&sprefix=watch%2Caps%2C549&sr=8-56',\n",
       " 'https://www.amazon.in/gp/slredirect/picassoRedirect.html/ref=pa_sp_btf_aps_sr_pg1_1?ie=UTF8&adId=A08498272YKT3LXTETDRK&url=%2FHEMT-Analogue-Gold-Dial-Watch_HM-LR214-SLV-GLD%2Fdp%2FB07HK4KZHL%2Fref%3Dsr_1_57_sspa%3Fcrid%3D2J9YD0FV8ZQNZ%26keywords%3Dwatch%26qid%3D1643747668%26sprefix%3Dwatch%252Caps%252C549%26sr%3D8-57-spons%26psc%3D1&qualifier=1643747668&id=3344465318148437&widgetName=sp_btf',\n",
       " 'https://www.amazon.in/gp/slredirect/picassoRedirect.html/ref=pa_sp_btf_aps_sr_pg1_1?ie=UTF8&adId=A032031112KCK00497CKR&url=%2FAnalogue-ANLG-428-BLUE-BLUE-Blue-Boys-Series%2Fdp%2FB093DLLMR3%2Fref%3Dsr_1_58_sspa%3Fcrid%3D2J9YD0FV8ZQNZ%26keywords%3Dwatch%26qid%3D1643747668%26sprefix%3Dwatch%252Caps%252C549%26sr%3D8-58-spons%26psc%3D1&qualifier=1643747668&id=3344465318148437&widgetName=sp_btf',\n",
       " 'https://www.amazon.in/gp/slredirect/picassoRedirect.html/ref=pa_sp_btf_aps_sr_pg1_1?ie=UTF8&adId=A10473012PVAV5R201YBM&url=%2FVills-Laurrens-VL-1114-Stunning-Black%2Fdp%2FB07GL4RYMC%2Fref%3Dsr_1_59_sspa%3Fcrid%3D2J9YD0FV8ZQNZ%26keywords%3Dwatch%26qid%3D1643747668%26sprefix%3Dwatch%252Caps%252C549%26sr%3D8-59-spons%26psc%3D1&qualifier=1643747668&id=3344465318148437&widgetName=sp_btf',\n",
       " 'https://www.amazon.in/gp/slredirect/picassoRedirect.html/ref=pa_sp_btf_aps_sr_pg1_1?ie=UTF8&adId=A0566804XGB1U563V5BU&url=%2FRedux-Analogue-Multi-Colour-Dial-Watch-Rws0014%2Fdp%2FB06XFTY7P6%2Fref%3Dsr_1_60_sspa%3Fcrid%3D2J9YD0FV8ZQNZ%26keywords%3Dwatch%26qid%3D1643747668%26sprefix%3Dwatch%252Caps%252C549%26sr%3D8-60-spons%26psc%3D1&qualifier=1643747668&id=3344465318148437&widgetName=sp_btf']"
      ]
     },
     "execution_count": 120,
     "metadata": {},
     "output_type": "execute_result"
    }
   ],
   "source": [
    "#Fetching URL of products\n",
    "fetch_url = driver.find_elements_by_xpath('//a[@class=\"a-link-normal s-underline-text s-underline-link-text s-link-style a-text-normal\"]')\n",
    "print(len(fetch_url))\n",
    "Url = []\n",
    "for i in fetch_url:\n",
    "    Url.append(i.get_attribute('href'))\n",
    "Url \n",
    "          \n",
    "        \n",
    "# print([fetch_url.get_attribute('href')]                                              \n",
    "# all('/html/body/div[1]/div[2]/div[1]/div[1]/div/span[3]/div[2]/div[3]/div/div/div/div/div/div/div[2]/div[1]/h2/a')\n",
    "#print(len(fetch_url))\n",
    "#creating list for URLs \n"
   ]
  },
  {
   "cell_type": "code",
   "execution_count": null,
   "id": "79c0d5f9",
   "metadata": {},
   "outputs": [],
   "source": []
  }
 ],
 "metadata": {
  "kernelspec": {
   "display_name": "Python 3 (ipykernel)",
   "language": "python",
   "name": "python3"
  },
  "language_info": {
   "codemirror_mode": {
    "name": "ipython",
    "version": 3
   },
   "file_extension": ".py",
   "mimetype": "text/x-python",
   "name": "python",
   "nbconvert_exporter": "python",
   "pygments_lexer": "ipython3",
   "version": "3.9.7"
  }
 },
 "nbformat": 4,
 "nbformat_minor": 5
}
