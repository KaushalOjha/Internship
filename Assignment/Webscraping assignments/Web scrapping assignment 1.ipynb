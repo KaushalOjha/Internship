{
 "cells": [
  {
   "cell_type": "markdown",
   "id": "cf9977c3",
   "metadata": {},
   "source": [
    "# PYTHON – WORKSHEET web scraping assignment 1"
   ]
  },
  {
   "cell_type": "markdown",
   "id": "64cfd3a7",
   "metadata": {},
   "source": [
    "### Q1. Write a python program to display all the header tags from wikipedia.org.\n",
    "\n",
    "### Answer."
   ]
  },
  {
   "cell_type": "code",
   "execution_count": 79,
   "id": "39160ea4",
   "metadata": {
    "scrolled": true
   },
   "outputs": [
    {
     "name": "stdout",
     "output_type": "stream",
     "text": [
      "Requirement already satisfied: requests in e:\\datatrained\\anaconda\\lib\\site-packages (2.26.0)\n",
      "Requirement already satisfied: certifi>=2017.4.17 in e:\\datatrained\\anaconda\\lib\\site-packages (from requests) (2021.10.8)\n",
      "Requirement already satisfied: idna<4,>=2.5 in e:\\datatrained\\anaconda\\lib\\site-packages (from requests) (3.2)\n",
      "Requirement already satisfied: urllib3<1.27,>=1.21.1 in e:\\datatrained\\anaconda\\lib\\site-packages (from requests) (1.26.7)\n",
      "Requirement already satisfied: charset-normalizer~=2.0.0 in e:\\datatrained\\anaconda\\lib\\site-packages (from requests) (2.0.4)\n",
      "Requirement already satisfied: bs4 in e:\\datatrained\\anaconda\\lib\\site-packages (0.0.1)\n",
      "Requirement already satisfied: beautifulsoup4 in e:\\datatrained\\anaconda\\lib\\site-packages (from bs4) (4.10.0)\n",
      "Requirement already satisfied: soupsieve>1.2 in e:\\datatrained\\anaconda\\lib\\site-packages (from beautifulsoup4->bs4) (2.2.1)\n"
     ]
    }
   ],
   "source": [
    "!pip install requests\n",
    "!pip install bs4"
   ]
  },
  {
   "cell_type": "code",
   "execution_count": 80,
   "id": "35960abe",
   "metadata": {},
   "outputs": [],
   "source": [
    "from bs4 import BeautifulSoup\n",
    "import requests\n",
    "import re"
   ]
  },
  {
   "cell_type": "code",
   "execution_count": 81,
   "id": "d7943f6d",
   "metadata": {},
   "outputs": [],
   "source": [
    "page = requests.get(\"https://en.wikipedia.org/wiki/Main_Page\")"
   ]
  },
  {
   "cell_type": "code",
   "execution_count": 82,
   "id": "61e03c0b",
   "metadata": {},
   "outputs": [
    {
     "data": {
      "text/plain": [
       "<Response [200]>"
      ]
     },
     "execution_count": 82,
     "metadata": {},
     "output_type": "execute_result"
    }
   ],
   "source": [
    "page"
   ]
  },
  {
   "cell_type": "code",
   "execution_count": 83,
   "id": "c21070fa",
   "metadata": {},
   "outputs": [],
   "source": [
    "soup = BeautifulSoup(page.content)"
   ]
  },
  {
   "cell_type": "code",
   "execution_count": 84,
   "id": "d2abad4c",
   "metadata": {},
   "outputs": [
    {
     "data": {
      "text/plain": [
       "[[<h1 class=\"firstHeading\" id=\"firstHeading\">Main Page</h1>],\n",
       " [<h2 class=\"mp-h2\" id=\"mp-tfa-h2\"><span id=\"From_today.27s_featured_article\"></span><span class=\"mw-headline\" id=\"From_today's_featured_article\">From today's featured article</span></h2>,\n",
       "  <h2 class=\"mp-h2\" id=\"mp-dyk-h2\"><span class=\"mw-headline\" id=\"Did_you_know_...\">Did you know ...</span></h2>,\n",
       "  <h2 class=\"mp-h2\" id=\"mp-itn-h2\"><span class=\"mw-headline\" id=\"In_the_news\">In the news</span></h2>,\n",
       "  <h2 class=\"mp-h2\" id=\"mp-otd-h2\"><span class=\"mw-headline\" id=\"On_this_day\">On this day</span></h2>,\n",
       "  <h2 class=\"mp-h2\" id=\"mp-tfp-h2\"><span id=\"Today.27s_featured_picture\"></span><span class=\"mw-headline\" id=\"Today's_featured_picture\">Today's featured picture</span></h2>,\n",
       "  <h2 class=\"mp-h2\" id=\"mp-other\"><span class=\"mw-headline\" id=\"Other_areas_of_Wikipedia\">Other areas of Wikipedia</span></h2>,\n",
       "  <h2 class=\"mp-h2\" id=\"mp-sister\"><span id=\"Wikipedia.27s_sister_projects\"></span><span class=\"mw-headline\" id=\"Wikipedia's_sister_projects\">Wikipedia's sister projects</span></h2>,\n",
       "  <h2 class=\"mp-h2\" id=\"mp-lang\"><span class=\"mw-headline\" id=\"Wikipedia_languages\">Wikipedia languages</span></h2>]]"
      ]
     },
     "execution_count": 84,
     "metadata": {},
     "output_type": "execute_result"
    }
   ],
   "source": [
    "tags = []\n",
    "h1 = soup.find_all('h1',class_=\"firstHeading\")\n",
    "h2 = soup.find_all('h2',class_=\"mp-h2\")\n",
    "tags = [h1,h2]\n",
    "tags"
   ]
  },
  {
   "cell_type": "markdown",
   "id": "0086ac63",
   "metadata": {},
   "source": [
    " "
   ]
  },
  {
   "cell_type": "markdown",
   "id": "d37dd179",
   "metadata": {},
   "source": [
    "### Q2. Write a python program to display IMDB’s Top rated 100 movies’ data (i.e. name, rating, year of release)              and make data frame."
   ]
  },
  {
   "cell_type": "code",
   "execution_count": 85,
   "id": "580e1fe3",
   "metadata": {},
   "outputs": [
    {
     "data": {
      "text/plain": [
       "<Response [200]>"
      ]
     },
     "execution_count": 85,
     "metadata": {},
     "output_type": "execute_result"
    }
   ],
   "source": [
    "page2 = requests.get(\"https://www.imdb.com/chart/top/?ref_=nv_mv_250\")\n",
    "page2"
   ]
  },
  {
   "cell_type": "code",
   "execution_count": 86,
   "id": "0b1b201f",
   "metadata": {
    "scrolled": false
   },
   "outputs": [],
   "source": [
    "soup2 = BeautifulSoup(page2.content)"
   ]
  },
  {
   "cell_type": "code",
   "execution_count": 183,
   "id": "f3fcb48a",
   "metadata": {},
   "outputs": [
    {
     "name": "stdout",
     "output_type": "stream",
     "text": [
      "[['      1.      The Shawshank Redemption(1994)', '      2.      The Godfather(1972)', '      3.      The Godfather: Part II(1974)', '      4.      The Dark Knight(2008)', '      5.      12 Angry Men(1957)', \"      6.      Schindler's List(1993)\", '      7.      The Lord of the Rings: The Return of the King(2003)', '      8.      Pulp Fiction(1994)', '      9.      Il buono, il brutto, il cattivo(1966)', '      10.      The Lord of the Rings: The Fellowship of the Ring(2001)', '      11.      Fight Club(1999)', '      12.      Forrest Gump(1994)', '      13.      Inception(2010)', '      14.      The Lord of the Rings: The Two Towers(2002)', '      15.      Star Wars: Episode V - The Empire Strikes Back(1980)', '      16.      Spider-Man: No Way Home(2021)', '      17.      The Matrix(1999)', '      18.      Goodfellas(1990)'], ['      1.      The Shawshank Redemption(1994)', '      2.      The Godfather(1972)', '      3.      The Godfather: Part II(1974)', '      4.      The Dark Knight(2008)', '      5.      12 Angry Men(1957)', \"      6.      Schindler's List(1993)\", '      7.      The Lord of the Rings: The Return of the King(2003)', '      8.      Pulp Fiction(1994)', '      9.      Il buono, il brutto, il cattivo(1966)', '      10.      The Lord of the Rings: The Fellowship of the Ring(2001)', '      11.      Fight Club(1999)', '      12.      Forrest Gump(1994)', '      13.      Inception(2010)', '      14.      The Lord of the Rings: The Two Towers(2002)', '      15.      Star Wars: Episode V - The Empire Strikes Back(1980)', '      16.      Spider-Man: No Way Home(2021)', '      17.      The Matrix(1999)', '      18.      Goodfellas(1990)'], ['      1.      The Shawshank Redemption(1994)', '      2.      The Godfather(1972)', '      3.      The Godfather: Part II(1974)', '      4.      The Dark Knight(2008)', '      5.      12 Angry Men(1957)', \"      6.      Schindler's List(1993)\", '      7.      The Lord of the Rings: The Return of the King(2003)', '      8.      Pulp Fiction(1994)', '      9.      Il buono, il brutto, il cattivo(1966)', '      10.      The Lord of the Rings: The Fellowship of the Ring(2001)', '      11.      Fight Club(1999)', '      12.      Forrest Gump(1994)', '      13.      Inception(2010)', '      14.      The Lord of the Rings: The Two Towers(2002)', '      15.      Star Wars: Episode V - The Empire Strikes Back(1980)', '      16.      Spider-Man: No Way Home(2021)', '      17.      The Matrix(1999)', '      18.      Goodfellas(1990)'], ['      1.      The Shawshank Redemption(1994)', '      2.      The Godfather(1972)', '      3.      The Godfather: Part II(1974)', '      4.      The Dark Knight(2008)', '      5.      12 Angry Men(1957)', \"      6.      Schindler's List(1993)\", '      7.      The Lord of the Rings: The Return of the King(2003)', '      8.      Pulp Fiction(1994)', '      9.      Il buono, il brutto, il cattivo(1966)', '      10.      The Lord of the Rings: The Fellowship of the Ring(2001)', '      11.      Fight Club(1999)', '      12.      Forrest Gump(1994)', '      13.      Inception(2010)', '      14.      The Lord of the Rings: The Two Towers(2002)', '      15.      Star Wars: Episode V - The Empire Strikes Back(1980)', '      16.      Spider-Man: No Way Home(2021)', '      17.      The Matrix(1999)', '      18.      Goodfellas(1990)'], ['      1.      The Shawshank Redemption(1994)', '      2.      The Godfather(1972)', '      3.      The Godfather: Part II(1974)', '      4.      The Dark Knight(2008)', '      5.      12 Angry Men(1957)', \"      6.      Schindler's List(1993)\", '      7.      The Lord of the Rings: The Return of the King(2003)', '      8.      Pulp Fiction(1994)', '      9.      Il buono, il brutto, il cattivo(1966)', '      10.      The Lord of the Rings: The Fellowship of the Ring(2001)', '      11.      Fight Club(1999)', '      12.      Forrest Gump(1994)', '      13.      Inception(2010)', '      14.      The Lord of the Rings: The Two Towers(2002)', '      15.      Star Wars: Episode V - The Empire Strikes Back(1980)', '      16.      Spider-Man: No Way Home(2021)', '      17.      The Matrix(1999)', '      18.      Goodfellas(1990)'], ['      1.      The Shawshank Redemption(1994)', '      2.      The Godfather(1972)', '      3.      The Godfather: Part II(1974)', '      4.      The Dark Knight(2008)', '      5.      12 Angry Men(1957)', \"      6.      Schindler's List(1993)\", '      7.      The Lord of the Rings: The Return of the King(2003)', '      8.      Pulp Fiction(1994)', '      9.      Il buono, il brutto, il cattivo(1966)', '      10.      The Lord of the Rings: The Fellowship of the Ring(2001)', '      11.      Fight Club(1999)', '      12.      Forrest Gump(1994)', '      13.      Inception(2010)', '      14.      The Lord of the Rings: The Two Towers(2002)', '      15.      Star Wars: Episode V - The Empire Strikes Back(1980)', '      16.      Spider-Man: No Way Home(2021)', '      17.      The Matrix(1999)', '      18.      Goodfellas(1990)'], ['      1.      The Shawshank Redemption(1994)', '      2.      The Godfather(1972)', '      3.      The Godfather: Part II(1974)', '      4.      The Dark Knight(2008)', '      5.      12 Angry Men(1957)', \"      6.      Schindler's List(1993)\", '      7.      The Lord of the Rings: The Return of the King(2003)', '      8.      Pulp Fiction(1994)', '      9.      Il buono, il brutto, il cattivo(1966)', '      10.      The Lord of the Rings: The Fellowship of the Ring(2001)', '      11.      Fight Club(1999)', '      12.      Forrest Gump(1994)', '      13.      Inception(2010)', '      14.      The Lord of the Rings: The Two Towers(2002)', '      15.      Star Wars: Episode V - The Empire Strikes Back(1980)', '      16.      Spider-Man: No Way Home(2021)', '      17.      The Matrix(1999)', '      18.      Goodfellas(1990)'], ['      1.      The Shawshank Redemption(1994)', '      2.      The Godfather(1972)', '      3.      The Godfather: Part II(1974)', '      4.      The Dark Knight(2008)', '      5.      12 Angry Men(1957)', \"      6.      Schindler's List(1993)\", '      7.      The Lord of the Rings: The Return of the King(2003)', '      8.      Pulp Fiction(1994)', '      9.      Il buono, il brutto, il cattivo(1966)', '      10.      The Lord of the Rings: The Fellowship of the Ring(2001)', '      11.      Fight Club(1999)', '      12.      Forrest Gump(1994)', '      13.      Inception(2010)', '      14.      The Lord of the Rings: The Two Towers(2002)', '      15.      Star Wars: Episode V - The Empire Strikes Back(1980)', '      16.      Spider-Man: No Way Home(2021)', '      17.      The Matrix(1999)', '      18.      Goodfellas(1990)'], ['      1.      The Shawshank Redemption(1994)', '      2.      The Godfather(1972)', '      3.      The Godfather: Part II(1974)', '      4.      The Dark Knight(2008)', '      5.      12 Angry Men(1957)', \"      6.      Schindler's List(1993)\", '      7.      The Lord of the Rings: The Return of the King(2003)', '      8.      Pulp Fiction(1994)', '      9.      Il buono, il brutto, il cattivo(1966)', '      10.      The Lord of the Rings: The Fellowship of the Ring(2001)', '      11.      Fight Club(1999)', '      12.      Forrest Gump(1994)', '      13.      Inception(2010)', '      14.      The Lord of the Rings: The Two Towers(2002)', '      15.      Star Wars: Episode V - The Empire Strikes Back(1980)', '      16.      Spider-Man: No Way Home(2021)', '      17.      The Matrix(1999)', '      18.      Goodfellas(1990)'], ['      1.      The Shawshank Redemption(1994)', '      2.      The Godfather(1972)', '      3.      The Godfather: Part II(1974)', '      4.      The Dark Knight(2008)', '      5.      12 Angry Men(1957)', \"      6.      Schindler's List(1993)\", '      7.      The Lord of the Rings: The Return of the King(2003)', '      8.      Pulp Fiction(1994)', '      9.      Il buono, il brutto, il cattivo(1966)', '      10.      The Lord of the Rings: The Fellowship of the Ring(2001)', '      11.      Fight Club(1999)', '      12.      Forrest Gump(1994)', '      13.      Inception(2010)', '      14.      The Lord of the Rings: The Two Towers(2002)', '      15.      Star Wars: Episode V - The Empire Strikes Back(1980)', '      16.      Spider-Man: No Way Home(2021)', '      17.      The Matrix(1999)', '      18.      Goodfellas(1990)'], ['      1.      The Shawshank Redemption(1994)', '      2.      The Godfather(1972)', '      3.      The Godfather: Part II(1974)', '      4.      The Dark Knight(2008)', '      5.      12 Angry Men(1957)', \"      6.      Schindler's List(1993)\", '      7.      The Lord of the Rings: The Return of the King(2003)', '      8.      Pulp Fiction(1994)', '      9.      Il buono, il brutto, il cattivo(1966)', '      10.      The Lord of the Rings: The Fellowship of the Ring(2001)', '      11.      Fight Club(1999)', '      12.      Forrest Gump(1994)', '      13.      Inception(2010)', '      14.      The Lord of the Rings: The Two Towers(2002)', '      15.      Star Wars: Episode V - The Empire Strikes Back(1980)', '      16.      Spider-Man: No Way Home(2021)', '      17.      The Matrix(1999)', '      18.      Goodfellas(1990)'], ['      1.      The Shawshank Redemption(1994)', '      2.      The Godfather(1972)', '      3.      The Godfather: Part II(1974)', '      4.      The Dark Knight(2008)', '      5.      12 Angry Men(1957)', \"      6.      Schindler's List(1993)\", '      7.      The Lord of the Rings: The Return of the King(2003)', '      8.      Pulp Fiction(1994)', '      9.      Il buono, il brutto, il cattivo(1966)', '      10.      The Lord of the Rings: The Fellowship of the Ring(2001)', '      11.      Fight Club(1999)', '      12.      Forrest Gump(1994)', '      13.      Inception(2010)', '      14.      The Lord of the Rings: The Two Towers(2002)', '      15.      Star Wars: Episode V - The Empire Strikes Back(1980)', '      16.      Spider-Man: No Way Home(2021)', '      17.      The Matrix(1999)', '      18.      Goodfellas(1990)'], ['      1.      The Shawshank Redemption(1994)', '      2.      The Godfather(1972)', '      3.      The Godfather: Part II(1974)', '      4.      The Dark Knight(2008)', '      5.      12 Angry Men(1957)', \"      6.      Schindler's List(1993)\", '      7.      The Lord of the Rings: The Return of the King(2003)', '      8.      Pulp Fiction(1994)', '      9.      Il buono, il brutto, il cattivo(1966)', '      10.      The Lord of the Rings: The Fellowship of the Ring(2001)', '      11.      Fight Club(1999)', '      12.      Forrest Gump(1994)', '      13.      Inception(2010)', '      14.      The Lord of the Rings: The Two Towers(2002)', '      15.      Star Wars: Episode V - The Empire Strikes Back(1980)', '      16.      Spider-Man: No Way Home(2021)', '      17.      The Matrix(1999)', '      18.      Goodfellas(1990)'], ['      1.      The Shawshank Redemption(1994)', '      2.      The Godfather(1972)', '      3.      The Godfather: Part II(1974)', '      4.      The Dark Knight(2008)', '      5.      12 Angry Men(1957)', \"      6.      Schindler's List(1993)\", '      7.      The Lord of the Rings: The Return of the King(2003)', '      8.      Pulp Fiction(1994)', '      9.      Il buono, il brutto, il cattivo(1966)', '      10.      The Lord of the Rings: The Fellowship of the Ring(2001)', '      11.      Fight Club(1999)', '      12.      Forrest Gump(1994)', '      13.      Inception(2010)', '      14.      The Lord of the Rings: The Two Towers(2002)', '      15.      Star Wars: Episode V - The Empire Strikes Back(1980)', '      16.      Spider-Man: No Way Home(2021)', '      17.      The Matrix(1999)', '      18.      Goodfellas(1990)'], ['      1.      The Shawshank Redemption(1994)', '      2.      The Godfather(1972)', '      3.      The Godfather: Part II(1974)', '      4.      The Dark Knight(2008)', '      5.      12 Angry Men(1957)', \"      6.      Schindler's List(1993)\", '      7.      The Lord of the Rings: The Return of the King(2003)', '      8.      Pulp Fiction(1994)', '      9.      Il buono, il brutto, il cattivo(1966)', '      10.      The Lord of the Rings: The Fellowship of the Ring(2001)', '      11.      Fight Club(1999)', '      12.      Forrest Gump(1994)', '      13.      Inception(2010)', '      14.      The Lord of the Rings: The Two Towers(2002)', '      15.      Star Wars: Episode V - The Empire Strikes Back(1980)', '      16.      Spider-Man: No Way Home(2021)', '      17.      The Matrix(1999)', '      18.      Goodfellas(1990)'], ['      1.      The Shawshank Redemption(1994)', '      2.      The Godfather(1972)', '      3.      The Godfather: Part II(1974)', '      4.      The Dark Knight(2008)', '      5.      12 Angry Men(1957)', \"      6.      Schindler's List(1993)\", '      7.      The Lord of the Rings: The Return of the King(2003)', '      8.      Pulp Fiction(1994)', '      9.      Il buono, il brutto, il cattivo(1966)', '      10.      The Lord of the Rings: The Fellowship of the Ring(2001)', '      11.      Fight Club(1999)', '      12.      Forrest Gump(1994)', '      13.      Inception(2010)', '      14.      The Lord of the Rings: The Two Towers(2002)', '      15.      Star Wars: Episode V - The Empire Strikes Back(1980)', '      16.      Spider-Man: No Way Home(2021)', '      17.      The Matrix(1999)', '      18.      Goodfellas(1990)'], ['      1.      The Shawshank Redemption(1994)', '      2.      The Godfather(1972)', '      3.      The Godfather: Part II(1974)', '      4.      The Dark Knight(2008)', '      5.      12 Angry Men(1957)', \"      6.      Schindler's List(1993)\", '      7.      The Lord of the Rings: The Return of the King(2003)', '      8.      Pulp Fiction(1994)', '      9.      Il buono, il brutto, il cattivo(1966)', '      10.      The Lord of the Rings: The Fellowship of the Ring(2001)', '      11.      Fight Club(1999)', '      12.      Forrest Gump(1994)', '      13.      Inception(2010)', '      14.      The Lord of the Rings: The Two Towers(2002)', '      15.      Star Wars: Episode V - The Empire Strikes Back(1980)', '      16.      Spider-Man: No Way Home(2021)', '      17.      The Matrix(1999)', '      18.      Goodfellas(1990)'], ['      1.      The Shawshank Redemption(1994)', '      2.      The Godfather(1972)', '      3.      The Godfather: Part II(1974)', '      4.      The Dark Knight(2008)', '      5.      12 Angry Men(1957)', \"      6.      Schindler's List(1993)\", '      7.      The Lord of the Rings: The Return of the King(2003)', '      8.      Pulp Fiction(1994)', '      9.      Il buono, il brutto, il cattivo(1966)', '      10.      The Lord of the Rings: The Fellowship of the Ring(2001)', '      11.      Fight Club(1999)', '      12.      Forrest Gump(1994)', '      13.      Inception(2010)', '      14.      The Lord of the Rings: The Two Towers(2002)', '      15.      Star Wars: Episode V - The Empire Strikes Back(1980)', '      16.      Spider-Man: No Way Home(2021)', '      17.      The Matrix(1999)', '      18.      Goodfellas(1990)'], ['      1.      The Shawshank Redemption(1994)', '      2.      The Godfather(1972)', '      3.      The Godfather: Part II(1974)', '      4.      The Dark Knight(2008)', '      5.      12 Angry Men(1957)', \"      6.      Schindler's List(1993)\", '      7.      The Lord of the Rings: The Return of the King(2003)', '      8.      Pulp Fiction(1994)', '      9.      Il buono, il brutto, il cattivo(1966)', '      10.      The Lord of the Rings: The Fellowship of the Ring(2001)', '      11.      Fight Club(1999)', '      12.      Forrest Gump(1994)', '      13.      Inception(2010)', '      14.      The Lord of the Rings: The Two Towers(2002)', '      15.      Star Wars: Episode V - The Empire Strikes Back(1980)', '      16.      Spider-Man: No Way Home(2021)', '      17.      The Matrix(1999)', '      18.      Goodfellas(1990)'], ['      1.      The Shawshank Redemption(1994)', '      2.      The Godfather(1972)', '      3.      The Godfather: Part II(1974)', '      4.      The Dark Knight(2008)', '      5.      12 Angry Men(1957)', \"      6.      Schindler's List(1993)\", '      7.      The Lord of the Rings: The Return of the King(2003)', '      8.      Pulp Fiction(1994)', '      9.      Il buono, il brutto, il cattivo(1966)', '      10.      The Lord of the Rings: The Fellowship of the Ring(2001)', '      11.      Fight Club(1999)', '      12.      Forrest Gump(1994)', '      13.      Inception(2010)', '      14.      The Lord of the Rings: The Two Towers(2002)', '      15.      Star Wars: Episode V - The Empire Strikes Back(1980)', '      16.      Spider-Man: No Way Home(2021)', '      17.      The Matrix(1999)', '      18.      Goodfellas(1990)'], ['      1.      The Shawshank Redemption(1994)', '      2.      The Godfather(1972)', '      3.      The Godfather: Part II(1974)', '      4.      The Dark Knight(2008)', '      5.      12 Angry Men(1957)', \"      6.      Schindler's List(1993)\", '      7.      The Lord of the Rings: The Return of the King(2003)', '      8.      Pulp Fiction(1994)', '      9.      Il buono, il brutto, il cattivo(1966)', '      10.      The Lord of the Rings: The Fellowship of the Ring(2001)', '      11.      Fight Club(1999)', '      12.      Forrest Gump(1994)', '      13.      Inception(2010)', '      14.      The Lord of the Rings: The Two Towers(2002)', '      15.      Star Wars: Episode V - The Empire Strikes Back(1980)', '      16.      Spider-Man: No Way Home(2021)', '      17.      The Matrix(1999)', '      18.      Goodfellas(1990)'], ['      1.      The Shawshank Redemption(1994)', '      2.      The Godfather(1972)', '      3.      The Godfather: Part II(1974)', '      4.      The Dark Knight(2008)', '      5.      12 Angry Men(1957)', \"      6.      Schindler's List(1993)\", '      7.      The Lord of the Rings: The Return of the King(2003)', '      8.      Pulp Fiction(1994)', '      9.      Il buono, il brutto, il cattivo(1966)', '      10.      The Lord of the Rings: The Fellowship of the Ring(2001)', '      11.      Fight Club(1999)', '      12.      Forrest Gump(1994)', '      13.      Inception(2010)', '      14.      The Lord of the Rings: The Two Towers(2002)', '      15.      Star Wars: Episode V - The Empire Strikes Back(1980)', '      16.      Spider-Man: No Way Home(2021)', '      17.      The Matrix(1999)', '      18.      Goodfellas(1990)'], ['      1.      The Shawshank Redemption(1994)', '      2.      The Godfather(1972)', '      3.      The Godfather: Part II(1974)', '      4.      The Dark Knight(2008)', '      5.      12 Angry Men(1957)', \"      6.      Schindler's List(1993)\", '      7.      The Lord of the Rings: The Return of the King(2003)', '      8.      Pulp Fiction(1994)', '      9.      Il buono, il brutto, il cattivo(1966)', '      10.      The Lord of the Rings: The Fellowship of the Ring(2001)', '      11.      Fight Club(1999)', '      12.      Forrest Gump(1994)', '      13.      Inception(2010)', '      14.      The Lord of the Rings: The Two Towers(2002)', '      15.      Star Wars: Episode V - The Empire Strikes Back(1980)', '      16.      Spider-Man: No Way Home(2021)', '      17.      The Matrix(1999)', '      18.      Goodfellas(1990)'], ['      1.      The Shawshank Redemption(1994)', '      2.      The Godfather(1972)', '      3.      The Godfather: Part II(1974)', '      4.      The Dark Knight(2008)', '      5.      12 Angry Men(1957)', \"      6.      Schindler's List(1993)\", '      7.      The Lord of the Rings: The Return of the King(2003)', '      8.      Pulp Fiction(1994)', '      9.      Il buono, il brutto, il cattivo(1966)', '      10.      The Lord of the Rings: The Fellowship of the Ring(2001)', '      11.      Fight Club(1999)', '      12.      Forrest Gump(1994)', '      13.      Inception(2010)', '      14.      The Lord of the Rings: The Two Towers(2002)', '      15.      Star Wars: Episode V - The Empire Strikes Back(1980)', '      16.      Spider-Man: No Way Home(2021)', '      17.      The Matrix(1999)', '      18.      Goodfellas(1990)'], ['      1.      The Shawshank Redemption(1994)', '      2.      The Godfather(1972)', '      3.      The Godfather: Part II(1974)', '      4.      The Dark Knight(2008)', '      5.      12 Angry Men(1957)', \"      6.      Schindler's List(1993)\", '      7.      The Lord of the Rings: The Return of the King(2003)', '      8.      Pulp Fiction(1994)', '      9.      Il buono, il brutto, il cattivo(1966)', '      10.      The Lord of the Rings: The Fellowship of the Ring(2001)', '      11.      Fight Club(1999)', '      12.      Forrest Gump(1994)', '      13.      Inception(2010)', '      14.      The Lord of the Rings: The Two Towers(2002)', '      15.      Star Wars: Episode V - The Empire Strikes Back(1980)', '      16.      Spider-Man: No Way Home(2021)', '      17.      The Matrix(1999)', '      18.      Goodfellas(1990)'], ['      1.      The Shawshank Redemption(1994)', '      2.      The Godfather(1972)', '      3.      The Godfather: Part II(1974)', '      4.      The Dark Knight(2008)', '      5.      12 Angry Men(1957)', \"      6.      Schindler's List(1993)\", '      7.      The Lord of the Rings: The Return of the King(2003)', '      8.      Pulp Fiction(1994)', '      9.      Il buono, il brutto, il cattivo(1966)', '      10.      The Lord of the Rings: The Fellowship of the Ring(2001)', '      11.      Fight Club(1999)', '      12.      Forrest Gump(1994)', '      13.      Inception(2010)', '      14.      The Lord of the Rings: The Two Towers(2002)', '      15.      Star Wars: Episode V - The Empire Strikes Back(1980)', '      16.      Spider-Man: No Way Home(2021)', '      17.      The Matrix(1999)', '      18.      Goodfellas(1990)'], ['      1.      The Shawshank Redemption(1994)', '      2.      The Godfather(1972)', '      3.      The Godfather: Part II(1974)', '      4.      The Dark Knight(2008)', '      5.      12 Angry Men(1957)', \"      6.      Schindler's List(1993)\", '      7.      The Lord of the Rings: The Return of the King(2003)', '      8.      Pulp Fiction(1994)', '      9.      Il buono, il brutto, il cattivo(1966)', '      10.      The Lord of the Rings: The Fellowship of the Ring(2001)', '      11.      Fight Club(1999)', '      12.      Forrest Gump(1994)', '      13.      Inception(2010)', '      14.      The Lord of the Rings: The Two Towers(2002)', '      15.      Star Wars: Episode V - The Empire Strikes Back(1980)', '      16.      Spider-Man: No Way Home(2021)', '      17.      The Matrix(1999)', '      18.      Goodfellas(1990)'], ['      1.      The Shawshank Redemption(1994)', '      2.      The Godfather(1972)', '      3.      The Godfather: Part II(1974)', '      4.      The Dark Knight(2008)', '      5.      12 Angry Men(1957)', \"      6.      Schindler's List(1993)\", '      7.      The Lord of the Rings: The Return of the King(2003)', '      8.      Pulp Fiction(1994)', '      9.      Il buono, il brutto, il cattivo(1966)', '      10.      The Lord of the Rings: The Fellowship of the Ring(2001)', '      11.      Fight Club(1999)', '      12.      Forrest Gump(1994)', '      13.      Inception(2010)', '      14.      The Lord of the Rings: The Two Towers(2002)', '      15.      Star Wars: Episode V - The Empire Strikes Back(1980)', '      16.      Spider-Man: No Way Home(2021)', '      17.      The Matrix(1999)', '      18.      Goodfellas(1990)'], ['      1.      The Shawshank Redemption(1994)', '      2.      The Godfather(1972)', '      3.      The Godfather: Part II(1974)', '      4.      The Dark Knight(2008)', '      5.      12 Angry Men(1957)', \"      6.      Schindler's List(1993)\", '      7.      The Lord of the Rings: The Return of the King(2003)', '      8.      Pulp Fiction(1994)', '      9.      Il buono, il brutto, il cattivo(1966)', '      10.      The Lord of the Rings: The Fellowship of the Ring(2001)', '      11.      Fight Club(1999)', '      12.      Forrest Gump(1994)', '      13.      Inception(2010)', '      14.      The Lord of the Rings: The Two Towers(2002)', '      15.      Star Wars: Episode V - The Empire Strikes Back(1980)', '      16.      Spider-Man: No Way Home(2021)', '      17.      The Matrix(1999)', '      18.      Goodfellas(1990)'], ['      1.      The Shawshank Redemption(1994)', '      2.      The Godfather(1972)', '      3.      The Godfather: Part II(1974)', '      4.      The Dark Knight(2008)', '      5.      12 Angry Men(1957)', \"      6.      Schindler's List(1993)\", '      7.      The Lord of the Rings: The Return of the King(2003)', '      8.      Pulp Fiction(1994)', '      9.      Il buono, il brutto, il cattivo(1966)', '      10.      The Lord of the Rings: The Fellowship of the Ring(2001)', '      11.      Fight Club(1999)', '      12.      Forrest Gump(1994)', '      13.      Inception(2010)', '      14.      The Lord of the Rings: The Two Towers(2002)', '      15.      Star Wars: Episode V - The Empire Strikes Back(1980)', '      16.      Spider-Man: No Way Home(2021)', '      17.      The Matrix(1999)', '      18.      Goodfellas(1990)'], ['      1.      The Shawshank Redemption(1994)', '      2.      The Godfather(1972)', '      3.      The Godfather: Part II(1974)', '      4.      The Dark Knight(2008)', '      5.      12 Angry Men(1957)', \"      6.      Schindler's List(1993)\", '      7.      The Lord of the Rings: The Return of the King(2003)', '      8.      Pulp Fiction(1994)', '      9.      Il buono, il brutto, il cattivo(1966)', '      10.      The Lord of the Rings: The Fellowship of the Ring(2001)', '      11.      Fight Club(1999)', '      12.      Forrest Gump(1994)', '      13.      Inception(2010)', '      14.      The Lord of the Rings: The Two Towers(2002)', '      15.      Star Wars: Episode V - The Empire Strikes Back(1980)', '      16.      Spider-Man: No Way Home(2021)', '      17.      The Matrix(1999)', '      18.      Goodfellas(1990)'], ['      1.      The Shawshank Redemption(1994)', '      2.      The Godfather(1972)', '      3.      The Godfather: Part II(1974)', '      4.      The Dark Knight(2008)', '      5.      12 Angry Men(1957)', \"      6.      Schindler's List(1993)\", '      7.      The Lord of the Rings: The Return of the King(2003)', '      8.      Pulp Fiction(1994)', '      9.      Il buono, il brutto, il cattivo(1966)', '      10.      The Lord of the Rings: The Fellowship of the Ring(2001)', '      11.      Fight Club(1999)', '      12.      Forrest Gump(1994)', '      13.      Inception(2010)', '      14.      The Lord of the Rings: The Two Towers(2002)', '      15.      Star Wars: Episode V - The Empire Strikes Back(1980)', '      16.      Spider-Man: No Way Home(2021)', '      17.      The Matrix(1999)', '      18.      Goodfellas(1990)'], ['      1.      The Shawshank Redemption(1994)', '      2.      The Godfather(1972)', '      3.      The Godfather: Part II(1974)', '      4.      The Dark Knight(2008)', '      5.      12 Angry Men(1957)', \"      6.      Schindler's List(1993)\", '      7.      The Lord of the Rings: The Return of the King(2003)', '      8.      Pulp Fiction(1994)', '      9.      Il buono, il brutto, il cattivo(1966)', '      10.      The Lord of the Rings: The Fellowship of the Ring(2001)', '      11.      Fight Club(1999)', '      12.      Forrest Gump(1994)', '      13.      Inception(2010)', '      14.      The Lord of the Rings: The Two Towers(2002)', '      15.      Star Wars: Episode V - The Empire Strikes Back(1980)', '      16.      Spider-Man: No Way Home(2021)', '      17.      The Matrix(1999)', '      18.      Goodfellas(1990)'], ['      1.      The Shawshank Redemption(1994)', '      2.      The Godfather(1972)', '      3.      The Godfather: Part II(1974)', '      4.      The Dark Knight(2008)', '      5.      12 Angry Men(1957)', \"      6.      Schindler's List(1993)\", '      7.      The Lord of the Rings: The Return of the King(2003)', '      8.      Pulp Fiction(1994)', '      9.      Il buono, il brutto, il cattivo(1966)', '      10.      The Lord of the Rings: The Fellowship of the Ring(2001)', '      11.      Fight Club(1999)', '      12.      Forrest Gump(1994)', '      13.      Inception(2010)', '      14.      The Lord of the Rings: The Two Towers(2002)', '      15.      Star Wars: Episode V - The Empire Strikes Back(1980)', '      16.      Spider-Man: No Way Home(2021)', '      17.      The Matrix(1999)', '      18.      Goodfellas(1990)'], ['      1.      The Shawshank Redemption(1994)', '      2.      The Godfather(1972)', '      3.      The Godfather: Part II(1974)', '      4.      The Dark Knight(2008)', '      5.      12 Angry Men(1957)', \"      6.      Schindler's List(1993)\", '      7.      The Lord of the Rings: The Return of the King(2003)', '      8.      Pulp Fiction(1994)', '      9.      Il buono, il brutto, il cattivo(1966)', '      10.      The Lord of the Rings: The Fellowship of the Ring(2001)', '      11.      Fight Club(1999)', '      12.      Forrest Gump(1994)', '      13.      Inception(2010)', '      14.      The Lord of the Rings: The Two Towers(2002)', '      15.      Star Wars: Episode V - The Empire Strikes Back(1980)', '      16.      Spider-Man: No Way Home(2021)', '      17.      The Matrix(1999)', '      18.      Goodfellas(1990)'], ['      1.      The Shawshank Redemption(1994)', '      2.      The Godfather(1972)', '      3.      The Godfather: Part II(1974)', '      4.      The Dark Knight(2008)', '      5.      12 Angry Men(1957)', \"      6.      Schindler's List(1993)\", '      7.      The Lord of the Rings: The Return of the King(2003)', '      8.      Pulp Fiction(1994)', '      9.      Il buono, il brutto, il cattivo(1966)', '      10.      The Lord of the Rings: The Fellowship of the Ring(2001)', '      11.      Fight Club(1999)', '      12.      Forrest Gump(1994)', '      13.      Inception(2010)', '      14.      The Lord of the Rings: The Two Towers(2002)', '      15.      Star Wars: Episode V - The Empire Strikes Back(1980)', '      16.      Spider-Man: No Way Home(2021)', '      17.      The Matrix(1999)', '      18.      Goodfellas(1990)'], ['      1.      The Shawshank Redemption(1994)', '      2.      The Godfather(1972)', '      3.      The Godfather: Part II(1974)', '      4.      The Dark Knight(2008)', '      5.      12 Angry Men(1957)', \"      6.      Schindler's List(1993)\", '      7.      The Lord of the Rings: The Return of the King(2003)', '      8.      Pulp Fiction(1994)', '      9.      Il buono, il brutto, il cattivo(1966)', '      10.      The Lord of the Rings: The Fellowship of the Ring(2001)', '      11.      Fight Club(1999)', '      12.      Forrest Gump(1994)', '      13.      Inception(2010)', '      14.      The Lord of the Rings: The Two Towers(2002)', '      15.      Star Wars: Episode V - The Empire Strikes Back(1980)', '      16.      Spider-Man: No Way Home(2021)', '      17.      The Matrix(1999)', '      18.      Goodfellas(1990)'], ['      1.      The Shawshank Redemption(1994)', '      2.      The Godfather(1972)', '      3.      The Godfather: Part II(1974)', '      4.      The Dark Knight(2008)', '      5.      12 Angry Men(1957)', \"      6.      Schindler's List(1993)\", '      7.      The Lord of the Rings: The Return of the King(2003)', '      8.      Pulp Fiction(1994)', '      9.      Il buono, il brutto, il cattivo(1966)', '      10.      The Lord of the Rings: The Fellowship of the Ring(2001)', '      11.      Fight Club(1999)', '      12.      Forrest Gump(1994)', '      13.      Inception(2010)', '      14.      The Lord of the Rings: The Two Towers(2002)', '      15.      Star Wars: Episode V - The Empire Strikes Back(1980)', '      16.      Spider-Man: No Way Home(2021)', '      17.      The Matrix(1999)', '      18.      Goodfellas(1990)'], ['      1.      The Shawshank Redemption(1994)', '      2.      The Godfather(1972)', '      3.      The Godfather: Part II(1974)', '      4.      The Dark Knight(2008)', '      5.      12 Angry Men(1957)', \"      6.      Schindler's List(1993)\", '      7.      The Lord of the Rings: The Return of the King(2003)', '      8.      Pulp Fiction(1994)', '      9.      Il buono, il brutto, il cattivo(1966)', '      10.      The Lord of the Rings: The Fellowship of the Ring(2001)', '      11.      Fight Club(1999)', '      12.      Forrest Gump(1994)', '      13.      Inception(2010)', '      14.      The Lord of the Rings: The Two Towers(2002)', '      15.      Star Wars: Episode V - The Empire Strikes Back(1980)', '      16.      Spider-Man: No Way Home(2021)', '      17.      The Matrix(1999)', '      18.      Goodfellas(1990)'], ['      1.      The Shawshank Redemption(1994)', '      2.      The Godfather(1972)', '      3.      The Godfather: Part II(1974)', '      4.      The Dark Knight(2008)', '      5.      12 Angry Men(1957)', \"      6.      Schindler's List(1993)\", '      7.      The Lord of the Rings: The Return of the King(2003)', '      8.      Pulp Fiction(1994)', '      9.      Il buono, il brutto, il cattivo(1966)', '      10.      The Lord of the Rings: The Fellowship of the Ring(2001)', '      11.      Fight Club(1999)', '      12.      Forrest Gump(1994)', '      13.      Inception(2010)', '      14.      The Lord of the Rings: The Two Towers(2002)', '      15.      Star Wars: Episode V - The Empire Strikes Back(1980)', '      16.      Spider-Man: No Way Home(2021)', '      17.      The Matrix(1999)', '      18.      Goodfellas(1990)'], ['      1.      The Shawshank Redemption(1994)', '      2.      The Godfather(1972)', '      3.      The Godfather: Part II(1974)', '      4.      The Dark Knight(2008)', '      5.      12 Angry Men(1957)', \"      6.      Schindler's List(1993)\", '      7.      The Lord of the Rings: The Return of the King(2003)', '      8.      Pulp Fiction(1994)', '      9.      Il buono, il brutto, il cattivo(1966)', '      10.      The Lord of the Rings: The Fellowship of the Ring(2001)', '      11.      Fight Club(1999)', '      12.      Forrest Gump(1994)', '      13.      Inception(2010)', '      14.      The Lord of the Rings: The Two Towers(2002)', '      15.      Star Wars: Episode V - The Empire Strikes Back(1980)', '      16.      Spider-Man: No Way Home(2021)', '      17.      The Matrix(1999)', '      18.      Goodfellas(1990)'], ['      1.      The Shawshank Redemption(1994)', '      2.      The Godfather(1972)', '      3.      The Godfather: Part II(1974)', '      4.      The Dark Knight(2008)', '      5.      12 Angry Men(1957)', \"      6.      Schindler's List(1993)\", '      7.      The Lord of the Rings: The Return of the King(2003)', '      8.      Pulp Fiction(1994)', '      9.      Il buono, il brutto, il cattivo(1966)', '      10.      The Lord of the Rings: The Fellowship of the Ring(2001)', '      11.      Fight Club(1999)', '      12.      Forrest Gump(1994)', '      13.      Inception(2010)', '      14.      The Lord of the Rings: The Two Towers(2002)', '      15.      Star Wars: Episode V - The Empire Strikes Back(1980)', '      16.      Spider-Man: No Way Home(2021)', '      17.      The Matrix(1999)', '      18.      Goodfellas(1990)'], ['      1.      The Shawshank Redemption(1994)', '      2.      The Godfather(1972)', '      3.      The Godfather: Part II(1974)', '      4.      The Dark Knight(2008)', '      5.      12 Angry Men(1957)', \"      6.      Schindler's List(1993)\", '      7.      The Lord of the Rings: The Return of the King(2003)', '      8.      Pulp Fiction(1994)', '      9.      Il buono, il brutto, il cattivo(1966)', '      10.      The Lord of the Rings: The Fellowship of the Ring(2001)', '      11.      Fight Club(1999)', '      12.      Forrest Gump(1994)', '      13.      Inception(2010)', '      14.      The Lord of the Rings: The Two Towers(2002)', '      15.      Star Wars: Episode V - The Empire Strikes Back(1980)', '      16.      Spider-Man: No Way Home(2021)', '      17.      The Matrix(1999)', '      18.      Goodfellas(1990)'], ['      1.      The Shawshank Redemption(1994)', '      2.      The Godfather(1972)', '      3.      The Godfather: Part II(1974)', '      4.      The Dark Knight(2008)', '      5.      12 Angry Men(1957)', \"      6.      Schindler's List(1993)\", '      7.      The Lord of the Rings: The Return of the King(2003)', '      8.      Pulp Fiction(1994)', '      9.      Il buono, il brutto, il cattivo(1966)', '      10.      The Lord of the Rings: The Fellowship of the Ring(2001)', '      11.      Fight Club(1999)', '      12.      Forrest Gump(1994)', '      13.      Inception(2010)', '      14.      The Lord of the Rings: The Two Towers(2002)', '      15.      Star Wars: Episode V - The Empire Strikes Back(1980)', '      16.      Spider-Man: No Way Home(2021)', '      17.      The Matrix(1999)', '      18.      Goodfellas(1990)'], ['      1.      The Shawshank Redemption(1994)', '      2.      The Godfather(1972)', '      3.      The Godfather: Part II(1974)', '      4.      The Dark Knight(2008)', '      5.      12 Angry Men(1957)', \"      6.      Schindler's List(1993)\", '      7.      The Lord of the Rings: The Return of the King(2003)', '      8.      Pulp Fiction(1994)', '      9.      Il buono, il brutto, il cattivo(1966)', '      10.      The Lord of the Rings: The Fellowship of the Ring(2001)', '      11.      Fight Club(1999)', '      12.      Forrest Gump(1994)', '      13.      Inception(2010)', '      14.      The Lord of the Rings: The Two Towers(2002)', '      15.      Star Wars: Episode V - The Empire Strikes Back(1980)', '      16.      Spider-Man: No Way Home(2021)', '      17.      The Matrix(1999)', '      18.      Goodfellas(1990)'], ['      1.      The Shawshank Redemption(1994)', '      2.      The Godfather(1972)', '      3.      The Godfather: Part II(1974)', '      4.      The Dark Knight(2008)', '      5.      12 Angry Men(1957)', \"      6.      Schindler's List(1993)\", '      7.      The Lord of the Rings: The Return of the King(2003)', '      8.      Pulp Fiction(1994)', '      9.      Il buono, il brutto, il cattivo(1966)', '      10.      The Lord of the Rings: The Fellowship of the Ring(2001)', '      11.      Fight Club(1999)', '      12.      Forrest Gump(1994)', '      13.      Inception(2010)', '      14.      The Lord of the Rings: The Two Towers(2002)', '      15.      Star Wars: Episode V - The Empire Strikes Back(1980)', '      16.      Spider-Man: No Way Home(2021)', '      17.      The Matrix(1999)', '      18.      Goodfellas(1990)'], ['      1.      The Shawshank Redemption(1994)', '      2.      The Godfather(1972)', '      3.      The Godfather: Part II(1974)', '      4.      The Dark Knight(2008)', '      5.      12 Angry Men(1957)', \"      6.      Schindler's List(1993)\", '      7.      The Lord of the Rings: The Return of the King(2003)', '      8.      Pulp Fiction(1994)', '      9.      Il buono, il brutto, il cattivo(1966)', '      10.      The Lord of the Rings: The Fellowship of the Ring(2001)', '      11.      Fight Club(1999)', '      12.      Forrest Gump(1994)', '      13.      Inception(2010)', '      14.      The Lord of the Rings: The Two Towers(2002)', '      15.      Star Wars: Episode V - The Empire Strikes Back(1980)', '      16.      Spider-Man: No Way Home(2021)', '      17.      The Matrix(1999)', '      18.      Goodfellas(1990)'], ['      1.      The Shawshank Redemption(1994)', '      2.      The Godfather(1972)', '      3.      The Godfather: Part II(1974)', '      4.      The Dark Knight(2008)', '      5.      12 Angry Men(1957)', \"      6.      Schindler's List(1993)\", '      7.      The Lord of the Rings: The Return of the King(2003)', '      8.      Pulp Fiction(1994)', '      9.      Il buono, il brutto, il cattivo(1966)', '      10.      The Lord of the Rings: The Fellowship of the Ring(2001)', '      11.      Fight Club(1999)', '      12.      Forrest Gump(1994)', '      13.      Inception(2010)', '      14.      The Lord of the Rings: The Two Towers(2002)', '      15.      Star Wars: Episode V - The Empire Strikes Back(1980)', '      16.      Spider-Man: No Way Home(2021)', '      17.      The Matrix(1999)', '      18.      Goodfellas(1990)'], ['      1.      The Shawshank Redemption(1994)', '      2.      The Godfather(1972)', '      3.      The Godfather: Part II(1974)', '      4.      The Dark Knight(2008)', '      5.      12 Angry Men(1957)', \"      6.      Schindler's List(1993)\", '      7.      The Lord of the Rings: The Return of the King(2003)', '      8.      Pulp Fiction(1994)', '      9.      Il buono, il brutto, il cattivo(1966)', '      10.      The Lord of the Rings: The Fellowship of the Ring(2001)', '      11.      Fight Club(1999)', '      12.      Forrest Gump(1994)', '      13.      Inception(2010)', '      14.      The Lord of the Rings: The Two Towers(2002)', '      15.      Star Wars: Episode V - The Empire Strikes Back(1980)', '      16.      Spider-Man: No Way Home(2021)', '      17.      The Matrix(1999)', '      18.      Goodfellas(1990)'], ['      1.      The Shawshank Redemption(1994)', '      2.      The Godfather(1972)', '      3.      The Godfather: Part II(1974)', '      4.      The Dark Knight(2008)', '      5.      12 Angry Men(1957)', \"      6.      Schindler's List(1993)\", '      7.      The Lord of the Rings: The Return of the King(2003)', '      8.      Pulp Fiction(1994)', '      9.      Il buono, il brutto, il cattivo(1966)', '      10.      The Lord of the Rings: The Fellowship of the Ring(2001)', '      11.      Fight Club(1999)', '      12.      Forrest Gump(1994)', '      13.      Inception(2010)', '      14.      The Lord of the Rings: The Two Towers(2002)', '      15.      Star Wars: Episode V - The Empire Strikes Back(1980)', '      16.      Spider-Man: No Way Home(2021)', '      17.      The Matrix(1999)', '      18.      Goodfellas(1990)'], ['      1.      The Shawshank Redemption(1994)', '      2.      The Godfather(1972)', '      3.      The Godfather: Part II(1974)', '      4.      The Dark Knight(2008)', '      5.      12 Angry Men(1957)', \"      6.      Schindler's List(1993)\", '      7.      The Lord of the Rings: The Return of the King(2003)', '      8.      Pulp Fiction(1994)', '      9.      Il buono, il brutto, il cattivo(1966)', '      10.      The Lord of the Rings: The Fellowship of the Ring(2001)', '      11.      Fight Club(1999)', '      12.      Forrest Gump(1994)', '      13.      Inception(2010)', '      14.      The Lord of the Rings: The Two Towers(2002)', '      15.      Star Wars: Episode V - The Empire Strikes Back(1980)', '      16.      Spider-Man: No Way Home(2021)', '      17.      The Matrix(1999)', '      18.      Goodfellas(1990)'], ['      1.      The Shawshank Redemption(1994)', '      2.      The Godfather(1972)', '      3.      The Godfather: Part II(1974)', '      4.      The Dark Knight(2008)', '      5.      12 Angry Men(1957)', \"      6.      Schindler's List(1993)\", '      7.      The Lord of the Rings: The Return of the King(2003)', '      8.      Pulp Fiction(1994)', '      9.      Il buono, il brutto, il cattivo(1966)', '      10.      The Lord of the Rings: The Fellowship of the Ring(2001)', '      11.      Fight Club(1999)', '      12.      Forrest Gump(1994)', '      13.      Inception(2010)', '      14.      The Lord of the Rings: The Two Towers(2002)', '      15.      Star Wars: Episode V - The Empire Strikes Back(1980)', '      16.      Spider-Man: No Way Home(2021)', '      17.      The Matrix(1999)', '      18.      Goodfellas(1990)'], ['      1.      The Shawshank Redemption(1994)', '      2.      The Godfather(1972)', '      3.      The Godfather: Part II(1974)', '      4.      The Dark Knight(2008)', '      5.      12 Angry Men(1957)', \"      6.      Schindler's List(1993)\", '      7.      The Lord of the Rings: The Return of the King(2003)', '      8.      Pulp Fiction(1994)', '      9.      Il buono, il brutto, il cattivo(1966)', '      10.      The Lord of the Rings: The Fellowship of the Ring(2001)', '      11.      Fight Club(1999)', '      12.      Forrest Gump(1994)', '      13.      Inception(2010)', '      14.      The Lord of the Rings: The Two Towers(2002)', '      15.      Star Wars: Episode V - The Empire Strikes Back(1980)', '      16.      Spider-Man: No Way Home(2021)', '      17.      The Matrix(1999)', '      18.      Goodfellas(1990)'], ['      1.      The Shawshank Redemption(1994)', '      2.      The Godfather(1972)', '      3.      The Godfather: Part II(1974)', '      4.      The Dark Knight(2008)', '      5.      12 Angry Men(1957)', \"      6.      Schindler's List(1993)\", '      7.      The Lord of the Rings: The Return of the King(2003)', '      8.      Pulp Fiction(1994)', '      9.      Il buono, il brutto, il cattivo(1966)', '      10.      The Lord of the Rings: The Fellowship of the Ring(2001)', '      11.      Fight Club(1999)', '      12.      Forrest Gump(1994)', '      13.      Inception(2010)', '      14.      The Lord of the Rings: The Two Towers(2002)', '      15.      Star Wars: Episode V - The Empire Strikes Back(1980)', '      16.      Spider-Man: No Way Home(2021)', '      17.      The Matrix(1999)', '      18.      Goodfellas(1990)'], ['      1.      The Shawshank Redemption(1994)', '      2.      The Godfather(1972)', '      3.      The Godfather: Part II(1974)', '      4.      The Dark Knight(2008)', '      5.      12 Angry Men(1957)', \"      6.      Schindler's List(1993)\", '      7.      The Lord of the Rings: The Return of the King(2003)', '      8.      Pulp Fiction(1994)', '      9.      Il buono, il brutto, il cattivo(1966)', '      10.      The Lord of the Rings: The Fellowship of the Ring(2001)', '      11.      Fight Club(1999)', '      12.      Forrest Gump(1994)', '      13.      Inception(2010)', '      14.      The Lord of the Rings: The Two Towers(2002)', '      15.      Star Wars: Episode V - The Empire Strikes Back(1980)', '      16.      Spider-Man: No Way Home(2021)', '      17.      The Matrix(1999)', '      18.      Goodfellas(1990)'], ['      1.      The Shawshank Redemption(1994)', '      2.      The Godfather(1972)', '      3.      The Godfather: Part II(1974)', '      4.      The Dark Knight(2008)', '      5.      12 Angry Men(1957)', \"      6.      Schindler's List(1993)\", '      7.      The Lord of the Rings: The Return of the King(2003)', '      8.      Pulp Fiction(1994)', '      9.      Il buono, il brutto, il cattivo(1966)', '      10.      The Lord of the Rings: The Fellowship of the Ring(2001)', '      11.      Fight Club(1999)', '      12.      Forrest Gump(1994)', '      13.      Inception(2010)', '      14.      The Lord of the Rings: The Two Towers(2002)', '      15.      Star Wars: Episode V - The Empire Strikes Back(1980)', '      16.      Spider-Man: No Way Home(2021)', '      17.      The Matrix(1999)', '      18.      Goodfellas(1990)'], ['      1.      The Shawshank Redemption(1994)', '      2.      The Godfather(1972)', '      3.      The Godfather: Part II(1974)', '      4.      The Dark Knight(2008)', '      5.      12 Angry Men(1957)', \"      6.      Schindler's List(1993)\", '      7.      The Lord of the Rings: The Return of the King(2003)', '      8.      Pulp Fiction(1994)', '      9.      Il buono, il brutto, il cattivo(1966)', '      10.      The Lord of the Rings: The Fellowship of the Ring(2001)', '      11.      Fight Club(1999)', '      12.      Forrest Gump(1994)', '      13.      Inception(2010)', '      14.      The Lord of the Rings: The Two Towers(2002)', '      15.      Star Wars: Episode V - The Empire Strikes Back(1980)', '      16.      Spider-Man: No Way Home(2021)', '      17.      The Matrix(1999)', '      18.      Goodfellas(1990)'], ['      1.      The Shawshank Redemption(1994)', '      2.      The Godfather(1972)', '      3.      The Godfather: Part II(1974)', '      4.      The Dark Knight(2008)', '      5.      12 Angry Men(1957)', \"      6.      Schindler's List(1993)\", '      7.      The Lord of the Rings: The Return of the King(2003)', '      8.      Pulp Fiction(1994)', '      9.      Il buono, il brutto, il cattivo(1966)', '      10.      The Lord of the Rings: The Fellowship of the Ring(2001)', '      11.      Fight Club(1999)', '      12.      Forrest Gump(1994)', '      13.      Inception(2010)', '      14.      The Lord of the Rings: The Two Towers(2002)', '      15.      Star Wars: Episode V - The Empire Strikes Back(1980)', '      16.      Spider-Man: No Way Home(2021)', '      17.      The Matrix(1999)', '      18.      Goodfellas(1990)'], ['      1.      The Shawshank Redemption(1994)', '      2.      The Godfather(1972)', '      3.      The Godfather: Part II(1974)', '      4.      The Dark Knight(2008)', '      5.      12 Angry Men(1957)', \"      6.      Schindler's List(1993)\", '      7.      The Lord of the Rings: The Return of the King(2003)', '      8.      Pulp Fiction(1994)', '      9.      Il buono, il brutto, il cattivo(1966)', '      10.      The Lord of the Rings: The Fellowship of the Ring(2001)', '      11.      Fight Club(1999)', '      12.      Forrest Gump(1994)', '      13.      Inception(2010)', '      14.      The Lord of the Rings: The Two Towers(2002)', '      15.      Star Wars: Episode V - The Empire Strikes Back(1980)', '      16.      Spider-Man: No Way Home(2021)', '      17.      The Matrix(1999)', '      18.      Goodfellas(1990)'], ['      1.      The Shawshank Redemption(1994)', '      2.      The Godfather(1972)', '      3.      The Godfather: Part II(1974)', '      4.      The Dark Knight(2008)', '      5.      12 Angry Men(1957)', \"      6.      Schindler's List(1993)\", '      7.      The Lord of the Rings: The Return of the King(2003)', '      8.      Pulp Fiction(1994)', '      9.      Il buono, il brutto, il cattivo(1966)', '      10.      The Lord of the Rings: The Fellowship of the Ring(2001)', '      11.      Fight Club(1999)', '      12.      Forrest Gump(1994)', '      13.      Inception(2010)', '      14.      The Lord of the Rings: The Two Towers(2002)', '      15.      Star Wars: Episode V - The Empire Strikes Back(1980)', '      16.      Spider-Man: No Way Home(2021)', '      17.      The Matrix(1999)', '      18.      Goodfellas(1990)'], ['      1.      The Shawshank Redemption(1994)', '      2.      The Godfather(1972)', '      3.      The Godfather: Part II(1974)', '      4.      The Dark Knight(2008)', '      5.      12 Angry Men(1957)', \"      6.      Schindler's List(1993)\", '      7.      The Lord of the Rings: The Return of the King(2003)', '      8.      Pulp Fiction(1994)', '      9.      Il buono, il brutto, il cattivo(1966)', '      10.      The Lord of the Rings: The Fellowship of the Ring(2001)', '      11.      Fight Club(1999)', '      12.      Forrest Gump(1994)', '      13.      Inception(2010)', '      14.      The Lord of the Rings: The Two Towers(2002)', '      15.      Star Wars: Episode V - The Empire Strikes Back(1980)', '      16.      Spider-Man: No Way Home(2021)', '      17.      The Matrix(1999)', '      18.      Goodfellas(1990)'], ['      1.      The Shawshank Redemption(1994)', '      2.      The Godfather(1972)', '      3.      The Godfather: Part II(1974)', '      4.      The Dark Knight(2008)', '      5.      12 Angry Men(1957)', \"      6.      Schindler's List(1993)\", '      7.      The Lord of the Rings: The Return of the King(2003)', '      8.      Pulp Fiction(1994)', '      9.      Il buono, il brutto, il cattivo(1966)', '      10.      The Lord of the Rings: The Fellowship of the Ring(2001)', '      11.      Fight Club(1999)', '      12.      Forrest Gump(1994)', '      13.      Inception(2010)', '      14.      The Lord of the Rings: The Two Towers(2002)', '      15.      Star Wars: Episode V - The Empire Strikes Back(1980)', '      16.      Spider-Man: No Way Home(2021)', '      17.      The Matrix(1999)', '      18.      Goodfellas(1990)'], ['      1.      The Shawshank Redemption(1994)', '      2.      The Godfather(1972)', '      3.      The Godfather: Part II(1974)', '      4.      The Dark Knight(2008)', '      5.      12 Angry Men(1957)', \"      6.      Schindler's List(1993)\", '      7.      The Lord of the Rings: The Return of the King(2003)', '      8.      Pulp Fiction(1994)', '      9.      Il buono, il brutto, il cattivo(1966)', '      10.      The Lord of the Rings: The Fellowship of the Ring(2001)', '      11.      Fight Club(1999)', '      12.      Forrest Gump(1994)', '      13.      Inception(2010)', '      14.      The Lord of the Rings: The Two Towers(2002)', '      15.      Star Wars: Episode V - The Empire Strikes Back(1980)', '      16.      Spider-Man: No Way Home(2021)', '      17.      The Matrix(1999)', '      18.      Goodfellas(1990)'], ['      1.      The Shawshank Redemption(1994)', '      2.      The Godfather(1972)', '      3.      The Godfather: Part II(1974)', '      4.      The Dark Knight(2008)', '      5.      12 Angry Men(1957)', \"      6.      Schindler's List(1993)\", '      7.      The Lord of the Rings: The Return of the King(2003)', '      8.      Pulp Fiction(1994)', '      9.      Il buono, il brutto, il cattivo(1966)', '      10.      The Lord of the Rings: The Fellowship of the Ring(2001)', '      11.      Fight Club(1999)', '      12.      Forrest Gump(1994)', '      13.      Inception(2010)', '      14.      The Lord of the Rings: The Two Towers(2002)', '      15.      Star Wars: Episode V - The Empire Strikes Back(1980)', '      16.      Spider-Man: No Way Home(2021)', '      17.      The Matrix(1999)', '      18.      Goodfellas(1990)'], ['      1.      The Shawshank Redemption(1994)', '      2.      The Godfather(1972)', '      3.      The Godfather: Part II(1974)', '      4.      The Dark Knight(2008)', '      5.      12 Angry Men(1957)', \"      6.      Schindler's List(1993)\", '      7.      The Lord of the Rings: The Return of the King(2003)', '      8.      Pulp Fiction(1994)', '      9.      Il buono, il brutto, il cattivo(1966)', '      10.      The Lord of the Rings: The Fellowship of the Ring(2001)', '      11.      Fight Club(1999)', '      12.      Forrest Gump(1994)', '      13.      Inception(2010)', '      14.      The Lord of the Rings: The Two Towers(2002)', '      15.      Star Wars: Episode V - The Empire Strikes Back(1980)', '      16.      Spider-Man: No Way Home(2021)', '      17.      The Matrix(1999)', '      18.      Goodfellas(1990)'], ['      1.      The Shawshank Redemption(1994)', '      2.      The Godfather(1972)', '      3.      The Godfather: Part II(1974)', '      4.      The Dark Knight(2008)', '      5.      12 Angry Men(1957)', \"      6.      Schindler's List(1993)\", '      7.      The Lord of the Rings: The Return of the King(2003)', '      8.      Pulp Fiction(1994)', '      9.      Il buono, il brutto, il cattivo(1966)', '      10.      The Lord of the Rings: The Fellowship of the Ring(2001)', '      11.      Fight Club(1999)', '      12.      Forrest Gump(1994)', '      13.      Inception(2010)', '      14.      The Lord of the Rings: The Two Towers(2002)', '      15.      Star Wars: Episode V - The Empire Strikes Back(1980)', '      16.      Spider-Man: No Way Home(2021)', '      17.      The Matrix(1999)', '      18.      Goodfellas(1990)'], ['      1.      The Shawshank Redemption(1994)', '      2.      The Godfather(1972)', '      3.      The Godfather: Part II(1974)', '      4.      The Dark Knight(2008)', '      5.      12 Angry Men(1957)', \"      6.      Schindler's List(1993)\", '      7.      The Lord of the Rings: The Return of the King(2003)', '      8.      Pulp Fiction(1994)', '      9.      Il buono, il brutto, il cattivo(1966)', '      10.      The Lord of the Rings: The Fellowship of the Ring(2001)', '      11.      Fight Club(1999)', '      12.      Forrest Gump(1994)', '      13.      Inception(2010)', '      14.      The Lord of the Rings: The Two Towers(2002)', '      15.      Star Wars: Episode V - The Empire Strikes Back(1980)', '      16.      Spider-Man: No Way Home(2021)', '      17.      The Matrix(1999)', '      18.      Goodfellas(1990)'], ['      1.      The Shawshank Redemption(1994)', '      2.      The Godfather(1972)', '      3.      The Godfather: Part II(1974)', '      4.      The Dark Knight(2008)', '      5.      12 Angry Men(1957)', \"      6.      Schindler's List(1993)\", '      7.      The Lord of the Rings: The Return of the King(2003)', '      8.      Pulp Fiction(1994)', '      9.      Il buono, il brutto, il cattivo(1966)', '      10.      The Lord of the Rings: The Fellowship of the Ring(2001)', '      11.      Fight Club(1999)', '      12.      Forrest Gump(1994)', '      13.      Inception(2010)', '      14.      The Lord of the Rings: The Two Towers(2002)', '      15.      Star Wars: Episode V - The Empire Strikes Back(1980)', '      16.      Spider-Man: No Way Home(2021)', '      17.      The Matrix(1999)', '      18.      Goodfellas(1990)'], ['      1.      The Shawshank Redemption(1994)', '      2.      The Godfather(1972)', '      3.      The Godfather: Part II(1974)', '      4.      The Dark Knight(2008)', '      5.      12 Angry Men(1957)', \"      6.      Schindler's List(1993)\", '      7.      The Lord of the Rings: The Return of the King(2003)', '      8.      Pulp Fiction(1994)', '      9.      Il buono, il brutto, il cattivo(1966)', '      10.      The Lord of the Rings: The Fellowship of the Ring(2001)', '      11.      Fight Club(1999)', '      12.      Forrest Gump(1994)', '      13.      Inception(2010)', '      14.      The Lord of the Rings: The Two Towers(2002)', '      15.      Star Wars: Episode V - The Empire Strikes Back(1980)', '      16.      Spider-Man: No Way Home(2021)', '      17.      The Matrix(1999)', '      18.      Goodfellas(1990)'], ['      1.      The Shawshank Redemption(1994)', '      2.      The Godfather(1972)', '      3.      The Godfather: Part II(1974)', '      4.      The Dark Knight(2008)', '      5.      12 Angry Men(1957)', \"      6.      Schindler's List(1993)\", '      7.      The Lord of the Rings: The Return of the King(2003)', '      8.      Pulp Fiction(1994)', '      9.      Il buono, il brutto, il cattivo(1966)', '      10.      The Lord of the Rings: The Fellowship of the Ring(2001)', '      11.      Fight Club(1999)', '      12.      Forrest Gump(1994)', '      13.      Inception(2010)', '      14.      The Lord of the Rings: The Two Towers(2002)', '      15.      Star Wars: Episode V - The Empire Strikes Back(1980)', '      16.      Spider-Man: No Way Home(2021)', '      17.      The Matrix(1999)', '      18.      Goodfellas(1990)'], ['      1.      The Shawshank Redemption(1994)', '      2.      The Godfather(1972)', '      3.      The Godfather: Part II(1974)', '      4.      The Dark Knight(2008)', '      5.      12 Angry Men(1957)', \"      6.      Schindler's List(1993)\", '      7.      The Lord of the Rings: The Return of the King(2003)', '      8.      Pulp Fiction(1994)', '      9.      Il buono, il brutto, il cattivo(1966)', '      10.      The Lord of the Rings: The Fellowship of the Ring(2001)', '      11.      Fight Club(1999)', '      12.      Forrest Gump(1994)', '      13.      Inception(2010)', '      14.      The Lord of the Rings: The Two Towers(2002)', '      15.      Star Wars: Episode V - The Empire Strikes Back(1980)', '      16.      Spider-Man: No Way Home(2021)', '      17.      The Matrix(1999)', '      18.      Goodfellas(1990)'], ['      1.      The Shawshank Redemption(1994)', '      2.      The Godfather(1972)', '      3.      The Godfather: Part II(1974)', '      4.      The Dark Knight(2008)', '      5.      12 Angry Men(1957)', \"      6.      Schindler's List(1993)\", '      7.      The Lord of the Rings: The Return of the King(2003)', '      8.      Pulp Fiction(1994)', '      9.      Il buono, il brutto, il cattivo(1966)', '      10.      The Lord of the Rings: The Fellowship of the Ring(2001)', '      11.      Fight Club(1999)', '      12.      Forrest Gump(1994)', '      13.      Inception(2010)', '      14.      The Lord of the Rings: The Two Towers(2002)', '      15.      Star Wars: Episode V - The Empire Strikes Back(1980)', '      16.      Spider-Man: No Way Home(2021)', '      17.      The Matrix(1999)', '      18.      Goodfellas(1990)'], ['      1.      The Shawshank Redemption(1994)', '      2.      The Godfather(1972)', '      3.      The Godfather: Part II(1974)', '      4.      The Dark Knight(2008)', '      5.      12 Angry Men(1957)', \"      6.      Schindler's List(1993)\", '      7.      The Lord of the Rings: The Return of the King(2003)', '      8.      Pulp Fiction(1994)', '      9.      Il buono, il brutto, il cattivo(1966)', '      10.      The Lord of the Rings: The Fellowship of the Ring(2001)', '      11.      Fight Club(1999)', '      12.      Forrest Gump(1994)', '      13.      Inception(2010)', '      14.      The Lord of the Rings: The Two Towers(2002)', '      15.      Star Wars: Episode V - The Empire Strikes Back(1980)', '      16.      Spider-Man: No Way Home(2021)', '      17.      The Matrix(1999)', '      18.      Goodfellas(1990)'], ['      1.      The Shawshank Redemption(1994)', '      2.      The Godfather(1972)', '      3.      The Godfather: Part II(1974)', '      4.      The Dark Knight(2008)', '      5.      12 Angry Men(1957)', \"      6.      Schindler's List(1993)\", '      7.      The Lord of the Rings: The Return of the King(2003)', '      8.      Pulp Fiction(1994)', '      9.      Il buono, il brutto, il cattivo(1966)', '      10.      The Lord of the Rings: The Fellowship of the Ring(2001)', '      11.      Fight Club(1999)', '      12.      Forrest Gump(1994)', '      13.      Inception(2010)', '      14.      The Lord of the Rings: The Two Towers(2002)', '      15.      Star Wars: Episode V - The Empire Strikes Back(1980)', '      16.      Spider-Man: No Way Home(2021)', '      17.      The Matrix(1999)', '      18.      Goodfellas(1990)'], ['      1.      The Shawshank Redemption(1994)', '      2.      The Godfather(1972)', '      3.      The Godfather: Part II(1974)', '      4.      The Dark Knight(2008)', '      5.      12 Angry Men(1957)', \"      6.      Schindler's List(1993)\", '      7.      The Lord of the Rings: The Return of the King(2003)', '      8.      Pulp Fiction(1994)', '      9.      Il buono, il brutto, il cattivo(1966)', '      10.      The Lord of the Rings: The Fellowship of the Ring(2001)', '      11.      Fight Club(1999)', '      12.      Forrest Gump(1994)', '      13.      Inception(2010)', '      14.      The Lord of the Rings: The Two Towers(2002)', '      15.      Star Wars: Episode V - The Empire Strikes Back(1980)', '      16.      Spider-Man: No Way Home(2021)', '      17.      The Matrix(1999)', '      18.      Goodfellas(1990)'], ['      1.      The Shawshank Redemption(1994)', '      2.      The Godfather(1972)', '      3.      The Godfather: Part II(1974)', '      4.      The Dark Knight(2008)', '      5.      12 Angry Men(1957)', \"      6.      Schindler's List(1993)\", '      7.      The Lord of the Rings: The Return of the King(2003)', '      8.      Pulp Fiction(1994)', '      9.      Il buono, il brutto, il cattivo(1966)', '      10.      The Lord of the Rings: The Fellowship of the Ring(2001)', '      11.      Fight Club(1999)', '      12.      Forrest Gump(1994)', '      13.      Inception(2010)', '      14.      The Lord of the Rings: The Two Towers(2002)', '      15.      Star Wars: Episode V - The Empire Strikes Back(1980)', '      16.      Spider-Man: No Way Home(2021)', '      17.      The Matrix(1999)', '      18.      Goodfellas(1990)'], ['      1.      The Shawshank Redemption(1994)', '      2.      The Godfather(1972)', '      3.      The Godfather: Part II(1974)', '      4.      The Dark Knight(2008)', '      5.      12 Angry Men(1957)', \"      6.      Schindler's List(1993)\", '      7.      The Lord of the Rings: The Return of the King(2003)', '      8.      Pulp Fiction(1994)', '      9.      Il buono, il brutto, il cattivo(1966)', '      10.      The Lord of the Rings: The Fellowship of the Ring(2001)', '      11.      Fight Club(1999)', '      12.      Forrest Gump(1994)', '      13.      Inception(2010)', '      14.      The Lord of the Rings: The Two Towers(2002)', '      15.      Star Wars: Episode V - The Empire Strikes Back(1980)', '      16.      Spider-Man: No Way Home(2021)', '      17.      The Matrix(1999)', '      18.      Goodfellas(1990)'], ['      1.      The Shawshank Redemption(1994)', '      2.      The Godfather(1972)', '      3.      The Godfather: Part II(1974)', '      4.      The Dark Knight(2008)', '      5.      12 Angry Men(1957)', \"      6.      Schindler's List(1993)\", '      7.      The Lord of the Rings: The Return of the King(2003)', '      8.      Pulp Fiction(1994)', '      9.      Il buono, il brutto, il cattivo(1966)', '      10.      The Lord of the Rings: The Fellowship of the Ring(2001)', '      11.      Fight Club(1999)', '      12.      Forrest Gump(1994)', '      13.      Inception(2010)', '      14.      The Lord of the Rings: The Two Towers(2002)', '      15.      Star Wars: Episode V - The Empire Strikes Back(1980)', '      16.      Spider-Man: No Way Home(2021)', '      17.      The Matrix(1999)', '      18.      Goodfellas(1990)'], ['      1.      The Shawshank Redemption(1994)', '      2.      The Godfather(1972)', '      3.      The Godfather: Part II(1974)', '      4.      The Dark Knight(2008)', '      5.      12 Angry Men(1957)', \"      6.      Schindler's List(1993)\", '      7.      The Lord of the Rings: The Return of the King(2003)', '      8.      Pulp Fiction(1994)', '      9.      Il buono, il brutto, il cattivo(1966)', '      10.      The Lord of the Rings: The Fellowship of the Ring(2001)', '      11.      Fight Club(1999)', '      12.      Forrest Gump(1994)', '      13.      Inception(2010)', '      14.      The Lord of the Rings: The Two Towers(2002)', '      15.      Star Wars: Episode V - The Empire Strikes Back(1980)', '      16.      Spider-Man: No Way Home(2021)', '      17.      The Matrix(1999)', '      18.      Goodfellas(1990)'], ['      1.      The Shawshank Redemption(1994)', '      2.      The Godfather(1972)', '      3.      The Godfather: Part II(1974)', '      4.      The Dark Knight(2008)', '      5.      12 Angry Men(1957)', \"      6.      Schindler's List(1993)\", '      7.      The Lord of the Rings: The Return of the King(2003)', '      8.      Pulp Fiction(1994)', '      9.      Il buono, il brutto, il cattivo(1966)', '      10.      The Lord of the Rings: The Fellowship of the Ring(2001)', '      11.      Fight Club(1999)', '      12.      Forrest Gump(1994)', '      13.      Inception(2010)', '      14.      The Lord of the Rings: The Two Towers(2002)', '      15.      Star Wars: Episode V - The Empire Strikes Back(1980)', '      16.      Spider-Man: No Way Home(2021)', '      17.      The Matrix(1999)', '      18.      Goodfellas(1990)'], ['      1.      The Shawshank Redemption(1994)', '      2.      The Godfather(1972)', '      3.      The Godfather: Part II(1974)', '      4.      The Dark Knight(2008)', '      5.      12 Angry Men(1957)', \"      6.      Schindler's List(1993)\", '      7.      The Lord of the Rings: The Return of the King(2003)', '      8.      Pulp Fiction(1994)', '      9.      Il buono, il brutto, il cattivo(1966)', '      10.      The Lord of the Rings: The Fellowship of the Ring(2001)', '      11.      Fight Club(1999)', '      12.      Forrest Gump(1994)', '      13.      Inception(2010)', '      14.      The Lord of the Rings: The Two Towers(2002)', '      15.      Star Wars: Episode V - The Empire Strikes Back(1980)', '      16.      Spider-Man: No Way Home(2021)', '      17.      The Matrix(1999)', '      18.      Goodfellas(1990)'], ['      1.      The Shawshank Redemption(1994)', '      2.      The Godfather(1972)', '      3.      The Godfather: Part II(1974)', '      4.      The Dark Knight(2008)', '      5.      12 Angry Men(1957)', \"      6.      Schindler's List(1993)\", '      7.      The Lord of the Rings: The Return of the King(2003)', '      8.      Pulp Fiction(1994)', '      9.      Il buono, il brutto, il cattivo(1966)', '      10.      The Lord of the Rings: The Fellowship of the Ring(2001)', '      11.      Fight Club(1999)', '      12.      Forrest Gump(1994)', '      13.      Inception(2010)', '      14.      The Lord of the Rings: The Two Towers(2002)', '      15.      Star Wars: Episode V - The Empire Strikes Back(1980)', '      16.      Spider-Man: No Way Home(2021)', '      17.      The Matrix(1999)', '      18.      Goodfellas(1990)'], ['      1.      The Shawshank Redemption(1994)', '      2.      The Godfather(1972)', '      3.      The Godfather: Part II(1974)', '      4.      The Dark Knight(2008)', '      5.      12 Angry Men(1957)', \"      6.      Schindler's List(1993)\", '      7.      The Lord of the Rings: The Return of the King(2003)', '      8.      Pulp Fiction(1994)', '      9.      Il buono, il brutto, il cattivo(1966)', '      10.      The Lord of the Rings: The Fellowship of the Ring(2001)', '      11.      Fight Club(1999)', '      12.      Forrest Gump(1994)', '      13.      Inception(2010)', '      14.      The Lord of the Rings: The Two Towers(2002)', '      15.      Star Wars: Episode V - The Empire Strikes Back(1980)', '      16.      Spider-Man: No Way Home(2021)', '      17.      The Matrix(1999)', '      18.      Goodfellas(1990)'], ['      1.      The Shawshank Redemption(1994)', '      2.      The Godfather(1972)', '      3.      The Godfather: Part II(1974)', '      4.      The Dark Knight(2008)', '      5.      12 Angry Men(1957)', \"      6.      Schindler's List(1993)\", '      7.      The Lord of the Rings: The Return of the King(2003)', '      8.      Pulp Fiction(1994)', '      9.      Il buono, il brutto, il cattivo(1966)', '      10.      The Lord of the Rings: The Fellowship of the Ring(2001)', '      11.      Fight Club(1999)', '      12.      Forrest Gump(1994)', '      13.      Inception(2010)', '      14.      The Lord of the Rings: The Two Towers(2002)', '      15.      Star Wars: Episode V - The Empire Strikes Back(1980)', '      16.      Spider-Man: No Way Home(2021)', '      17.      The Matrix(1999)', '      18.      Goodfellas(1990)'], ['      1.      The Shawshank Redemption(1994)', '      2.      The Godfather(1972)', '      3.      The Godfather: Part II(1974)', '      4.      The Dark Knight(2008)', '      5.      12 Angry Men(1957)', \"      6.      Schindler's List(1993)\", '      7.      The Lord of the Rings: The Return of the King(2003)', '      8.      Pulp Fiction(1994)', '      9.      Il buono, il brutto, il cattivo(1966)', '      10.      The Lord of the Rings: The Fellowship of the Ring(2001)', '      11.      Fight Club(1999)', '      12.      Forrest Gump(1994)', '      13.      Inception(2010)', '      14.      The Lord of the Rings: The Two Towers(2002)', '      15.      Star Wars: Episode V - The Empire Strikes Back(1980)', '      16.      Spider-Man: No Way Home(2021)', '      17.      The Matrix(1999)', '      18.      Goodfellas(1990)'], ['      1.      The Shawshank Redemption(1994)', '      2.      The Godfather(1972)', '      3.      The Godfather: Part II(1974)', '      4.      The Dark Knight(2008)', '      5.      12 Angry Men(1957)', \"      6.      Schindler's List(1993)\", '      7.      The Lord of the Rings: The Return of the King(2003)', '      8.      Pulp Fiction(1994)', '      9.      Il buono, il brutto, il cattivo(1966)', '      10.      The Lord of the Rings: The Fellowship of the Ring(2001)', '      11.      Fight Club(1999)', '      12.      Forrest Gump(1994)', '      13.      Inception(2010)', '      14.      The Lord of the Rings: The Two Towers(2002)', '      15.      Star Wars: Episode V - The Empire Strikes Back(1980)', '      16.      Spider-Man: No Way Home(2021)', '      17.      The Matrix(1999)', '      18.      Goodfellas(1990)'], ['      1.      The Shawshank Redemption(1994)', '      2.      The Godfather(1972)', '      3.      The Godfather: Part II(1974)', '      4.      The Dark Knight(2008)', '      5.      12 Angry Men(1957)', \"      6.      Schindler's List(1993)\", '      7.      The Lord of the Rings: The Return of the King(2003)', '      8.      Pulp Fiction(1994)', '      9.      Il buono, il brutto, il cattivo(1966)', '      10.      The Lord of the Rings: The Fellowship of the Ring(2001)', '      11.      Fight Club(1999)', '      12.      Forrest Gump(1994)', '      13.      Inception(2010)', '      14.      The Lord of the Rings: The Two Towers(2002)', '      15.      Star Wars: Episode V - The Empire Strikes Back(1980)', '      16.      Spider-Man: No Way Home(2021)', '      17.      The Matrix(1999)', '      18.      Goodfellas(1990)'], ['      1.      The Shawshank Redemption(1994)', '      2.      The Godfather(1972)', '      3.      The Godfather: Part II(1974)', '      4.      The Dark Knight(2008)', '      5.      12 Angry Men(1957)', \"      6.      Schindler's List(1993)\", '      7.      The Lord of the Rings: The Return of the King(2003)', '      8.      Pulp Fiction(1994)', '      9.      Il buono, il brutto, il cattivo(1966)', '      10.      The Lord of the Rings: The Fellowship of the Ring(2001)', '      11.      Fight Club(1999)', '      12.      Forrest Gump(1994)', '      13.      Inception(2010)', '      14.      The Lord of the Rings: The Two Towers(2002)', '      15.      Star Wars: Episode V - The Empire Strikes Back(1980)', '      16.      Spider-Man: No Way Home(2021)', '      17.      The Matrix(1999)', '      18.      Goodfellas(1990)'], ['      1.      The Shawshank Redemption(1994)', '      2.      The Godfather(1972)', '      3.      The Godfather: Part II(1974)', '      4.      The Dark Knight(2008)', '      5.      12 Angry Men(1957)', \"      6.      Schindler's List(1993)\", '      7.      The Lord of the Rings: The Return of the King(2003)', '      8.      Pulp Fiction(1994)', '      9.      Il buono, il brutto, il cattivo(1966)', '      10.      The Lord of the Rings: The Fellowship of the Ring(2001)', '      11.      Fight Club(1999)', '      12.      Forrest Gump(1994)', '      13.      Inception(2010)', '      14.      The Lord of the Rings: The Two Towers(2002)', '      15.      Star Wars: Episode V - The Empire Strikes Back(1980)', '      16.      Spider-Man: No Way Home(2021)', '      17.      The Matrix(1999)', '      18.      Goodfellas(1990)'], ['      1.      The Shawshank Redemption(1994)', '      2.      The Godfather(1972)', '      3.      The Godfather: Part II(1974)', '      4.      The Dark Knight(2008)', '      5.      12 Angry Men(1957)', \"      6.      Schindler's List(1993)\", '      7.      The Lord of the Rings: The Return of the King(2003)', '      8.      Pulp Fiction(1994)', '      9.      Il buono, il brutto, il cattivo(1966)', '      10.      The Lord of the Rings: The Fellowship of the Ring(2001)', '      11.      Fight Club(1999)', '      12.      Forrest Gump(1994)', '      13.      Inception(2010)', '      14.      The Lord of the Rings: The Two Towers(2002)', '      15.      Star Wars: Episode V - The Empire Strikes Back(1980)', '      16.      Spider-Man: No Way Home(2021)', '      17.      The Matrix(1999)', '      18.      Goodfellas(1990)'], ['      1.      The Shawshank Redemption(1994)', '      2.      The Godfather(1972)', '      3.      The Godfather: Part II(1974)', '      4.      The Dark Knight(2008)', '      5.      12 Angry Men(1957)', \"      6.      Schindler's List(1993)\", '      7.      The Lord of the Rings: The Return of the King(2003)', '      8.      Pulp Fiction(1994)', '      9.      Il buono, il brutto, il cattivo(1966)', '      10.      The Lord of the Rings: The Fellowship of the Ring(2001)', '      11.      Fight Club(1999)', '      12.      Forrest Gump(1994)', '      13.      Inception(2010)', '      14.      The Lord of the Rings: The Two Towers(2002)', '      15.      Star Wars: Episode V - The Empire Strikes Back(1980)', '      16.      Spider-Man: No Way Home(2021)', '      17.      The Matrix(1999)', '      18.      Goodfellas(1990)'], ['      1.      The Shawshank Redemption(1994)', '      2.      The Godfather(1972)', '      3.      The Godfather: Part II(1974)', '      4.      The Dark Knight(2008)', '      5.      12 Angry Men(1957)', \"      6.      Schindler's List(1993)\", '      7.      The Lord of the Rings: The Return of the King(2003)', '      8.      Pulp Fiction(1994)', '      9.      Il buono, il brutto, il cattivo(1966)', '      10.      The Lord of the Rings: The Fellowship of the Ring(2001)', '      11.      Fight Club(1999)', '      12.      Forrest Gump(1994)', '      13.      Inception(2010)', '      14.      The Lord of the Rings: The Two Towers(2002)', '      15.      Star Wars: Episode V - The Empire Strikes Back(1980)', '      16.      Spider-Man: No Way Home(2021)', '      17.      The Matrix(1999)', '      18.      Goodfellas(1990)'], ['      1.      The Shawshank Redemption(1994)', '      2.      The Godfather(1972)', '      3.      The Godfather: Part II(1974)', '      4.      The Dark Knight(2008)', '      5.      12 Angry Men(1957)', \"      6.      Schindler's List(1993)\", '      7.      The Lord of the Rings: The Return of the King(2003)', '      8.      Pulp Fiction(1994)', '      9.      Il buono, il brutto, il cattivo(1966)', '      10.      The Lord of the Rings: The Fellowship of the Ring(2001)', '      11.      Fight Club(1999)', '      12.      Forrest Gump(1994)', '      13.      Inception(2010)', '      14.      The Lord of the Rings: The Two Towers(2002)', '      15.      Star Wars: Episode V - The Empire Strikes Back(1980)', '      16.      Spider-Man: No Way Home(2021)', '      17.      The Matrix(1999)', '      18.      Goodfellas(1990)'], ['      1.      The Shawshank Redemption(1994)', '      2.      The Godfather(1972)', '      3.      The Godfather: Part II(1974)', '      4.      The Dark Knight(2008)', '      5.      12 Angry Men(1957)', \"      6.      Schindler's List(1993)\", '      7.      The Lord of the Rings: The Return of the King(2003)', '      8.      Pulp Fiction(1994)', '      9.      Il buono, il brutto, il cattivo(1966)', '      10.      The Lord of the Rings: The Fellowship of the Ring(2001)', '      11.      Fight Club(1999)', '      12.      Forrest Gump(1994)', '      13.      Inception(2010)', '      14.      The Lord of the Rings: The Two Towers(2002)', '      15.      Star Wars: Episode V - The Empire Strikes Back(1980)', '      16.      Spider-Man: No Way Home(2021)', '      17.      The Matrix(1999)', '      18.      Goodfellas(1990)'], ['      1.      The Shawshank Redemption(1994)', '      2.      The Godfather(1972)', '      3.      The Godfather: Part II(1974)', '      4.      The Dark Knight(2008)', '      5.      12 Angry Men(1957)', \"      6.      Schindler's List(1993)\", '      7.      The Lord of the Rings: The Return of the King(2003)', '      8.      Pulp Fiction(1994)', '      9.      Il buono, il brutto, il cattivo(1966)', '      10.      The Lord of the Rings: The Fellowship of the Ring(2001)', '      11.      Fight Club(1999)', '      12.      Forrest Gump(1994)', '      13.      Inception(2010)', '      14.      The Lord of the Rings: The Two Towers(2002)', '      15.      Star Wars: Episode V - The Empire Strikes Back(1980)', '      16.      Spider-Man: No Way Home(2021)', '      17.      The Matrix(1999)', '      18.      Goodfellas(1990)'], ['      1.      The Shawshank Redemption(1994)', '      2.      The Godfather(1972)', '      3.      The Godfather: Part II(1974)', '      4.      The Dark Knight(2008)', '      5.      12 Angry Men(1957)', \"      6.      Schindler's List(1993)\", '      7.      The Lord of the Rings: The Return of the King(2003)', '      8.      Pulp Fiction(1994)', '      9.      Il buono, il brutto, il cattivo(1966)', '      10.      The Lord of the Rings: The Fellowship of the Ring(2001)', '      11.      Fight Club(1999)', '      12.      Forrest Gump(1994)', '      13.      Inception(2010)', '      14.      The Lord of the Rings: The Two Towers(2002)', '      15.      Star Wars: Episode V - The Empire Strikes Back(1980)', '      16.      Spider-Man: No Way Home(2021)', '      17.      The Matrix(1999)', '      18.      Goodfellas(1990)'], ['      1.      The Shawshank Redemption(1994)', '      2.      The Godfather(1972)', '      3.      The Godfather: Part II(1974)', '      4.      The Dark Knight(2008)', '      5.      12 Angry Men(1957)', \"      6.      Schindler's List(1993)\", '      7.      The Lord of the Rings: The Return of the King(2003)', '      8.      Pulp Fiction(1994)', '      9.      Il buono, il brutto, il cattivo(1966)', '      10.      The Lord of the Rings: The Fellowship of the Ring(2001)', '      11.      Fight Club(1999)', '      12.      Forrest Gump(1994)', '      13.      Inception(2010)', '      14.      The Lord of the Rings: The Two Towers(2002)', '      15.      Star Wars: Episode V - The Empire Strikes Back(1980)', '      16.      Spider-Man: No Way Home(2021)', '      17.      The Matrix(1999)', '      18.      Goodfellas(1990)'], ['      1.      The Shawshank Redemption(1994)', '      2.      The Godfather(1972)', '      3.      The Godfather: Part II(1974)', '      4.      The Dark Knight(2008)', '      5.      12 Angry Men(1957)', \"      6.      Schindler's List(1993)\", '      7.      The Lord of the Rings: The Return of the King(2003)', '      8.      Pulp Fiction(1994)', '      9.      Il buono, il brutto, il cattivo(1966)', '      10.      The Lord of the Rings: The Fellowship of the Ring(2001)', '      11.      Fight Club(1999)', '      12.      Forrest Gump(1994)', '      13.      Inception(2010)', '      14.      The Lord of the Rings: The Two Towers(2002)', '      15.      Star Wars: Episode V - The Empire Strikes Back(1980)', '      16.      Spider-Man: No Way Home(2021)', '      17.      The Matrix(1999)', '      18.      Goodfellas(1990)'], ['      1.      The Shawshank Redemption(1994)', '      2.      The Godfather(1972)', '      3.      The Godfather: Part II(1974)', '      4.      The Dark Knight(2008)', '      5.      12 Angry Men(1957)', \"      6.      Schindler's List(1993)\", '      7.      The Lord of the Rings: The Return of the King(2003)', '      8.      Pulp Fiction(1994)', '      9.      Il buono, il brutto, il cattivo(1966)', '      10.      The Lord of the Rings: The Fellowship of the Ring(2001)', '      11.      Fight Club(1999)', '      12.      Forrest Gump(1994)', '      13.      Inception(2010)', '      14.      The Lord of the Rings: The Two Towers(2002)', '      15.      Star Wars: Episode V - The Empire Strikes Back(1980)', '      16.      Spider-Man: No Way Home(2021)', '      17.      The Matrix(1999)', '      18.      Goodfellas(1990)'], ['      1.      The Shawshank Redemption(1994)', '      2.      The Godfather(1972)', '      3.      The Godfather: Part II(1974)', '      4.      The Dark Knight(2008)', '      5.      12 Angry Men(1957)', \"      6.      Schindler's List(1993)\", '      7.      The Lord of the Rings: The Return of the King(2003)', '      8.      Pulp Fiction(1994)', '      9.      Il buono, il brutto, il cattivo(1966)', '      10.      The Lord of the Rings: The Fellowship of the Ring(2001)', '      11.      Fight Club(1999)', '      12.      Forrest Gump(1994)', '      13.      Inception(2010)', '      14.      The Lord of the Rings: The Two Towers(2002)', '      15.      Star Wars: Episode V - The Empire Strikes Back(1980)', '      16.      Spider-Man: No Way Home(2021)', '      17.      The Matrix(1999)', '      18.      Goodfellas(1990)']] \n",
      "\n",
      "['1.', '2.', '3.', '4.', '5.', '6.', '7.', '8.', '9.', '10.', '11.', '12.', '13.', '14.', '15.', '16.', '17.', '18.', '19.', '20.', '21.', '22.', '23.', '24.', '25.', '26.', '27.', '28.', '29.', '30.', '31.', '32.', '33.', '34.', '35.', '36.', '37.', '38.', '39.', '40.', '41.', '42.', '43.', '44.', '45.', '46.', '47.', '48.', '49.', '50.', '51.', '52.', '53.', '54.', '55.', '56.', '57.', '58.', '59.', '60.', '61.', '62.', '63.', '64.', '65.', '66.', '67.', '68.', '69.', '70.', '71.', '72.', '73.', '74.', '75.', '76.', '77.', '78.', '79.', '80.', '81.', '82.', '83.', '84.', '85.', '86.', '87.', '88.', '89.', '90.', '91.', '92.', '93.', '94.', '95.', '96.', '97.', '98.', '99.', '100.']\n"
     ]
    }
   ],
   "source": [
    "movies = []\n",
    "\n",
    "for i in soup2.find_all('td', class_='titleColumn'):\n",
    "    movies.append(i.text.replace('\\n',''))\n",
    "    \n",
    "movies = movies[:100]\n",
    "Ranking = [i.split()[0] for i in movies]\n",
    "movies100 = [movies[0:18] for i in movies]\n",
    "print(movies100,'\\n')\n",
    "\n",
    "print(Ranking)"
   ]
  },
  {
   "cell_type": "code",
   "execution_count": 171,
   "id": "a70e36e5",
   "metadata": {},
   "outputs": [
    {
     "data": {
      "text/plain": [
       "['\\n      1.\\n      The Shawshank Redemption\\n(1994)\\n',\n",
       " '\\n      2.\\n      The Godfather\\n(1972)\\n',\n",
       " '\\n      3.\\n      The Godfather: Part II\\n(1974)\\n',\n",
       " '\\n      4.\\n      The Dark Knight\\n(2008)\\n',\n",
       " '\\n      5.\\n      12 Angry Men\\n(1957)\\n',\n",
       " \"\\n      6.\\n      Schindler's List\\n(1993)\\n\",\n",
       " '\\n      7.\\n      The Lord of the Rings: The Return of the King\\n(2003)\\n',\n",
       " '\\n      8.\\n      Pulp Fiction\\n(1994)\\n',\n",
       " '\\n      9.\\n      Il buono, il brutto, il cattivo\\n(1966)\\n',\n",
       " '\\n      10.\\n      The Lord of the Rings: The Fellowship of the Ring\\n(2001)\\n',\n",
       " '\\n      11.\\n      Fight Club\\n(1999)\\n',\n",
       " '\\n      12.\\n      Forrest Gump\\n(1994)\\n',\n",
       " '\\n      13.\\n      Inception\\n(2010)\\n',\n",
       " '\\n      14.\\n      The Lord of the Rings: The Two Towers\\n(2002)\\n',\n",
       " '\\n      15.\\n      Star Wars: Episode V - The Empire Strikes Back\\n(1980)\\n',\n",
       " '\\n      16.\\n      Spider-Man: No Way Home\\n(2021)\\n',\n",
       " '\\n      17.\\n      The Matrix\\n(1999)\\n',\n",
       " '\\n      18.\\n      Goodfellas\\n(1990)\\n',\n",
       " \"\\n      19.\\n      One Flew Over the Cuckoo's Nest\\n(1975)\\n\",\n",
       " '\\n      20.\\n      Shichinin no samurai\\n(1954)\\n',\n",
       " '\\n      21.\\n      Se7en\\n(1995)\\n',\n",
       " '\\n      22.\\n      The Silence of the Lambs\\n(1991)\\n',\n",
       " \"\\n      23.\\n      It's a Wonderful Life\\n(1946)\\n\",\n",
       " '\\n      24.\\n      Cidade de Deus\\n(2002)\\n',\n",
       " '\\n      25.\\n      La vita è bella\\n(1997)\\n',\n",
       " '\\n      26.\\n      Saving Private Ryan\\n(1998)\\n',\n",
       " '\\n      27.\\n      Star Wars\\n(1977)\\n',\n",
       " '\\n      28.\\n      Interstellar\\n(2014)\\n',\n",
       " '\\n      29.\\n      Sen to Chihiro no kamikakushi\\n(2001)\\n',\n",
       " '\\n      30.\\n      The Green Mile\\n(1999)\\n',\n",
       " '\\n      31.\\n      Gisaengchung\\n(2019)\\n',\n",
       " '\\n      32.\\n      Léon\\n(1994)\\n',\n",
       " '\\n      33.\\n      Seppuku\\n(1962)\\n',\n",
       " '\\n      34.\\n      The Pianist\\n(2002)\\n',\n",
       " '\\n      35.\\n      Terminator 2: Judgment Day\\n(1991)\\n',\n",
       " '\\n      36.\\n      Back to the Future\\n(1985)\\n',\n",
       " '\\n      37.\\n      The Usual Suspects\\n(1995)\\n',\n",
       " '\\n      38.\\n      Psycho\\n(1960)\\n',\n",
       " '\\n      39.\\n      The Lion King\\n(1994)\\n',\n",
       " '\\n      40.\\n      Modern Times\\n(1936)\\n',\n",
       " '\\n      41.\\n      Hotaru no haka\\n(1988)\\n',\n",
       " '\\n      42.\\n      American History X\\n(1998)\\n',\n",
       " '\\n      43.\\n      Whiplash\\n(2014)\\n',\n",
       " '\\n      44.\\n      Gladiator\\n(2000)\\n',\n",
       " '\\n      45.\\n      City Lights\\n(1931)\\n',\n",
       " '\\n      46.\\n      The Departed\\n(2006)\\n',\n",
       " '\\n      47.\\n      The Intouchables\\n(2011)\\n',\n",
       " '\\n      48.\\n      The Prestige\\n(2006)\\n',\n",
       " '\\n      49.\\n      Casablanca\\n(1942)\\n',\n",
       " '\\n      50.\\n      Once Upon a Time in the West\\n(1968)\\n',\n",
       " '\\n      51.\\n      Rear Window\\n(1954)\\n',\n",
       " '\\n      52.\\n      Nuovo Cinema Paradiso\\n(1988)\\n',\n",
       " '\\n      53.\\n      Alien\\n(1979)\\n',\n",
       " '\\n      54.\\n      Apocalypse Now\\n(1979)\\n',\n",
       " '\\n      55.\\n      Memento\\n(2000)\\n',\n",
       " '\\n      56.\\n      Raiders of the Lost Ark\\n(1981)\\n',\n",
       " '\\n      57.\\n      The Great Dictator\\n(1940)\\n',\n",
       " '\\n      58.\\n      Django Unchained\\n(2012)\\n',\n",
       " '\\n      59.\\n      The Lives of Others\\n(2006)\\n',\n",
       " '\\n      60.\\n      Paths of Glory\\n(1957)\\n',\n",
       " '\\n      61.\\n      Sunset Blvd.\\n(1950)\\n',\n",
       " '\\n      62.\\n      WALL·E\\n(2008)\\n',\n",
       " '\\n      63.\\n      Avengers: Infinity War\\n(2018)\\n',\n",
       " '\\n      64.\\n      Witness for the Prosecution\\n(1957)\\n',\n",
       " '\\n      65.\\n      The Shining\\n(1980)\\n',\n",
       " '\\n      66.\\n      Spider-Man: Into the Spider-Verse\\n(2018)\\n',\n",
       " '\\n      67.\\n      Dr. Strangelove or: How I Learned to Stop Worrying and Love the Bomb\\n(1964)\\n',\n",
       " '\\n      68.\\n      Mononoke-hime\\n(1997)\\n',\n",
       " '\\n      69.\\n      Oldeuboi\\n(2003)\\n',\n",
       " '\\n      70.\\n      Joker\\n(2019)\\n',\n",
       " '\\n      71.\\n      Kimi no na wa.\\n(2016)\\n',\n",
       " '\\n      72.\\n      Coco\\n(2017)\\n',\n",
       " '\\n      73.\\n      The Dark Knight Rises\\n(2012)\\n',\n",
       " '\\n      74.\\n      Aliens\\n(1986)\\n',\n",
       " '\\n      75.\\n      Once Upon a Time in America\\n(1984)\\n',\n",
       " '\\n      76.\\n      Avengers: Endgame\\n(2019)\\n',\n",
       " '\\n      77.\\n      Capharnaüm\\n(2018)\\n',\n",
       " '\\n      78.\\n      Das Boot\\n(1981)\\n',\n",
       " '\\n      79.\\n      Tengoku to jigoku\\n(1963)\\n',\n",
       " '\\n      80.\\n      3 Idiots\\n(2009)\\n',\n",
       " '\\n      81.\\n      Toy Story\\n(1995)\\n',\n",
       " '\\n      82.\\n      Amadeus\\n(1984)\\n',\n",
       " '\\n      83.\\n      American Beauty\\n(1999)\\n',\n",
       " '\\n      84.\\n      Braveheart\\n(1995)\\n',\n",
       " '\\n      85.\\n      Inglourious Basterds\\n(2009)\\n',\n",
       " '\\n      86.\\n      Hamilton\\n(2020)\\n',\n",
       " '\\n      87.\\n      Good Will Hunting\\n(1997)\\n',\n",
       " '\\n      88.\\n      Star Wars: Episode VI - Return of the Jedi\\n(1983)\\n',\n",
       " '\\n      89.\\n      2001: A Space Odyssey\\n(1968)\\n',\n",
       " '\\n      90.\\n      Idi i smotri\\n(1985)\\n',\n",
       " '\\n      91.\\n      Reservoir Dogs\\n(1992)\\n',\n",
       " '\\n      92.\\n      Taare Zameen Par\\n(2007)\\n',\n",
       " '\\n      93.\\n      Vertigo\\n(1958)\\n',\n",
       " '\\n      94.\\n      M - Eine Stadt sucht einen Mörder\\n(1931)\\n',\n",
       " '\\n      95.\\n      Citizen Kane\\n(1941)\\n',\n",
       " '\\n      96.\\n      Jagten\\n(2012)\\n',\n",
       " '\\n      97.\\n      Requiem for a Dream\\n(2000)\\n',\n",
       " \"\\n      98.\\n      Singin' in the Rain\\n(1952)\\n\",\n",
       " '\\n      99.\\n      North by Northwest\\n(1959)\\n',\n",
       " '\\n      100.\\n      Eternal Sunshine of the Spotless Mind\\n(2004)\\n']"
      ]
     },
     "execution_count": 171,
     "metadata": {},
     "output_type": "execute_result"
    }
   ],
   "source": [
    "movies = []\n",
    "\n",
    "for i in soup2.find_all('td', class_='titleColumn'):\n",
    "    movies.append(i.text)\n",
    "    \n",
    "movies = movies[:100]\n",
    "movies\n"
   ]
  },
  {
   "cell_type": "code",
   "execution_count": 175,
   "id": "fc6992a7",
   "metadata": {},
   "outputs": [
    {
     "data": {
      "text/plain": [
       "['9.221052192366116',\n",
       " '9.14705466505797',\n",
       " '8.981085277937451',\n",
       " '8.975730501255912',\n",
       " '8.941914630815116',\n",
       " '8.912398440752218',\n",
       " '8.891295409329972',\n",
       " '8.834231241749707',\n",
       " '8.784429343462506',\n",
       " '8.781192080702207',\n",
       " '8.749580349367777',\n",
       " '8.744352642916242',\n",
       " '8.714889929317508',\n",
       " '8.704816001568645',\n",
       " '8.694250681975292',\n",
       " '8.674783350839121',\n",
       " '8.649588118881946',\n",
       " '8.644656643789764',\n",
       " '8.634410497235496',\n",
       " '8.608423419088917',\n",
       " '8.587229245066307',\n",
       " '8.577267221384375',\n",
       " '8.57619640293602',\n",
       " '8.575949511042312',\n",
       " '8.5750636264769',\n",
       " '8.550934383698623',\n",
       " '8.549926840064016',\n",
       " '8.544198998969765',\n",
       " '8.538910740833034',\n",
       " '8.537217221101221',\n",
       " '8.525728011987868',\n",
       " '8.496734227058747',\n",
       " '8.492801468444998',\n",
       " '8.490587966674314',\n",
       " '8.485576831682373',\n",
       " '8.484426752714029',\n",
       " '8.48331434978325',\n",
       " '8.482050477289922',\n",
       " '8.481027147571908',\n",
       " '8.478395031073331',\n",
       " '8.473086510654229',\n",
       " '8.472851319737735',\n",
       " '8.469734486006514',\n",
       " '8.469349750773423',\n",
       " '8.469084633584146',\n",
       " '8.46728459116997',\n",
       " '8.459162280380434',\n",
       " '8.45382110737667',\n",
       " '8.449193193326241',\n",
       " '8.446150885164258',\n",
       " '8.439637308352795',\n",
       " '8.437644499364682',\n",
       " '8.422538769651428',\n",
       " '8.416868274451918',\n",
       " '8.407290828768113',\n",
       " '8.40489485011112',\n",
       " '8.403711593793318',\n",
       " '8.390961920449923',\n",
       " '8.390411068260812',\n",
       " '8.382323735377986',\n",
       " '8.376827948952311',\n",
       " '8.373937963088066',\n",
       " '8.369240285478629',\n",
       " '8.365170797505797',\n",
       " '8.36373309044608',\n",
       " '8.362221957675715',\n",
       " '8.351640697843681',\n",
       " '8.344846801525923',\n",
       " '8.343592391443886',\n",
       " '8.341070603289563',\n",
       " '8.327878992310946',\n",
       " '8.322756945304251',\n",
       " '8.322129959414685',\n",
       " '8.320850135263159',\n",
       " '8.31882402209976',\n",
       " '8.31138079622423',\n",
       " '8.31036191617854',\n",
       " '8.306092754880435',\n",
       " '8.301694214235484',\n",
       " '8.297662601606692',\n",
       " '8.296783109521053',\n",
       " '8.295574591818085',\n",
       " '8.295562586697807',\n",
       " '8.293256929420902',\n",
       " '8.290323054018922',\n",
       " '8.286147444888025',\n",
       " '8.283219852624091',\n",
       " '8.27382800256698',\n",
       " '8.271967756430929',\n",
       " '8.271514860326073',\n",
       " '8.270508794164314',\n",
       " '8.269227128824353',\n",
       " '8.26904800835227',\n",
       " '8.268548485269045',\n",
       " '8.266405616608738',\n",
       " '8.26613515033767',\n",
       " '8.260697799914544',\n",
       " '8.259566404810812',\n",
       " '8.257578665298611',\n",
       " '8.255363159057293',\n",
       " '8.254845073558016',\n",
       " '8.254047787882905',\n",
       " '8.250431153775953',\n",
       " '8.244055823478257',\n",
       " '8.242022948088573',\n",
       " '8.24007025512582',\n",
       " '8.239246288829818',\n",
       " '8.239236145188173',\n",
       " '8.235803257227445',\n",
       " '8.23573608192749',\n",
       " '8.235338149023486',\n",
       " '8.235076401090005',\n",
       " '8.234839074732209',\n",
       " '8.233622217794382',\n",
       " '8.232285626983668',\n",
       " '8.231967431365819',\n",
       " '8.229437477606423',\n",
       " '8.227889274373705',\n",
       " '8.227876409519519',\n",
       " '8.226585261147294',\n",
       " '8.22470728163339',\n",
       " '8.223026326565527',\n",
       " '8.217263194401912',\n",
       " '8.21369030838309',\n",
       " '8.203295256563381',\n",
       " '8.200419277026997',\n",
       " '8.197871821617552',\n",
       " '8.194086543357402',\n",
       " '8.193695368655616',\n",
       " '8.193638260475726',\n",
       " '8.191212106100643',\n",
       " '8.191144845119236',\n",
       " '8.188746458517468',\n",
       " '8.187950366749034',\n",
       " '8.18702227093984',\n",
       " '8.18434411011589',\n",
       " '8.182834767698768',\n",
       " '8.178286869789469',\n",
       " '8.17590150513269',\n",
       " '8.175827126431608',\n",
       " '8.1648054994317',\n",
       " '8.16344582879652',\n",
       " '8.15909876747349',\n",
       " '8.15612949363778',\n",
       " '8.155927732084963',\n",
       " '8.155466884160491',\n",
       " '8.154325798910103',\n",
       " '8.149272799448783',\n",
       " '8.148075692361989',\n",
       " '8.14535875837428',\n",
       " '8.142973541189493',\n",
       " '8.13743685858399',\n",
       " '8.136784705362404',\n",
       " '8.135308188030574',\n",
       " '8.134084455150319',\n",
       " '8.133514931221715',\n",
       " '8.129722442882846',\n",
       " '8.128837462208109',\n",
       " '8.128785604708845',\n",
       " '8.128350555088872',\n",
       " '8.127591229470946',\n",
       " '8.126014537427075',\n",
       " '8.125612641868093',\n",
       " '8.124433402796884',\n",
       " '8.122864545462493',\n",
       " '8.116928548406458',\n",
       " '8.116830309170295',\n",
       " '8.116620461916197',\n",
       " '8.11575716963354',\n",
       " '8.114229276568949',\n",
       " '8.113540040967164',\n",
       " '8.112712033534176',\n",
       " '8.112010415069484',\n",
       " '8.111247343594684',\n",
       " '8.110837042677794',\n",
       " '8.110633774474275',\n",
       " '8.108570204392898',\n",
       " '8.108322467007552',\n",
       " '8.107631190977589',\n",
       " '8.106083303692134',\n",
       " '8.102173864110577',\n",
       " '8.101382041593414',\n",
       " '8.098199104674741',\n",
       " '8.098017597705107',\n",
       " '8.093113671517646',\n",
       " '8.091750725217935',\n",
       " '8.090849115363355',\n",
       " '8.090352186842852',\n",
       " '8.089709874189362',\n",
       " '8.088594062562752',\n",
       " '8.08840732478797',\n",
       " '8.087978463976194',\n",
       " '8.087872068961001',\n",
       " '8.08703256952541',\n",
       " '8.08508092416013',\n",
       " '8.085022644540937',\n",
       " '8.08320456762739',\n",
       " '8.08175463380449',\n",
       " '8.08023111123134',\n",
       " '8.07999830262958',\n",
       " '8.078198547619825',\n",
       " '8.078155414133752',\n",
       " '8.077153767900237',\n",
       " '8.073038874581021',\n",
       " '8.071353117918758',\n",
       " '8.070327072781874',\n",
       " '8.069684854850196',\n",
       " '8.067809636923991',\n",
       " '8.066666011542097',\n",
       " '8.0633615532506',\n",
       " '8.062306906043375',\n",
       " '8.062003547812498',\n",
       " '8.061847030630675',\n",
       " '8.061783356598076',\n",
       " '8.060999550686255',\n",
       " '8.058598809324568',\n",
       " '8.056433571847641',\n",
       " '8.056236436738324',\n",
       " '8.05506080080305',\n",
       " '8.0541063712868',\n",
       " '8.052862391427103',\n",
       " '8.049645084469324',\n",
       " '8.049549133943408',\n",
       " '8.049323658985593',\n",
       " '8.049065776627916',\n",
       " '8.047562997056131',\n",
       " '8.047158616730606',\n",
       " '8.045800940553823',\n",
       " '8.044696671299999',\n",
       " '8.04223917219827',\n",
       " '8.040951466235345',\n",
       " '8.039832457422406',\n",
       " '8.037819471301683',\n",
       " '8.037543533003022',\n",
       " '8.037121456323344',\n",
       " '8.036332264708495',\n",
       " '8.034300980040584',\n",
       " '8.034156651792918',\n",
       " '8.033961228397047',\n",
       " '8.031615552152692',\n",
       " '8.028887631260961',\n",
       " '8.028326249060024',\n",
       " '8.028294432034894',\n",
       " '8.027232955990526',\n",
       " '8.026980258192564',\n",
       " '8.025835359447601',\n",
       " '8.024485274151022',\n",
       " '8.02411400218676',\n",
       " '8.023030349309066',\n",
       " '8.022995893198301']"
      ]
     },
     "execution_count": 175,
     "metadata": {},
     "output_type": "execute_result"
    }
   ],
   "source": [
    "ratings = [b.attrs.get('data-value') for b in soup2.select('td.posterColumn span[name=ir]')]\n",
    "\n",
    "ratings\n",
    "#list1 = []\n",
    "#for index in range(0, len(movies)):\n",
    "#    movie_string = movies[index]\n",
    "#    movie = (''.join(movie_string.split()).replace('.',''))\n",
    "#    movie_title = movies[len(str(index))+1:-7]\n",
    "#    year = re.search('\\((.*?)\\)', movie_string).group(1)\n",
    "#    place = movie[:len(str(index))-len(movie)]\n",
    "#    data = {\"movie_title\": movie_title,\"year\":year,\"place\": place,\"rating\": ratings[index]}\n",
    "#    list1.append(data)\n",
    "    \n",
    "#for movie in list1:\n",
    " #   print(movie['place'], '-', movie['movie_title'], '('+movie['year'] +\n",
    " #         ') -', movie['rating'])"
   ]
  },
  {
   "cell_type": "code",
   "execution_count": null,
   "id": "52329b04",
   "metadata": {},
   "outputs": [],
   "source": []
  }
 ],
 "metadata": {
  "kernelspec": {
   "display_name": "Python 3 (ipykernel)",
   "language": "python",
   "name": "python3"
  },
  "language_info": {
   "codemirror_mode": {
    "name": "ipython",
    "version": 3
   },
   "file_extension": ".py",
   "mimetype": "text/x-python",
   "name": "python",
   "nbconvert_exporter": "python",
   "pygments_lexer": "ipython3",
   "version": "3.9.7"
  }
 },
 "nbformat": 4,
 "nbformat_minor": 5
}
