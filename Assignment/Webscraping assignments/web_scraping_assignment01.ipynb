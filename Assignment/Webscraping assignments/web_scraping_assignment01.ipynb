{
 "cells": [
  {
   "cell_type": "markdown",
   "id": "cf9977c3",
   "metadata": {},
   "source": [
    "# PYTHON – WORKSHEET web scraping assignment 1"
   ]
  },
  {
   "cell_type": "markdown",
   "id": "c4ede92c",
   "metadata": {},
   "source": [
    "### Q1. Write a python program to display all the header tags from wikipedia.org.\n",
    "\n",
    "### Answer."
   ]
  },
  {
   "cell_type": "code",
   "execution_count": 192,
   "id": "39160ea4",
   "metadata": {
    "scrolled": true
   },
   "outputs": [
    {
     "name": "stdout",
     "output_type": "stream",
     "text": [
      "Requirement already satisfied: requests in e:\\datatrained\\anaconda\\lib\\site-packages (2.26.0)\n",
      "Requirement already satisfied: certifi>=2017.4.17 in e:\\datatrained\\anaconda\\lib\\site-packages (from requests) (2021.10.8)\n",
      "Requirement already satisfied: charset-normalizer~=2.0.0 in e:\\datatrained\\anaconda\\lib\\site-packages (from requests) (2.0.4)\n",
      "Requirement already satisfied: urllib3<1.27,>=1.21.1 in e:\\datatrained\\anaconda\\lib\\site-packages (from requests) (1.26.7)\n",
      "Requirement already satisfied: idna<4,>=2.5 in e:\\datatrained\\anaconda\\lib\\site-packages (from requests) (3.2)\n",
      "Requirement already satisfied: bs4 in e:\\datatrained\\anaconda\\lib\\site-packages (0.0.1)\n",
      "Requirement already satisfied: beautifulsoup4 in e:\\datatrained\\anaconda\\lib\\site-packages (from bs4) (4.10.0)\n",
      "Requirement already satisfied: soupsieve>1.2 in e:\\datatrained\\anaconda\\lib\\site-packages (from beautifulsoup4->bs4) (2.2.1)\n"
     ]
    }
   ],
   "source": [
    "!pip install requests\n",
    "!pip install bs4"
   ]
  },
  {
   "cell_type": "code",
   "execution_count": 193,
   "id": "35960abe",
   "metadata": {},
   "outputs": [],
   "source": [
    "from bs4 import BeautifulSoup\n",
    "import requests\n",
    "import re"
   ]
  },
  {
   "cell_type": "code",
   "execution_count": 194,
   "id": "64cd8f78",
   "metadata": {},
   "outputs": [],
   "source": [
    "page = requests.get(\"https://en.wikipedia.org/wiki/Main_Page\")"
   ]
  },
  {
   "cell_type": "code",
   "execution_count": 195,
   "id": "e751bfee",
   "metadata": {},
   "outputs": [
    {
     "data": {
      "text/plain": [
       "<Response [200]>"
      ]
     },
     "execution_count": 195,
     "metadata": {},
     "output_type": "execute_result"
    }
   ],
   "source": [
    "page"
   ]
  },
  {
   "cell_type": "code",
   "execution_count": 196,
   "id": "932166ec",
   "metadata": {},
   "outputs": [],
   "source": [
    "soup = BeautifulSoup(page.content)"
   ]
  },
  {
   "cell_type": "code",
   "execution_count": 197,
   "id": "5459089a",
   "metadata": {},
   "outputs": [
    {
     "data": {
      "text/plain": [
       "[[<h1 class=\"firstHeading\" id=\"firstHeading\">Main Page</h1>],\n",
       " [<h2 class=\"mp-h2\" id=\"mp-tfa-h2\"><span id=\"From_today.27s_featured_article\"></span><span class=\"mw-headline\" id=\"From_today's_featured_article\">From today's featured article</span></h2>,\n",
       "  <h2 class=\"mp-h2\" id=\"mp-dyk-h2\"><span class=\"mw-headline\" id=\"Did_you_know_...\">Did you know ...</span></h2>,\n",
       "  <h2 class=\"mp-h2\" id=\"mp-itn-h2\"><span class=\"mw-headline\" id=\"In_the_news\">In the news</span></h2>,\n",
       "  <h2 class=\"mp-h2\" id=\"mp-otd-h2\"><span class=\"mw-headline\" id=\"On_this_day\">On this day</span></h2>,\n",
       "  <h2 class=\"mp-h2\" id=\"mp-tfp-h2\"><span id=\"Today.27s_featured_picture\"></span><span class=\"mw-headline\" id=\"Today's_featured_picture\">Today's featured picture</span></h2>,\n",
       "  <h2 class=\"mp-h2\" id=\"mp-other\"><span class=\"mw-headline\" id=\"Other_areas_of_Wikipedia\">Other areas of Wikipedia</span></h2>,\n",
       "  <h2 class=\"mp-h2\" id=\"mp-sister\"><span id=\"Wikipedia.27s_sister_projects\"></span><span class=\"mw-headline\" id=\"Wikipedia's_sister_projects\">Wikipedia's sister projects</span></h2>,\n",
       "  <h2 class=\"mp-h2\" id=\"mp-lang\"><span class=\"mw-headline\" id=\"Wikipedia_languages\">Wikipedia languages</span></h2>]]"
      ]
     },
     "execution_count": 197,
     "metadata": {},
     "output_type": "execute_result"
    }
   ],
   "source": [
    "tags = []\n",
    "h1 = soup.find_all('h1',class_=\"firstHeading\")\n",
    "h2 = soup.find_all('h2',class_=\"mp-h2\")\n",
    "tags = [h1,h2]\n",
    "tags"
   ]
  },
  {
   "cell_type": "markdown",
   "id": "4c2011db",
   "metadata": {},
   "source": [
    " "
   ]
  },
  {
   "cell_type": "markdown",
   "id": "a9c91ebf",
   "metadata": {},
   "source": [
    "### Q2. Write a python program to display IMDB’s Top rated 100 movies’ data (i.e. name, rating, year of release)              and make data frame."
   ]
  },
  {
   "cell_type": "code",
   "execution_count": 198,
   "id": "345a8266",
   "metadata": {},
   "outputs": [
    {
     "data": {
      "text/plain": [
       "<Response [200]>"
      ]
     },
     "execution_count": 198,
     "metadata": {},
     "output_type": "execute_result"
    }
   ],
   "source": [
    "page2 = requests.get(\"https://www.imdb.com/chart/top/?ref_=nv_mv_250\")\n",
    "page2"
   ]
  },
  {
   "cell_type": "code",
   "execution_count": 199,
   "id": "9a49b6f0",
   "metadata": {
    "scrolled": false
   },
   "outputs": [],
   "source": [
    "soup2 = BeautifulSoup(page2.content)"
   ]
  },
  {
   "cell_type": "code",
   "execution_count": 200,
   "id": "ca6bbaad",
   "metadata": {},
   "outputs": [
    {
     "name": "stdout",
     "output_type": "stream",
     "text": [
      "[['      1.      The Shawshank Redemption(1994)', '      2.      The Godfather(1972)', '      3.      The Godfather: Part II(1974)', '      4.      The Dark Knight(2008)', '      5.      12 Angry Men(1957)', \"      6.      Schindler's List(1993)\", '      7.      The Lord of the Rings: The Return of the King(2003)', '      8.      Pulp Fiction(1994)', '      9.      Il buono, il brutto, il cattivo(1966)', '      10.      The Lord of the Rings: The Fellowship of the Ring(2001)', '      11.      Fight Club(1999)', '      12.      Forrest Gump(1994)', '      13.      Inception(2010)', '      14.      The Lord of the Rings: The Two Towers(2002)', '      15.      Star Wars: Episode V - The Empire Strikes Back(1980)', '      16.      Spider-Man: No Way Home(2021)', '      17.      The Matrix(1999)', '      18.      Goodfellas(1990)'], ['      1.      The Shawshank Redemption(1994)', '      2.      The Godfather(1972)', '      3.      The Godfather: Part II(1974)', '      4.      The Dark Knight(2008)', '      5.      12 Angry Men(1957)', \"      6.      Schindler's List(1993)\", '      7.      The Lord of the Rings: The Return of the King(2003)', '      8.      Pulp Fiction(1994)', '      9.      Il buono, il brutto, il cattivo(1966)', '      10.      The Lord of the Rings: The Fellowship of the Ring(2001)', '      11.      Fight Club(1999)', '      12.      Forrest Gump(1994)', '      13.      Inception(2010)', '      14.      The Lord of the Rings: The Two Towers(2002)', '      15.      Star Wars: Episode V - The Empire Strikes Back(1980)', '      16.      Spider-Man: No Way Home(2021)', '      17.      The Matrix(1999)', '      18.      Goodfellas(1990)'], ['      1.      The Shawshank Redemption(1994)', '      2.      The Godfather(1972)', '      3.      The Godfather: Part II(1974)', '      4.      The Dark Knight(2008)', '      5.      12 Angry Men(1957)', \"      6.      Schindler's List(1993)\", '      7.      The Lord of the Rings: The Return of the King(2003)', '      8.      Pulp Fiction(1994)', '      9.      Il buono, il brutto, il cattivo(1966)', '      10.      The Lord of the Rings: The Fellowship of the Ring(2001)', '      11.      Fight Club(1999)', '      12.      Forrest Gump(1994)', '      13.      Inception(2010)', '      14.      The Lord of the Rings: The Two Towers(2002)', '      15.      Star Wars: Episode V - The Empire Strikes Back(1980)', '      16.      Spider-Man: No Way Home(2021)', '      17.      The Matrix(1999)', '      18.      Goodfellas(1990)'], ['      1.      The Shawshank Redemption(1994)', '      2.      The Godfather(1972)', '      3.      The Godfather: Part II(1974)', '      4.      The Dark Knight(2008)', '      5.      12 Angry Men(1957)', \"      6.      Schindler's List(1993)\", '      7.      The Lord of the Rings: The Return of the King(2003)', '      8.      Pulp Fiction(1994)', '      9.      Il buono, il brutto, il cattivo(1966)', '      10.      The Lord of the Rings: The Fellowship of the Ring(2001)', '      11.      Fight Club(1999)', '      12.      Forrest Gump(1994)', '      13.      Inception(2010)', '      14.      The Lord of the Rings: The Two Towers(2002)', '      15.      Star Wars: Episode V - The Empire Strikes Back(1980)', '      16.      Spider-Man: No Way Home(2021)', '      17.      The Matrix(1999)', '      18.      Goodfellas(1990)'], ['      1.      The Shawshank Redemption(1994)', '      2.      The Godfather(1972)', '      3.      The Godfather: Part II(1974)', '      4.      The Dark Knight(2008)', '      5.      12 Angry Men(1957)', \"      6.      Schindler's List(1993)\", '      7.      The Lord of the Rings: The Return of the King(2003)', '      8.      Pulp Fiction(1994)', '      9.      Il buono, il brutto, il cattivo(1966)', '      10.      The Lord of the Rings: The Fellowship of the Ring(2001)', '      11.      Fight Club(1999)', '      12.      Forrest Gump(1994)', '      13.      Inception(2010)', '      14.      The Lord of the Rings: The Two Towers(2002)', '      15.      Star Wars: Episode V - The Empire Strikes Back(1980)', '      16.      Spider-Man: No Way Home(2021)', '      17.      The Matrix(1999)', '      18.      Goodfellas(1990)'], ['      1.      The Shawshank Redemption(1994)', '      2.      The Godfather(1972)', '      3.      The Godfather: Part II(1974)', '      4.      The Dark Knight(2008)', '      5.      12 Angry Men(1957)', \"      6.      Schindler's List(1993)\", '      7.      The Lord of the Rings: The Return of the King(2003)', '      8.      Pulp Fiction(1994)', '      9.      Il buono, il brutto, il cattivo(1966)', '      10.      The Lord of the Rings: The Fellowship of the Ring(2001)', '      11.      Fight Club(1999)', '      12.      Forrest Gump(1994)', '      13.      Inception(2010)', '      14.      The Lord of the Rings: The Two Towers(2002)', '      15.      Star Wars: Episode V - The Empire Strikes Back(1980)', '      16.      Spider-Man: No Way Home(2021)', '      17.      The Matrix(1999)', '      18.      Goodfellas(1990)'], ['      1.      The Shawshank Redemption(1994)', '      2.      The Godfather(1972)', '      3.      The Godfather: Part II(1974)', '      4.      The Dark Knight(2008)', '      5.      12 Angry Men(1957)', \"      6.      Schindler's List(1993)\", '      7.      The Lord of the Rings: The Return of the King(2003)', '      8.      Pulp Fiction(1994)', '      9.      Il buono, il brutto, il cattivo(1966)', '      10.      The Lord of the Rings: The Fellowship of the Ring(2001)', '      11.      Fight Club(1999)', '      12.      Forrest Gump(1994)', '      13.      Inception(2010)', '      14.      The Lord of the Rings: The Two Towers(2002)', '      15.      Star Wars: Episode V - The Empire Strikes Back(1980)', '      16.      Spider-Man: No Way Home(2021)', '      17.      The Matrix(1999)', '      18.      Goodfellas(1990)'], ['      1.      The Shawshank Redemption(1994)', '      2.      The Godfather(1972)', '      3.      The Godfather: Part II(1974)', '      4.      The Dark Knight(2008)', '      5.      12 Angry Men(1957)', \"      6.      Schindler's List(1993)\", '      7.      The Lord of the Rings: The Return of the King(2003)', '      8.      Pulp Fiction(1994)', '      9.      Il buono, il brutto, il cattivo(1966)', '      10.      The Lord of the Rings: The Fellowship of the Ring(2001)', '      11.      Fight Club(1999)', '      12.      Forrest Gump(1994)', '      13.      Inception(2010)', '      14.      The Lord of the Rings: The Two Towers(2002)', '      15.      Star Wars: Episode V - The Empire Strikes Back(1980)', '      16.      Spider-Man: No Way Home(2021)', '      17.      The Matrix(1999)', '      18.      Goodfellas(1990)'], ['      1.      The Shawshank Redemption(1994)', '      2.      The Godfather(1972)', '      3.      The Godfather: Part II(1974)', '      4.      The Dark Knight(2008)', '      5.      12 Angry Men(1957)', \"      6.      Schindler's List(1993)\", '      7.      The Lord of the Rings: The Return of the King(2003)', '      8.      Pulp Fiction(1994)', '      9.      Il buono, il brutto, il cattivo(1966)', '      10.      The Lord of the Rings: The Fellowship of the Ring(2001)', '      11.      Fight Club(1999)', '      12.      Forrest Gump(1994)', '      13.      Inception(2010)', '      14.      The Lord of the Rings: The Two Towers(2002)', '      15.      Star Wars: Episode V - The Empire Strikes Back(1980)', '      16.      Spider-Man: No Way Home(2021)', '      17.      The Matrix(1999)', '      18.      Goodfellas(1990)'], ['      1.      The Shawshank Redemption(1994)', '      2.      The Godfather(1972)', '      3.      The Godfather: Part II(1974)', '      4.      The Dark Knight(2008)', '      5.      12 Angry Men(1957)', \"      6.      Schindler's List(1993)\", '      7.      The Lord of the Rings: The Return of the King(2003)', '      8.      Pulp Fiction(1994)', '      9.      Il buono, il brutto, il cattivo(1966)', '      10.      The Lord of the Rings: The Fellowship of the Ring(2001)', '      11.      Fight Club(1999)', '      12.      Forrest Gump(1994)', '      13.      Inception(2010)', '      14.      The Lord of the Rings: The Two Towers(2002)', '      15.      Star Wars: Episode V - The Empire Strikes Back(1980)', '      16.      Spider-Man: No Way Home(2021)', '      17.      The Matrix(1999)', '      18.      Goodfellas(1990)'], ['      1.      The Shawshank Redemption(1994)', '      2.      The Godfather(1972)', '      3.      The Godfather: Part II(1974)', '      4.      The Dark Knight(2008)', '      5.      12 Angry Men(1957)', \"      6.      Schindler's List(1993)\", '      7.      The Lord of the Rings: The Return of the King(2003)', '      8.      Pulp Fiction(1994)', '      9.      Il buono, il brutto, il cattivo(1966)', '      10.      The Lord of the Rings: The Fellowship of the Ring(2001)', '      11.      Fight Club(1999)', '      12.      Forrest Gump(1994)', '      13.      Inception(2010)', '      14.      The Lord of the Rings: The Two Towers(2002)', '      15.      Star Wars: Episode V - The Empire Strikes Back(1980)', '      16.      Spider-Man: No Way Home(2021)', '      17.      The Matrix(1999)', '      18.      Goodfellas(1990)'], ['      1.      The Shawshank Redemption(1994)', '      2.      The Godfather(1972)', '      3.      The Godfather: Part II(1974)', '      4.      The Dark Knight(2008)', '      5.      12 Angry Men(1957)', \"      6.      Schindler's List(1993)\", '      7.      The Lord of the Rings: The Return of the King(2003)', '      8.      Pulp Fiction(1994)', '      9.      Il buono, il brutto, il cattivo(1966)', '      10.      The Lord of the Rings: The Fellowship of the Ring(2001)', '      11.      Fight Club(1999)', '      12.      Forrest Gump(1994)', '      13.      Inception(2010)', '      14.      The Lord of the Rings: The Two Towers(2002)', '      15.      Star Wars: Episode V - The Empire Strikes Back(1980)', '      16.      Spider-Man: No Way Home(2021)', '      17.      The Matrix(1999)', '      18.      Goodfellas(1990)'], ['      1.      The Shawshank Redemption(1994)', '      2.      The Godfather(1972)', '      3.      The Godfather: Part II(1974)', '      4.      The Dark Knight(2008)', '      5.      12 Angry Men(1957)', \"      6.      Schindler's List(1993)\", '      7.      The Lord of the Rings: The Return of the King(2003)', '      8.      Pulp Fiction(1994)', '      9.      Il buono, il brutto, il cattivo(1966)', '      10.      The Lord of the Rings: The Fellowship of the Ring(2001)', '      11.      Fight Club(1999)', '      12.      Forrest Gump(1994)', '      13.      Inception(2010)', '      14.      The Lord of the Rings: The Two Towers(2002)', '      15.      Star Wars: Episode V - The Empire Strikes Back(1980)', '      16.      Spider-Man: No Way Home(2021)', '      17.      The Matrix(1999)', '      18.      Goodfellas(1990)'], ['      1.      The Shawshank Redemption(1994)', '      2.      The Godfather(1972)', '      3.      The Godfather: Part II(1974)', '      4.      The Dark Knight(2008)', '      5.      12 Angry Men(1957)', \"      6.      Schindler's List(1993)\", '      7.      The Lord of the Rings: The Return of the King(2003)', '      8.      Pulp Fiction(1994)', '      9.      Il buono, il brutto, il cattivo(1966)', '      10.      The Lord of the Rings: The Fellowship of the Ring(2001)', '      11.      Fight Club(1999)', '      12.      Forrest Gump(1994)', '      13.      Inception(2010)', '      14.      The Lord of the Rings: The Two Towers(2002)', '      15.      Star Wars: Episode V - The Empire Strikes Back(1980)', '      16.      Spider-Man: No Way Home(2021)', '      17.      The Matrix(1999)', '      18.      Goodfellas(1990)'], ['      1.      The Shawshank Redemption(1994)', '      2.      The Godfather(1972)', '      3.      The Godfather: Part II(1974)', '      4.      The Dark Knight(2008)', '      5.      12 Angry Men(1957)', \"      6.      Schindler's List(1993)\", '      7.      The Lord of the Rings: The Return of the King(2003)', '      8.      Pulp Fiction(1994)', '      9.      Il buono, il brutto, il cattivo(1966)', '      10.      The Lord of the Rings: The Fellowship of the Ring(2001)', '      11.      Fight Club(1999)', '      12.      Forrest Gump(1994)', '      13.      Inception(2010)', '      14.      The Lord of the Rings: The Two Towers(2002)', '      15.      Star Wars: Episode V - The Empire Strikes Back(1980)', '      16.      Spider-Man: No Way Home(2021)', '      17.      The Matrix(1999)', '      18.      Goodfellas(1990)'], ['      1.      The Shawshank Redemption(1994)', '      2.      The Godfather(1972)', '      3.      The Godfather: Part II(1974)', '      4.      The Dark Knight(2008)', '      5.      12 Angry Men(1957)', \"      6.      Schindler's List(1993)\", '      7.      The Lord of the Rings: The Return of the King(2003)', '      8.      Pulp Fiction(1994)', '      9.      Il buono, il brutto, il cattivo(1966)', '      10.      The Lord of the Rings: The Fellowship of the Ring(2001)', '      11.      Fight Club(1999)', '      12.      Forrest Gump(1994)', '      13.      Inception(2010)', '      14.      The Lord of the Rings: The Two Towers(2002)', '      15.      Star Wars: Episode V - The Empire Strikes Back(1980)', '      16.      Spider-Man: No Way Home(2021)', '      17.      The Matrix(1999)', '      18.      Goodfellas(1990)'], ['      1.      The Shawshank Redemption(1994)', '      2.      The Godfather(1972)', '      3.      The Godfather: Part II(1974)', '      4.      The Dark Knight(2008)', '      5.      12 Angry Men(1957)', \"      6.      Schindler's List(1993)\", '      7.      The Lord of the Rings: The Return of the King(2003)', '      8.      Pulp Fiction(1994)', '      9.      Il buono, il brutto, il cattivo(1966)', '      10.      The Lord of the Rings: The Fellowship of the Ring(2001)', '      11.      Fight Club(1999)', '      12.      Forrest Gump(1994)', '      13.      Inception(2010)', '      14.      The Lord of the Rings: The Two Towers(2002)', '      15.      Star Wars: Episode V - The Empire Strikes Back(1980)', '      16.      Spider-Man: No Way Home(2021)', '      17.      The Matrix(1999)', '      18.      Goodfellas(1990)'], ['      1.      The Shawshank Redemption(1994)', '      2.      The Godfather(1972)', '      3.      The Godfather: Part II(1974)', '      4.      The Dark Knight(2008)', '      5.      12 Angry Men(1957)', \"      6.      Schindler's List(1993)\", '      7.      The Lord of the Rings: The Return of the King(2003)', '      8.      Pulp Fiction(1994)', '      9.      Il buono, il brutto, il cattivo(1966)', '      10.      The Lord of the Rings: The Fellowship of the Ring(2001)', '      11.      Fight Club(1999)', '      12.      Forrest Gump(1994)', '      13.      Inception(2010)', '      14.      The Lord of the Rings: The Two Towers(2002)', '      15.      Star Wars: Episode V - The Empire Strikes Back(1980)', '      16.      Spider-Man: No Way Home(2021)', '      17.      The Matrix(1999)', '      18.      Goodfellas(1990)'], ['      1.      The Shawshank Redemption(1994)', '      2.      The Godfather(1972)', '      3.      The Godfather: Part II(1974)', '      4.      The Dark Knight(2008)', '      5.      12 Angry Men(1957)', \"      6.      Schindler's List(1993)\", '      7.      The Lord of the Rings: The Return of the King(2003)', '      8.      Pulp Fiction(1994)', '      9.      Il buono, il brutto, il cattivo(1966)', '      10.      The Lord of the Rings: The Fellowship of the Ring(2001)', '      11.      Fight Club(1999)', '      12.      Forrest Gump(1994)', '      13.      Inception(2010)', '      14.      The Lord of the Rings: The Two Towers(2002)', '      15.      Star Wars: Episode V - The Empire Strikes Back(1980)', '      16.      Spider-Man: No Way Home(2021)', '      17.      The Matrix(1999)', '      18.      Goodfellas(1990)'], ['      1.      The Shawshank Redemption(1994)', '      2.      The Godfather(1972)', '      3.      The Godfather: Part II(1974)', '      4.      The Dark Knight(2008)', '      5.      12 Angry Men(1957)', \"      6.      Schindler's List(1993)\", '      7.      The Lord of the Rings: The Return of the King(2003)', '      8.      Pulp Fiction(1994)', '      9.      Il buono, il brutto, il cattivo(1966)', '      10.      The Lord of the Rings: The Fellowship of the Ring(2001)', '      11.      Fight Club(1999)', '      12.      Forrest Gump(1994)', '      13.      Inception(2010)', '      14.      The Lord of the Rings: The Two Towers(2002)', '      15.      Star Wars: Episode V - The Empire Strikes Back(1980)', '      16.      Spider-Man: No Way Home(2021)', '      17.      The Matrix(1999)', '      18.      Goodfellas(1990)'], ['      1.      The Shawshank Redemption(1994)', '      2.      The Godfather(1972)', '      3.      The Godfather: Part II(1974)', '      4.      The Dark Knight(2008)', '      5.      12 Angry Men(1957)', \"      6.      Schindler's List(1993)\", '      7.      The Lord of the Rings: The Return of the King(2003)', '      8.      Pulp Fiction(1994)', '      9.      Il buono, il brutto, il cattivo(1966)', '      10.      The Lord of the Rings: The Fellowship of the Ring(2001)', '      11.      Fight Club(1999)', '      12.      Forrest Gump(1994)', '      13.      Inception(2010)', '      14.      The Lord of the Rings: The Two Towers(2002)', '      15.      Star Wars: Episode V - The Empire Strikes Back(1980)', '      16.      Spider-Man: No Way Home(2021)', '      17.      The Matrix(1999)', '      18.      Goodfellas(1990)'], ['      1.      The Shawshank Redemption(1994)', '      2.      The Godfather(1972)', '      3.      The Godfather: Part II(1974)', '      4.      The Dark Knight(2008)', '      5.      12 Angry Men(1957)', \"      6.      Schindler's List(1993)\", '      7.      The Lord of the Rings: The Return of the King(2003)', '      8.      Pulp Fiction(1994)', '      9.      Il buono, il brutto, il cattivo(1966)', '      10.      The Lord of the Rings: The Fellowship of the Ring(2001)', '      11.      Fight Club(1999)', '      12.      Forrest Gump(1994)', '      13.      Inception(2010)', '      14.      The Lord of the Rings: The Two Towers(2002)', '      15.      Star Wars: Episode V - The Empire Strikes Back(1980)', '      16.      Spider-Man: No Way Home(2021)', '      17.      The Matrix(1999)', '      18.      Goodfellas(1990)'], ['      1.      The Shawshank Redemption(1994)', '      2.      The Godfather(1972)', '      3.      The Godfather: Part II(1974)', '      4.      The Dark Knight(2008)', '      5.      12 Angry Men(1957)', \"      6.      Schindler's List(1993)\", '      7.      The Lord of the Rings: The Return of the King(2003)', '      8.      Pulp Fiction(1994)', '      9.      Il buono, il brutto, il cattivo(1966)', '      10.      The Lord of the Rings: The Fellowship of the Ring(2001)', '      11.      Fight Club(1999)', '      12.      Forrest Gump(1994)', '      13.      Inception(2010)', '      14.      The Lord of the Rings: The Two Towers(2002)', '      15.      Star Wars: Episode V - The Empire Strikes Back(1980)', '      16.      Spider-Man: No Way Home(2021)', '      17.      The Matrix(1999)', '      18.      Goodfellas(1990)'], ['      1.      The Shawshank Redemption(1994)', '      2.      The Godfather(1972)', '      3.      The Godfather: Part II(1974)', '      4.      The Dark Knight(2008)', '      5.      12 Angry Men(1957)', \"      6.      Schindler's List(1993)\", '      7.      The Lord of the Rings: The Return of the King(2003)', '      8.      Pulp Fiction(1994)', '      9.      Il buono, il brutto, il cattivo(1966)', '      10.      The Lord of the Rings: The Fellowship of the Ring(2001)', '      11.      Fight Club(1999)', '      12.      Forrest Gump(1994)', '      13.      Inception(2010)', '      14.      The Lord of the Rings: The Two Towers(2002)', '      15.      Star Wars: Episode V - The Empire Strikes Back(1980)', '      16.      Spider-Man: No Way Home(2021)', '      17.      The Matrix(1999)', '      18.      Goodfellas(1990)'], ['      1.      The Shawshank Redemption(1994)', '      2.      The Godfather(1972)', '      3.      The Godfather: Part II(1974)', '      4.      The Dark Knight(2008)', '      5.      12 Angry Men(1957)', \"      6.      Schindler's List(1993)\", '      7.      The Lord of the Rings: The Return of the King(2003)', '      8.      Pulp Fiction(1994)', '      9.      Il buono, il brutto, il cattivo(1966)', '      10.      The Lord of the Rings: The Fellowship of the Ring(2001)', '      11.      Fight Club(1999)', '      12.      Forrest Gump(1994)', '      13.      Inception(2010)', '      14.      The Lord of the Rings: The Two Towers(2002)', '      15.      Star Wars: Episode V - The Empire Strikes Back(1980)', '      16.      Spider-Man: No Way Home(2021)', '      17.      The Matrix(1999)', '      18.      Goodfellas(1990)'], ['      1.      The Shawshank Redemption(1994)', '      2.      The Godfather(1972)', '      3.      The Godfather: Part II(1974)', '      4.      The Dark Knight(2008)', '      5.      12 Angry Men(1957)', \"      6.      Schindler's List(1993)\", '      7.      The Lord of the Rings: The Return of the King(2003)', '      8.      Pulp Fiction(1994)', '      9.      Il buono, il brutto, il cattivo(1966)', '      10.      The Lord of the Rings: The Fellowship of the Ring(2001)', '      11.      Fight Club(1999)', '      12.      Forrest Gump(1994)', '      13.      Inception(2010)', '      14.      The Lord of the Rings: The Two Towers(2002)', '      15.      Star Wars: Episode V - The Empire Strikes Back(1980)', '      16.      Spider-Man: No Way Home(2021)', '      17.      The Matrix(1999)', '      18.      Goodfellas(1990)'], ['      1.      The Shawshank Redemption(1994)', '      2.      The Godfather(1972)', '      3.      The Godfather: Part II(1974)', '      4.      The Dark Knight(2008)', '      5.      12 Angry Men(1957)', \"      6.      Schindler's List(1993)\", '      7.      The Lord of the Rings: The Return of the King(2003)', '      8.      Pulp Fiction(1994)', '      9.      Il buono, il brutto, il cattivo(1966)', '      10.      The Lord of the Rings: The Fellowship of the Ring(2001)', '      11.      Fight Club(1999)', '      12.      Forrest Gump(1994)', '      13.      Inception(2010)', '      14.      The Lord of the Rings: The Two Towers(2002)', '      15.      Star Wars: Episode V - The Empire Strikes Back(1980)', '      16.      Spider-Man: No Way Home(2021)', '      17.      The Matrix(1999)', '      18.      Goodfellas(1990)'], ['      1.      The Shawshank Redemption(1994)', '      2.      The Godfather(1972)', '      3.      The Godfather: Part II(1974)', '      4.      The Dark Knight(2008)', '      5.      12 Angry Men(1957)', \"      6.      Schindler's List(1993)\", '      7.      The Lord of the Rings: The Return of the King(2003)', '      8.      Pulp Fiction(1994)', '      9.      Il buono, il brutto, il cattivo(1966)', '      10.      The Lord of the Rings: The Fellowship of the Ring(2001)', '      11.      Fight Club(1999)', '      12.      Forrest Gump(1994)', '      13.      Inception(2010)', '      14.      The Lord of the Rings: The Two Towers(2002)', '      15.      Star Wars: Episode V - The Empire Strikes Back(1980)', '      16.      Spider-Man: No Way Home(2021)', '      17.      The Matrix(1999)', '      18.      Goodfellas(1990)'], ['      1.      The Shawshank Redemption(1994)', '      2.      The Godfather(1972)', '      3.      The Godfather: Part II(1974)', '      4.      The Dark Knight(2008)', '      5.      12 Angry Men(1957)', \"      6.      Schindler's List(1993)\", '      7.      The Lord of the Rings: The Return of the King(2003)', '      8.      Pulp Fiction(1994)', '      9.      Il buono, il brutto, il cattivo(1966)', '      10.      The Lord of the Rings: The Fellowship of the Ring(2001)', '      11.      Fight Club(1999)', '      12.      Forrest Gump(1994)', '      13.      Inception(2010)', '      14.      The Lord of the Rings: The Two Towers(2002)', '      15.      Star Wars: Episode V - The Empire Strikes Back(1980)', '      16.      Spider-Man: No Way Home(2021)', '      17.      The Matrix(1999)', '      18.      Goodfellas(1990)'], ['      1.      The Shawshank Redemption(1994)', '      2.      The Godfather(1972)', '      3.      The Godfather: Part II(1974)', '      4.      The Dark Knight(2008)', '      5.      12 Angry Men(1957)', \"      6.      Schindler's List(1993)\", '      7.      The Lord of the Rings: The Return of the King(2003)', '      8.      Pulp Fiction(1994)', '      9.      Il buono, il brutto, il cattivo(1966)', '      10.      The Lord of the Rings: The Fellowship of the Ring(2001)', '      11.      Fight Club(1999)', '      12.      Forrest Gump(1994)', '      13.      Inception(2010)', '      14.      The Lord of the Rings: The Two Towers(2002)', '      15.      Star Wars: Episode V - The Empire Strikes Back(1980)', '      16.      Spider-Man: No Way Home(2021)', '      17.      The Matrix(1999)', '      18.      Goodfellas(1990)'], ['      1.      The Shawshank Redemption(1994)', '      2.      The Godfather(1972)', '      3.      The Godfather: Part II(1974)', '      4.      The Dark Knight(2008)', '      5.      12 Angry Men(1957)', \"      6.      Schindler's List(1993)\", '      7.      The Lord of the Rings: The Return of the King(2003)', '      8.      Pulp Fiction(1994)', '      9.      Il buono, il brutto, il cattivo(1966)', '      10.      The Lord of the Rings: The Fellowship of the Ring(2001)', '      11.      Fight Club(1999)', '      12.      Forrest Gump(1994)', '      13.      Inception(2010)', '      14.      The Lord of the Rings: The Two Towers(2002)', '      15.      Star Wars: Episode V - The Empire Strikes Back(1980)', '      16.      Spider-Man: No Way Home(2021)', '      17.      The Matrix(1999)', '      18.      Goodfellas(1990)'], ['      1.      The Shawshank Redemption(1994)', '      2.      The Godfather(1972)', '      3.      The Godfather: Part II(1974)', '      4.      The Dark Knight(2008)', '      5.      12 Angry Men(1957)', \"      6.      Schindler's List(1993)\", '      7.      The Lord of the Rings: The Return of the King(2003)', '      8.      Pulp Fiction(1994)', '      9.      Il buono, il brutto, il cattivo(1966)', '      10.      The Lord of the Rings: The Fellowship of the Ring(2001)', '      11.      Fight Club(1999)', '      12.      Forrest Gump(1994)', '      13.      Inception(2010)', '      14.      The Lord of the Rings: The Two Towers(2002)', '      15.      Star Wars: Episode V - The Empire Strikes Back(1980)', '      16.      Spider-Man: No Way Home(2021)', '      17.      The Matrix(1999)', '      18.      Goodfellas(1990)'], ['      1.      The Shawshank Redemption(1994)', '      2.      The Godfather(1972)', '      3.      The Godfather: Part II(1974)', '      4.      The Dark Knight(2008)', '      5.      12 Angry Men(1957)', \"      6.      Schindler's List(1993)\", '      7.      The Lord of the Rings: The Return of the King(2003)', '      8.      Pulp Fiction(1994)', '      9.      Il buono, il brutto, il cattivo(1966)', '      10.      The Lord of the Rings: The Fellowship of the Ring(2001)', '      11.      Fight Club(1999)', '      12.      Forrest Gump(1994)', '      13.      Inception(2010)', '      14.      The Lord of the Rings: The Two Towers(2002)', '      15.      Star Wars: Episode V - The Empire Strikes Back(1980)', '      16.      Spider-Man: No Way Home(2021)', '      17.      The Matrix(1999)', '      18.      Goodfellas(1990)'], ['      1.      The Shawshank Redemption(1994)', '      2.      The Godfather(1972)', '      3.      The Godfather: Part II(1974)', '      4.      The Dark Knight(2008)', '      5.      12 Angry Men(1957)', \"      6.      Schindler's List(1993)\", '      7.      The Lord of the Rings: The Return of the King(2003)', '      8.      Pulp Fiction(1994)', '      9.      Il buono, il brutto, il cattivo(1966)', '      10.      The Lord of the Rings: The Fellowship of the Ring(2001)', '      11.      Fight Club(1999)', '      12.      Forrest Gump(1994)', '      13.      Inception(2010)', '      14.      The Lord of the Rings: The Two Towers(2002)', '      15.      Star Wars: Episode V - The Empire Strikes Back(1980)', '      16.      Spider-Man: No Way Home(2021)', '      17.      The Matrix(1999)', '      18.      Goodfellas(1990)'], ['      1.      The Shawshank Redemption(1994)', '      2.      The Godfather(1972)', '      3.      The Godfather: Part II(1974)', '      4.      The Dark Knight(2008)', '      5.      12 Angry Men(1957)', \"      6.      Schindler's List(1993)\", '      7.      The Lord of the Rings: The Return of the King(2003)', '      8.      Pulp Fiction(1994)', '      9.      Il buono, il brutto, il cattivo(1966)', '      10.      The Lord of the Rings: The Fellowship of the Ring(2001)', '      11.      Fight Club(1999)', '      12.      Forrest Gump(1994)', '      13.      Inception(2010)', '      14.      The Lord of the Rings: The Two Towers(2002)', '      15.      Star Wars: Episode V - The Empire Strikes Back(1980)', '      16.      Spider-Man: No Way Home(2021)', '      17.      The Matrix(1999)', '      18.      Goodfellas(1990)'], ['      1.      The Shawshank Redemption(1994)', '      2.      The Godfather(1972)', '      3.      The Godfather: Part II(1974)', '      4.      The Dark Knight(2008)', '      5.      12 Angry Men(1957)', \"      6.      Schindler's List(1993)\", '      7.      The Lord of the Rings: The Return of the King(2003)', '      8.      Pulp Fiction(1994)', '      9.      Il buono, il brutto, il cattivo(1966)', '      10.      The Lord of the Rings: The Fellowship of the Ring(2001)', '      11.      Fight Club(1999)', '      12.      Forrest Gump(1994)', '      13.      Inception(2010)', '      14.      The Lord of the Rings: The Two Towers(2002)', '      15.      Star Wars: Episode V - The Empire Strikes Back(1980)', '      16.      Spider-Man: No Way Home(2021)', '      17.      The Matrix(1999)', '      18.      Goodfellas(1990)'], ['      1.      The Shawshank Redemption(1994)', '      2.      The Godfather(1972)', '      3.      The Godfather: Part II(1974)', '      4.      The Dark Knight(2008)', '      5.      12 Angry Men(1957)', \"      6.      Schindler's List(1993)\", '      7.      The Lord of the Rings: The Return of the King(2003)', '      8.      Pulp Fiction(1994)', '      9.      Il buono, il brutto, il cattivo(1966)', '      10.      The Lord of the Rings: The Fellowship of the Ring(2001)', '      11.      Fight Club(1999)', '      12.      Forrest Gump(1994)', '      13.      Inception(2010)', '      14.      The Lord of the Rings: The Two Towers(2002)', '      15.      Star Wars: Episode V - The Empire Strikes Back(1980)', '      16.      Spider-Man: No Way Home(2021)', '      17.      The Matrix(1999)', '      18.      Goodfellas(1990)'], ['      1.      The Shawshank Redemption(1994)', '      2.      The Godfather(1972)', '      3.      The Godfather: Part II(1974)', '      4.      The Dark Knight(2008)', '      5.      12 Angry Men(1957)', \"      6.      Schindler's List(1993)\", '      7.      The Lord of the Rings: The Return of the King(2003)', '      8.      Pulp Fiction(1994)', '      9.      Il buono, il brutto, il cattivo(1966)', '      10.      The Lord of the Rings: The Fellowship of the Ring(2001)', '      11.      Fight Club(1999)', '      12.      Forrest Gump(1994)', '      13.      Inception(2010)', '      14.      The Lord of the Rings: The Two Towers(2002)', '      15.      Star Wars: Episode V - The Empire Strikes Back(1980)', '      16.      Spider-Man: No Way Home(2021)', '      17.      The Matrix(1999)', '      18.      Goodfellas(1990)'], ['      1.      The Shawshank Redemption(1994)', '      2.      The Godfather(1972)', '      3.      The Godfather: Part II(1974)', '      4.      The Dark Knight(2008)', '      5.      12 Angry Men(1957)', \"      6.      Schindler's List(1993)\", '      7.      The Lord of the Rings: The Return of the King(2003)', '      8.      Pulp Fiction(1994)', '      9.      Il buono, il brutto, il cattivo(1966)', '      10.      The Lord of the Rings: The Fellowship of the Ring(2001)', '      11.      Fight Club(1999)', '      12.      Forrest Gump(1994)', '      13.      Inception(2010)', '      14.      The Lord of the Rings: The Two Towers(2002)', '      15.      Star Wars: Episode V - The Empire Strikes Back(1980)', '      16.      Spider-Man: No Way Home(2021)', '      17.      The Matrix(1999)', '      18.      Goodfellas(1990)'], ['      1.      The Shawshank Redemption(1994)', '      2.      The Godfather(1972)', '      3.      The Godfather: Part II(1974)', '      4.      The Dark Knight(2008)', '      5.      12 Angry Men(1957)', \"      6.      Schindler's List(1993)\", '      7.      The Lord of the Rings: The Return of the King(2003)', '      8.      Pulp Fiction(1994)', '      9.      Il buono, il brutto, il cattivo(1966)', '      10.      The Lord of the Rings: The Fellowship of the Ring(2001)', '      11.      Fight Club(1999)', '      12.      Forrest Gump(1994)', '      13.      Inception(2010)', '      14.      The Lord of the Rings: The Two Towers(2002)', '      15.      Star Wars: Episode V - The Empire Strikes Back(1980)', '      16.      Spider-Man: No Way Home(2021)', '      17.      The Matrix(1999)', '      18.      Goodfellas(1990)'], ['      1.      The Shawshank Redemption(1994)', '      2.      The Godfather(1972)', '      3.      The Godfather: Part II(1974)', '      4.      The Dark Knight(2008)', '      5.      12 Angry Men(1957)', \"      6.      Schindler's List(1993)\", '      7.      The Lord of the Rings: The Return of the King(2003)', '      8.      Pulp Fiction(1994)', '      9.      Il buono, il brutto, il cattivo(1966)', '      10.      The Lord of the Rings: The Fellowship of the Ring(2001)', '      11.      Fight Club(1999)', '      12.      Forrest Gump(1994)', '      13.      Inception(2010)', '      14.      The Lord of the Rings: The Two Towers(2002)', '      15.      Star Wars: Episode V - The Empire Strikes Back(1980)', '      16.      Spider-Man: No Way Home(2021)', '      17.      The Matrix(1999)', '      18.      Goodfellas(1990)'], ['      1.      The Shawshank Redemption(1994)', '      2.      The Godfather(1972)', '      3.      The Godfather: Part II(1974)', '      4.      The Dark Knight(2008)', '      5.      12 Angry Men(1957)', \"      6.      Schindler's List(1993)\", '      7.      The Lord of the Rings: The Return of the King(2003)', '      8.      Pulp Fiction(1994)', '      9.      Il buono, il brutto, il cattivo(1966)', '      10.      The Lord of the Rings: The Fellowship of the Ring(2001)', '      11.      Fight Club(1999)', '      12.      Forrest Gump(1994)', '      13.      Inception(2010)', '      14.      The Lord of the Rings: The Two Towers(2002)', '      15.      Star Wars: Episode V - The Empire Strikes Back(1980)', '      16.      Spider-Man: No Way Home(2021)', '      17.      The Matrix(1999)', '      18.      Goodfellas(1990)'], ['      1.      The Shawshank Redemption(1994)', '      2.      The Godfather(1972)', '      3.      The Godfather: Part II(1974)', '      4.      The Dark Knight(2008)', '      5.      12 Angry Men(1957)', \"      6.      Schindler's List(1993)\", '      7.      The Lord of the Rings: The Return of the King(2003)', '      8.      Pulp Fiction(1994)', '      9.      Il buono, il brutto, il cattivo(1966)', '      10.      The Lord of the Rings: The Fellowship of the Ring(2001)', '      11.      Fight Club(1999)', '      12.      Forrest Gump(1994)', '      13.      Inception(2010)', '      14.      The Lord of the Rings: The Two Towers(2002)', '      15.      Star Wars: Episode V - The Empire Strikes Back(1980)', '      16.      Spider-Man: No Way Home(2021)', '      17.      The Matrix(1999)', '      18.      Goodfellas(1990)'], ['      1.      The Shawshank Redemption(1994)', '      2.      The Godfather(1972)', '      3.      The Godfather: Part II(1974)', '      4.      The Dark Knight(2008)', '      5.      12 Angry Men(1957)', \"      6.      Schindler's List(1993)\", '      7.      The Lord of the Rings: The Return of the King(2003)', '      8.      Pulp Fiction(1994)', '      9.      Il buono, il brutto, il cattivo(1966)', '      10.      The Lord of the Rings: The Fellowship of the Ring(2001)', '      11.      Fight Club(1999)', '      12.      Forrest Gump(1994)', '      13.      Inception(2010)', '      14.      The Lord of the Rings: The Two Towers(2002)', '      15.      Star Wars: Episode V - The Empire Strikes Back(1980)', '      16.      Spider-Man: No Way Home(2021)', '      17.      The Matrix(1999)', '      18.      Goodfellas(1990)'], ['      1.      The Shawshank Redemption(1994)', '      2.      The Godfather(1972)', '      3.      The Godfather: Part II(1974)', '      4.      The Dark Knight(2008)', '      5.      12 Angry Men(1957)', \"      6.      Schindler's List(1993)\", '      7.      The Lord of the Rings: The Return of the King(2003)', '      8.      Pulp Fiction(1994)', '      9.      Il buono, il brutto, il cattivo(1966)', '      10.      The Lord of the Rings: The Fellowship of the Ring(2001)', '      11.      Fight Club(1999)', '      12.      Forrest Gump(1994)', '      13.      Inception(2010)', '      14.      The Lord of the Rings: The Two Towers(2002)', '      15.      Star Wars: Episode V - The Empire Strikes Back(1980)', '      16.      Spider-Man: No Way Home(2021)', '      17.      The Matrix(1999)', '      18.      Goodfellas(1990)'], ['      1.      The Shawshank Redemption(1994)', '      2.      The Godfather(1972)', '      3.      The Godfather: Part II(1974)', '      4.      The Dark Knight(2008)', '      5.      12 Angry Men(1957)', \"      6.      Schindler's List(1993)\", '      7.      The Lord of the Rings: The Return of the King(2003)', '      8.      Pulp Fiction(1994)', '      9.      Il buono, il brutto, il cattivo(1966)', '      10.      The Lord of the Rings: The Fellowship of the Ring(2001)', '      11.      Fight Club(1999)', '      12.      Forrest Gump(1994)', '      13.      Inception(2010)', '      14.      The Lord of the Rings: The Two Towers(2002)', '      15.      Star Wars: Episode V - The Empire Strikes Back(1980)', '      16.      Spider-Man: No Way Home(2021)', '      17.      The Matrix(1999)', '      18.      Goodfellas(1990)'], ['      1.      The Shawshank Redemption(1994)', '      2.      The Godfather(1972)', '      3.      The Godfather: Part II(1974)', '      4.      The Dark Knight(2008)', '      5.      12 Angry Men(1957)', \"      6.      Schindler's List(1993)\", '      7.      The Lord of the Rings: The Return of the King(2003)', '      8.      Pulp Fiction(1994)', '      9.      Il buono, il brutto, il cattivo(1966)', '      10.      The Lord of the Rings: The Fellowship of the Ring(2001)', '      11.      Fight Club(1999)', '      12.      Forrest Gump(1994)', '      13.      Inception(2010)', '      14.      The Lord of the Rings: The Two Towers(2002)', '      15.      Star Wars: Episode V - The Empire Strikes Back(1980)', '      16.      Spider-Man: No Way Home(2021)', '      17.      The Matrix(1999)', '      18.      Goodfellas(1990)'], ['      1.      The Shawshank Redemption(1994)', '      2.      The Godfather(1972)', '      3.      The Godfather: Part II(1974)', '      4.      The Dark Knight(2008)', '      5.      12 Angry Men(1957)', \"      6.      Schindler's List(1993)\", '      7.      The Lord of the Rings: The Return of the King(2003)', '      8.      Pulp Fiction(1994)', '      9.      Il buono, il brutto, il cattivo(1966)', '      10.      The Lord of the Rings: The Fellowship of the Ring(2001)', '      11.      Fight Club(1999)', '      12.      Forrest Gump(1994)', '      13.      Inception(2010)', '      14.      The Lord of the Rings: The Two Towers(2002)', '      15.      Star Wars: Episode V - The Empire Strikes Back(1980)', '      16.      Spider-Man: No Way Home(2021)', '      17.      The Matrix(1999)', '      18.      Goodfellas(1990)'], ['      1.      The Shawshank Redemption(1994)', '      2.      The Godfather(1972)', '      3.      The Godfather: Part II(1974)', '      4.      The Dark Knight(2008)', '      5.      12 Angry Men(1957)', \"      6.      Schindler's List(1993)\", '      7.      The Lord of the Rings: The Return of the King(2003)', '      8.      Pulp Fiction(1994)', '      9.      Il buono, il brutto, il cattivo(1966)', '      10.      The Lord of the Rings: The Fellowship of the Ring(2001)', '      11.      Fight Club(1999)', '      12.      Forrest Gump(1994)', '      13.      Inception(2010)', '      14.      The Lord of the Rings: The Two Towers(2002)', '      15.      Star Wars: Episode V - The Empire Strikes Back(1980)', '      16.      Spider-Man: No Way Home(2021)', '      17.      The Matrix(1999)', '      18.      Goodfellas(1990)'], ['      1.      The Shawshank Redemption(1994)', '      2.      The Godfather(1972)', '      3.      The Godfather: Part II(1974)', '      4.      The Dark Knight(2008)', '      5.      12 Angry Men(1957)', \"      6.      Schindler's List(1993)\", '      7.      The Lord of the Rings: The Return of the King(2003)', '      8.      Pulp Fiction(1994)', '      9.      Il buono, il brutto, il cattivo(1966)', '      10.      The Lord of the Rings: The Fellowship of the Ring(2001)', '      11.      Fight Club(1999)', '      12.      Forrest Gump(1994)', '      13.      Inception(2010)', '      14.      The Lord of the Rings: The Two Towers(2002)', '      15.      Star Wars: Episode V - The Empire Strikes Back(1980)', '      16.      Spider-Man: No Way Home(2021)', '      17.      The Matrix(1999)', '      18.      Goodfellas(1990)'], ['      1.      The Shawshank Redemption(1994)', '      2.      The Godfather(1972)', '      3.      The Godfather: Part II(1974)', '      4.      The Dark Knight(2008)', '      5.      12 Angry Men(1957)', \"      6.      Schindler's List(1993)\", '      7.      The Lord of the Rings: The Return of the King(2003)', '      8.      Pulp Fiction(1994)', '      9.      Il buono, il brutto, il cattivo(1966)', '      10.      The Lord of the Rings: The Fellowship of the Ring(2001)', '      11.      Fight Club(1999)', '      12.      Forrest Gump(1994)', '      13.      Inception(2010)', '      14.      The Lord of the Rings: The Two Towers(2002)', '      15.      Star Wars: Episode V - The Empire Strikes Back(1980)', '      16.      Spider-Man: No Way Home(2021)', '      17.      The Matrix(1999)', '      18.      Goodfellas(1990)'], ['      1.      The Shawshank Redemption(1994)', '      2.      The Godfather(1972)', '      3.      The Godfather: Part II(1974)', '      4.      The Dark Knight(2008)', '      5.      12 Angry Men(1957)', \"      6.      Schindler's List(1993)\", '      7.      The Lord of the Rings: The Return of the King(2003)', '      8.      Pulp Fiction(1994)', '      9.      Il buono, il brutto, il cattivo(1966)', '      10.      The Lord of the Rings: The Fellowship of the Ring(2001)', '      11.      Fight Club(1999)', '      12.      Forrest Gump(1994)', '      13.      Inception(2010)', '      14.      The Lord of the Rings: The Two Towers(2002)', '      15.      Star Wars: Episode V - The Empire Strikes Back(1980)', '      16.      Spider-Man: No Way Home(2021)', '      17.      The Matrix(1999)', '      18.      Goodfellas(1990)'], ['      1.      The Shawshank Redemption(1994)', '      2.      The Godfather(1972)', '      3.      The Godfather: Part II(1974)', '      4.      The Dark Knight(2008)', '      5.      12 Angry Men(1957)', \"      6.      Schindler's List(1993)\", '      7.      The Lord of the Rings: The Return of the King(2003)', '      8.      Pulp Fiction(1994)', '      9.      Il buono, il brutto, il cattivo(1966)', '      10.      The Lord of the Rings: The Fellowship of the Ring(2001)', '      11.      Fight Club(1999)', '      12.      Forrest Gump(1994)', '      13.      Inception(2010)', '      14.      The Lord of the Rings: The Two Towers(2002)', '      15.      Star Wars: Episode V - The Empire Strikes Back(1980)', '      16.      Spider-Man: No Way Home(2021)', '      17.      The Matrix(1999)', '      18.      Goodfellas(1990)'], ['      1.      The Shawshank Redemption(1994)', '      2.      The Godfather(1972)', '      3.      The Godfather: Part II(1974)', '      4.      The Dark Knight(2008)', '      5.      12 Angry Men(1957)', \"      6.      Schindler's List(1993)\", '      7.      The Lord of the Rings: The Return of the King(2003)', '      8.      Pulp Fiction(1994)', '      9.      Il buono, il brutto, il cattivo(1966)', '      10.      The Lord of the Rings: The Fellowship of the Ring(2001)', '      11.      Fight Club(1999)', '      12.      Forrest Gump(1994)', '      13.      Inception(2010)', '      14.      The Lord of the Rings: The Two Towers(2002)', '      15.      Star Wars: Episode V - The Empire Strikes Back(1980)', '      16.      Spider-Man: No Way Home(2021)', '      17.      The Matrix(1999)', '      18.      Goodfellas(1990)'], ['      1.      The Shawshank Redemption(1994)', '      2.      The Godfather(1972)', '      3.      The Godfather: Part II(1974)', '      4.      The Dark Knight(2008)', '      5.      12 Angry Men(1957)', \"      6.      Schindler's List(1993)\", '      7.      The Lord of the Rings: The Return of the King(2003)', '      8.      Pulp Fiction(1994)', '      9.      Il buono, il brutto, il cattivo(1966)', '      10.      The Lord of the Rings: The Fellowship of the Ring(2001)', '      11.      Fight Club(1999)', '      12.      Forrest Gump(1994)', '      13.      Inception(2010)', '      14.      The Lord of the Rings: The Two Towers(2002)', '      15.      Star Wars: Episode V - The Empire Strikes Back(1980)', '      16.      Spider-Man: No Way Home(2021)', '      17.      The Matrix(1999)', '      18.      Goodfellas(1990)'], ['      1.      The Shawshank Redemption(1994)', '      2.      The Godfather(1972)', '      3.      The Godfather: Part II(1974)', '      4.      The Dark Knight(2008)', '      5.      12 Angry Men(1957)', \"      6.      Schindler's List(1993)\", '      7.      The Lord of the Rings: The Return of the King(2003)', '      8.      Pulp Fiction(1994)', '      9.      Il buono, il brutto, il cattivo(1966)', '      10.      The Lord of the Rings: The Fellowship of the Ring(2001)', '      11.      Fight Club(1999)', '      12.      Forrest Gump(1994)', '      13.      Inception(2010)', '      14.      The Lord of the Rings: The Two Towers(2002)', '      15.      Star Wars: Episode V - The Empire Strikes Back(1980)', '      16.      Spider-Man: No Way Home(2021)', '      17.      The Matrix(1999)', '      18.      Goodfellas(1990)'], ['      1.      The Shawshank Redemption(1994)', '      2.      The Godfather(1972)', '      3.      The Godfather: Part II(1974)', '      4.      The Dark Knight(2008)', '      5.      12 Angry Men(1957)', \"      6.      Schindler's List(1993)\", '      7.      The Lord of the Rings: The Return of the King(2003)', '      8.      Pulp Fiction(1994)', '      9.      Il buono, il brutto, il cattivo(1966)', '      10.      The Lord of the Rings: The Fellowship of the Ring(2001)', '      11.      Fight Club(1999)', '      12.      Forrest Gump(1994)', '      13.      Inception(2010)', '      14.      The Lord of the Rings: The Two Towers(2002)', '      15.      Star Wars: Episode V - The Empire Strikes Back(1980)', '      16.      Spider-Man: No Way Home(2021)', '      17.      The Matrix(1999)', '      18.      Goodfellas(1990)'], ['      1.      The Shawshank Redemption(1994)', '      2.      The Godfather(1972)', '      3.      The Godfather: Part II(1974)', '      4.      The Dark Knight(2008)', '      5.      12 Angry Men(1957)', \"      6.      Schindler's List(1993)\", '      7.      The Lord of the Rings: The Return of the King(2003)', '      8.      Pulp Fiction(1994)', '      9.      Il buono, il brutto, il cattivo(1966)', '      10.      The Lord of the Rings: The Fellowship of the Ring(2001)', '      11.      Fight Club(1999)', '      12.      Forrest Gump(1994)', '      13.      Inception(2010)', '      14.      The Lord of the Rings: The Two Towers(2002)', '      15.      Star Wars: Episode V - The Empire Strikes Back(1980)', '      16.      Spider-Man: No Way Home(2021)', '      17.      The Matrix(1999)', '      18.      Goodfellas(1990)'], ['      1.      The Shawshank Redemption(1994)', '      2.      The Godfather(1972)', '      3.      The Godfather: Part II(1974)', '      4.      The Dark Knight(2008)', '      5.      12 Angry Men(1957)', \"      6.      Schindler's List(1993)\", '      7.      The Lord of the Rings: The Return of the King(2003)', '      8.      Pulp Fiction(1994)', '      9.      Il buono, il brutto, il cattivo(1966)', '      10.      The Lord of the Rings: The Fellowship of the Ring(2001)', '      11.      Fight Club(1999)', '      12.      Forrest Gump(1994)', '      13.      Inception(2010)', '      14.      The Lord of the Rings: The Two Towers(2002)', '      15.      Star Wars: Episode V - The Empire Strikes Back(1980)', '      16.      Spider-Man: No Way Home(2021)', '      17.      The Matrix(1999)', '      18.      Goodfellas(1990)'], ['      1.      The Shawshank Redemption(1994)', '      2.      The Godfather(1972)', '      3.      The Godfather: Part II(1974)', '      4.      The Dark Knight(2008)', '      5.      12 Angry Men(1957)', \"      6.      Schindler's List(1993)\", '      7.      The Lord of the Rings: The Return of the King(2003)', '      8.      Pulp Fiction(1994)', '      9.      Il buono, il brutto, il cattivo(1966)', '      10.      The Lord of the Rings: The Fellowship of the Ring(2001)', '      11.      Fight Club(1999)', '      12.      Forrest Gump(1994)', '      13.      Inception(2010)', '      14.      The Lord of the Rings: The Two Towers(2002)', '      15.      Star Wars: Episode V - The Empire Strikes Back(1980)', '      16.      Spider-Man: No Way Home(2021)', '      17.      The Matrix(1999)', '      18.      Goodfellas(1990)'], ['      1.      The Shawshank Redemption(1994)', '      2.      The Godfather(1972)', '      3.      The Godfather: Part II(1974)', '      4.      The Dark Knight(2008)', '      5.      12 Angry Men(1957)', \"      6.      Schindler's List(1993)\", '      7.      The Lord of the Rings: The Return of the King(2003)', '      8.      Pulp Fiction(1994)', '      9.      Il buono, il brutto, il cattivo(1966)', '      10.      The Lord of the Rings: The Fellowship of the Ring(2001)', '      11.      Fight Club(1999)', '      12.      Forrest Gump(1994)', '      13.      Inception(2010)', '      14.      The Lord of the Rings: The Two Towers(2002)', '      15.      Star Wars: Episode V - The Empire Strikes Back(1980)', '      16.      Spider-Man: No Way Home(2021)', '      17.      The Matrix(1999)', '      18.      Goodfellas(1990)'], ['      1.      The Shawshank Redemption(1994)', '      2.      The Godfather(1972)', '      3.      The Godfather: Part II(1974)', '      4.      The Dark Knight(2008)', '      5.      12 Angry Men(1957)', \"      6.      Schindler's List(1993)\", '      7.      The Lord of the Rings: The Return of the King(2003)', '      8.      Pulp Fiction(1994)', '      9.      Il buono, il brutto, il cattivo(1966)', '      10.      The Lord of the Rings: The Fellowship of the Ring(2001)', '      11.      Fight Club(1999)', '      12.      Forrest Gump(1994)', '      13.      Inception(2010)', '      14.      The Lord of the Rings: The Two Towers(2002)', '      15.      Star Wars: Episode V - The Empire Strikes Back(1980)', '      16.      Spider-Man: No Way Home(2021)', '      17.      The Matrix(1999)', '      18.      Goodfellas(1990)'], ['      1.      The Shawshank Redemption(1994)', '      2.      The Godfather(1972)', '      3.      The Godfather: Part II(1974)', '      4.      The Dark Knight(2008)', '      5.      12 Angry Men(1957)', \"      6.      Schindler's List(1993)\", '      7.      The Lord of the Rings: The Return of the King(2003)', '      8.      Pulp Fiction(1994)', '      9.      Il buono, il brutto, il cattivo(1966)', '      10.      The Lord of the Rings: The Fellowship of the Ring(2001)', '      11.      Fight Club(1999)', '      12.      Forrest Gump(1994)', '      13.      Inception(2010)', '      14.      The Lord of the Rings: The Two Towers(2002)', '      15.      Star Wars: Episode V - The Empire Strikes Back(1980)', '      16.      Spider-Man: No Way Home(2021)', '      17.      The Matrix(1999)', '      18.      Goodfellas(1990)'], ['      1.      The Shawshank Redemption(1994)', '      2.      The Godfather(1972)', '      3.      The Godfather: Part II(1974)', '      4.      The Dark Knight(2008)', '      5.      12 Angry Men(1957)', \"      6.      Schindler's List(1993)\", '      7.      The Lord of the Rings: The Return of the King(2003)', '      8.      Pulp Fiction(1994)', '      9.      Il buono, il brutto, il cattivo(1966)', '      10.      The Lord of the Rings: The Fellowship of the Ring(2001)', '      11.      Fight Club(1999)', '      12.      Forrest Gump(1994)', '      13.      Inception(2010)', '      14.      The Lord of the Rings: The Two Towers(2002)', '      15.      Star Wars: Episode V - The Empire Strikes Back(1980)', '      16.      Spider-Man: No Way Home(2021)', '      17.      The Matrix(1999)', '      18.      Goodfellas(1990)'], ['      1.      The Shawshank Redemption(1994)', '      2.      The Godfather(1972)', '      3.      The Godfather: Part II(1974)', '      4.      The Dark Knight(2008)', '      5.      12 Angry Men(1957)', \"      6.      Schindler's List(1993)\", '      7.      The Lord of the Rings: The Return of the King(2003)', '      8.      Pulp Fiction(1994)', '      9.      Il buono, il brutto, il cattivo(1966)', '      10.      The Lord of the Rings: The Fellowship of the Ring(2001)', '      11.      Fight Club(1999)', '      12.      Forrest Gump(1994)', '      13.      Inception(2010)', '      14.      The Lord of the Rings: The Two Towers(2002)', '      15.      Star Wars: Episode V - The Empire Strikes Back(1980)', '      16.      Spider-Man: No Way Home(2021)', '      17.      The Matrix(1999)', '      18.      Goodfellas(1990)'], ['      1.      The Shawshank Redemption(1994)', '      2.      The Godfather(1972)', '      3.      The Godfather: Part II(1974)', '      4.      The Dark Knight(2008)', '      5.      12 Angry Men(1957)', \"      6.      Schindler's List(1993)\", '      7.      The Lord of the Rings: The Return of the King(2003)', '      8.      Pulp Fiction(1994)', '      9.      Il buono, il brutto, il cattivo(1966)', '      10.      The Lord of the Rings: The Fellowship of the Ring(2001)', '      11.      Fight Club(1999)', '      12.      Forrest Gump(1994)', '      13.      Inception(2010)', '      14.      The Lord of the Rings: The Two Towers(2002)', '      15.      Star Wars: Episode V - The Empire Strikes Back(1980)', '      16.      Spider-Man: No Way Home(2021)', '      17.      The Matrix(1999)', '      18.      Goodfellas(1990)'], ['      1.      The Shawshank Redemption(1994)', '      2.      The Godfather(1972)', '      3.      The Godfather: Part II(1974)', '      4.      The Dark Knight(2008)', '      5.      12 Angry Men(1957)', \"      6.      Schindler's List(1993)\", '      7.      The Lord of the Rings: The Return of the King(2003)', '      8.      Pulp Fiction(1994)', '      9.      Il buono, il brutto, il cattivo(1966)', '      10.      The Lord of the Rings: The Fellowship of the Ring(2001)', '      11.      Fight Club(1999)', '      12.      Forrest Gump(1994)', '      13.      Inception(2010)', '      14.      The Lord of the Rings: The Two Towers(2002)', '      15.      Star Wars: Episode V - The Empire Strikes Back(1980)', '      16.      Spider-Man: No Way Home(2021)', '      17.      The Matrix(1999)', '      18.      Goodfellas(1990)'], ['      1.      The Shawshank Redemption(1994)', '      2.      The Godfather(1972)', '      3.      The Godfather: Part II(1974)', '      4.      The Dark Knight(2008)', '      5.      12 Angry Men(1957)', \"      6.      Schindler's List(1993)\", '      7.      The Lord of the Rings: The Return of the King(2003)', '      8.      Pulp Fiction(1994)', '      9.      Il buono, il brutto, il cattivo(1966)', '      10.      The Lord of the Rings: The Fellowship of the Ring(2001)', '      11.      Fight Club(1999)', '      12.      Forrest Gump(1994)', '      13.      Inception(2010)', '      14.      The Lord of the Rings: The Two Towers(2002)', '      15.      Star Wars: Episode V - The Empire Strikes Back(1980)', '      16.      Spider-Man: No Way Home(2021)', '      17.      The Matrix(1999)', '      18.      Goodfellas(1990)'], ['      1.      The Shawshank Redemption(1994)', '      2.      The Godfather(1972)', '      3.      The Godfather: Part II(1974)', '      4.      The Dark Knight(2008)', '      5.      12 Angry Men(1957)', \"      6.      Schindler's List(1993)\", '      7.      The Lord of the Rings: The Return of the King(2003)', '      8.      Pulp Fiction(1994)', '      9.      Il buono, il brutto, il cattivo(1966)', '      10.      The Lord of the Rings: The Fellowship of the Ring(2001)', '      11.      Fight Club(1999)', '      12.      Forrest Gump(1994)', '      13.      Inception(2010)', '      14.      The Lord of the Rings: The Two Towers(2002)', '      15.      Star Wars: Episode V - The Empire Strikes Back(1980)', '      16.      Spider-Man: No Way Home(2021)', '      17.      The Matrix(1999)', '      18.      Goodfellas(1990)'], ['      1.      The Shawshank Redemption(1994)', '      2.      The Godfather(1972)', '      3.      The Godfather: Part II(1974)', '      4.      The Dark Knight(2008)', '      5.      12 Angry Men(1957)', \"      6.      Schindler's List(1993)\", '      7.      The Lord of the Rings: The Return of the King(2003)', '      8.      Pulp Fiction(1994)', '      9.      Il buono, il brutto, il cattivo(1966)', '      10.      The Lord of the Rings: The Fellowship of the Ring(2001)', '      11.      Fight Club(1999)', '      12.      Forrest Gump(1994)', '      13.      Inception(2010)', '      14.      The Lord of the Rings: The Two Towers(2002)', '      15.      Star Wars: Episode V - The Empire Strikes Back(1980)', '      16.      Spider-Man: No Way Home(2021)', '      17.      The Matrix(1999)', '      18.      Goodfellas(1990)'], ['      1.      The Shawshank Redemption(1994)', '      2.      The Godfather(1972)', '      3.      The Godfather: Part II(1974)', '      4.      The Dark Knight(2008)', '      5.      12 Angry Men(1957)', \"      6.      Schindler's List(1993)\", '      7.      The Lord of the Rings: The Return of the King(2003)', '      8.      Pulp Fiction(1994)', '      9.      Il buono, il brutto, il cattivo(1966)', '      10.      The Lord of the Rings: The Fellowship of the Ring(2001)', '      11.      Fight Club(1999)', '      12.      Forrest Gump(1994)', '      13.      Inception(2010)', '      14.      The Lord of the Rings: The Two Towers(2002)', '      15.      Star Wars: Episode V - The Empire Strikes Back(1980)', '      16.      Spider-Man: No Way Home(2021)', '      17.      The Matrix(1999)', '      18.      Goodfellas(1990)'], ['      1.      The Shawshank Redemption(1994)', '      2.      The Godfather(1972)', '      3.      The Godfather: Part II(1974)', '      4.      The Dark Knight(2008)', '      5.      12 Angry Men(1957)', \"      6.      Schindler's List(1993)\", '      7.      The Lord of the Rings: The Return of the King(2003)', '      8.      Pulp Fiction(1994)', '      9.      Il buono, il brutto, il cattivo(1966)', '      10.      The Lord of the Rings: The Fellowship of the Ring(2001)', '      11.      Fight Club(1999)', '      12.      Forrest Gump(1994)', '      13.      Inception(2010)', '      14.      The Lord of the Rings: The Two Towers(2002)', '      15.      Star Wars: Episode V - The Empire Strikes Back(1980)', '      16.      Spider-Man: No Way Home(2021)', '      17.      The Matrix(1999)', '      18.      Goodfellas(1990)'], ['      1.      The Shawshank Redemption(1994)', '      2.      The Godfather(1972)', '      3.      The Godfather: Part II(1974)', '      4.      The Dark Knight(2008)', '      5.      12 Angry Men(1957)', \"      6.      Schindler's List(1993)\", '      7.      The Lord of the Rings: The Return of the King(2003)', '      8.      Pulp Fiction(1994)', '      9.      Il buono, il brutto, il cattivo(1966)', '      10.      The Lord of the Rings: The Fellowship of the Ring(2001)', '      11.      Fight Club(1999)', '      12.      Forrest Gump(1994)', '      13.      Inception(2010)', '      14.      The Lord of the Rings: The Two Towers(2002)', '      15.      Star Wars: Episode V - The Empire Strikes Back(1980)', '      16.      Spider-Man: No Way Home(2021)', '      17.      The Matrix(1999)', '      18.      Goodfellas(1990)'], ['      1.      The Shawshank Redemption(1994)', '      2.      The Godfather(1972)', '      3.      The Godfather: Part II(1974)', '      4.      The Dark Knight(2008)', '      5.      12 Angry Men(1957)', \"      6.      Schindler's List(1993)\", '      7.      The Lord of the Rings: The Return of the King(2003)', '      8.      Pulp Fiction(1994)', '      9.      Il buono, il brutto, il cattivo(1966)', '      10.      The Lord of the Rings: The Fellowship of the Ring(2001)', '      11.      Fight Club(1999)', '      12.      Forrest Gump(1994)', '      13.      Inception(2010)', '      14.      The Lord of the Rings: The Two Towers(2002)', '      15.      Star Wars: Episode V - The Empire Strikes Back(1980)', '      16.      Spider-Man: No Way Home(2021)', '      17.      The Matrix(1999)', '      18.      Goodfellas(1990)'], ['      1.      The Shawshank Redemption(1994)', '      2.      The Godfather(1972)', '      3.      The Godfather: Part II(1974)', '      4.      The Dark Knight(2008)', '      5.      12 Angry Men(1957)', \"      6.      Schindler's List(1993)\", '      7.      The Lord of the Rings: The Return of the King(2003)', '      8.      Pulp Fiction(1994)', '      9.      Il buono, il brutto, il cattivo(1966)', '      10.      The Lord of the Rings: The Fellowship of the Ring(2001)', '      11.      Fight Club(1999)', '      12.      Forrest Gump(1994)', '      13.      Inception(2010)', '      14.      The Lord of the Rings: The Two Towers(2002)', '      15.      Star Wars: Episode V - The Empire Strikes Back(1980)', '      16.      Spider-Man: No Way Home(2021)', '      17.      The Matrix(1999)', '      18.      Goodfellas(1990)'], ['      1.      The Shawshank Redemption(1994)', '      2.      The Godfather(1972)', '      3.      The Godfather: Part II(1974)', '      4.      The Dark Knight(2008)', '      5.      12 Angry Men(1957)', \"      6.      Schindler's List(1993)\", '      7.      The Lord of the Rings: The Return of the King(2003)', '      8.      Pulp Fiction(1994)', '      9.      Il buono, il brutto, il cattivo(1966)', '      10.      The Lord of the Rings: The Fellowship of the Ring(2001)', '      11.      Fight Club(1999)', '      12.      Forrest Gump(1994)', '      13.      Inception(2010)', '      14.      The Lord of the Rings: The Two Towers(2002)', '      15.      Star Wars: Episode V - The Empire Strikes Back(1980)', '      16.      Spider-Man: No Way Home(2021)', '      17.      The Matrix(1999)', '      18.      Goodfellas(1990)'], ['      1.      The Shawshank Redemption(1994)', '      2.      The Godfather(1972)', '      3.      The Godfather: Part II(1974)', '      4.      The Dark Knight(2008)', '      5.      12 Angry Men(1957)', \"      6.      Schindler's List(1993)\", '      7.      The Lord of the Rings: The Return of the King(2003)', '      8.      Pulp Fiction(1994)', '      9.      Il buono, il brutto, il cattivo(1966)', '      10.      The Lord of the Rings: The Fellowship of the Ring(2001)', '      11.      Fight Club(1999)', '      12.      Forrest Gump(1994)', '      13.      Inception(2010)', '      14.      The Lord of the Rings: The Two Towers(2002)', '      15.      Star Wars: Episode V - The Empire Strikes Back(1980)', '      16.      Spider-Man: No Way Home(2021)', '      17.      The Matrix(1999)', '      18.      Goodfellas(1990)'], ['      1.      The Shawshank Redemption(1994)', '      2.      The Godfather(1972)', '      3.      The Godfather: Part II(1974)', '      4.      The Dark Knight(2008)', '      5.      12 Angry Men(1957)', \"      6.      Schindler's List(1993)\", '      7.      The Lord of the Rings: The Return of the King(2003)', '      8.      Pulp Fiction(1994)', '      9.      Il buono, il brutto, il cattivo(1966)', '      10.      The Lord of the Rings: The Fellowship of the Ring(2001)', '      11.      Fight Club(1999)', '      12.      Forrest Gump(1994)', '      13.      Inception(2010)', '      14.      The Lord of the Rings: The Two Towers(2002)', '      15.      Star Wars: Episode V - The Empire Strikes Back(1980)', '      16.      Spider-Man: No Way Home(2021)', '      17.      The Matrix(1999)', '      18.      Goodfellas(1990)'], ['      1.      The Shawshank Redemption(1994)', '      2.      The Godfather(1972)', '      3.      The Godfather: Part II(1974)', '      4.      The Dark Knight(2008)', '      5.      12 Angry Men(1957)', \"      6.      Schindler's List(1993)\", '      7.      The Lord of the Rings: The Return of the King(2003)', '      8.      Pulp Fiction(1994)', '      9.      Il buono, il brutto, il cattivo(1966)', '      10.      The Lord of the Rings: The Fellowship of the Ring(2001)', '      11.      Fight Club(1999)', '      12.      Forrest Gump(1994)', '      13.      Inception(2010)', '      14.      The Lord of the Rings: The Two Towers(2002)', '      15.      Star Wars: Episode V - The Empire Strikes Back(1980)', '      16.      Spider-Man: No Way Home(2021)', '      17.      The Matrix(1999)', '      18.      Goodfellas(1990)'], ['      1.      The Shawshank Redemption(1994)', '      2.      The Godfather(1972)', '      3.      The Godfather: Part II(1974)', '      4.      The Dark Knight(2008)', '      5.      12 Angry Men(1957)', \"      6.      Schindler's List(1993)\", '      7.      The Lord of the Rings: The Return of the King(2003)', '      8.      Pulp Fiction(1994)', '      9.      Il buono, il brutto, il cattivo(1966)', '      10.      The Lord of the Rings: The Fellowship of the Ring(2001)', '      11.      Fight Club(1999)', '      12.      Forrest Gump(1994)', '      13.      Inception(2010)', '      14.      The Lord of the Rings: The Two Towers(2002)', '      15.      Star Wars: Episode V - The Empire Strikes Back(1980)', '      16.      Spider-Man: No Way Home(2021)', '      17.      The Matrix(1999)', '      18.      Goodfellas(1990)'], ['      1.      The Shawshank Redemption(1994)', '      2.      The Godfather(1972)', '      3.      The Godfather: Part II(1974)', '      4.      The Dark Knight(2008)', '      5.      12 Angry Men(1957)', \"      6.      Schindler's List(1993)\", '      7.      The Lord of the Rings: The Return of the King(2003)', '      8.      Pulp Fiction(1994)', '      9.      Il buono, il brutto, il cattivo(1966)', '      10.      The Lord of the Rings: The Fellowship of the Ring(2001)', '      11.      Fight Club(1999)', '      12.      Forrest Gump(1994)', '      13.      Inception(2010)', '      14.      The Lord of the Rings: The Two Towers(2002)', '      15.      Star Wars: Episode V - The Empire Strikes Back(1980)', '      16.      Spider-Man: No Way Home(2021)', '      17.      The Matrix(1999)', '      18.      Goodfellas(1990)'], ['      1.      The Shawshank Redemption(1994)', '      2.      The Godfather(1972)', '      3.      The Godfather: Part II(1974)', '      4.      The Dark Knight(2008)', '      5.      12 Angry Men(1957)', \"      6.      Schindler's List(1993)\", '      7.      The Lord of the Rings: The Return of the King(2003)', '      8.      Pulp Fiction(1994)', '      9.      Il buono, il brutto, il cattivo(1966)', '      10.      The Lord of the Rings: The Fellowship of the Ring(2001)', '      11.      Fight Club(1999)', '      12.      Forrest Gump(1994)', '      13.      Inception(2010)', '      14.      The Lord of the Rings: The Two Towers(2002)', '      15.      Star Wars: Episode V - The Empire Strikes Back(1980)', '      16.      Spider-Man: No Way Home(2021)', '      17.      The Matrix(1999)', '      18.      Goodfellas(1990)'], ['      1.      The Shawshank Redemption(1994)', '      2.      The Godfather(1972)', '      3.      The Godfather: Part II(1974)', '      4.      The Dark Knight(2008)', '      5.      12 Angry Men(1957)', \"      6.      Schindler's List(1993)\", '      7.      The Lord of the Rings: The Return of the King(2003)', '      8.      Pulp Fiction(1994)', '      9.      Il buono, il brutto, il cattivo(1966)', '      10.      The Lord of the Rings: The Fellowship of the Ring(2001)', '      11.      Fight Club(1999)', '      12.      Forrest Gump(1994)', '      13.      Inception(2010)', '      14.      The Lord of the Rings: The Two Towers(2002)', '      15.      Star Wars: Episode V - The Empire Strikes Back(1980)', '      16.      Spider-Man: No Way Home(2021)', '      17.      The Matrix(1999)', '      18.      Goodfellas(1990)'], ['      1.      The Shawshank Redemption(1994)', '      2.      The Godfather(1972)', '      3.      The Godfather: Part II(1974)', '      4.      The Dark Knight(2008)', '      5.      12 Angry Men(1957)', \"      6.      Schindler's List(1993)\", '      7.      The Lord of the Rings: The Return of the King(2003)', '      8.      Pulp Fiction(1994)', '      9.      Il buono, il brutto, il cattivo(1966)', '      10.      The Lord of the Rings: The Fellowship of the Ring(2001)', '      11.      Fight Club(1999)', '      12.      Forrest Gump(1994)', '      13.      Inception(2010)', '      14.      The Lord of the Rings: The Two Towers(2002)', '      15.      Star Wars: Episode V - The Empire Strikes Back(1980)', '      16.      Spider-Man: No Way Home(2021)', '      17.      The Matrix(1999)', '      18.      Goodfellas(1990)'], ['      1.      The Shawshank Redemption(1994)', '      2.      The Godfather(1972)', '      3.      The Godfather: Part II(1974)', '      4.      The Dark Knight(2008)', '      5.      12 Angry Men(1957)', \"      6.      Schindler's List(1993)\", '      7.      The Lord of the Rings: The Return of the King(2003)', '      8.      Pulp Fiction(1994)', '      9.      Il buono, il brutto, il cattivo(1966)', '      10.      The Lord of the Rings: The Fellowship of the Ring(2001)', '      11.      Fight Club(1999)', '      12.      Forrest Gump(1994)', '      13.      Inception(2010)', '      14.      The Lord of the Rings: The Two Towers(2002)', '      15.      Star Wars: Episode V - The Empire Strikes Back(1980)', '      16.      Spider-Man: No Way Home(2021)', '      17.      The Matrix(1999)', '      18.      Goodfellas(1990)'], ['      1.      The Shawshank Redemption(1994)', '      2.      The Godfather(1972)', '      3.      The Godfather: Part II(1974)', '      4.      The Dark Knight(2008)', '      5.      12 Angry Men(1957)', \"      6.      Schindler's List(1993)\", '      7.      The Lord of the Rings: The Return of the King(2003)', '      8.      Pulp Fiction(1994)', '      9.      Il buono, il brutto, il cattivo(1966)', '      10.      The Lord of the Rings: The Fellowship of the Ring(2001)', '      11.      Fight Club(1999)', '      12.      Forrest Gump(1994)', '      13.      Inception(2010)', '      14.      The Lord of the Rings: The Two Towers(2002)', '      15.      Star Wars: Episode V - The Empire Strikes Back(1980)', '      16.      Spider-Man: No Way Home(2021)', '      17.      The Matrix(1999)', '      18.      Goodfellas(1990)'], ['      1.      The Shawshank Redemption(1994)', '      2.      The Godfather(1972)', '      3.      The Godfather: Part II(1974)', '      4.      The Dark Knight(2008)', '      5.      12 Angry Men(1957)', \"      6.      Schindler's List(1993)\", '      7.      The Lord of the Rings: The Return of the King(2003)', '      8.      Pulp Fiction(1994)', '      9.      Il buono, il brutto, il cattivo(1966)', '      10.      The Lord of the Rings: The Fellowship of the Ring(2001)', '      11.      Fight Club(1999)', '      12.      Forrest Gump(1994)', '      13.      Inception(2010)', '      14.      The Lord of the Rings: The Two Towers(2002)', '      15.      Star Wars: Episode V - The Empire Strikes Back(1980)', '      16.      Spider-Man: No Way Home(2021)', '      17.      The Matrix(1999)', '      18.      Goodfellas(1990)'], ['      1.      The Shawshank Redemption(1994)', '      2.      The Godfather(1972)', '      3.      The Godfather: Part II(1974)', '      4.      The Dark Knight(2008)', '      5.      12 Angry Men(1957)', \"      6.      Schindler's List(1993)\", '      7.      The Lord of the Rings: The Return of the King(2003)', '      8.      Pulp Fiction(1994)', '      9.      Il buono, il brutto, il cattivo(1966)', '      10.      The Lord of the Rings: The Fellowship of the Ring(2001)', '      11.      Fight Club(1999)', '      12.      Forrest Gump(1994)', '      13.      Inception(2010)', '      14.      The Lord of the Rings: The Two Towers(2002)', '      15.      Star Wars: Episode V - The Empire Strikes Back(1980)', '      16.      Spider-Man: No Way Home(2021)', '      17.      The Matrix(1999)', '      18.      Goodfellas(1990)'], ['      1.      The Shawshank Redemption(1994)', '      2.      The Godfather(1972)', '      3.      The Godfather: Part II(1974)', '      4.      The Dark Knight(2008)', '      5.      12 Angry Men(1957)', \"      6.      Schindler's List(1993)\", '      7.      The Lord of the Rings: The Return of the King(2003)', '      8.      Pulp Fiction(1994)', '      9.      Il buono, il brutto, il cattivo(1966)', '      10.      The Lord of the Rings: The Fellowship of the Ring(2001)', '      11.      Fight Club(1999)', '      12.      Forrest Gump(1994)', '      13.      Inception(2010)', '      14.      The Lord of the Rings: The Two Towers(2002)', '      15.      Star Wars: Episode V - The Empire Strikes Back(1980)', '      16.      Spider-Man: No Way Home(2021)', '      17.      The Matrix(1999)', '      18.      Goodfellas(1990)'], ['      1.      The Shawshank Redemption(1994)', '      2.      The Godfather(1972)', '      3.      The Godfather: Part II(1974)', '      4.      The Dark Knight(2008)', '      5.      12 Angry Men(1957)', \"      6.      Schindler's List(1993)\", '      7.      The Lord of the Rings: The Return of the King(2003)', '      8.      Pulp Fiction(1994)', '      9.      Il buono, il brutto, il cattivo(1966)', '      10.      The Lord of the Rings: The Fellowship of the Ring(2001)', '      11.      Fight Club(1999)', '      12.      Forrest Gump(1994)', '      13.      Inception(2010)', '      14.      The Lord of the Rings: The Two Towers(2002)', '      15.      Star Wars: Episode V - The Empire Strikes Back(1980)', '      16.      Spider-Man: No Way Home(2021)', '      17.      The Matrix(1999)', '      18.      Goodfellas(1990)'], ['      1.      The Shawshank Redemption(1994)', '      2.      The Godfather(1972)', '      3.      The Godfather: Part II(1974)', '      4.      The Dark Knight(2008)', '      5.      12 Angry Men(1957)', \"      6.      Schindler's List(1993)\", '      7.      The Lord of the Rings: The Return of the King(2003)', '      8.      Pulp Fiction(1994)', '      9.      Il buono, il brutto, il cattivo(1966)', '      10.      The Lord of the Rings: The Fellowship of the Ring(2001)', '      11.      Fight Club(1999)', '      12.      Forrest Gump(1994)', '      13.      Inception(2010)', '      14.      The Lord of the Rings: The Two Towers(2002)', '      15.      Star Wars: Episode V - The Empire Strikes Back(1980)', '      16.      Spider-Man: No Way Home(2021)', '      17.      The Matrix(1999)', '      18.      Goodfellas(1990)'], ['      1.      The Shawshank Redemption(1994)', '      2.      The Godfather(1972)', '      3.      The Godfather: Part II(1974)', '      4.      The Dark Knight(2008)', '      5.      12 Angry Men(1957)', \"      6.      Schindler's List(1993)\", '      7.      The Lord of the Rings: The Return of the King(2003)', '      8.      Pulp Fiction(1994)', '      9.      Il buono, il brutto, il cattivo(1966)', '      10.      The Lord of the Rings: The Fellowship of the Ring(2001)', '      11.      Fight Club(1999)', '      12.      Forrest Gump(1994)', '      13.      Inception(2010)', '      14.      The Lord of the Rings: The Two Towers(2002)', '      15.      Star Wars: Episode V - The Empire Strikes Back(1980)', '      16.      Spider-Man: No Way Home(2021)', '      17.      The Matrix(1999)', '      18.      Goodfellas(1990)'], ['      1.      The Shawshank Redemption(1994)', '      2.      The Godfather(1972)', '      3.      The Godfather: Part II(1974)', '      4.      The Dark Knight(2008)', '      5.      12 Angry Men(1957)', \"      6.      Schindler's List(1993)\", '      7.      The Lord of the Rings: The Return of the King(2003)', '      8.      Pulp Fiction(1994)', '      9.      Il buono, il brutto, il cattivo(1966)', '      10.      The Lord of the Rings: The Fellowship of the Ring(2001)', '      11.      Fight Club(1999)', '      12.      Forrest Gump(1994)', '      13.      Inception(2010)', '      14.      The Lord of the Rings: The Two Towers(2002)', '      15.      Star Wars: Episode V - The Empire Strikes Back(1980)', '      16.      Spider-Man: No Way Home(2021)', '      17.      The Matrix(1999)', '      18.      Goodfellas(1990)'], ['      1.      The Shawshank Redemption(1994)', '      2.      The Godfather(1972)', '      3.      The Godfather: Part II(1974)', '      4.      The Dark Knight(2008)', '      5.      12 Angry Men(1957)', \"      6.      Schindler's List(1993)\", '      7.      The Lord of the Rings: The Return of the King(2003)', '      8.      Pulp Fiction(1994)', '      9.      Il buono, il brutto, il cattivo(1966)', '      10.      The Lord of the Rings: The Fellowship of the Ring(2001)', '      11.      Fight Club(1999)', '      12.      Forrest Gump(1994)', '      13.      Inception(2010)', '      14.      The Lord of the Rings: The Two Towers(2002)', '      15.      Star Wars: Episode V - The Empire Strikes Back(1980)', '      16.      Spider-Man: No Way Home(2021)', '      17.      The Matrix(1999)', '      18.      Goodfellas(1990)'], ['      1.      The Shawshank Redemption(1994)', '      2.      The Godfather(1972)', '      3.      The Godfather: Part II(1974)', '      4.      The Dark Knight(2008)', '      5.      12 Angry Men(1957)', \"      6.      Schindler's List(1993)\", '      7.      The Lord of the Rings: The Return of the King(2003)', '      8.      Pulp Fiction(1994)', '      9.      Il buono, il brutto, il cattivo(1966)', '      10.      The Lord of the Rings: The Fellowship of the Ring(2001)', '      11.      Fight Club(1999)', '      12.      Forrest Gump(1994)', '      13.      Inception(2010)', '      14.      The Lord of the Rings: The Two Towers(2002)', '      15.      Star Wars: Episode V - The Empire Strikes Back(1980)', '      16.      Spider-Man: No Way Home(2021)', '      17.      The Matrix(1999)', '      18.      Goodfellas(1990)'], ['      1.      The Shawshank Redemption(1994)', '      2.      The Godfather(1972)', '      3.      The Godfather: Part II(1974)', '      4.      The Dark Knight(2008)', '      5.      12 Angry Men(1957)', \"      6.      Schindler's List(1993)\", '      7.      The Lord of the Rings: The Return of the King(2003)', '      8.      Pulp Fiction(1994)', '      9.      Il buono, il brutto, il cattivo(1966)', '      10.      The Lord of the Rings: The Fellowship of the Ring(2001)', '      11.      Fight Club(1999)', '      12.      Forrest Gump(1994)', '      13.      Inception(2010)', '      14.      The Lord of the Rings: The Two Towers(2002)', '      15.      Star Wars: Episode V - The Empire Strikes Back(1980)', '      16.      Spider-Man: No Way Home(2021)', '      17.      The Matrix(1999)', '      18.      Goodfellas(1990)'], ['      1.      The Shawshank Redemption(1994)', '      2.      The Godfather(1972)', '      3.      The Godfather: Part II(1974)', '      4.      The Dark Knight(2008)', '      5.      12 Angry Men(1957)', \"      6.      Schindler's List(1993)\", '      7.      The Lord of the Rings: The Return of the King(2003)', '      8.      Pulp Fiction(1994)', '      9.      Il buono, il brutto, il cattivo(1966)', '      10.      The Lord of the Rings: The Fellowship of the Ring(2001)', '      11.      Fight Club(1999)', '      12.      Forrest Gump(1994)', '      13.      Inception(2010)', '      14.      The Lord of the Rings: The Two Towers(2002)', '      15.      Star Wars: Episode V - The Empire Strikes Back(1980)', '      16.      Spider-Man: No Way Home(2021)', '      17.      The Matrix(1999)', '      18.      Goodfellas(1990)'], ['      1.      The Shawshank Redemption(1994)', '      2.      The Godfather(1972)', '      3.      The Godfather: Part II(1974)', '      4.      The Dark Knight(2008)', '      5.      12 Angry Men(1957)', \"      6.      Schindler's List(1993)\", '      7.      The Lord of the Rings: The Return of the King(2003)', '      8.      Pulp Fiction(1994)', '      9.      Il buono, il brutto, il cattivo(1966)', '      10.      The Lord of the Rings: The Fellowship of the Ring(2001)', '      11.      Fight Club(1999)', '      12.      Forrest Gump(1994)', '      13.      Inception(2010)', '      14.      The Lord of the Rings: The Two Towers(2002)', '      15.      Star Wars: Episode V - The Empire Strikes Back(1980)', '      16.      Spider-Man: No Way Home(2021)', '      17.      The Matrix(1999)', '      18.      Goodfellas(1990)'], ['      1.      The Shawshank Redemption(1994)', '      2.      The Godfather(1972)', '      3.      The Godfather: Part II(1974)', '      4.      The Dark Knight(2008)', '      5.      12 Angry Men(1957)', \"      6.      Schindler's List(1993)\", '      7.      The Lord of the Rings: The Return of the King(2003)', '      8.      Pulp Fiction(1994)', '      9.      Il buono, il brutto, il cattivo(1966)', '      10.      The Lord of the Rings: The Fellowship of the Ring(2001)', '      11.      Fight Club(1999)', '      12.      Forrest Gump(1994)', '      13.      Inception(2010)', '      14.      The Lord of the Rings: The Two Towers(2002)', '      15.      Star Wars: Episode V - The Empire Strikes Back(1980)', '      16.      Spider-Man: No Way Home(2021)', '      17.      The Matrix(1999)', '      18.      Goodfellas(1990)'], ['      1.      The Shawshank Redemption(1994)', '      2.      The Godfather(1972)', '      3.      The Godfather: Part II(1974)', '      4.      The Dark Knight(2008)', '      5.      12 Angry Men(1957)', \"      6.      Schindler's List(1993)\", '      7.      The Lord of the Rings: The Return of the King(2003)', '      8.      Pulp Fiction(1994)', '      9.      Il buono, il brutto, il cattivo(1966)', '      10.      The Lord of the Rings: The Fellowship of the Ring(2001)', '      11.      Fight Club(1999)', '      12.      Forrest Gump(1994)', '      13.      Inception(2010)', '      14.      The Lord of the Rings: The Two Towers(2002)', '      15.      Star Wars: Episode V - The Empire Strikes Back(1980)', '      16.      Spider-Man: No Way Home(2021)', '      17.      The Matrix(1999)', '      18.      Goodfellas(1990)']] \n",
      "\n",
      "['1.', '2.', '3.', '4.', '5.', '6.', '7.', '8.', '9.', '10.', '11.', '12.', '13.', '14.', '15.', '16.', '17.', '18.', '19.', '20.', '21.', '22.', '23.', '24.', '25.', '26.', '27.', '28.', '29.', '30.', '31.', '32.', '33.', '34.', '35.', '36.', '37.', '38.', '39.', '40.', '41.', '42.', '43.', '44.', '45.', '46.', '47.', '48.', '49.', '50.', '51.', '52.', '53.', '54.', '55.', '56.', '57.', '58.', '59.', '60.', '61.', '62.', '63.', '64.', '65.', '66.', '67.', '68.', '69.', '70.', '71.', '72.', '73.', '74.', '75.', '76.', '77.', '78.', '79.', '80.', '81.', '82.', '83.', '84.', '85.', '86.', '87.', '88.', '89.', '90.', '91.', '92.', '93.', '94.', '95.', '96.', '97.', '98.', '99.', '100.']\n"
     ]
    }
   ],
   "source": [
    "movies = []\n",
    "\n",
    "for i in soup2.find_all('td', class_='titleColumn'):\n",
    "    movies.append(i.text.replace('\\n',''))\n",
    "    \n",
    "movies = movies[:100]\n",
    "Ranking = [i.split()[0] for i in movies]\n",
    "movies100 = [movies[0:18] for i in movies]\n",
    "print(movies100,'\\n')\n",
    "\n",
    "print(Ranking)"
   ]
  },
  {
   "cell_type": "code",
   "execution_count": 206,
   "id": "47227e29",
   "metadata": {},
   "outputs": [
    {
     "data": {
      "text/plain": [
       "['      1.      The Shawshank Redemption(1994)',\n",
       " '      2.      The Godfather(1972)',\n",
       " '      3.      The Godfather: Part II(1974)',\n",
       " '      4.      The Dark Knight(2008)',\n",
       " '      5.      12 Angry Men(1957)',\n",
       " \"      6.      Schindler's List(1993)\",\n",
       " '      7.      The Lord of the Rings: The Return of the King(2003)',\n",
       " '      8.      Pulp Fiction(1994)',\n",
       " '      9.      Il buono, il brutto, il cattivo(1966)',\n",
       " '      10.      The Lord of the Rings: The Fellowship of the Ring(2001)',\n",
       " '      11.      Fight Club(1999)',\n",
       " '      12.      Forrest Gump(1994)',\n",
       " '      13.      Inception(2010)',\n",
       " '      14.      The Lord of the Rings: The Two Towers(2002)',\n",
       " '      15.      Star Wars: Episode V - The Empire Strikes Back(1980)',\n",
       " '      16.      Spider-Man: No Way Home(2021)',\n",
       " '      17.      The Matrix(1999)',\n",
       " '      18.      Goodfellas(1990)',\n",
       " \"      19.      One Flew Over the Cuckoo's Nest(1975)\",\n",
       " '      20.      Shichinin no samurai(1954)',\n",
       " '      21.      Se7en(1995)',\n",
       " '      22.      The Silence of the Lambs(1991)',\n",
       " \"      23.      It's a Wonderful Life(1946)\",\n",
       " '      24.      Cidade de Deus(2002)',\n",
       " '      25.      La vita è bella(1997)',\n",
       " '      26.      Saving Private Ryan(1998)',\n",
       " '      27.      Star Wars(1977)',\n",
       " '      28.      Interstellar(2014)',\n",
       " '      29.      Sen to Chihiro no kamikakushi(2001)',\n",
       " '      30.      The Green Mile(1999)',\n",
       " '      31.      Gisaengchung(2019)',\n",
       " '      32.      Léon(1994)',\n",
       " '      33.      Seppuku(1962)',\n",
       " '      34.      The Pianist(2002)',\n",
       " '      35.      Terminator 2: Judgment Day(1991)',\n",
       " '      36.      Back to the Future(1985)',\n",
       " '      37.      The Usual Suspects(1995)',\n",
       " '      38.      Psycho(1960)',\n",
       " '      39.      The Lion King(1994)',\n",
       " '      40.      Modern Times(1936)',\n",
       " '      41.      Hotaru no haka(1988)',\n",
       " '      42.      American History X(1998)',\n",
       " '      43.      Whiplash(2014)',\n",
       " '      44.      Gladiator(2000)',\n",
       " '      45.      City Lights(1931)',\n",
       " '      46.      The Departed(2006)',\n",
       " '      47.      The Intouchables(2011)',\n",
       " '      48.      The Prestige(2006)',\n",
       " '      49.      Casablanca(1942)',\n",
       " '      50.      Once Upon a Time in the West(1968)',\n",
       " '      51.      Rear Window(1954)',\n",
       " '      52.      Nuovo Cinema Paradiso(1988)',\n",
       " '      53.      Alien(1979)',\n",
       " '      54.      Apocalypse Now(1979)',\n",
       " '      55.      Memento(2000)',\n",
       " '      56.      Raiders of the Lost Ark(1981)',\n",
       " '      57.      The Great Dictator(1940)',\n",
       " '      58.      Django Unchained(2012)',\n",
       " '      59.      The Lives of Others(2006)',\n",
       " '      60.      Paths of Glory(1957)',\n",
       " '      61.      Sunset Blvd.(1950)',\n",
       " '      62.      WALL·E(2008)',\n",
       " '      63.      Avengers: Infinity War(2018)',\n",
       " '      64.      Witness for the Prosecution(1957)',\n",
       " '      65.      The Shining(1980)',\n",
       " '      66.      Spider-Man: Into the Spider-Verse(2018)',\n",
       " '      67.      Dr. Strangelove or: How I Learned to Stop Worrying and Love the Bomb(1964)',\n",
       " '      68.      Mononoke-hime(1997)',\n",
       " '      69.      Oldeuboi(2003)',\n",
       " '      70.      Joker(2019)',\n",
       " '      71.      Kimi no na wa.(2016)',\n",
       " '      72.      Coco(2017)',\n",
       " '      73.      The Dark Knight Rises(2012)',\n",
       " '      74.      Aliens(1986)',\n",
       " '      75.      Once Upon a Time in America(1984)',\n",
       " '      76.      Avengers: Endgame(2019)',\n",
       " '      77.      Capharnaüm(2018)',\n",
       " '      78.      Das Boot(1981)',\n",
       " '      79.      Tengoku to jigoku(1963)',\n",
       " '      80.      3 Idiots(2009)',\n",
       " '      81.      Toy Story(1995)',\n",
       " '      82.      Amadeus(1984)',\n",
       " '      83.      American Beauty(1999)',\n",
       " '      84.      Braveheart(1995)',\n",
       " '      85.      Inglourious Basterds(2009)',\n",
       " '      86.      Hamilton(2020)',\n",
       " '      87.      Good Will Hunting(1997)',\n",
       " '      88.      Star Wars: Episode VI - Return of the Jedi(1983)',\n",
       " '      89.      2001: A Space Odyssey(1968)',\n",
       " '      90.      Idi i smotri(1985)',\n",
       " '      91.      Reservoir Dogs(1992)',\n",
       " '      92.      Taare Zameen Par(2007)',\n",
       " '      93.      Vertigo(1958)',\n",
       " '      94.      M - Eine Stadt sucht einen Mörder(1931)',\n",
       " '      95.      Citizen Kane(1941)',\n",
       " '      96.      Jagten(2012)',\n",
       " '      97.      Requiem for a Dream(2000)',\n",
       " \"      98.      Singin' in the Rain(1952)\",\n",
       " '      99.      North by Northwest(1959)',\n",
       " '      100.      Eternal Sunshine of the Spotless Mind(2004)']"
      ]
     },
     "execution_count": 206,
     "metadata": {},
     "output_type": "execute_result"
    }
   ],
   "source": [
    "movies = []\n",
    "\n",
    "for i in soup2.find_all('td', class_='titleColumn'):\n",
    "    movies.append(i.text.replace('\\n',''))\n",
    "    \n",
    "movies = movies[:100]\n",
    "movies "
   ]
  },
  {
   "cell_type": "code",
   "execution_count": 211,
   "id": "b9e0ca73",
   "metadata": {},
   "outputs": [
    {
     "data": {
      "text/plain": [
       "['9.221047447247017',\n",
       " '9.147044101520647',\n",
       " '8.981077522513267',\n",
       " '8.975717615850513',\n",
       " '8.941905637789569',\n",
       " '8.912403917138759',\n",
       " '8.891315658892259',\n",
       " '8.83420044164655',\n",
       " '8.784402395112187',\n",
       " '8.781201655441796',\n",
       " '8.749540857063417',\n",
       " '8.744334357744826',\n",
       " '8.714899412447613',\n",
       " '8.704828017278773',\n",
       " '8.694235836544694',\n",
       " '8.672195611953686',\n",
       " '8.649618363871229',\n",
       " '8.644630982093998',\n",
       " '8.63441231239832',\n",
       " '8.608447143741403',\n",
       " '8.58722009102115',\n",
       " '8.577246496363005',\n",
       " '8.57617493578635',\n",
       " '8.575950062352208',\n",
       " '8.575055308331105',\n",
       " '8.550930959874105',\n",
       " '8.54989062195614',\n",
       " '8.544228237815313',\n",
       " '8.538933956057274',\n",
       " '8.537229508960808',\n",
       " '8.525683065526632',\n",
       " '8.496721673565924',\n",
       " '8.492905806352757',\n",
       " '8.49059290571401',\n",
       " '8.4855645426194',\n",
       " '8.484405209106065',\n",
       " '8.483299163906327',\n",
       " '8.482046456179617',\n",
       " '8.481033039226485',\n",
       " '8.47838329752225',\n",
       " '8.473167643865782',\n",
       " '8.47283343148545',\n",
       " '8.4697100290514',\n",
       " '8.469346636277987',\n",
       " '8.469047533966446',\n",
       " '8.46729384615768',\n",
       " '8.459150357499542',\n",
       " '8.453823124146522',\n",
       " '8.449182340333877',\n",
       " '8.446157427523936',\n",
       " '8.439623844017907',\n",
       " '8.437675829631642',\n",
       " '8.42253039495267',\n",
       " '8.41688081840249',\n",
       " '8.407270529253758',\n",
       " '8.404865100412039',\n",
       " '8.403641517414307',\n",
       " '8.390968857214322',\n",
       " '8.390403397857671',\n",
       " '8.382323243677726',\n",
       " '8.376772212148488',\n",
       " '8.373944339135685',\n",
       " '8.369252504080508',\n",
       " '8.36516443415298',\n",
       " '8.36373106816304',\n",
       " '8.362163725890875',\n",
       " '8.351629580121063',\n",
       " '8.344842928644916',\n",
       " '8.343577274601142',\n",
       " '8.341059883380526',\n",
       " '8.327904137196072',\n",
       " '8.32280092745615',\n",
       " '8.322132310816382',\n",
       " '8.320840967421825',\n",
       " '8.318831527904077',\n",
       " '8.311392953688083',\n",
       " '8.310321620308848',\n",
       " '8.30607571812138',\n",
       " '8.301716504452122',\n",
       " '8.297671158662594',\n",
       " '8.296788243606102',\n",
       " '8.295580219564968',\n",
       " '8.295547735257157',\n",
       " '8.293241620992196',\n",
       " '8.290318881901284',\n",
       " '8.286053857345454',\n",
       " '8.283214792591581',\n",
       " '8.27381211452431',\n",
       " '8.271983932058516',\n",
       " '8.27143675742573',\n",
       " '8.270480398597474',\n",
       " '8.269247675252902',\n",
       " '8.269033525530533',\n",
       " '8.268524546161464',\n",
       " '8.266440082380218',\n",
       " '8.266128648423555',\n",
       " '8.26070292652399',\n",
       " '8.259555239014265',\n",
       " '8.25756255571229',\n",
       " '8.255346686881879']"
      ]
     },
     "execution_count": 211,
     "metadata": {},
     "output_type": "execute_result"
    }
   ],
   "source": [
    "ratings = [b.attrs.get('data-value') for b in soup2.select('td.posterColumn span[name=ir]')]\n",
    "\n",
    "ratings = ratings[:100]\n",
    "ratings\n",
    "#list1 = []\n",
    "#for index in range(0, len(movies)):\n",
    "#    movie_string = movies[index]\n",
    "#    movie = (''.join(movie_string.split()).replace('.',''))\n",
    "#    movie_title = movies[len(str(index))+1:-7]\n",
    "#    year = re.search('\\((.*?)\\)', movie_string).group(1)\n",
    "#    place = movie[:len(str(index))-len(movie)]\n",
    "#    data = {\"movie_title\": movie_title,\"year\":year,\"place\": place,\"rating\": ratings[index]}\n",
    "#    list1.append(data)\n",
    "    \n",
    "#for movie in list1:\n",
    " #   print(movie['place'], '-', movie['movie_title'], '('+movie['year'] +\n",
    " #         ') -', movie['rating'])"
   ]
  },
  {
   "cell_type": "code",
   "execution_count": 214,
   "id": "46ebd5aa",
   "metadata": {},
   "outputs": [
    {
     "data": {
      "text/html": [
       "<div>\n",
       "<style scoped>\n",
       "    .dataframe tbody tr th:only-of-type {\n",
       "        vertical-align: middle;\n",
       "    }\n",
       "\n",
       "    .dataframe tbody tr th {\n",
       "        vertical-align: top;\n",
       "    }\n",
       "\n",
       "    .dataframe thead th {\n",
       "        text-align: right;\n",
       "    }\n",
       "</style>\n",
       "<table border=\"1\" class=\"dataframe\">\n",
       "  <thead>\n",
       "    <tr style=\"text-align: right;\">\n",
       "      <th></th>\n",
       "      <th>Titles</th>\n",
       "      <th>Rating</th>\n",
       "    </tr>\n",
       "  </thead>\n",
       "  <tbody>\n",
       "    <tr>\n",
       "      <th>0</th>\n",
       "      <td>1.      The Shawshank Redemption(1994)</td>\n",
       "      <td>9.221047447247017</td>\n",
       "    </tr>\n",
       "    <tr>\n",
       "      <th>1</th>\n",
       "      <td>2.      The Godfather(1972)</td>\n",
       "      <td>9.147044101520647</td>\n",
       "    </tr>\n",
       "    <tr>\n",
       "      <th>2</th>\n",
       "      <td>3.      The Godfather: Part II(1974)</td>\n",
       "      <td>8.981077522513267</td>\n",
       "    </tr>\n",
       "    <tr>\n",
       "      <th>3</th>\n",
       "      <td>4.      The Dark Knight(2008)</td>\n",
       "      <td>8.975717615850513</td>\n",
       "    </tr>\n",
       "    <tr>\n",
       "      <th>4</th>\n",
       "      <td>5.      12 Angry Men(1957)</td>\n",
       "      <td>8.941905637789569</td>\n",
       "    </tr>\n",
       "    <tr>\n",
       "      <th>...</th>\n",
       "      <td>...</td>\n",
       "      <td>...</td>\n",
       "    </tr>\n",
       "    <tr>\n",
       "      <th>95</th>\n",
       "      <td>96.      Jagten(2012)</td>\n",
       "      <td>8.266128648423555</td>\n",
       "    </tr>\n",
       "    <tr>\n",
       "      <th>96</th>\n",
       "      <td>97.      Requiem for a Dream(2000)</td>\n",
       "      <td>8.26070292652399</td>\n",
       "    </tr>\n",
       "    <tr>\n",
       "      <th>97</th>\n",
       "      <td>98.      Singin' in the Rain(1952)</td>\n",
       "      <td>8.259555239014265</td>\n",
       "    </tr>\n",
       "    <tr>\n",
       "      <th>98</th>\n",
       "      <td>99.      North by Northwest(1959)</td>\n",
       "      <td>8.25756255571229</td>\n",
       "    </tr>\n",
       "    <tr>\n",
       "      <th>99</th>\n",
       "      <td>100.      Eternal Sunshine of the Spotle...</td>\n",
       "      <td>8.255346686881879</td>\n",
       "    </tr>\n",
       "  </tbody>\n",
       "</table>\n",
       "<p>100 rows × 2 columns</p>\n",
       "</div>"
      ],
      "text/plain": [
       "                                               Titles             Rating\n",
       "0              1.      The Shawshank Redemption(1994)  9.221047447247017\n",
       "1                         2.      The Godfather(1972)  9.147044101520647\n",
       "2                3.      The Godfather: Part II(1974)  8.981077522513267\n",
       "3                       4.      The Dark Knight(2008)  8.975717615850513\n",
       "4                          5.      12 Angry Men(1957)  8.941905637789569\n",
       "..                                                ...                ...\n",
       "95                              96.      Jagten(2012)  8.266128648423555\n",
       "96                 97.      Requiem for a Dream(2000)   8.26070292652399\n",
       "97                 98.      Singin' in the Rain(1952)  8.259555239014265\n",
       "98                  99.      North by Northwest(1959)   8.25756255571229\n",
       "99        100.      Eternal Sunshine of the Spotle...  8.255346686881879\n",
       "\n",
       "[100 rows x 2 columns]"
      ]
     },
     "execution_count": 214,
     "metadata": {},
     "output_type": "execute_result"
    }
   ],
   "source": [
    "import pandas as pd\n",
    "import numpy\n",
    "import numpy.ma.mrecords as mrecords\n",
    "df = pd.DataFrame({'Titles' : movies , 'Rating': ratings})\n",
    "df"
   ]
  },
  {
   "cell_type": "code",
   "execution_count": null,
   "id": "79b1b0aa",
   "metadata": {},
   "outputs": [],
   "source": []
  }
 ],
 "metadata": {
  "kernelspec": {
   "display_name": "Python 3 (ipykernel)",
   "language": "python",
   "name": "python3"
  },
  "language_info": {
   "codemirror_mode": {
    "name": "ipython",
    "version": 3
   },
   "file_extension": ".py",
   "mimetype": "text/x-python",
   "name": "python",
   "nbconvert_exporter": "python",
   "pygments_lexer": "ipython3",
   "version": "3.9.7"
  }
 },
 "nbformat": 4,
 "nbformat_minor": 5
}
