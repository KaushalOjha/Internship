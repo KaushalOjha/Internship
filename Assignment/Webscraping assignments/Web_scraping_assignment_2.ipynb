{
 "cells": [
  {
   "cell_type": "markdown",
   "id": "5aeabc7c",
   "metadata": {},
   "source": [
    "## WEB SCRAPING – ASSIGNMENT 2\n",
    "\n",
    "\n",
    "### Instructions\n",
    "### 1. All the questions must be done in a single Jupyter notebook.\n",
    "### 2. There should be proper comments in code.\n",
    "\n",
    "### Q1: Write a python program to scrape data for “Data Analyst” Job position in “Bangalore” location. You\n",
    "### have to scrape the job-title, job-location, company_name, experience_required. You have to scrape first 10\n",
    "### jobs data.\n",
    "### This task will be done in following steps:\n",
    "### 1. First get the webpage https://www.naukri.com/\n",
    "### 2. Enter “Data Analyst” in “Skill, Designations, Companies” field and enter “Bangalore” in “enter the\n",
    "### location” field.\n",
    "### 3. Then click the search button.\n",
    "### 4. Then scrape the data for the first 10 jobs results you get.\n",
    "### 5. Finally create a dataframe of the scraped data.\n",
    "### Note: All of the above steps have to be done in code. No step is to be done manually."
   ]
  },
  {
   "cell_type": "code",
   "execution_count": 2,
   "id": "237f8d99",
   "metadata": {},
   "outputs": [
    {
     "name": "stdout",
     "output_type": "stream",
     "text": [
      "Requirement already satisfied: selenium in e:\\datatrained\\anaconda\\lib\\site-packages (4.1.0)\n",
      "Requirement already satisfied: urllib3[secure]~=1.26 in e:\\datatrained\\anaconda\\lib\\site-packages (from selenium) (1.26.7)\n",
      "Requirement already satisfied: trio-websocket~=0.9 in e:\\datatrained\\anaconda\\lib\\site-packages (from selenium) (0.9.2)\n",
      "Requirement already satisfied: trio~=0.17 in e:\\datatrained\\anaconda\\lib\\site-packages (from selenium) (0.19.0)\n",
      "Requirement already satisfied: attrs>=19.2.0 in e:\\datatrained\\anaconda\\lib\\site-packages (from trio~=0.17->selenium) (21.2.0)\n",
      "Requirement already satisfied: cffi>=1.14 in e:\\datatrained\\anaconda\\lib\\site-packages (from trio~=0.17->selenium) (1.14.6)\n",
      "Requirement already satisfied: outcome in e:\\datatrained\\anaconda\\lib\\site-packages (from trio~=0.17->selenium) (1.1.0)\n",
      "Requirement already satisfied: async-generator>=1.9 in e:\\datatrained\\anaconda\\lib\\site-packages (from trio~=0.17->selenium) (1.10)\n",
      "Requirement already satisfied: sniffio in e:\\datatrained\\anaconda\\lib\\site-packages (from trio~=0.17->selenium) (1.2.0)\n",
      "Requirement already satisfied: sortedcontainers in e:\\datatrained\\anaconda\\lib\\site-packages (from trio~=0.17->selenium) (2.4.0)\n",
      "Requirement already satisfied: idna in e:\\datatrained\\anaconda\\lib\\site-packages (from trio~=0.17->selenium) (3.2)\n",
      "Requirement already satisfied: pycparser in e:\\datatrained\\anaconda\\lib\\site-packages (from cffi>=1.14->trio~=0.17->selenium) (2.20)\n",
      "Requirement already satisfied: wsproto>=0.14 in e:\\datatrained\\anaconda\\lib\\site-packages (from trio-websocket~=0.9->selenium) (1.0.0)\n",
      "Requirement already satisfied: pyOpenSSL>=0.14 in e:\\datatrained\\anaconda\\lib\\site-packages (from urllib3[secure]~=1.26->selenium) (21.0.0)\n",
      "Requirement already satisfied: cryptography>=1.3.4 in e:\\datatrained\\anaconda\\lib\\site-packages (from urllib3[secure]~=1.26->selenium) (3.4.8)\n",
      "Requirement already satisfied: certifi in e:\\datatrained\\anaconda\\lib\\site-packages (from urllib3[secure]~=1.26->selenium) (2021.10.8)\n",
      "Requirement already satisfied: six>=1.5.2 in e:\\datatrained\\anaconda\\lib\\site-packages (from pyOpenSSL>=0.14->urllib3[secure]~=1.26->selenium) (1.16.0)\n",
      "Requirement already satisfied: h11<1,>=0.9.0 in e:\\datatrained\\anaconda\\lib\\site-packages (from wsproto>=0.14->trio-websocket~=0.9->selenium) (0.12.0)\n"
     ]
    }
   ],
   "source": [
    "# job-title, job-location, company_name, experience_required\n",
    "# selenium installation and importing required lib\n",
    "\n",
    "!pip install selenium\n",
    "\n",
    "from bs4 import BeautifulSoup\n",
    "import selenium\n",
    "from selenium import webdriver\n",
    "import requests\n",
    "import pandas as pd\n",
    "import warnings\n",
    "warnings.filterwarnings(\"ignore\")"
   ]
  },
  {
   "cell_type": "code",
   "execution_count": 3,
   "id": "645ec7bf",
   "metadata": {},
   "outputs": [],
   "source": [
    "# Run the driver\n",
    "driver = webdriver.Chrome('chromedriver.exe')\n",
    "\n",
    "# inserting url to driver\n",
    "url = 'https://www.naukri.com'\n",
    "driver.get(url)"
   ]
  },
  {
   "cell_type": "code",
   "execution_count": 4,
   "id": "21dc6f49",
   "metadata": {},
   "outputs": [
    {
     "data": {
      "text/plain": [
       "<selenium.webdriver.remote.webelement.WebElement (session=\"048db6dc521df07f429f55b4ddb60b2c\", element=\"eea5cbdb-e12d-4dfc-ba8d-478359c08777\")>"
      ]
     },
     "execution_count": 4,
     "metadata": {},
     "output_type": "execute_result"
    }
   ],
   "source": [
    "# Job Search bar path\n",
    "srch_title_xpath = driver.find_element_by_xpath('/html/body/div/div[2]/div[3]/div/div/div[1]/div/div/div/input')\n",
    "srch_title_xpath"
   ]
  },
  {
   "cell_type": "code",
   "execution_count": 5,
   "id": "f45dac63",
   "metadata": {},
   "outputs": [],
   "source": [
    "# Sending input to job search bar\n",
    "srch_title_xpath.send_keys('Data Analyst')"
   ]
  },
  {
   "cell_type": "code",
   "execution_count": 6,
   "id": "7ec1ea8d",
   "metadata": {},
   "outputs": [
    {
     "data": {
      "text/plain": [
       "<selenium.webdriver.remote.webelement.WebElement (session=\"048db6dc521df07f429f55b4ddb60b2c\", element=\"e12cfa08-ae56-4802-8dfc-f999ff68be3d\")>"
      ]
     },
     "execution_count": 6,
     "metadata": {},
     "output_type": "execute_result"
    }
   ],
   "source": [
    "# Job Location Search bar path\n",
    "srch_loc_xpath = driver.find_element_by_xpath('/html/body/div/div[2]/div[3]/div/div/div[3]/div/div/div/input')\n",
    "srch_loc_xpath"
   ]
  },
  {
   "cell_type": "code",
   "execution_count": 7,
   "id": "b75ab226",
   "metadata": {},
   "outputs": [],
   "source": [
    "# Sending input to Job Location Search bar\n",
    "srch_loc_xpath.send_keys('Banglore')"
   ]
  },
  {
   "cell_type": "code",
   "execution_count": 8,
   "id": "0f44a7b0",
   "metadata": {},
   "outputs": [],
   "source": [
    "# To Close the Chat Bot pop up\n",
    "chatbot_Cross01 = driver.find_element_by_xpath('/html/body/div/div[2]/div[4]/div/div[2]/div[2]/div[1]/div/div[1]/div')\n",
    "chatbot_Cross01.click()"
   ]
  },
  {
   "cell_type": "code",
   "execution_count": 9,
   "id": "ebe9da81",
   "metadata": {},
   "outputs": [
    {
     "data": {
      "text/plain": [
       "<selenium.webdriver.remote.webelement.WebElement (session=\"048db6dc521df07f429f55b4ddb60b2c\", element=\"cc6e227a-14a1-45a7-90cd-7582ab42894f\")>"
      ]
     },
     "execution_count": 9,
     "metadata": {},
     "output_type": "execute_result"
    }
   ],
   "source": [
    "# Search Button path\n",
    "srch_btn = driver.find_element_by_xpath('/html/body/div/div[2]/div[3]/div/div/div[6]')\n",
    "srch_btn"
   ]
  },
  {
   "cell_type": "code",
   "execution_count": 10,
   "id": "9c3b2ff8",
   "metadata": {},
   "outputs": [],
   "source": [
    "# Search button click\n",
    "srch_btn.click()"
   ]
  },
  {
   "cell_type": "code",
   "execution_count": 11,
   "id": "e74041f1",
   "metadata": {},
   "outputs": [
    {
     "data": {
      "text/plain": [
       "20"
      ]
     },
     "execution_count": 11,
     "metadata": {},
     "output_type": "execute_result"
    }
   ],
   "source": [
    "# Job title tag path\n",
    "title_tags = driver.find_elements_by_xpath('//a[@class=\"title fw500 ellipsis\"]')\n",
    "len(title_tags)"
   ]
  },
  {
   "cell_type": "code",
   "execution_count": 12,
   "id": "a42714d6",
   "metadata": {
    "scrolled": true
   },
   "outputs": [
    {
     "data": {
      "text/plain": [
       "['Hiring Data Analyst For Global Logic-Immediate Joiner',\n",
       " 'Senior Data Analyst',\n",
       " 'Junior Data Analyst/ Scientist- Fresher Position',\n",
       " 'Assistant Clinical Data Analyst',\n",
       " 'Lead - Data Analyst / Scientist',\n",
       " 'Data Analyst / Sr. Data Analyst',\n",
       " 'Senior Data Analyst - CRM',\n",
       " 'Senior Data Analyst - Supporting Audits',\n",
       " 'Research - Data Analyst / Associate',\n",
       " 'Data Analyst 1']"
      ]
     },
     "execution_count": 12,
     "metadata": {},
     "output_type": "execute_result"
    }
   ],
   "source": [
    "# Creating list of job title\n",
    "\n",
    "job_titles = []\n",
    "for i in title_tags:\n",
    "    job_titles.append(i.text)\n",
    "job_titles = job_titles[0:10]\n",
    "job_titles"
   ]
  },
  {
   "cell_type": "code",
   "execution_count": 13,
   "id": "f66f4c52",
   "metadata": {},
   "outputs": [
    {
     "name": "stdout",
     "output_type": "stream",
     "text": [
      "20\n"
     ]
    },
    {
     "data": {
      "text/plain": [
       "['Noida, Nagpur, Pune, Gurgaon/Gurugram, Bangalore/Bengaluru\\n(WFH during Covid)',\n",
       " 'Bengaluru/Bangalore',\n",
       " 'Kolkata, Gurgaon/Gurugram, Bangalore/Bengaluru\\n(WFH during Covid)',\n",
       " 'Bangalore/Bengaluru',\n",
       " 'Bangalore/Bengaluru',\n",
       " 'Bangalore/Bengaluru',\n",
       " 'Bangalore/Bengaluru',\n",
       " 'Bangalore/Bengaluru',\n",
       " 'Mumbai, Delhi / NCR, Bangalore/Bengaluru',\n",
       " 'Bangalore/Bengaluru']"
      ]
     },
     "execution_count": 13,
     "metadata": {},
     "output_type": "execute_result"
    }
   ],
   "source": [
    "# Job location path\n",
    "loc_tags = driver.find_elements_by_xpath('//li[@class=\"fleft grey-text br2 placeHolderLi location\"]')\n",
    "print(len(loc_tags))\n",
    "\n",
    "# Creating list of job location\n",
    "job_locations = []\n",
    "for i in loc_tags:\n",
    "    job_locations.append(i.text)\n",
    "job_locations = job_locations[:10] \n",
    "job_locations"
   ]
  },
  {
   "cell_type": "code",
   "execution_count": 14,
   "id": "299ee3f4",
   "metadata": {},
   "outputs": [
    {
     "name": "stdout",
     "output_type": "stream",
     "text": [
      "20\n"
     ]
    },
    {
     "data": {
      "text/plain": [
       "['GlobalLogic',\n",
       " 'Flipkart',\n",
       " 'Sejal Consulting Hub',\n",
       " 'Labcorp Drug Development India Private Limited',\n",
       " 'Axim Technologies',\n",
       " 'Vmware',\n",
       " 'Gojek Tech',\n",
       " 'Visa',\n",
       " 'AXL HR Tech',\n",
       " 'Optum Global Solutions (India) Private Limited']"
      ]
     },
     "execution_count": 14,
     "metadata": {},
     "output_type": "execute_result"
    }
   ],
   "source": [
    "# Comapny name path\n",
    "company_tags = driver.find_elements_by_xpath('//a[@class=\"subTitle ellipsis fleft\"]')\n",
    "print(len(company_tags))\n",
    "\n",
    "# Creating list of company name\n",
    "Company_names = []\n",
    "for i in company_tags:\n",
    "    Company_names.append(i.text)\n",
    "Company_names = Company_names[:10] \n",
    "Company_names"
   ]
  },
  {
   "cell_type": "code",
   "execution_count": 15,
   "id": "063cf0a9",
   "metadata": {},
   "outputs": [
    {
     "name": "stdout",
     "output_type": "stream",
     "text": [
      "20\n"
     ]
    },
    {
     "data": {
      "text/plain": [
       "['4-8 Yrs',\n",
       " '4-6 Yrs',\n",
       " '0-3 Yrs',\n",
       " '0-2 Yrs',\n",
       " '12-14 Yrs',\n",
       " '3-6 Yrs',\n",
       " '2-5 Yrs',\n",
       " '5-8 Yrs',\n",
       " '0-2 Yrs',\n",
       " '4-9 Yrs']"
      ]
     },
     "execution_count": 15,
     "metadata": {},
     "output_type": "execute_result"
    }
   ],
   "source": [
    "# Experience Reqired path\n",
    "Exp_tags = driver.find_elements_by_xpath('//li[@class=\"fleft grey-text br2 placeHolderLi experience\"]')\n",
    "print(len(Exp_tags))\n",
    "\n",
    "# Creating list for Experience Reqired\n",
    "Exp_req = []\n",
    "for i in Exp_tags:\n",
    "    Exp_req.append(i.text)\n",
    "Exp_req = Exp_req[:10] \n",
    "Exp_req"
   ]
  },
  {
   "cell_type": "code",
   "execution_count": 16,
   "id": "19935cda",
   "metadata": {},
   "outputs": [
    {
     "data": {
      "text/html": [
       "<div>\n",
       "<style scoped>\n",
       "    .dataframe tbody tr th:only-of-type {\n",
       "        vertical-align: middle;\n",
       "    }\n",
       "\n",
       "    .dataframe tbody tr th {\n",
       "        vertical-align: top;\n",
       "    }\n",
       "\n",
       "    .dataframe thead th {\n",
       "        text-align: right;\n",
       "    }\n",
       "</style>\n",
       "<table border=\"1\" class=\"dataframe\">\n",
       "  <thead>\n",
       "    <tr style=\"text-align: right;\">\n",
       "      <th></th>\n",
       "      <th>JOB_TITLE</th>\n",
       "      <th>Job-location</th>\n",
       "      <th>Company_name</th>\n",
       "      <th>Experience_required</th>\n",
       "    </tr>\n",
       "  </thead>\n",
       "  <tbody>\n",
       "    <tr>\n",
       "      <th>0</th>\n",
       "      <td>Hiring Data Analyst For Global Logic-Immediate...</td>\n",
       "      <td>Noida, Nagpur, Pune, Gurgaon/Gurugram, Bangalo...</td>\n",
       "      <td>GlobalLogic</td>\n",
       "      <td>4-8 Yrs</td>\n",
       "    </tr>\n",
       "    <tr>\n",
       "      <th>1</th>\n",
       "      <td>Senior Data Analyst</td>\n",
       "      <td>Bengaluru/Bangalore</td>\n",
       "      <td>Flipkart</td>\n",
       "      <td>4-6 Yrs</td>\n",
       "    </tr>\n",
       "    <tr>\n",
       "      <th>2</th>\n",
       "      <td>Junior Data Analyst/ Scientist- Fresher Position</td>\n",
       "      <td>Kolkata, Gurgaon/Gurugram, Bangalore/Bengaluru...</td>\n",
       "      <td>Sejal Consulting Hub</td>\n",
       "      <td>0-3 Yrs</td>\n",
       "    </tr>\n",
       "    <tr>\n",
       "      <th>3</th>\n",
       "      <td>Assistant Clinical Data Analyst</td>\n",
       "      <td>Bangalore/Bengaluru</td>\n",
       "      <td>Labcorp Drug Development India Private Limited</td>\n",
       "      <td>0-2 Yrs</td>\n",
       "    </tr>\n",
       "    <tr>\n",
       "      <th>4</th>\n",
       "      <td>Lead - Data Analyst / Scientist</td>\n",
       "      <td>Bangalore/Bengaluru</td>\n",
       "      <td>Axim Technologies</td>\n",
       "      <td>12-14 Yrs</td>\n",
       "    </tr>\n",
       "    <tr>\n",
       "      <th>5</th>\n",
       "      <td>Data Analyst / Sr. Data Analyst</td>\n",
       "      <td>Bangalore/Bengaluru</td>\n",
       "      <td>Vmware</td>\n",
       "      <td>3-6 Yrs</td>\n",
       "    </tr>\n",
       "    <tr>\n",
       "      <th>6</th>\n",
       "      <td>Senior Data Analyst - CRM</td>\n",
       "      <td>Bangalore/Bengaluru</td>\n",
       "      <td>Gojek Tech</td>\n",
       "      <td>2-5 Yrs</td>\n",
       "    </tr>\n",
       "    <tr>\n",
       "      <th>7</th>\n",
       "      <td>Senior Data Analyst - Supporting Audits</td>\n",
       "      <td>Bangalore/Bengaluru</td>\n",
       "      <td>Visa</td>\n",
       "      <td>5-8 Yrs</td>\n",
       "    </tr>\n",
       "    <tr>\n",
       "      <th>8</th>\n",
       "      <td>Research - Data Analyst / Associate</td>\n",
       "      <td>Mumbai, Delhi / NCR, Bangalore/Bengaluru</td>\n",
       "      <td>AXL HR Tech</td>\n",
       "      <td>0-2 Yrs</td>\n",
       "    </tr>\n",
       "    <tr>\n",
       "      <th>9</th>\n",
       "      <td>Data Analyst 1</td>\n",
       "      <td>Bangalore/Bengaluru</td>\n",
       "      <td>Optum Global Solutions (India) Private Limited</td>\n",
       "      <td>4-9 Yrs</td>\n",
       "    </tr>\n",
       "  </tbody>\n",
       "</table>\n",
       "</div>"
      ],
      "text/plain": [
       "                                           JOB_TITLE  \\\n",
       "0  Hiring Data Analyst For Global Logic-Immediate...   \n",
       "1                                Senior Data Analyst   \n",
       "2   Junior Data Analyst/ Scientist- Fresher Position   \n",
       "3                    Assistant Clinical Data Analyst   \n",
       "4                    Lead - Data Analyst / Scientist   \n",
       "5                    Data Analyst / Sr. Data Analyst   \n",
       "6                          Senior Data Analyst - CRM   \n",
       "7            Senior Data Analyst - Supporting Audits   \n",
       "8                Research - Data Analyst / Associate   \n",
       "9                                     Data Analyst 1   \n",
       "\n",
       "                                        Job-location  \\\n",
       "0  Noida, Nagpur, Pune, Gurgaon/Gurugram, Bangalo...   \n",
       "1                                Bengaluru/Bangalore   \n",
       "2  Kolkata, Gurgaon/Gurugram, Bangalore/Bengaluru...   \n",
       "3                                Bangalore/Bengaluru   \n",
       "4                                Bangalore/Bengaluru   \n",
       "5                                Bangalore/Bengaluru   \n",
       "6                                Bangalore/Bengaluru   \n",
       "7                                Bangalore/Bengaluru   \n",
       "8           Mumbai, Delhi / NCR, Bangalore/Bengaluru   \n",
       "9                                Bangalore/Bengaluru   \n",
       "\n",
       "                                     Company_name Experience_required  \n",
       "0                                     GlobalLogic             4-8 Yrs  \n",
       "1                                        Flipkart             4-6 Yrs  \n",
       "2                            Sejal Consulting Hub             0-3 Yrs  \n",
       "3  Labcorp Drug Development India Private Limited             0-2 Yrs  \n",
       "4                               Axim Technologies           12-14 Yrs  \n",
       "5                                          Vmware             3-6 Yrs  \n",
       "6                                      Gojek Tech             2-5 Yrs  \n",
       "7                                            Visa             5-8 Yrs  \n",
       "8                                     AXL HR Tech             0-2 Yrs  \n",
       "9  Optum Global Solutions (India) Private Limited             4-9 Yrs  "
      ]
     },
     "execution_count": 16,
     "metadata": {},
     "output_type": "execute_result"
    }
   ],
   "source": [
    "#Creating DataFrame\n",
    "df= pd.DataFrame({\"JOB_TITLE\":job_titles,\"Job-location\":job_locations,\"Company_name\":Company_names,\"Experience_required\":Exp_req})\n",
    "df"
   ]
  },
  {
   "cell_type": "markdown",
   "id": "0033fe99",
   "metadata": {},
   "source": [
    "### Q2: Write a python program to scrape data for “Data Scientist” Job position in “Bangalore” location. You\n",
    "### have to scrape the job-title, job-location, company_name. You have to scrape first 10 jobs data.\n",
    "### This task will be done in following steps:\n",
    "### 1. First get the webpage https://www.naukri.com/\n",
    "### 2. Enter “Data Scientist” in “Skill, Designations, Companies” field and enter “Bangalore” in “enter the\n",
    "### location” field.\n",
    "### 3. Then click the search button.\n",
    "### 4. Then scrape the data for the first 10 jobs results you get.\n",
    "### 5. Finally create a dataframe of the scraped data.\n",
    "### Note: All of the above steps have to be done in code. No step is to be done manually"
   ]
  },
  {
   "cell_type": "code",
   "execution_count": 17,
   "id": "97049a87",
   "metadata": {},
   "outputs": [],
   "source": [
    "# Run the driver\n",
    "driver1 = webdriver.Chrome('chromedriver.exe')\n",
    "\n",
    "# Load the url in driver\n",
    "url1 = 'https://www.naukri.com/'\n",
    "driver1.get(url1)"
   ]
  },
  {
   "cell_type": "code",
   "execution_count": 18,
   "id": "be17ff74",
   "metadata": {},
   "outputs": [
    {
     "data": {
      "text/plain": [
       "<selenium.webdriver.remote.webelement.WebElement (session=\"218f7c34ac10113f4fac9a78c0a82ada\", element=\"5cf7c64f-0e7f-41e4-9d7e-000d3da40458\")>"
      ]
     },
     "execution_count": 18,
     "metadata": {},
     "output_type": "execute_result"
    }
   ],
   "source": [
    "# Job Search bar path\n",
    "search_title_path = driver1.find_element_by_xpath('/html/body/div/div[2]/div[3]/div/div/div[1]/div/div/div/input')\n",
    "search_title_path"
   ]
  },
  {
   "cell_type": "code",
   "execution_count": 19,
   "id": "7109efd0",
   "metadata": {},
   "outputs": [],
   "source": [
    "# Sending input to job search bar\n",
    "search_title_path.send_keys('Data Scientist')"
   ]
  },
  {
   "cell_type": "code",
   "execution_count": 20,
   "id": "db854400",
   "metadata": {},
   "outputs": [
    {
     "data": {
      "text/plain": [
       "<selenium.webdriver.remote.webelement.WebElement (session=\"218f7c34ac10113f4fac9a78c0a82ada\", element=\"5b6bcb87-616b-48a7-b9ef-98778b7e3934\")>"
      ]
     },
     "execution_count": 20,
     "metadata": {},
     "output_type": "execute_result"
    }
   ],
   "source": [
    "# Job Location Search bar path\n",
    "search_loc_path = driver1.find_element_by_xpath('/html/body/div/div[2]/div[3]/div/div/div[3]/div/div/div/input')\n",
    "search_loc_path"
   ]
  },
  {
   "cell_type": "code",
   "execution_count": 21,
   "id": "9b52d5f7",
   "metadata": {},
   "outputs": [],
   "source": [
    "# Sending input to location bar\n",
    "search_loc_path.send_keys('Banglore')"
   ]
  },
  {
   "cell_type": "code",
   "execution_count": 22,
   "id": "56af3e56",
   "metadata": {},
   "outputs": [],
   "source": [
    "# To Close the Chat Bot pop up\n",
    "chatbot_Cross1 = driver1.find_element_by_xpath('/html/body/div/div[2]/div[4]/div/div[2]/div[2]/div[1]/div/div[1]/div')\n",
    "chatbot_Cross1.click()"
   ]
  },
  {
   "cell_type": "code",
   "execution_count": 23,
   "id": "6c24399a",
   "metadata": {},
   "outputs": [],
   "source": [
    "# Search button path and click\n",
    "srch_btn1 = driver1.find_element_by_xpath('/html/body/div/div[2]/div[3]/div/div/div[6]')\n",
    "srch_btn1.click()"
   ]
  },
  {
   "cell_type": "code",
   "execution_count": 24,
   "id": "9be6584c",
   "metadata": {},
   "outputs": [
    {
     "name": "stdout",
     "output_type": "stream",
     "text": [
      "20\n"
     ]
    },
    {
     "data": {
      "text/plain": [
       "['Senior Data Scientist /Senior Software Engineer',\n",
       " 'Data Scientist: Advanced Analytics',\n",
       " 'Data Scientist: Advanced Analytics',\n",
       " 'Sr . Data Scientist',\n",
       " 'Senior Data Scientist',\n",
       " 'Sr Data Scientist',\n",
       " 'Senior Data Scientist',\n",
       " 'Senior Data Scientist',\n",
       " 'Senior Data Scientist - Python/Machine Learning Algorithms',\n",
       " 'Senior/Lead Data Scientist - (Revenue Management)']"
      ]
     },
     "execution_count": 24,
     "metadata": {},
     "output_type": "execute_result"
    }
   ],
   "source": [
    "# Job title tag path\n",
    "srch_job_title1 = driver1.find_elements_by_xpath('//a[@class=\"title fw500 ellipsis\"]')\n",
    "print(len(srch_job_title1))\n",
    "\n",
    "# Creating list of job title\n",
    "Job_title1 = []\n",
    "for i in srch_job_title1 :\n",
    "    Job_title1.append(i.text)\n",
    "Job_title1 = Job_title1[:10]\n",
    "Job_title1\n"
   ]
  },
  {
   "cell_type": "code",
   "execution_count": 25,
   "id": "9a82b0d1",
   "metadata": {},
   "outputs": [
    {
     "name": "stdout",
     "output_type": "stream",
     "text": [
      "20\n"
     ]
    },
    {
     "data": {
      "text/plain": [
       "['Kochi/Cochin, Hyderabad/Secunderabad, Bangalore/Bengaluru\\n(WFH during Covid)',\n",
       " 'Bangalore/Bengaluru',\n",
       " 'Bengaluru/Bangalore',\n",
       " 'Bangalore/Bengaluru',\n",
       " 'Bangalore/Bengaluru',\n",
       " 'Bangalore/Bengaluru',\n",
       " 'Bangalore/Bengaluru',\n",
       " 'Bangalore/Bengaluru',\n",
       " 'Mumbai, Hyderabad/Secunderabad, Pune, Bangalore/Bengaluru',\n",
       " 'Bangalore/Bengaluru']"
      ]
     },
     "execution_count": 25,
     "metadata": {},
     "output_type": "execute_result"
    }
   ],
   "source": [
    "# Job location path\n",
    "Srch_job_loc1 = driver1.find_elements_by_xpath('//li[@class=\"fleft grey-text br2 placeHolderLi location\"]')\n",
    "print(len(Srch_job_loc1))\n",
    "\n",
    "# Creating Job location list\n",
    "Job_loc1 = []\n",
    "for i in Srch_job_loc1:\n",
    "    Job_loc1.append(i.text)\n",
    "Job_loc1 = Job_loc1[:10]\n",
    "Job_loc1"
   ]
  },
  {
   "cell_type": "code",
   "execution_count": 26,
   "id": "3d2fbc56",
   "metadata": {},
   "outputs": [
    {
     "name": "stdout",
     "output_type": "stream",
     "text": [
      "20\n"
     ]
    },
    {
     "data": {
      "text/plain": [
       "['Terawe Technologies Pvt. Ltd.',\n",
       " 'IBM',\n",
       " 'IBM',\n",
       " 'Harman Connected Services Corporation India Pvt.',\n",
       " 'Slice',\n",
       " 'Siemens',\n",
       " 'Dell',\n",
       " 'Dell',\n",
       " 'Altimax Business Solutions',\n",
       " 'o9 Solutions Management India Private Limited']"
      ]
     },
     "execution_count": 26,
     "metadata": {},
     "output_type": "execute_result"
    }
   ],
   "source": [
    "# Company Name path\n",
    "Srch_comp_name1 = driver1.find_elements_by_xpath('//a[@class=\"subTitle ellipsis fleft\"]')\n",
    "print(len(Srch_comp_name1))\n",
    "\n",
    "# Creating Company name list\n",
    "Companies_Name1 = []\n",
    "for i in Srch_comp_name1:\n",
    "    Companies_Name1.append(i.text)\n",
    "Companies_Name1 = Companies_Name1[:10]\n",
    "Companies_Name1"
   ]
  },
  {
   "cell_type": "code",
   "execution_count": 27,
   "id": "b1d93a69",
   "metadata": {},
   "outputs": [
    {
     "data": {
      "text/html": [
       "<div>\n",
       "<style scoped>\n",
       "    .dataframe tbody tr th:only-of-type {\n",
       "        vertical-align: middle;\n",
       "    }\n",
       "\n",
       "    .dataframe tbody tr th {\n",
       "        vertical-align: top;\n",
       "    }\n",
       "\n",
       "    .dataframe thead th {\n",
       "        text-align: right;\n",
       "    }\n",
       "</style>\n",
       "<table border=\"1\" class=\"dataframe\">\n",
       "  <thead>\n",
       "    <tr style=\"text-align: right;\">\n",
       "      <th></th>\n",
       "      <th>Job-Title</th>\n",
       "      <th>Job-Location</th>\n",
       "      <th>Company_Name</th>\n",
       "    </tr>\n",
       "  </thead>\n",
       "  <tbody>\n",
       "    <tr>\n",
       "      <th>0</th>\n",
       "      <td>Senior Data Scientist /Senior Software Engineer</td>\n",
       "      <td>Kochi/Cochin, Hyderabad/Secunderabad, Bangalor...</td>\n",
       "      <td>Terawe Technologies Pvt. Ltd.</td>\n",
       "    </tr>\n",
       "    <tr>\n",
       "      <th>1</th>\n",
       "      <td>Data Scientist: Advanced Analytics</td>\n",
       "      <td>Bangalore/Bengaluru</td>\n",
       "      <td>IBM</td>\n",
       "    </tr>\n",
       "    <tr>\n",
       "      <th>2</th>\n",
       "      <td>Data Scientist: Advanced Analytics</td>\n",
       "      <td>Bengaluru/Bangalore</td>\n",
       "      <td>IBM</td>\n",
       "    </tr>\n",
       "    <tr>\n",
       "      <th>3</th>\n",
       "      <td>Sr . Data Scientist</td>\n",
       "      <td>Bangalore/Bengaluru</td>\n",
       "      <td>Harman Connected Services Corporation India Pvt.</td>\n",
       "    </tr>\n",
       "    <tr>\n",
       "      <th>4</th>\n",
       "      <td>Senior Data Scientist</td>\n",
       "      <td>Bangalore/Bengaluru</td>\n",
       "      <td>Slice</td>\n",
       "    </tr>\n",
       "    <tr>\n",
       "      <th>5</th>\n",
       "      <td>Sr Data Scientist</td>\n",
       "      <td>Bangalore/Bengaluru</td>\n",
       "      <td>Siemens</td>\n",
       "    </tr>\n",
       "    <tr>\n",
       "      <th>6</th>\n",
       "      <td>Senior Data Scientist</td>\n",
       "      <td>Bangalore/Bengaluru</td>\n",
       "      <td>Dell</td>\n",
       "    </tr>\n",
       "    <tr>\n",
       "      <th>7</th>\n",
       "      <td>Senior Data Scientist</td>\n",
       "      <td>Bangalore/Bengaluru</td>\n",
       "      <td>Dell</td>\n",
       "    </tr>\n",
       "    <tr>\n",
       "      <th>8</th>\n",
       "      <td>Senior Data Scientist - Python/Machine Learnin...</td>\n",
       "      <td>Mumbai, Hyderabad/Secunderabad, Pune, Bangalor...</td>\n",
       "      <td>Altimax Business Solutions</td>\n",
       "    </tr>\n",
       "    <tr>\n",
       "      <th>9</th>\n",
       "      <td>Senior/Lead Data Scientist - (Revenue Management)</td>\n",
       "      <td>Bangalore/Bengaluru</td>\n",
       "      <td>o9 Solutions Management India Private Limited</td>\n",
       "    </tr>\n",
       "  </tbody>\n",
       "</table>\n",
       "</div>"
      ],
      "text/plain": [
       "                                           Job-Title  \\\n",
       "0    Senior Data Scientist /Senior Software Engineer   \n",
       "1                 Data Scientist: Advanced Analytics   \n",
       "2                 Data Scientist: Advanced Analytics   \n",
       "3                                Sr . Data Scientist   \n",
       "4                              Senior Data Scientist   \n",
       "5                                  Sr Data Scientist   \n",
       "6                              Senior Data Scientist   \n",
       "7                              Senior Data Scientist   \n",
       "8  Senior Data Scientist - Python/Machine Learnin...   \n",
       "9  Senior/Lead Data Scientist - (Revenue Management)   \n",
       "\n",
       "                                        Job-Location  \\\n",
       "0  Kochi/Cochin, Hyderabad/Secunderabad, Bangalor...   \n",
       "1                                Bangalore/Bengaluru   \n",
       "2                                Bengaluru/Bangalore   \n",
       "3                                Bangalore/Bengaluru   \n",
       "4                                Bangalore/Bengaluru   \n",
       "5                                Bangalore/Bengaluru   \n",
       "6                                Bangalore/Bengaluru   \n",
       "7                                Bangalore/Bengaluru   \n",
       "8  Mumbai, Hyderabad/Secunderabad, Pune, Bangalor...   \n",
       "9                                Bangalore/Bengaluru   \n",
       "\n",
       "                                       Company_Name  \n",
       "0                     Terawe Technologies Pvt. Ltd.  \n",
       "1                                               IBM  \n",
       "2                                               IBM  \n",
       "3  Harman Connected Services Corporation India Pvt.  \n",
       "4                                             Slice  \n",
       "5                                           Siemens  \n",
       "6                                              Dell  \n",
       "7                                              Dell  \n",
       "8                        Altimax Business Solutions  \n",
       "9     o9 Solutions Management India Private Limited  "
      ]
     },
     "execution_count": 27,
     "metadata": {},
     "output_type": "execute_result"
    }
   ],
   "source": [
    "# creating data frame \n",
    "df1 = pd.DataFrame({\"Job-Title\":Job_title1, \"Job-Location\":Job_loc1 , \"Company_Name\":Companies_Name1})\n",
    "df1"
   ]
  },
  {
   "cell_type": "markdown",
   "id": "3206e090",
   "metadata": {},
   "source": [
    "### Q3: In this question you have to scrape data using the filters available on the webpage as shown below:ASSIGNMENT 2\n",
    "### You have to use the location and salary filter.\n",
    "### You have to scrape data for “Data Scientist” designation for first 10 job results.\n",
    "### You have to scrape the job-title, job-location, company name, experience required.\n",
    "### The location filter to be used is “Delhi/NCR”. The salary filter to be used is “3-6” lakhs"
   ]
  },
  {
   "cell_type": "code",
   "execution_count": 28,
   "id": "59fecb72",
   "metadata": {},
   "outputs": [],
   "source": [
    "# Run the driver\n",
    "driver2 = webdriver.Chrome('chromedriver.exe')\n",
    "\n",
    "# Load the site in driver\n",
    "url2 = 'https://www.naukri.com/'\n",
    "driver2.get(url2)"
   ]
  },
  {
   "cell_type": "code",
   "execution_count": 29,
   "id": "7b08f244",
   "metadata": {},
   "outputs": [
    {
     "data": {
      "text/plain": [
       "<selenium.webdriver.remote.webelement.WebElement (session=\"e58f7aa19a0c04f2cbfcc1507d9723d8\", element=\"c63f0516-03ad-42e6-8d51-68eb2d927967\")>"
      ]
     },
     "execution_count": 29,
     "metadata": {},
     "output_type": "execute_result"
    }
   ],
   "source": [
    "# To find the path of job designation search bar\n",
    "search_title_path2 = driver2.find_element_by_xpath('/html/body/div/div[2]/div[3]/div/div/div[1]/div/div/div/input')\n",
    "search_title_path2"
   ]
  },
  {
   "cell_type": "code",
   "execution_count": 30,
   "id": "0e5e2dfa",
   "metadata": {},
   "outputs": [],
   "source": [
    "# Sending input to job designation search bar\n",
    "\n",
    "search_title_path2.send_keys('Data Scientist')"
   ]
  },
  {
   "cell_type": "code",
   "execution_count": 31,
   "id": "af620bb3",
   "metadata": {},
   "outputs": [],
   "source": [
    "# To Close the Chat Bot pop up\n",
    "chatbot_Cross2 = driver2.find_element_by_xpath('/html/body/div/div[2]/div[4]/div/div[2]/div[2]/div[1]/div/div[1]/div')\n",
    "chatbot_Cross2.click()"
   ]
  },
  {
   "cell_type": "code",
   "execution_count": 32,
   "id": "6bfda01e",
   "metadata": {},
   "outputs": [],
   "source": [
    "# Search button click\n",
    "\n",
    "srch_btn2 = driver2.find_element_by_xpath('/html/body/div/div[2]/div[3]/div/div/div[6]')\n",
    "srch_btn2.click()"
   ]
  },
  {
   "cell_type": "code",
   "execution_count": 33,
   "id": "33a21a69",
   "metadata": {},
   "outputs": [],
   "source": [
    "# Check mark the filter for Location Delhi/NCR\n",
    "\n",
    "check_button = driver2.find_element_by_xpath('/html/body/div[1]/div[3]/div[2]/section[1]/div[2]/div[3]/div[2]/div[3]/label/i')\n",
    "check_button.click()"
   ]
  },
  {
   "cell_type": "code",
   "execution_count": 34,
   "id": "85f53b49",
   "metadata": {},
   "outputs": [],
   "source": [
    "# Check mark the filter for salary 3-6 lac\n",
    "\n",
    "check_button1 = driver2.find_element_by_xpath('/html/body/div[1]/div[3]/div[2]/section[1]/div[2]/div[4]/div[2]/div[2]/label/i')\n",
    "check_button1.click()"
   ]
  },
  {
   "cell_type": "code",
   "execution_count": 35,
   "id": "08fd4a3f",
   "metadata": {},
   "outputs": [
    {
     "name": "stdout",
     "output_type": "stream",
     "text": [
      "20\n"
     ]
    },
    {
     "data": {
      "text/plain": [
       "['Data Scientist / Senior DS/ Team Lead',\n",
       " 'Openings For Jr/mid/Sr level data Scientists',\n",
       " 'Job Opportunity || Data Scientist || HCL Technologies',\n",
       " 'Hiring For Data Analyst / Data Scientist',\n",
       " 'Senior Data Scientist I',\n",
       " 'Data Scientist',\n",
       " 'Data Scientist | Python | Machine Learning | Deep Learning- Fresher',\n",
       " 'Data Scientist',\n",
       " 'Urgent Hiring For Data Scientist',\n",
       " 'Urgent Hiring For Data Scientist']"
      ]
     },
     "execution_count": 35,
     "metadata": {},
     "output_type": "execute_result"
    }
   ],
   "source": [
    "# Job title tag path and creating list for job title \n",
    "\n",
    "Srch_job_title2 = driver2.find_elements_by_xpath('//a[@class=\"title fw500 ellipsis\"]')\n",
    "print(len(Srch_job_title2))\n",
    "job_title2 = []\n",
    "for i in Srch_job_title2:\n",
    "    job_title2.append(i.text)\n",
    "job_title2 = job_title2[:10]\n",
    "job_title2"
   ]
  },
  {
   "cell_type": "code",
   "execution_count": 36,
   "id": "65aa7ba2",
   "metadata": {},
   "outputs": [
    {
     "name": "stdout",
     "output_type": "stream",
     "text": [
      "20\n"
     ]
    },
    {
     "data": {
      "text/plain": [
       "['Mumbai, Gurgaon/Gurugram(Cyber City +1)',\n",
       " 'Kolkata, Hyderabad/Secunderabad, Pune, Ahmedabad, Chennai, Bangalore/Bengaluru, Delhi / NCR, Mumbai (All Areas)\\n(WFH during Covid)',\n",
       " 'Delhi / NCR',\n",
       " 'Noida(Sector-59 Noida)',\n",
       " 'Gurgaon/Gurugram',\n",
       " 'Gurgaon/Gurugram(Uday Nagar)',\n",
       " 'Noida, Gurgaon/Gurugram, Delhi / NCR',\n",
       " 'Gurgaon/Gurugram',\n",
       " 'Gurgaon/Gurugram, Bangalore/Bengaluru',\n",
       " 'Gurgaon/Gurugram, Bangalore/Bengaluru']"
      ]
     },
     "execution_count": 36,
     "metadata": {},
     "output_type": "execute_result"
    }
   ],
   "source": [
    "# Job location path and creating list for the job loaction\n",
    "\n",
    "Srch_job_loc2 = driver2.find_elements_by_xpath('//li[@class=\"fleft grey-text br2 placeHolderLi location\"]')\n",
    "print(len(Srch_job_loc2))\n",
    "job_loc2 = []\n",
    "for i in Srch_job_loc2:\n",
    "    job_loc2.append(i.text)\n",
    "job_loc2 = job_loc2[:10]\n",
    "job_loc2"
   ]
  },
  {
   "cell_type": "code",
   "execution_count": 37,
   "id": "ffd384e3",
   "metadata": {},
   "outputs": [
    {
     "name": "stdout",
     "output_type": "stream",
     "text": [
      "20\n"
     ]
    },
    {
     "data": {
      "text/plain": [
       "['NebulARC Technologies Private Limited',\n",
       " 'Pluto seven business solutions (p) limited',\n",
       " 'HCL',\n",
       " 'Careerera',\n",
       " 'Delhivery',\n",
       " 'Core Diagnostics Private Limited',\n",
       " 'Schlesinger Group',\n",
       " 'T & A Solutions',\n",
       " 'Mount Talent Consulting Private Limited',\n",
       " 'Mount Talent Consulting Private Limited']"
      ]
     },
     "execution_count": 37,
     "metadata": {},
     "output_type": "execute_result"
    }
   ],
   "source": [
    "# Companies name path and creating list for companies name\n",
    "Srch_company_name2 = driver2.find_elements_by_xpath('//a[@class=\"subTitle ellipsis fleft\"]')\n",
    "print(len(Srch_company_name2))\n",
    "Company_name2 = []\n",
    "for i in Srch_company_name2:\n",
    "    Company_name2.append(i.text)\n",
    "Company_name2 = Company_name2[:10]\n",
    "Company_name2"
   ]
  },
  {
   "cell_type": "code",
   "execution_count": 38,
   "id": "b50178e5",
   "metadata": {},
   "outputs": [
    {
     "name": "stdout",
     "output_type": "stream",
     "text": [
      "20\n"
     ]
    },
    {
     "data": {
      "text/plain": [
       "['0-4 Yrs',\n",
       " '2-6 Yrs',\n",
       " '2-6 Yrs',\n",
       " '2-5 Yrs',\n",
       " '3-7 Yrs',\n",
       " '2-7 Yrs',\n",
       " '0-3 Yrs',\n",
       " '2-6 Yrs',\n",
       " '1-6 Yrs',\n",
       " '1-6 Yrs']"
      ]
     },
     "execution_count": 38,
     "metadata": {},
     "output_type": "execute_result"
    }
   ],
   "source": [
    "# Experience req by company path and list for the same\n",
    "\n",
    "Srch_exp_req2 = driver2.find_elements_by_xpath('//li[@class=\"fleft grey-text br2 placeHolderLi experience\"]')\n",
    "print(len(Srch_exp_req2))\n",
    "Exp_req2 = []\n",
    "for i in Srch_exp_req2:\n",
    "    Exp_req2.append(i.text)\n",
    "Exp_req2 = Exp_req2[:10]\n",
    "Exp_req2"
   ]
  },
  {
   "cell_type": "code",
   "execution_count": 39,
   "id": "6bea3192",
   "metadata": {},
   "outputs": [
    {
     "data": {
      "text/html": [
       "<div>\n",
       "<style scoped>\n",
       "    .dataframe tbody tr th:only-of-type {\n",
       "        vertical-align: middle;\n",
       "    }\n",
       "\n",
       "    .dataframe tbody tr th {\n",
       "        vertical-align: top;\n",
       "    }\n",
       "\n",
       "    .dataframe thead th {\n",
       "        text-align: right;\n",
       "    }\n",
       "</style>\n",
       "<table border=\"1\" class=\"dataframe\">\n",
       "  <thead>\n",
       "    <tr style=\"text-align: right;\">\n",
       "      <th></th>\n",
       "      <th>Job-title2</th>\n",
       "      <th>Job-location2</th>\n",
       "      <th>Company_name2</th>\n",
       "      <th>Experience_required2</th>\n",
       "    </tr>\n",
       "  </thead>\n",
       "  <tbody>\n",
       "    <tr>\n",
       "      <th>0</th>\n",
       "      <td>Data Scientist / Senior DS/ Team Lead</td>\n",
       "      <td>Mumbai, Gurgaon/Gurugram(Cyber City +1)</td>\n",
       "      <td>NebulARC Technologies Private Limited</td>\n",
       "      <td>0-4 Yrs</td>\n",
       "    </tr>\n",
       "    <tr>\n",
       "      <th>1</th>\n",
       "      <td>Openings For Jr/mid/Sr level data Scientists</td>\n",
       "      <td>Kolkata, Hyderabad/Secunderabad, Pune, Ahmedab...</td>\n",
       "      <td>Pluto seven business solutions (p) limited</td>\n",
       "      <td>2-6 Yrs</td>\n",
       "    </tr>\n",
       "    <tr>\n",
       "      <th>2</th>\n",
       "      <td>Job Opportunity || Data Scientist || HCL Techn...</td>\n",
       "      <td>Delhi / NCR</td>\n",
       "      <td>HCL</td>\n",
       "      <td>2-6 Yrs</td>\n",
       "    </tr>\n",
       "    <tr>\n",
       "      <th>3</th>\n",
       "      <td>Hiring For Data Analyst / Data Scientist</td>\n",
       "      <td>Noida(Sector-59 Noida)</td>\n",
       "      <td>Careerera</td>\n",
       "      <td>2-5 Yrs</td>\n",
       "    </tr>\n",
       "    <tr>\n",
       "      <th>4</th>\n",
       "      <td>Senior Data Scientist I</td>\n",
       "      <td>Gurgaon/Gurugram</td>\n",
       "      <td>Delhivery</td>\n",
       "      <td>3-7 Yrs</td>\n",
       "    </tr>\n",
       "    <tr>\n",
       "      <th>5</th>\n",
       "      <td>Data Scientist</td>\n",
       "      <td>Gurgaon/Gurugram(Uday Nagar)</td>\n",
       "      <td>Core Diagnostics Private Limited</td>\n",
       "      <td>2-7 Yrs</td>\n",
       "    </tr>\n",
       "    <tr>\n",
       "      <th>6</th>\n",
       "      <td>Data Scientist | Python | Machine Learning | D...</td>\n",
       "      <td>Noida, Gurgaon/Gurugram, Delhi / NCR</td>\n",
       "      <td>Schlesinger Group</td>\n",
       "      <td>0-3 Yrs</td>\n",
       "    </tr>\n",
       "    <tr>\n",
       "      <th>7</th>\n",
       "      <td>Data Scientist</td>\n",
       "      <td>Gurgaon/Gurugram</td>\n",
       "      <td>T &amp; A Solutions</td>\n",
       "      <td>2-6 Yrs</td>\n",
       "    </tr>\n",
       "    <tr>\n",
       "      <th>8</th>\n",
       "      <td>Urgent Hiring For Data Scientist</td>\n",
       "      <td>Gurgaon/Gurugram, Bangalore/Bengaluru</td>\n",
       "      <td>Mount Talent Consulting Private Limited</td>\n",
       "      <td>1-6 Yrs</td>\n",
       "    </tr>\n",
       "    <tr>\n",
       "      <th>9</th>\n",
       "      <td>Urgent Hiring For Data Scientist</td>\n",
       "      <td>Gurgaon/Gurugram, Bangalore/Bengaluru</td>\n",
       "      <td>Mount Talent Consulting Private Limited</td>\n",
       "      <td>1-6 Yrs</td>\n",
       "    </tr>\n",
       "  </tbody>\n",
       "</table>\n",
       "</div>"
      ],
      "text/plain": [
       "                                          Job-title2  \\\n",
       "0              Data Scientist / Senior DS/ Team Lead   \n",
       "1       Openings For Jr/mid/Sr level data Scientists   \n",
       "2  Job Opportunity || Data Scientist || HCL Techn...   \n",
       "3           Hiring For Data Analyst / Data Scientist   \n",
       "4                            Senior Data Scientist I   \n",
       "5                                     Data Scientist   \n",
       "6  Data Scientist | Python | Machine Learning | D...   \n",
       "7                                     Data Scientist   \n",
       "8                   Urgent Hiring For Data Scientist   \n",
       "9                   Urgent Hiring For Data Scientist   \n",
       "\n",
       "                                       Job-location2  \\\n",
       "0            Mumbai, Gurgaon/Gurugram(Cyber City +1)   \n",
       "1  Kolkata, Hyderabad/Secunderabad, Pune, Ahmedab...   \n",
       "2                                        Delhi / NCR   \n",
       "3                             Noida(Sector-59 Noida)   \n",
       "4                                   Gurgaon/Gurugram   \n",
       "5                       Gurgaon/Gurugram(Uday Nagar)   \n",
       "6               Noida, Gurgaon/Gurugram, Delhi / NCR   \n",
       "7                                   Gurgaon/Gurugram   \n",
       "8              Gurgaon/Gurugram, Bangalore/Bengaluru   \n",
       "9              Gurgaon/Gurugram, Bangalore/Bengaluru   \n",
       "\n",
       "                                Company_name2 Experience_required2  \n",
       "0       NebulARC Technologies Private Limited              0-4 Yrs  \n",
       "1  Pluto seven business solutions (p) limited              2-6 Yrs  \n",
       "2                                         HCL              2-6 Yrs  \n",
       "3                                   Careerera              2-5 Yrs  \n",
       "4                                   Delhivery              3-7 Yrs  \n",
       "5            Core Diagnostics Private Limited              2-7 Yrs  \n",
       "6                           Schlesinger Group              0-3 Yrs  \n",
       "7                             T & A Solutions              2-6 Yrs  \n",
       "8     Mount Talent Consulting Private Limited              1-6 Yrs  \n",
       "9     Mount Talent Consulting Private Limited              1-6 Yrs  "
      ]
     },
     "execution_count": 39,
     "metadata": {},
     "output_type": "execute_result"
    }
   ],
   "source": [
    "# Creating DataFrame\n",
    "df2 = pd.DataFrame({'Job-title2':job_title2,'Job-location2':job_loc2,'Company_name2':Company_name2,'Experience_required2':Exp_req2})\n",
    "df2"
   ]
  },
  {
   "cell_type": "markdown",
   "id": "d213b3f6",
   "metadata": {},
   "source": [
    "### Q4: Scrape data of first 100 sunglasses listings on flipkart.com. You have to scrape four attributes:\n",
    "### 1. Brand\n",
    "### 2. Product Description\n",
    "### 3. Price\n",
    "### The attributes which you have to scrape is ticked marked in the below image.\n",
    "### To scrape the data you have to go through following steps:\n",
    "### 1. Go to Flipkart webpage by url : https://www.flipkart.com/\n",
    "### 2. Enter “sunglasses” in the search field where “search for products, brands andmore” is written and\n",
    "### click the search icon\n",
    "### 3. After that you will reach to the page having a lot of sunglasses. From this pageyou can scrap the\n",
    "### required data as usual.ASSIGNMENT 2\n",
    "### 4. After scraping data from the first page, go to the “Next” Button at the bottom ofthe page , then\n",
    "### click on it.\n",
    "### 5. Now scrape data from this page as usual\n",
    "### 6. Repeat this until you get data for 100 sunglasses.\n",
    "### Note: That all of the above steps have to be done by coding only and not manually."
   ]
  },
  {
   "cell_type": "code",
   "execution_count": 60,
   "id": "ba7835e1",
   "metadata": {},
   "outputs": [],
   "source": [
    "# To run the web driver\n",
    "driver3 = webdriver.Chrome('chromedriver.exe')"
   ]
  },
  {
   "cell_type": "code",
   "execution_count": 61,
   "id": "909b8feb",
   "metadata": {},
   "outputs": [],
   "source": [
    "# To load the site in driver\n",
    "driver3.get('https://www.flipkart.com/')"
   ]
  },
  {
   "cell_type": "code",
   "execution_count": 62,
   "id": "7759dcfa",
   "metadata": {},
   "outputs": [],
   "source": [
    "# To close the login pop-up\n",
    "\n",
    "Login_popup = driver3.find_element_by_xpath('/html/body/div[2]/div/div/button')\n",
    "Login_popup.click()"
   ]
  },
  {
   "cell_type": "code",
   "execution_count": 63,
   "id": "735bbbf6",
   "metadata": {},
   "outputs": [
    {
     "data": {
      "text/plain": [
       "<selenium.webdriver.remote.webelement.WebElement (session=\"a562afc738532aa4e9713ae7ec79d68e\", element=\"6584518b-dda7-4839-a642-98c673b9cba6\")>"
      ]
     },
     "execution_count": 63,
     "metadata": {},
     "output_type": "execute_result"
    }
   ],
   "source": [
    "# Search item bar path\n",
    "search_item3 = driver3.find_element_by_xpath('/html/body/div[1]/div/div[1]/div[1]/div[2]/div[2]/form/div/div/input')\n",
    "search_item3"
   ]
  },
  {
   "cell_type": "code",
   "execution_count": 64,
   "id": "b0194709",
   "metadata": {},
   "outputs": [],
   "source": [
    "# Sending input to search bar\n",
    "search_item3.send_keys('sunglasses')"
   ]
  },
  {
   "cell_type": "code",
   "execution_count": 65,
   "id": "e2962b2b",
   "metadata": {
    "scrolled": true
   },
   "outputs": [],
   "source": [
    "# To get the path and click on search button  \n",
    "search_flp_button1 = driver3.find_element_by_xpath('/html/body/div[1]/div/div[1]/div[1]/div[2]/div[2]/form/div/button')\n",
    "search_flp_button1.click()"
   ]
  },
  {
   "cell_type": "code",
   "execution_count": 66,
   "id": "635c46fe",
   "metadata": {},
   "outputs": [
    {
     "name": "stdout",
     "output_type": "stream",
     "text": [
      "40\n"
     ]
    },
    {
     "data": {
      "text/plain": [
       "['VINCENT CHASE',\n",
       " 'Silver Kartz',\n",
       " 'PIRASO',\n",
       " 'Fastrack',\n",
       " 'Elligator',\n",
       " 'SRPM',\n",
       " 'kingsunglasses',\n",
       " 'VILLAIN',\n",
       " 'SHAAH COLLECTIONS',\n",
       " 'PIRASO',\n",
       " 'PHENOMENAL',\n",
       " 'ROYAL SON',\n",
       " 'New Specs',\n",
       " 'PIRASO',\n",
       " 'SUNBEE',\n",
       " 'Silver Kartz',\n",
       " 'ROZZETTA CRAFT',\n",
       " 'SUNBEE',\n",
       " 'ROYAL SON',\n",
       " 'ROYAL SON',\n",
       " 'PIRASO',\n",
       " 'kingsunglasses',\n",
       " 'Lee Topper',\n",
       " 'ROYAL SON',\n",
       " 'SHAAH COLLECTIONS',\n",
       " 'ROYAL SON',\n",
       " 'kingsunglasses',\n",
       " 'ROYAL SON',\n",
       " 'Rich Club',\n",
       " 'New Specs',\n",
       " 'hipe',\n",
       " 'ROYAL SON',\n",
       " 'PIRASO',\n",
       " 'PHENOMENAL',\n",
       " 'Elligator',\n",
       " 'Silver Kartz',\n",
       " 'ROZZETTA CRAFT',\n",
       " 'agera',\n",
       " 'PHENOMENAL',\n",
       " 'ROYAL SON']"
      ]
     },
     "execution_count": 66,
     "metadata": {},
     "output_type": "execute_result"
    }
   ],
   "source": [
    "# To get Brand name and create a list of brand name from page 1\n",
    "Search_brand_name1 = driver3.find_elements_by_xpath('//div[@class=\"_2WkVRV\"]')\n",
    "print(len(Search_brand_name1))\n",
    "Brand_name1 = []\n",
    "for i in Search_brand_name1:\n",
    "    Brand_name1.append(i.text)\n",
    "Brand_name1"
   ]
  },
  {
   "cell_type": "code",
   "execution_count": 67,
   "id": "dc51aef3",
   "metadata": {},
   "outputs": [
    {
     "name": "stdout",
     "output_type": "stream",
     "text": [
      "40\n"
     ]
    },
    {
     "data": {
      "text/plain": [
       "['by Lenskart Polarized, UV Protection Round Sunglasses (...',\n",
       " 'UV Protection Clubmaster Sunglasses (53)',\n",
       " 'UV Protection Aviator Sunglasses (54)',\n",
       " 'UV Protection Wayfarer Sunglasses (Free Size)',\n",
       " 'UV Protection Round Sunglasses (54)',\n",
       " 'UV Protection Wayfarer Sunglasses (56)',\n",
       " 'UV Protection Round Sunglasses (54)',\n",
       " 'Others Retro Square Sunglasses (Free Size)',\n",
       " 'UV Protection, Polarized, Mirrored Rectangular Sunglass...',\n",
       " 'UV Protection Aviator Sunglasses (54)',\n",
       " 'UV Protection Retro Square Sunglasses (Free Size)',\n",
       " 'UV Protection Rectangular Sunglasses (Free Size)',\n",
       " 'Mirrored, UV Protection, Riding Glasses, Others Round S...',\n",
       " 'UV Protection Wayfarer Sunglasses (32)',\n",
       " 'UV Protection, Polarized Wayfarer Sunglasses (Free Size...',\n",
       " 'UV Protection Aviator Sunglasses (88)',\n",
       " 'UV Protection, Gradient Rectangular Sunglasses (Free Si...',\n",
       " 'UV Protection, Polarized, Mirrored Round Sunglasses (Fr...',\n",
       " 'Mirrored Aviator Sunglasses (55)',\n",
       " 'Polarized, UV Protection Aviator Sunglasses (58)',\n",
       " 'UV Protection Aviator Sunglasses (54)',\n",
       " 'UV Protection Round Sunglasses (Free Size)',\n",
       " 'Riding Glasses, Night Vision Wrap-around Sunglasses (Fr...',\n",
       " 'Polarized Retro Square Sunglasses (59)',\n",
       " 'UV Protection, Polarized, Mirrored Rectangular Sunglass...',\n",
       " 'UV Protection Rectangular Sunglasses (58)',\n",
       " 'Mirrored, UV Protection Wayfarer Sunglasses (53)',\n",
       " 'Polarized, UV Protection Round Sunglasses (52)',\n",
       " 'UV Protection Round Sunglasses (50)',\n",
       " 'UV Protection Rectangular Sunglasses (Free Size)',\n",
       " 'Mirrored, Gradient, UV Protection Aviator Sunglasses (5...',\n",
       " 'UV Protection Over-sized Sunglasses (60)',\n",
       " 'UV Protection Aviator Sunglasses (58)',\n",
       " 'UV Protection, Mirrored Retro Square Sunglasses (53)',\n",
       " 'UV Protection Round Sunglasses (53)',\n",
       " 'UV Protection Aviator Sunglasses (62)',\n",
       " 'UV Protection Retro Square Sunglasses (Free Size)',\n",
       " 'Gradient Aviator Sunglasses (55)',\n",
       " 'UV Protection, Mirrored Retro Square Sunglasses (53)',\n",
       " 'Mirrored Aviator Sunglasses (58)']"
      ]
     },
     "execution_count": 67,
     "metadata": {},
     "output_type": "execute_result"
    }
   ],
   "source": [
    "# To get product discount and create a list of product discount from page 1\n",
    "Search_prod_disc1 = driver3.find_elements_by_xpath('//a[@class=\"IRpwTa\" or @class=\"IRpwTa _2-ICcC\"]')\n",
    "print(len(Search_prod_disc1))\n",
    "Prod_disc1 = []\n",
    "for i in Search_prod_disc1:\n",
    "    Prod_disc1.append(i.text)\n",
    "Prod_disc1"
   ]
  },
  {
   "cell_type": "code",
   "execution_count": 68,
   "id": "94f93c18",
   "metadata": {},
   "outputs": [
    {
     "name": "stdout",
     "output_type": "stream",
     "text": [
      "40\n"
     ]
    },
    {
     "data": {
      "text/plain": [
       "['₹1,179',\n",
       " '₹367',\n",
       " '₹200',\n",
       " '₹609',\n",
       " '₹248',\n",
       " '₹198',\n",
       " '₹188',\n",
       " '₹549',\n",
       " '₹165',\n",
       " '₹200',\n",
       " '₹309',\n",
       " '₹449',\n",
       " '₹262',\n",
       " '₹190',\n",
       " '₹243',\n",
       " '₹255',\n",
       " '₹383',\n",
       " '₹271',\n",
       " '₹359',\n",
       " '₹759',\n",
       " '₹200',\n",
       " '₹289',\n",
       " '₹276',\n",
       " '₹664',\n",
       " '₹181',\n",
       " '₹449',\n",
       " '₹273',\n",
       " '₹759',\n",
       " '₹355',\n",
       " '₹259',\n",
       " '₹178',\n",
       " '₹664',\n",
       " '₹299',\n",
       " '₹299',\n",
       " '₹189',\n",
       " '₹255',\n",
       " '₹474',\n",
       " '₹196',\n",
       " '₹299',\n",
       " '₹359']"
      ]
     },
     "execution_count": 68,
     "metadata": {},
     "output_type": "execute_result"
    }
   ],
   "source": [
    "# To get product price and create a list of product price from page 1\n",
    "Search_prod_price1 = driver3.find_elements_by_xpath('//div[@class=\"_30jeq3\"]')\n",
    "print(len(Search_prod_price1))\n",
    "Prod_price1 = []\n",
    "for i in Search_prod_price1:\n",
    "    Prod_price1.append(i.text)\n",
    "Prod_price1"
   ]
  },
  {
   "cell_type": "code",
   "execution_count": 69,
   "id": "c4caa524",
   "metadata": {},
   "outputs": [
    {
     "name": "stdout",
     "output_type": "stream",
     "text": [
      "40\n"
     ]
    },
    {
     "data": {
      "text/plain": [
       "['41% off',\n",
       " '75% off',\n",
       " '87% off',\n",
       " '32% off',\n",
       " '90% off',\n",
       " '84% off',\n",
       " '81% off',\n",
       " '26% off',\n",
       " '90% off',\n",
       " '87% off',\n",
       " '84% off',\n",
       " '70% off',\n",
       " '83% off',\n",
       " '88% off',\n",
       " '81% off',\n",
       " '78% off',\n",
       " '80% off',\n",
       " '84% off',\n",
       " '76% off',\n",
       " '62% off',\n",
       " '87% off',\n",
       " '81% off',\n",
       " '88% off',\n",
       " '55% off',\n",
       " '81% off',\n",
       " '70% off',\n",
       " '86% off',\n",
       " '62% off',\n",
       " '64% off',\n",
       " '87% off',\n",
       " '85% off',\n",
       " '66% off',\n",
       " '88% off',\n",
       " '85% off',\n",
       " '87% off',\n",
       " '78% off',\n",
       " '78% off',\n",
       " '82% off',\n",
       " '85% off',\n",
       " '76% off']"
      ]
     },
     "execution_count": 69,
     "metadata": {},
     "output_type": "execute_result"
    }
   ],
   "source": [
    "# To get product discount and create a list of product discount from page 1\n",
    "Search_prod_discount1 = driver3.find_elements_by_xpath('//div[@class=\"_3Ay6Sb\"]')\n",
    "print(len(Search_prod_discount1))\n",
    "Prod_discount1 = []\n",
    "for i in Search_prod_discount1:\n",
    "    Prod_discount1.append(i.text)\n",
    "Prod_discount1"
   ]
  },
  {
   "cell_type": "code",
   "execution_count": 70,
   "id": "fa77cc8b",
   "metadata": {},
   "outputs": [],
   "source": [
    "# Click on next page button\n",
    "Next_pg_button1 = driver3.find_element_by_xpath('/html/body/div[1]/div/div[3]/div[1]/div[2]/div[12]/div/div/nav/a[11]')\n",
    "Next_pg_button1.click()"
   ]
  },
  {
   "cell_type": "code",
   "execution_count": 71,
   "id": "284056cb",
   "metadata": {},
   "outputs": [
    {
     "name": "stdout",
     "output_type": "stream",
     "text": [
      "40\n"
     ]
    },
    {
     "data": {
      "text/plain": [
       "['New Specs',\n",
       " 'Singco India',\n",
       " 'kingsunglasses',\n",
       " 'SKYZA INDIA',\n",
       " 'Rich Club',\n",
       " 'ROYAL SON',\n",
       " 'DEIXELS',\n",
       " 'ROZZETTA CRAFT',\n",
       " 'PIRASO',\n",
       " 'Elligator',\n",
       " 'Lee Topper',\n",
       " 'VILLAIN',\n",
       " 'Fastrack',\n",
       " 'ROYAL SON',\n",
       " 'Fastrack',\n",
       " 'Rich Club',\n",
       " 'hipe',\n",
       " 'Singco India',\n",
       " 'ROZZETTA CRAFT',\n",
       " 'Rich Club',\n",
       " 'hipe',\n",
       " 'maxa',\n",
       " 'ROZZETTA CRAFT',\n",
       " 'ROYAL SON',\n",
       " 'Fastrack',\n",
       " 'Lee Topper',\n",
       " 'Fastrack',\n",
       " 'ROZZETTA CRAFT',\n",
       " 'Silver Kartz',\n",
       " 'Elligator',\n",
       " 'SRPM',\n",
       " 'ROYAL SON',\n",
       " 'ROZZETTA CRAFT',\n",
       " 'Rich Club',\n",
       " 'Singco',\n",
       " 'ROYAL SON',\n",
       " 'SUNBEE',\n",
       " 'kingsunglasses',\n",
       " 'Singco India',\n",
       " 'ROYAL SON']"
      ]
     },
     "execution_count": 71,
     "metadata": {},
     "output_type": "execute_result"
    }
   ],
   "source": [
    "# To get Brand name and create a list of brand name from page 2\n",
    "Search_brand_name2 = driver3.find_elements_by_xpath('//div[@class=\"_2WkVRV\"]')\n",
    "print(len(Search_brand_name2))\n",
    "Brand_name2 = []\n",
    "for i in Search_brand_name2:\n",
    "    Brand_name2.append(i.text)\n",
    "Brand_name2 "
   ]
  },
  {
   "cell_type": "code",
   "execution_count": 72,
   "id": "36db8c69",
   "metadata": {},
   "outputs": [
    {
     "name": "stdout",
     "output_type": "stream",
     "text": [
      "40\n"
     ]
    },
    {
     "data": {
      "text/plain": [
       "['UV Protection Round Sunglasses (Free Size)',\n",
       " 'Gradient, Toughened Glass Lens, UV Protection Retro Squ...',\n",
       " 'UV Protection, Riding Glasses, Mirrored Wayfarer Sungla...',\n",
       " 'Mirrored, Riding Glasses, Gradient Cat-eye Sunglasses (...',\n",
       " 'Polarized Round Sunglasses (48)',\n",
       " 'Mirrored Aviator Sunglasses (55)',\n",
       " 'UV Protection Aviator, Wayfarer Sunglasses (Free Size)',\n",
       " 'Polarized, Night Vision, Riding Glasses Sports, Wrap-ar...',\n",
       " 'UV Protection Butterfly Sunglasses (65)',\n",
       " 'UV Protection Round Sunglasses (54)',\n",
       " 'UV Protection Rectangular Sunglasses (Free Size)',\n",
       " 'Others Wayfarer Sunglasses (Free Size)',\n",
       " 'UV Protection Aviator Sunglasses (58)',\n",
       " 'Mirrored Aviator Sunglasses (Free Size)',\n",
       " 'UV Protection Shield Sunglasses (Free Size)',\n",
       " 'Polarized, UV Protection, Riding Glasses Wayfarer, Rect...',\n",
       " 'UV Protection, Mirrored, Riding Glasses, Night Vision, ...',\n",
       " 'Riding Glasses, UV Protection, Others Aviator Sunglasse...',\n",
       " 'UV Protection, Gradient Retro Square Sunglasses (Free S...',\n",
       " 'UV Protection Round Sunglasses (50)',\n",
       " 'UV Protection, Gradient, Mirrored, Riding Glasses Aviat...',\n",
       " 'UV Protection, Riding Glasses Rectangular, Wayfarer, Ov...',\n",
       " 'UV Protection, Gradient Round Sunglasses (Free Size)',\n",
       " 'Polarized, UV Protection Round Sunglasses (52)',\n",
       " 'Gradient, UV Protection Wayfarer Sunglasses (Free Size)',\n",
       " 'UV Protection, Riding Glasses Retro Square, Spectacle ...',\n",
       " 'UV Protection Aviator Sunglasses (Free Size)',\n",
       " 'UV Protection, Riding Glasses Rectangular Sunglasses (F...',\n",
       " 'UV Protection Wayfarer Sunglasses (Free Size)',\n",
       " 'UV Protection Retro Square, Round Sunglasses (54)',\n",
       " 'UV Protection Wayfarer Sunglasses (53)',\n",
       " 'UV Protection Retro Square Sunglasses (54)',\n",
       " 'UV Protection, Gradient Rectangular Sunglasses (Free Si...',\n",
       " 'Polarized Round Sunglasses (48)',\n",
       " 'UV Protection Aviator Sunglasses (Free Size)',\n",
       " 'UV Protection Retro Square Sunglasses (54)',\n",
       " 'UV Protection, Polarized, Mirrored Retro Square Sunglas...',\n",
       " 'UV Protection Rectangular Sunglasses (Free Size)',\n",
       " 'UV Protection, Riding Glasses, Others Aviator, Wayfarer...',\n",
       " 'Polarized Retro Square Sunglasses (58)']"
      ]
     },
     "execution_count": 72,
     "metadata": {},
     "output_type": "execute_result"
    }
   ],
   "source": [
    "# To get product description and create a list of product description from page 2\n",
    "Search_prod_disc2 = driver3.find_elements_by_xpath('//a[@class=\"IRpwTa\" or @class=\"IRpwTa _2-ICcC\"]')\n",
    "print(len(Search_prod_disc2))\n",
    "Prod_disc2 = []\n",
    "for i in Search_prod_disc2:\n",
    "    Prod_disc2.append(i.text)\n",
    "Prod_disc2"
   ]
  },
  {
   "cell_type": "code",
   "execution_count": 73,
   "id": "eeca9001",
   "metadata": {},
   "outputs": [
    {
     "name": "stdout",
     "output_type": "stream",
     "text": [
      "40\n"
     ]
    },
    {
     "data": {
      "text/plain": [
       "['82% off',\n",
       " '80% off',\n",
       " '84% off',\n",
       " '68% off',\n",
       " '66% off',\n",
       " '76% off',\n",
       " '80% off',\n",
       " '75% off',\n",
       " '86% off',\n",
       " '79% off',\n",
       " '80% off',\n",
       " '47% off',\n",
       " '33% off',\n",
       " '76% off',\n",
       " '20% off',\n",
       " '68% off',\n",
       " '87% off',\n",
       " '86% off',\n",
       " '82% off',\n",
       " '64% off',\n",
       " '79% off',\n",
       " '79% off',\n",
       " '81% off',\n",
       " '60% off',\n",
       " '31% off',\n",
       " '71% off',\n",
       " '28% off',\n",
       " '80% off',\n",
       " '83% off',\n",
       " '85% off',\n",
       " '79% off',\n",
       " '65% off',\n",
       " '84% off',\n",
       " '67% off',\n",
       " '75% off',\n",
       " '66% off',\n",
       " '82% off',\n",
       " '82% off',\n",
       " '67% off',\n",
       " '57% off']"
      ]
     },
     "execution_count": 73,
     "metadata": {},
     "output_type": "execute_result"
    }
   ],
   "source": [
    "# To get product discount and create a list of product discount from page 2\n",
    "Search_prod_discount2 = driver3.find_elements_by_xpath('//div[@class=\"_3Ay6Sb\"]')\n",
    "print(len(Search_prod_discount2))\n",
    "Prod_discount2 = []\n",
    "for i in Search_prod_discount2:\n",
    "    Prod_discount2.append(i.text)\n",
    "Prod_discount2"
   ]
  },
  {
   "cell_type": "code",
   "execution_count": 74,
   "id": "acb9bb45",
   "metadata": {},
   "outputs": [
    {
     "name": "stdout",
     "output_type": "stream",
     "text": [
      "40\n"
     ]
    },
    {
     "data": {
      "text/plain": [
       "['₹233',\n",
       " '₹599',\n",
       " '₹187',\n",
       " '₹159',\n",
       " '₹165',\n",
       " '₹359',\n",
       " '₹229',\n",
       " '₹499',\n",
       " '₹349',\n",
       " '₹265',\n",
       " '₹199',\n",
       " '₹522',\n",
       " '₹869',\n",
       " '₹359',\n",
       " '₹719',\n",
       " '₹314',\n",
       " '₹179',\n",
       " '₹201',\n",
       " '₹349',\n",
       " '₹355',\n",
       " '₹209',\n",
       " '₹144',\n",
       " '₹360',\n",
       " '₹799',\n",
       " '₹549',\n",
       " '₹375',\n",
       " '₹575',\n",
       " '₹426',\n",
       " '₹246',\n",
       " '₹291',\n",
       " '₹207',\n",
       " '₹699',\n",
       " '₹348',\n",
       " '₹163',\n",
       " '₹498',\n",
       " '₹664',\n",
       " '₹227',\n",
       " '₹192',\n",
       " '₹229',\n",
       " '₹854']"
      ]
     },
     "execution_count": 74,
     "metadata": {},
     "output_type": "execute_result"
    }
   ],
   "source": [
    "# To get product price and create a list of product price from page 2\n",
    "Search_prod_price2 = driver3.find_elements_by_xpath('//div[@class=\"_30jeq3\"]')\n",
    "print(len(Search_prod_price2))\n",
    "Prod_price2 = []\n",
    "for i in Search_prod_price2:\n",
    "    Prod_price2.append(i.text)\n",
    "Prod_price2"
   ]
  },
  {
   "cell_type": "code",
   "execution_count": 75,
   "id": "e55845d1",
   "metadata": {},
   "outputs": [],
   "source": [
    "# Click on next page button\n",
    "Next_pg_button1 = driver3.find_element_by_xpath('/html/body/div[1]/div/div[3]/div[1]/div[2]/div[12]/div/div/nav/a[12]')\n",
    "Next_pg_button1.click()"
   ]
  },
  {
   "cell_type": "code",
   "execution_count": 76,
   "id": "a92e3089",
   "metadata": {},
   "outputs": [
    {
     "name": "stdout",
     "output_type": "stream",
     "text": [
      "40\n",
      "20\n"
     ]
    },
    {
     "data": {
      "text/plain": [
       "['PHENOMENAL',\n",
       " 'PIRASO',\n",
       " 'GANSTA',\n",
       " 'Kanishka',\n",
       " 'Elligator',\n",
       " 'Billion',\n",
       " 'ROYAL SON',\n",
       " 'VINCENT CHASE',\n",
       " 'PIRASO',\n",
       " 'ROYAL SON',\n",
       " 'Rich Club',\n",
       " 'AISLIN',\n",
       " 'kingsunglasses',\n",
       " 'ROYAL SON',\n",
       " 'hipe',\n",
       " 'Silver Kartz',\n",
       " 'ROZZETTA CRAFT',\n",
       " 'Fastrack',\n",
       " 'Fastrack',\n",
       " 'peter india']"
      ]
     },
     "execution_count": 76,
     "metadata": {},
     "output_type": "execute_result"
    }
   ],
   "source": [
    "# To get Brand name and create a list of brand name from page 3\n",
    "Search_brand_name3 = driver3.find_elements_by_xpath('//div[@class=\"_2WkVRV\"]')\n",
    "print(len(Search_brand_name3))\n",
    "Brand_name3 = []\n",
    "for i in Search_brand_name3:\n",
    "    Brand_name3.append(i.text)\n",
    "Brand_name3 = Brand_name3[:20]\n",
    "print(len(Brand_name3))\n",
    "Brand_name3"
   ]
  },
  {
   "cell_type": "code",
   "execution_count": 77,
   "id": "acfafddd",
   "metadata": {},
   "outputs": [
    {
     "name": "stdout",
     "output_type": "stream",
     "text": [
      "40\n",
      "20\n"
     ]
    },
    {
     "data": {
      "text/plain": [
       "['UV Protection, Mirrored Clubmaster Sunglasses (Free Siz...',\n",
       " 'UV Protection Aviator Sunglasses (Free Size)',\n",
       " 'UV Protection, Riding Glasses Wayfarer Sunglasses (53)',\n",
       " 'UV Protection Aviator Sunglasses (55)',\n",
       " 'UV Protection Round Sunglasses (55)',\n",
       " 'UV Protection Aviator Sunglasses (57)',\n",
       " 'UV Protection Retro Square Sunglasses (58)',\n",
       " 'by Lenskart UV Protection Wayfarer Sunglasses (49)',\n",
       " 'UV Protection Aviator Sunglasses (54)',\n",
       " 'UV Protection, Gradient Butterfly Sunglasses (57)',\n",
       " 'UV Protection Round Sunglasses (48)',\n",
       " 'UV Protection, Gradient Round Sunglasses (58)',\n",
       " 'Mirrored, UV Protection Wayfarer Sunglasses (Free Size)',\n",
       " 'Mirrored Aviator Sunglasses (55)',\n",
       " 'UV Protection, Gradient, Mirrored, Riding Glasses, Nigh...',\n",
       " 'UV Protection Wayfarer, Aviator Sunglasses (88)',\n",
       " 'UV Protection Round Sunglasses (Free Size)',\n",
       " 'UV Protection Aviator Sunglasses (Free Size)',\n",
       " 'UV Protection Wayfarer Sunglasses (Free Size)',\n",
       " 'UV Protection Spectacle Sunglasses (Free Size)']"
      ]
     },
     "execution_count": 77,
     "metadata": {},
     "output_type": "execute_result"
    }
   ],
   "source": [
    "# To get product description and create a list of product description from page 3\n",
    "Search_prod_disc3 = driver3.find_elements_by_xpath('//a[@class=\"IRpwTa\" or @class=\"IRpwTa _2-ICcC\"]')\n",
    "print(len(Search_prod_disc3))\n",
    "Prod_disc3 = []\n",
    "for i in Search_prod_disc3:\n",
    "    Prod_disc3.append(i.text)\n",
    "Prod_disc3 = Prod_disc3[:20]\n",
    "print(len(Prod_disc3))\n",
    "Prod_disc3"
   ]
  },
  {
   "cell_type": "code",
   "execution_count": 78,
   "id": "af5dd99c",
   "metadata": {},
   "outputs": [
    {
     "name": "stdout",
     "output_type": "stream",
     "text": [
      "40\n",
      "20\n"
     ]
    },
    {
     "data": {
      "text/plain": [
       "['85% off',\n",
       " '83% off',\n",
       " '88% off',\n",
       " '87% off',\n",
       " '88% off',\n",
       " '77% off',\n",
       " '70% off',\n",
       " '41% off',\n",
       " '87% off',\n",
       " '66% off',\n",
       " '72% off',\n",
       " '69% off',\n",
       " '87% off',\n",
       " '76% off',\n",
       " '85% off',\n",
       " '77% off',\n",
       " '84% off',\n",
       " '20% off',\n",
       " '20% off',\n",
       " '86% off']"
      ]
     },
     "execution_count": 78,
     "metadata": {},
     "output_type": "execute_result"
    }
   ],
   "source": [
    "# To get product discount and create a list of product discount from page 3\n",
    "Search_prod_discount3 = driver3.find_elements_by_xpath('//div[@class=\"_3Ay6Sb\"]')\n",
    "print(len(Search_prod_discount3))\n",
    "Prod_discount3 = []\n",
    "for i in Search_prod_discount3:\n",
    "    Prod_discount3.append(i.text)\n",
    "Prod_discount3 = Prod_discount3[:20]\n",
    "print(len(Prod_discount3))\n",
    "Prod_discount3"
   ]
  },
  {
   "cell_type": "code",
   "execution_count": 79,
   "id": "3525ed8f",
   "metadata": {},
   "outputs": [
    {
     "name": "stdout",
     "output_type": "stream",
     "text": [
      "40\n",
      "20\n"
     ]
    },
    {
     "data": {
      "text/plain": [
       "['₹287',\n",
       " '₹261',\n",
       " '₹209',\n",
       " '₹145',\n",
       " '₹239',\n",
       " '₹224',\n",
       " '₹449',\n",
       " '₹1,179',\n",
       " '₹200',\n",
       " '₹664',\n",
       " '₹220',\n",
       " '₹472',\n",
       " '₹256',\n",
       " '₹359',\n",
       " '₹189',\n",
       " '₹265',\n",
       " '₹426',\n",
       " '₹639',\n",
       " '₹719',\n",
       " '₹179']"
      ]
     },
     "execution_count": 79,
     "metadata": {},
     "output_type": "execute_result"
    }
   ],
   "source": [
    "# To get product price and create a list of product price from page 3\n",
    "\n",
    "Search_prod_price3 = driver3.find_elements_by_xpath('//div[@class=\"_30jeq3\"]')\n",
    "print(len(Search_prod_price3))\n",
    "Prod_price3 = []\n",
    "for i in Search_prod_price3:\n",
    "    Prod_price3.append(i.text)\n",
    "Prod_price3 = Prod_price3[:20]\n",
    "print(len(Prod_price3))\n",
    "Prod_price3"
   ]
  },
  {
   "cell_type": "code",
   "execution_count": 80,
   "id": "df363660",
   "metadata": {},
   "outputs": [
    {
     "name": "stdout",
     "output_type": "stream",
     "text": [
      "100\n",
      "100\n",
      "100\n",
      "100\n"
     ]
    }
   ],
   "source": [
    "# Creating the final combined list of three pages\n",
    "final_brand_names = Brand_name1 + Brand_name2 + Brand_name3\n",
    "final_prod_discr = Prod_disc1 + Prod_disc2 + Prod_disc3\n",
    "final_price_list = Prod_price1 + Prod_price2 + Prod_price3\n",
    "final_disc_list = Prod_discount1 + Prod_discount2 + Prod_discount3\n",
    "print(len(final_brand_names))\n",
    "print(len(final_prod_discr))\n",
    "print(len(final_price_list))\n",
    "print(len(final_disc_list))"
   ]
  },
  {
   "cell_type": "code",
   "execution_count": 81,
   "id": "baae2e5c",
   "metadata": {},
   "outputs": [
    {
     "data": {
      "text/html": [
       "<div>\n",
       "<style scoped>\n",
       "    .dataframe tbody tr th:only-of-type {\n",
       "        vertical-align: middle;\n",
       "    }\n",
       "\n",
       "    .dataframe tbody tr th {\n",
       "        vertical-align: top;\n",
       "    }\n",
       "\n",
       "    .dataframe thead th {\n",
       "        text-align: right;\n",
       "    }\n",
       "</style>\n",
       "<table border=\"1\" class=\"dataframe\">\n",
       "  <thead>\n",
       "    <tr style=\"text-align: right;\">\n",
       "      <th></th>\n",
       "      <th>Brand</th>\n",
       "      <th>Product Description</th>\n",
       "      <th>Price</th>\n",
       "      <th>Discount</th>\n",
       "    </tr>\n",
       "  </thead>\n",
       "  <tbody>\n",
       "    <tr>\n",
       "      <th>0</th>\n",
       "      <td>VINCENT CHASE</td>\n",
       "      <td>by Lenskart Polarized, UV Protection Round Sun...</td>\n",
       "      <td>₹1,179</td>\n",
       "      <td>41% off</td>\n",
       "    </tr>\n",
       "    <tr>\n",
       "      <th>1</th>\n",
       "      <td>Silver Kartz</td>\n",
       "      <td>UV Protection Clubmaster Sunglasses (53)</td>\n",
       "      <td>₹367</td>\n",
       "      <td>75% off</td>\n",
       "    </tr>\n",
       "    <tr>\n",
       "      <th>2</th>\n",
       "      <td>PIRASO</td>\n",
       "      <td>UV Protection Aviator Sunglasses (54)</td>\n",
       "      <td>₹200</td>\n",
       "      <td>87% off</td>\n",
       "    </tr>\n",
       "    <tr>\n",
       "      <th>3</th>\n",
       "      <td>Fastrack</td>\n",
       "      <td>UV Protection Wayfarer Sunglasses (Free Size)</td>\n",
       "      <td>₹609</td>\n",
       "      <td>32% off</td>\n",
       "    </tr>\n",
       "    <tr>\n",
       "      <th>4</th>\n",
       "      <td>Elligator</td>\n",
       "      <td>UV Protection Round Sunglasses (54)</td>\n",
       "      <td>₹248</td>\n",
       "      <td>90% off</td>\n",
       "    </tr>\n",
       "    <tr>\n",
       "      <th>...</th>\n",
       "      <td>...</td>\n",
       "      <td>...</td>\n",
       "      <td>...</td>\n",
       "      <td>...</td>\n",
       "    </tr>\n",
       "    <tr>\n",
       "      <th>95</th>\n",
       "      <td>Silver Kartz</td>\n",
       "      <td>UV Protection Wayfarer, Aviator Sunglasses (88)</td>\n",
       "      <td>₹265</td>\n",
       "      <td>77% off</td>\n",
       "    </tr>\n",
       "    <tr>\n",
       "      <th>96</th>\n",
       "      <td>ROZZETTA CRAFT</td>\n",
       "      <td>UV Protection Round Sunglasses (Free Size)</td>\n",
       "      <td>₹426</td>\n",
       "      <td>84% off</td>\n",
       "    </tr>\n",
       "    <tr>\n",
       "      <th>97</th>\n",
       "      <td>Fastrack</td>\n",
       "      <td>UV Protection Aviator Sunglasses (Free Size)</td>\n",
       "      <td>₹639</td>\n",
       "      <td>20% off</td>\n",
       "    </tr>\n",
       "    <tr>\n",
       "      <th>98</th>\n",
       "      <td>Fastrack</td>\n",
       "      <td>UV Protection Wayfarer Sunglasses (Free Size)</td>\n",
       "      <td>₹719</td>\n",
       "      <td>20% off</td>\n",
       "    </tr>\n",
       "    <tr>\n",
       "      <th>99</th>\n",
       "      <td>peter india</td>\n",
       "      <td>UV Protection Spectacle Sunglasses (Free Size)</td>\n",
       "      <td>₹179</td>\n",
       "      <td>86% off</td>\n",
       "    </tr>\n",
       "  </tbody>\n",
       "</table>\n",
       "<p>100 rows × 4 columns</p>\n",
       "</div>"
      ],
      "text/plain": [
       "             Brand                                Product Description   Price  \\\n",
       "0    VINCENT CHASE  by Lenskart Polarized, UV Protection Round Sun...  ₹1,179   \n",
       "1     Silver Kartz           UV Protection Clubmaster Sunglasses (53)    ₹367   \n",
       "2           PIRASO              UV Protection Aviator Sunglasses (54)    ₹200   \n",
       "3         Fastrack      UV Protection Wayfarer Sunglasses (Free Size)    ₹609   \n",
       "4        Elligator                UV Protection Round Sunglasses (54)    ₹248   \n",
       "..             ...                                                ...     ...   \n",
       "95    Silver Kartz    UV Protection Wayfarer, Aviator Sunglasses (88)    ₹265   \n",
       "96  ROZZETTA CRAFT         UV Protection Round Sunglasses (Free Size)    ₹426   \n",
       "97        Fastrack       UV Protection Aviator Sunglasses (Free Size)    ₹639   \n",
       "98        Fastrack      UV Protection Wayfarer Sunglasses (Free Size)    ₹719   \n",
       "99     peter india     UV Protection Spectacle Sunglasses (Free Size)    ₹179   \n",
       "\n",
       "   Discount  \n",
       "0   41% off  \n",
       "1   75% off  \n",
       "2   87% off  \n",
       "3   32% off  \n",
       "4   90% off  \n",
       "..      ...  \n",
       "95  77% off  \n",
       "96  84% off  \n",
       "97  20% off  \n",
       "98  20% off  \n",
       "99  86% off  \n",
       "\n",
       "[100 rows x 4 columns]"
      ]
     },
     "execution_count": 81,
     "metadata": {},
     "output_type": "execute_result"
    }
   ],
   "source": [
    "# Creating DataFrame\n",
    "df3 = pd.DataFrame({'Brand':final_brand_names ,' Product Description':final_prod_discr , 'Price':final_price_list ,'Discount':final_disc_list })\n",
    "df3"
   ]
  },
  {
   "cell_type": "markdown",
   "id": "3cfc2d67",
   "metadata": {},
   "source": [
    "## Q5: Scrape 100 reviews data from flipkart.com for iphone11 phone. You have to go the link:\n",
    "### https://www.flipkart.com/apple-iphone-11-black-64-gb-includes- earpods-poweradapter/p/itm0f37c2240b217?pid=MOBFKCTSVZAXUHGR&lid=LSTMOBFKC\n",
    "### TSVZAXUHGREPBFGI&marketplace.\n",
    "### As shown in the above page you have to scrape the tick marked attributes.These are:\n",
    "### 1. Rating\n",
    "### 2. Review summary\n",
    "### 3. Full review\n",
    "### 4. You have to scrape this data for first 100 reviews."
   ]
  },
  {
   "cell_type": "code",
   "execution_count": 122,
   "id": "0a5a05ea",
   "metadata": {},
   "outputs": [],
   "source": [
    "# To run and load the website in the web driver\n",
    "\n",
    "driver4 = webdriver.Chrome('chromedriver.exe')\n",
    "driver4.get('https://www.flipkart.com/apple-iphone-11-black-64-gb-includes- earpods-poweradapter/p/itm0f37c2240b217?pid=MOBFKCTSVZAXUHGR&lid=LSTMOBFKCTSVZAXUHGREPBFGI&marketplace.')"
   ]
  },
  {
   "cell_type": "code",
   "execution_count": 123,
   "id": "86065800",
   "metadata": {},
   "outputs": [],
   "source": [
    "# To click on all review button\n",
    "\n",
    "All_reveiw_button1 = driver4.find_element_by_xpath('/html/body/div[1]/div/div[3]/div[1]/div[2]/div[8]/div/div/div[5]/div/a/div/span')\n",
    "All_reveiw_button1.click()"
   ]
  },
  {
   "cell_type": "code",
   "execution_count": 124,
   "id": "0fc8815d",
   "metadata": {},
   "outputs": [
    {
     "name": "stdout",
     "output_type": "stream",
     "text": [
      "10\n",
      "10\n",
      "10\n",
      "Review Rating1 \n",
      " ['5', '5', '5', '5', '5', '5', '5', '4', '5', '5'] \n",
      "\n",
      " Review Summary1 \n",
      " ['Brilliant', 'Simply awesome', 'Perfect product!', 'Best in the market!', 'Worth every penny', 'Fabulous!', 'Great product', 'Good choice', 'Highly recommended', 'Worth every penny'] \n",
      "\n",
      " Full Review1 \n",
      " ['The Best Phone for the Money\\n\\nThe iPhone 11 offers superb cameras, a more durable design and excellent battery life for an affordable price.\\n\\nCompelling ultra-wide camera\\nNew Night mode is excellent\\nLong battery life', 'Really satisfied with the Product I received... It’s totally genuine and the packaging was also really good so if ur planning to buy just go for it.', 'Amazing phone with great cameras and better battery which gives you the best performance. I just love the camera .', 'Great iPhone very snappy experience as apple kind. Upgraded from iPhone 7.\\nPros\\n-Camera top class\\n- Battery top performed\\n-Chipset no need to say as apple kind\\n-Security as you expect from apple\\n- Display super bright industry leading colour\\naccuracy and super responsive\\n-Build quality as expect from apple sturdy\\npremium durable beautiful stylish.\\n-Os most stable os in smartphone industry\\n\\nCons\\n-No 5G\\n-Display is not based on OLED technology\\n-Charger headphones and 1 apple stic...\\nREAD MORE', 'Previously I was using one plus 3t it was a great phone\\nAnd then I decided to upgrade I am stuck between Samsung s10 plus or iPhone 11\\nI have seen the specs and everything were good except the display it’s somewhere between 720-1080 and it’s not even an amoled it’s an LCD display\\nBut I decided to go with iPhone because I have never used an IOS device I have Been an android user from the past 9 years I ordered IPhone 11 (128gb) product red\\nMy experience after using 3 weeks\\n1. The delivery ...\\nREAD MORE', 'This is my first iOS phone. I am very happy with this product. Very much satisfied with this. I love this phone.', 'Amazing Powerful and Durable Gadget.\\n\\nI’m am very happy with the camera picture quality, Amazing face id unlocked in dark room, Strong battery with perfect screen size as you can carry easily in pocket. This is my third iPhone.\\n\\nI shifted from android Samsung Note series to iPhone because of the strong build quality and peace of mind for next 3-4 years.\\n\\nDon’t think to much just go for it and I suggest you to go for minimum 128gb variant or more 256gb.\\n\\nI’ve attached my puppy pics and no fi...\\nREAD MORE', 'So far it’s been an AMAZING experience coming back to iOS after nearly a decade but it’s not as versatile as android though phone is sturdy dropped it accidentally a couple of times and nothing happened fortunately camera is awesome', 'What a camera .....just awesome ..you can feel this iPhone just awesome . Good for gaming also ...try pubg in hd it’s just wow', 'i11 is worthy to buy, too much happy with the product. Thank u flipkart I received the item on time..loved it..']\n"
     ]
    }
   ],
   "source": [
    "#Rating \n",
    "Search_Rev_rating1 = driver4.find_elements_by_xpath('//div[@class=\"_3LWZlK _1BLPMq\"]')\n",
    "print(len(Search_Rev_rating1))\n",
    "Rev_rating1 = []\n",
    "for i in Search_Rev_rating1:\n",
    "    Rev_rating1.append(i.text)\n",
    "Rev_rating1 \n",
    "\n",
    "#Review_Summary\n",
    "Search_Rev_Summary1 = driver4.find_elements_by_xpath('//p[@class=\"_2-N8zT\"]')\n",
    "print(len(Search_Rev_Summary1))\n",
    "Rev_Summary1 = []\n",
    "for i in Search_Rev_Summary1:\n",
    "    Rev_Summary1.append(i.text)\n",
    "Rev_Summary1 \n",
    "\n",
    "#Full_Review\n",
    "Search_full_Review1 = driver4.find_elements_by_xpath('//div[@class=\"t-ZTKy\"]')\n",
    "print(len(Search_full_Review1))\n",
    "full_Review1 = []\n",
    "for i in Search_full_Review1:\n",
    "    full_Review1.append(i.text)\n",
    "print(\"Review Rating1\",'\\n',Rev_rating1,'\\n''\\n',\"Review Summary1\",'\\n',Rev_Summary1,'\\n''\\n',\"Full Review1\",'\\n',full_Review1)"
   ]
  },
  {
   "cell_type": "code",
   "execution_count": 127,
   "id": "307cbb6a",
   "metadata": {},
   "outputs": [],
   "source": [
    "# To click on Next page button\n",
    "\n",
    "iphone_Next_page_button2 = driver4.find_element_by_xpath('/html/body/div[1]/div/div[3]/div/div/div[2]/div[13]/div/div/nav/a[11]/span')\n",
    "iphone_Next_page_button2.click()"
   ]
  },
  {
   "cell_type": "code",
   "execution_count": 128,
   "id": "d1273fa4",
   "metadata": {
    "scrolled": true
   },
   "outputs": [
    {
     "name": "stdout",
     "output_type": "stream",
     "text": [
      "10\n",
      "10\n",
      "10\n",
      "Review Rating2 \n",
      " ['5', '5', '5', '5', '5', '5', '5', '5', '5', '5'] \n",
      "\n",
      " Review Summary2 \n",
      " ['Highly recommended', 'Perfect product!', 'Perfect product!', 'Highly recommended', 'Perfect product!', 'Worth every penny', 'Classy product', 'Simply awesome', 'Worth every penny', 'Worth every penny'] \n",
      "\n",
      " Full Review2 \n",
      " ['iphone 11 is a very good phone to buy only if you can compromise for the display. The display on this is device is pretty good but you can get other options with better displays in this price segment.\\nIf you can survive with an HD+ LCD panel with thicker bezels and a notch up top then this is a very good phone for you.\\nCameras are awesome, battery backup excellent, great performance and a decent premium look. Good job Apple !', 'It’s a must buy who is looking for an upgrade from previous generation of iPhones. If you are using XR then still you can hold on for sometime and upgrade to 2020 model else this phone is a must buy . Camera quality is amazing and wide angle is something to count upon. Performance wise it’s amazing and feels premium while holding in hand. So a big YES for this device. Go for 128 GB variant as the 4K videos will occupy lots of space and the storage can get over very quickly. Try to buy it with...\\nREAD MORE', 'Value for money❤️❤️\\nIts awesome mobile phone in the world ...\\nDisplay was very good and bright ..\\nTrust me freinds you r never regret after Buying..\\nJust go for it....\\nI love this phone and i switch to iphone x to 11', \"It's my first time to use iOS phone and I am loving my upgradation 😍😍 I love the color, I love the assebility of the phone....I need to learn more about its functionality, but as far as I have seen, it's quite easy and it has a lot of functions to work on, specially if you are a content writer or a blogger you get a lot of content creation platforms and they are really amazing.\\n\\nThis phone not only for good quality photography but a lot of other task too.😍💯\", \"Iphone is just awesome.. battery backup is very very nice.. continuously for 10 hours we can use it.camera is just awesome.. display is just fab.i love it alot..i had to wait 15 days for it as i pre ordered it..overalll it's worth the price..these all images are clicked by my iPhone..and i love it.\", 'Best budget Iphone till date ❤️ go for it guys without second thought. Let me explain you guys about Camera, Display, battery, and performance.\\n\\nCamera: at this price range there is no comparison of camera, you’ll love the picture quality as well as video quality. I am a Vlogger I wanted an iPhone with 4k video by front camera and I got this phone and I am more than happy 😃\\n\\nBattery: I use this phone roughly as I am active social media person and I have a youtube channel. so the battery ba...\\nREAD MORE', 'Totally in love with this ❤ the camera quality is amazing just love it 😘😘😘 itsss dammnnnnnn amazing... Must buy iPhone 11 this is my best experience ever ☀👌👌🧡🧡🧡🧡🧡 thanku apple ❤', 'Excellent camera, good performance, no lag. The lcd display is also good.. but difference come when we watch movie in prime and Netflix, the colours are not vibrant.. as we see in amoled display.. and the charger in box is of 5 watts.. takes more than 3 hours to charge from 0 to 100.. so guys be prepare to buy 18 watts charger . Finally I am an android user, it was my first Iapple phone, I promise u guys the iOS is so smooth.. overall the phone is damn good.... close eyes to buy it.. thanks t...\\nREAD MORE', 'It’s been almost a month since I have been using this phone. I upgraded from an iPhone 8. The main issue with my 8 was battery and this phone is just awesome when it comes to battery. It lasts a day and a half for me with my regular use , internet connected always with 4g\\nCan’t move forward without saying this. Battery of this phone is a life saver when I am traveling or at work when I don’t get the option to charge\\nCamera is superb. Front cam selfies and back cam photos are just awesome.\\n...\\nREAD MORE', 'Smooth like butter, camera like fantabulous, sound is crystal clear & its red color is damn attractive, i am just loving it. Must buy if you love photography.\\n\\nLucky to get it in sale, thank you Flipkart.']\n"
     ]
    }
   ],
   "source": [
    "#Rating\n",
    "Search_Rev_rating2 = driver4.find_elements_by_xpath('//div[@class=\"_3LWZlK _1BLPMq\"]')\n",
    "print(len(Search_Rev_rating2))\n",
    "Rev_rating2 = []\n",
    "for i in Search_Rev_rating2:\n",
    "    Rev_rating2.append(i.text)\n",
    "Rev_rating2\n",
    "\n",
    "#Review_Summary\n",
    "Search_Rev_Summary2 = driver4.find_elements_by_xpath('//p[@class=\"_2-N8zT\"]')\n",
    "print(len(Search_Rev_Summary2))\n",
    "Rev_Summary2 = []\n",
    "for i in Search_Rev_Summary2:\n",
    "    Rev_Summary2.append(i.text)\n",
    "Rev_Summary2\n",
    "\n",
    "#Full_Review\n",
    "Search_full_Review2 = driver4.find_elements_by_xpath('//div[@class=\"t-ZTKy\"]')\n",
    "print(len(Search_full_Review2))\n",
    "full_Review2 = []\n",
    "for i in Search_full_Review2:\n",
    "    full_Review2.append(i.text)\n",
    "print(\"Review Rating2\",'\\n',Rev_rating2,'\\n''\\n',\"Review Summary2\",'\\n',Rev_Summary2,'\\n''\\n',\"Full Review2\",'\\n',full_Review2)"
   ]
  },
  {
   "cell_type": "code",
   "execution_count": 129,
   "id": "1ca5c425",
   "metadata": {},
   "outputs": [],
   "source": [
    "# To click on Next page button\n",
    "\n",
    "iphone_Next_page_button3 = driver4.find_element_by_xpath('/html/body/div[1]/div/div[3]/div/div/div[2]/div[13]/div/div/nav/a[12]/span')\n",
    "iphone_Next_page_button3.click()"
   ]
  },
  {
   "cell_type": "code",
   "execution_count": 111,
   "id": "631be586",
   "metadata": {},
   "outputs": [
    {
     "name": "stdout",
     "output_type": "stream",
     "text": [
      "10\n",
      "10\n",
      "10\n",
      "Review Rating3 \n",
      " ['5', '5', '4', '5', '5', '5', '4', '5', '5', '5'] \n",
      "\n",
      " Review Summary3 \n",
      " ['Wonderful', 'Terrific', 'Nice product', 'Perfect product!', 'Classy product', 'Brilliant', 'Good choice', 'Must buy!', 'Perfect product!', 'Wonderful'] \n",
      "\n",
      " Full Review3 \n",
      " ['This is my first ever I phone. Before this I was using my google nexus 5. But moving from android to iOS is a great experience. It’s worth at this price. I will highly recommend it if you want to move to iOS. The best part of this phone is it’s camera and it’s battery life. This two things have won my heart. I loved it. Happy to have it in my hand. Still exploring its features. And can’t forget to mention Flipkart service. Very prompt service and fast delivery.', 'Really worth of money. i just love it. It is the best phone ever.', 'Awesome Phone. Slightly high price but worth. Better than iPhone XR.\\nCamera is superb and wide angle camera is very clear.\\n12MP selfie camera is also very good.\\nA13 Chip gives a very good and smooth performance.', 'Battery backup is extraordinary, camera is decent & performance offered by A13 bionic is awsome. The display is good in practical usage like the visibility of display is very good in direct sun light compare to pro models. Iam extremely satisfied for the money I spent.', 'Superb Product !!!\\nA big and worthy upgrade from mi 3S to iphone 11 .\\nTotally loved it !', 'I have migrated from OP 7pro... and trust me, iPhone 11 is totally worth it.. following are the reasons:-\\n1)there is ABSOLUTELY NO ISSUE WITH THE DISPLAY... its crisp, sharp and I found it to be much much better than OP7 pro. Netflix, Prime video all run crisply... you won’t miss a thing. True Tone works flawlessly...the display brightness is perfect. OP have not calibrated their screens properly.\\n2) iPhone 11 series have really good cameras... others have spoken in depth about them.\\n3) bat...\\nREAD MORE', 'Looking so good 👍 😍 super 👌 stylish 😎 phone\\nClean box 📦 good 👍 delivery 👌 fast delivery\\nOriginal box Original iphone 📱 👌 😍😍😍', 'It’s an amazing product from apple and the camera is simply superb. Phone is faster.Night shot is simply superb and detailing and colour differentiation from camera is an added advantage\\n\\nThis review I have written from iPhone 11 only and I am glad to say outside.\\n\\nCons wise if we see HD+ display only, no battery percentage indicator as in older iPhone 8.\\nNo assistive touch control button in it\\nNo oleophobic coating on back panel glass and finger prints are visible but since I bought mint gr...\\nREAD MORE', 'After 1 month use I found camera quality best compared to my previous Samsung note 10+.Display not good as note 10 also charging too slow.Apple should add fast charger like 11 plus and pro.Best phone for daily use', 'I just directly switch from iphone 6s to iphone 11 .The best premium smartphone I recommend to everyone. Excellent quality and colors the iphone have in 11 series.\\nCamera quality is just awesome and the major feel when we hold in our hands. The sound quality and volume is also higher then the previous models.\\nI will recommend to buy iphone 11 instead of pro models , there is nothing much difference as this model contains everything which fulfill our needs.\\n\\nOnly one thing that I dislike abo...\\nREAD MORE']\n"
     ]
    }
   ],
   "source": [
    "#Rating\n",
    "Search_Rev_rating3 = driver4.find_elements_by_xpath('//div[@class=\"_3LWZlK _1BLPMq\"]')\n",
    "print(len(Search_Rev_rating3))\n",
    "Rev_rating3 = []\n",
    "for i in Search_Rev_rating3:\n",
    "    Rev_rating3.append(i.text)\n",
    "Rev_rating3\n",
    "\n",
    "#Review_Summary\n",
    "Search_Rev_Summary3 = driver4.find_elements_by_xpath('//p[@class=\"_2-N8zT\"]')\n",
    "print(len(Search_Rev_Summary3))\n",
    "Rev_Summary3 = []\n",
    "for i in Search_Rev_Summary3:\n",
    "    Rev_Summary3.append(i.text)\n",
    "Rev_Summary3\n",
    "\n",
    "#Full_Review\n",
    "Search_full_Review3 = driver4.find_elements_by_xpath('//div[@class=\"t-ZTKy\"]')\n",
    "print(len(Search_full_Review3))\n",
    "full_Review3 = []\n",
    "for i in Search_full_Review3:\n",
    "    full_Review3.append(i.text)\n",
    "print(\"Review Rating3\",'\\n',Rev_rating3,'\\n''\\n',\"Review Summary3\",'\\n',Rev_Summary3,'\\n''\\n',\"Full Review3\",'\\n',full_Review3)"
   ]
  },
  {
   "cell_type": "code",
   "execution_count": 130,
   "id": "04cba9e2",
   "metadata": {},
   "outputs": [],
   "source": [
    "# To click on Next page button\n",
    "\n",
    "iphone_Next_page_button4 = driver4.find_element_by_xpath('/html/body/div[1]/div/div[3]/div/div/div[2]/div[13]/div/div/nav/a[12]/span')\n",
    "iphone_Next_page_button4.click()"
   ]
  },
  {
   "cell_type": "code",
   "execution_count": 131,
   "id": "9d42e4a6",
   "metadata": {},
   "outputs": [
    {
     "name": "stdout",
     "output_type": "stream",
     "text": [
      "10\n",
      "10\n",
      "10\n",
      "Review Rating4 \n",
      " ['5', '5', '5', '5', '5', '5', '5', '4', '1', '5'] \n",
      "\n",
      " Review Summary4 \n",
      " ['Terrific purchase', 'Simply awesome', 'Great product', 'Terrific purchase', 'Mind-blowing purchase', 'Excellent', 'Simply awesome', 'Good quality product', 'Very poor', 'Classy product'] \n",
      "\n",
      " Full Review4 \n",
      " ['Upgraded from iphone 6 to 11 best phone for iphone users battery is much better than other iphones camera is awesome love to use it.camera is so clear in night.', \"It's very high performances devise i am like the service of flipkart delevary very fast and packing very nice perfect phone\", 'Well you all know the specifications . One of a kind. Best iPhone till date. Many enhancements to the camera app with many options. Love the glass body with matte finish in the lens area on the back. Lovely colours to choose from. Best battery in an iPhone till date, enough to last more than a day in normal usage. I tested my iPhone 11 battery and lasted for than 24 hours after full charge still with 30% battery charge left. Watched movies for some time. Normal usage on calls, browsing, musi...\\nREAD MORE', 'The built quality is not very premium.\\nThe battery back is great .\\nThe LCD panel is not so sharp but the brightness level is very High .\\nCamera is super duper awesome.\\nThe red colour which people think is bright is actually very soothing and excellent colour to choose from .\\nThe A13 Bionic chip is really a flagship processor and can beat any phone which even has 12 gb ram .\\nCamera module is very great and looks very stylish.', 'This will help you more. See if you are planning to buy iPhone 11. I will say. Yes. But there are some plans I just want to disclose before you buy. 1) If you are an existing iPhone X/XS/XS Max/ XR user, better you guys do not think it to buy. You guys have more or less better gadget. 2) If you are an android user and planning to buy premium phone. I will suggest them to please buy iPhone instead of buying an Android. I bet you will never go back to android after using IOS. Now I want to shar...\\nREAD MORE', 'Amazing camera and feel super machine I am not describe my feeling but this is amazing Phone I am so lucky I have this', 'Really good actually this is my first apple product am using its really awesome performance wise excellent. Am really happy with this iphone11', 'it is very good at performance. Camera is best like before and very smooth response even in water. Don’t buy 12 mini buy iPhone 11 , it is far better than 12 mini believe me ! Have a nice day \\uf8ff ☺️', 'Reviewing again after 5 months. At the beginning the battery and performance was good but it degraded soon. Also I was facing heating issues. The mobile will heat up like a stove sometimes. You cannot even play Pubg even in low settings properly, performance is not a problem but heating is. Also if you play that game for 10 mins the brightness will be automatically down due to over heating even when the auto brightness is set to off. This will not be solved even if u manually increase the bri...\\nREAD MORE', 'We are on apple ecosystem for almost eight years now with couple of iPads and iPhones, including Xr.\\n\\nBought iPhone 11 as a gift to my daughter who loves it. We chose for a purple coloured one. Believe me it is gorgeous and towards the lighter shade. Dazzling and brilliant!\\n\\nThe phone is great and does excellent RAM management like any other Apple device.\\n\\nThe screen, though a LCD and lesser ppi as compared to other flagship phones of competitor brands, is a delight to watch with perfect re...\\nREAD MORE']\n"
     ]
    }
   ],
   "source": [
    "#Rating\n",
    "Search_Rev_rating4 = driver4.find_elements_by_xpath('//div[@class=\"_3LWZlK _1BLPMq\" or @class=\"_3LWZlK _1rdVr6 _1BLPMq\"]')\n",
    "print(len(Search_Rev_rating4))\n",
    "Rev_rating4 = []\n",
    "for i in Search_Rev_rating4:\n",
    "    Rev_rating4.append(i.text)\n",
    "Rev_rating4\n",
    "\n",
    "#Review_Summary\n",
    "Search_Rev_Summary4 = driver4.find_elements_by_xpath('//p[@class=\"_2-N8zT\"]')\n",
    "print(len(Search_Rev_Summary4))\n",
    "Rev_Summary4 = []\n",
    "for i in Search_Rev_Summary4:\n",
    "    Rev_Summary4.append(i.text)\n",
    "Rev_Summary4\n",
    "\n",
    "#Full_Review\n",
    "Search_full_Review4 = driver4.find_elements_by_xpath('//div[@class=\"t-ZTKy\"]')\n",
    "print(len(Search_full_Review4))\n",
    "full_Review4 = []\n",
    "for i in Search_full_Review4:\n",
    "    full_Review4.append(i.text)\n",
    "print(\"Review Rating4\",'\\n',Rev_rating4,'\\n''\\n',\"Review Summary4\",'\\n',Rev_Summary4,'\\n''\\n',\"Full Review4\",'\\n',full_Review4)"
   ]
  },
  {
   "cell_type": "code",
   "execution_count": 132,
   "id": "dcd3a4fe",
   "metadata": {},
   "outputs": [],
   "source": [
    "# To click on Next page button\n",
    "\n",
    "iphone_Next_page_button5 = driver4.find_element_by_xpath('/html/body/div/div/div[3]/div/div/div[2]/div[13]/div/div/nav/a[12]/span')\n",
    "iphone_Next_page_button5.click()"
   ]
  },
  {
   "cell_type": "code",
   "execution_count": 133,
   "id": "020ecc7e",
   "metadata": {
    "scrolled": false
   },
   "outputs": [
    {
     "name": "stdout",
     "output_type": "stream",
     "text": [
      "10\n",
      "10\n",
      "10\n",
      "Review Rating5 \n",
      " ['5', '5', '5', '5', '5', '5', '5', '5', '4', '5'] \n",
      "\n",
      " Review Summary5 \n",
      " ['Perfect product!', 'Must buy!', 'Fabulous!', 'Mind-blowing purchase', 'Mind-blowing purchase', 'Wonderful', 'Must buy!', 'Great product', 'Very Good', 'Classy product'] \n",
      "\n",
      " Full Review5 \n",
      " ['It is just awesome mobile for this price from Apple,\\n\\nAfter 10 days review\\n\\nBattery enough for 1 day even 24*7 Internet will be on and mostly internet usage\\n\\nCamera is just awesome cool , android 64 MP is equal to this just 12 MP\\n\\nA13 Bionic chip will give more high performance without hanging\\n\\nAudio stereo speakers will give Dolby atoms sound with crystal clear\\n\\nVideo recording is like cinematic shots of every sec can be a 4K 60fps. Just awesome this phone\\niPhone 11 loved one', 'Best Apple iPhone that i have bought at a very reasonable price, camera quality is next level just awesome n of superior quality android phones not even close(RIP) to that and also battery is really good but packaging by Flipkart of iPhone was very poor of such a expensive product, firstly im bit worried about the quality of product if i purchased it through online how was the product but i think now this was mine best decision to bought it through Flipkart online because i got genuine Apple...\\nREAD MORE', \"I can say I'm damn impressed with iPhone 11. As they says iPhone 11 have the toughest glass ever in the smartphone which you'll find on the front and back and it's totally smooth. The fit and finish is full apple quality - there's no sense that any cheaping out has happened in the construction. Without saying it's camera features this review won't complete. The iPhone 11 has a dual camera system, consisting of a wide angle len's that's pretty much same as found on the iPhone XR last year, but...\\nREAD MORE\", 'Best Quality Product OF iPhone Series , Sound Quality & Camera quality is very awesome, Battery Life is very Sufficient for 24 hr Backup With Full Internet Access , I love this this Product too much , It is very fast & making me Very fast in all my daily Routine\\nHighlights;\\n1.Camera: 5 STAR\\n2.Video Recording: 5 star\\n3.Night mODE sHOOTING & Camera:4 star\\n4. Audio Quality: Awesome\\n5. Battery : 5 Star\\n6. Touch:5 Star\\n7. Processor: Very Fast\\nThe M...\\nREAD MORE', 'First thanks to Flipkart for this amazing deal and phone is outstanding. I upgraded from iPhone 7 and this is like very big upgrade. But the packaging was very basic I expected a good packaging as they only wrapped one layer of bubble wrap which I don’t think is enough to protect this expensive phone. And I recommend this phone and seller as well.\\n\\nAnd I’m posting this review after using it for 4 days.', 'Superfast delivery by Flipkart. Thanks.\\n\\n1. iPhone 11 is a pretty solid phone for the money you are paying.\\n2. All the bad reviews about the display is confusing. It’s not that bad.\\n3. I switched from a Oneplus 7t. I have no complaints about the display quality of iPhone. Yes, it’s not OLED, so, we are missing on the deep blacks. But that’s it. It is a very colour accurate display. Gets adequately bright and I could not find any pixelation.\\n4. Performance is one of the best, if not best, in ...\\nREAD MORE', 'I rate this product 5* as it has got amazing user experience with the best performing A13 bionic processor. The screen responds and graphics rendering is top notch. With casual gaming and internet browsing, the battery lasts for approx. 1 day. Camera is very good. You will fall in love with the portrait mode. You can call me a loyal Apple customer or whatever but I won’t stop praising the products and overall experience. That user experience matters and is worth every penny you pay.\\n\\nBelow ar...\\nREAD MORE', \"Again back to apple iphone after a gap of 2-3 years. It's pleasure to use iOS and the quality product by Apple. Iphone 11 still works like a beast in 2021 also. It really capable of doing day to day usage as well as hard core gaming. Battery is awesome. I'm really too much satisfied with it. Apart fto the very gorgious IPS LCD (AMOLED will be better) everything is mind boggling. Iphone💕.\", 'impressive super phone and best in class camera ,sound and face unlock is super fast just see and phone is unlock and fast in daily apps use', 'Well while switching from android to iOS the first thing you need to be careful about is that you will loose all your whatsapp chat backups as both are different operating systems. Camera clarity is awesome and though being an lcd screen clarity and resolution is good. Battery backup is also good unlike previous gen iPhone. So far the experience is good will Padre after a few months of usage.\\n\\nP.S the black is more of a dark grey shade and not jet black']\n"
     ]
    }
   ],
   "source": [
    "#Rating\n",
    "Search_Rev_rating5 = driver4.find_elements_by_xpath('//div[@class=\"_3LWZlK _1BLPMq\" or @class=\"_3LWZlK _1rdVr6 _1BLPMq\"]')\n",
    "print(len(Search_Rev_rating5))\n",
    "Rev_rating5 = []\n",
    "for i in Search_Rev_rating5:\n",
    "    Rev_rating5.append(i.text)\n",
    "Rev_rating5\n",
    "\n",
    "#Review_Summary\n",
    "Search_Rev_Summary5 = driver4.find_elements_by_xpath('//p[@class=\"_2-N8zT\"]')\n",
    "print(len(Search_Rev_Summary5))\n",
    "Rev_Summary5 = []\n",
    "for i in Search_Rev_Summary5:\n",
    "    Rev_Summary5.append(i.text)\n",
    "Rev_Summary5\n",
    "\n",
    "#Full_Review\n",
    "Search_full_Review5 = driver4.find_elements_by_xpath('//div[@class=\"t-ZTKy\"]')\n",
    "print(len(Search_full_Review5))\n",
    "full_Review5 = []\n",
    "for i in Search_full_Review5:\n",
    "    full_Review5.append(i.text)\n",
    "print(\"Review Rating5\",'\\n',Rev_rating5,'\\n''\\n',\"Review Summary5\",'\\n',Rev_Summary5,'\\n''\\n',\"Full Review5\",'\\n',full_Review5)"
   ]
  },
  {
   "cell_type": "code",
   "execution_count": 134,
   "id": "4e650598",
   "metadata": {},
   "outputs": [],
   "source": [
    "# To click on Next page button\n",
    "\n",
    "iphone_Next_page_button6 = driver4.find_element_by_xpath('/html/body/div/div/div[3]/div/div/div[2]/div[13]/div/div/nav/a[12]/span')\n",
    "iphone_Next_page_button6.click()"
   ]
  },
  {
   "cell_type": "code",
   "execution_count": 118,
   "id": "1efb6f1b",
   "metadata": {},
   "outputs": [
    {
     "name": "stdout",
     "output_type": "stream",
     "text": [
      "10\n",
      "10\n",
      "10\n",
      "Review Rating6 \n",
      " ['5', '5', '5', '4', '5', '5', '5', '5', '5', '5'] \n",
      "\n",
      " Review Summary6 \n",
      " ['Perfect product!', 'Just wow!', 'Awesome', 'Pretty good', 'Terrific purchase', 'Awesome', 'Classy product', 'Brilliant', 'Terrific', 'Perfect product!'] \n",
      "\n",
      " Full Review6 \n",
      " ['In love with this iphone great performance,camera ,battery everything. Go for it have a uncompareble battery backup, no doubts in iPhone camera here You can see the picture which is shot on my iPhone In love with this iphone great performance,camera ,battery everything. Go for it have a uncompareble battery backup, no doubts in iPhone camera here You can see the picture which is shot on my iPhone In love with this iphone great performance,camera ,battery everything. Go for it have a uncompare...\\nREAD MORE', 'Best in class. Battery backup is good especially when you play games like Pubg COD. But it is sort of heavy when you hold in hands. Portrait mode is best to click pictures. Stage light effect is awesome. Try to click photos outside in nature because photos inside home or room will not give you the quality in any phone even in DSLR.', 'Very excited to have this phone. This phone has the real power unlike the android phones having SD 855 . The battery life is very good and the camera quality is excellent as comapred to redmi and other phones except google pixel. I M enjoying every single bit of it. Would recommed only if you have the budget.', 'I was using Iphone 6s and also Oneplus 6t. Both mobiles were perfectly alright in Photos, gaming, and smooth interface . My 6s mobile getting battery issue. thought upgrade to 11. Really like this mobile of its Internal storage (compare to 6s) , camera and its touch feeling. Its a worth buying mobile for me.', 'Its Very awesome product working and good camera quality and all about best product and also flipkart is very great deal and offer nice price', 'I am using this phone for 5 days and its one of the best camera out there ❤️ the screen is not oled and i am coming from iphone xs so its little bit not up to the mark i would say\\nBut overall value for money💕😍the battery back up is far better than my iphone xs and its worth in my apple ecosystem💫❤️if u are an apple User and have the eco system then go for it❤️though i will be getting the new iphone but its pretty good💫', 'Best and amazing product.....phone looks so premium.... battary is also good as expected .... Wide angle camera is so addictive ...if you are a IOS lover....then this phone will be the best choice for you all!!💯🔥', 'Excellent camera and display touching very nice and smooth very improvement against iPhone XR and new processor is very fast', \"I got this beast today. And I must say the picture quality of its camera is awesome. Both the cameras works fine.\\n\\nAs for as the processing is concerned, it runs without any lag. You can play and do whatever you want without a glitch.\\n\\nThe battery runs for a day with medium and high workload.\\n\\nThe display is good and the speakers are working fine.\\n\\nThe earphones doesn't have any base and you can use it for calling mostly.\\n\\nThe charging time is approximately for 90 minutes for full charging...\\nREAD MORE\", 'Awesome purchase. Amazing phone with good battery backup. It’s a top notch device. White colour looks amazing. Phone has a few extra feature than iPhone XR. Overall, this is value for money']\n"
     ]
    }
   ],
   "source": [
    "#Rating\n",
    "Search_Rev_rating6 = driver4.find_elements_by_xpath('//div[@class=\"_3LWZlK _1BLPMq\" or @class=\"_3LWZlK _1rdVr6 _1BLPMq\"]')\n",
    "print(len(Search_Rev_rating6))\n",
    "Rev_rating6 = []\n",
    "for i in Search_Rev_rating6:\n",
    "    Rev_rating6.append(i.text)\n",
    "Rev_rating6\n",
    "\n",
    "#Review_Summary\n",
    "Search_Rev_Summary6 = driver4.find_elements_by_xpath('//p[@class=\"_2-N8zT\"]')\n",
    "print(len(Search_Rev_Summary6))\n",
    "Rev_Summary6 = []\n",
    "for i in Search_Rev_Summary6:\n",
    "    Rev_Summary6.append(i.text)\n",
    "Rev_Summary6\n",
    "\n",
    "#Full_Review\n",
    "Search_full_Review6 = driver4.find_elements_by_xpath('//div[@class=\"t-ZTKy\"]')\n",
    "print(len(Search_full_Review6))\n",
    "full_Review6 = []\n",
    "for i in Search_full_Review6:\n",
    "    full_Review6.append(i.text)\n",
    "print(\"Review Rating6\",'\\n',Rev_rating6,'\\n''\\n',\"Review Summary6\",'\\n',Rev_Summary6,'\\n''\\n',\"Full Review6\",'\\n',full_Review6)"
   ]
  },
  {
   "cell_type": "code",
   "execution_count": 135,
   "id": "19941d82",
   "metadata": {},
   "outputs": [],
   "source": [
    "# To click on Next page button\n",
    "\n",
    "iphone_Next_page_button7 = driver4.find_element_by_xpath('/html/body/div/div/div[3]/div/div/div[2]/div[13]/div/div/nav/a[12]/span')\n",
    "iphone_Next_page_button7.click()"
   ]
  },
  {
   "cell_type": "code",
   "execution_count": 136,
   "id": "89cd92bb",
   "metadata": {},
   "outputs": [
    {
     "name": "stdout",
     "output_type": "stream",
     "text": [
      "10\n",
      "10\n",
      "10\n",
      "Review Rating7 \n",
      " ['5', '5', '1', '5', '5', '5', '4', '5', '5', '5'] \n",
      "\n",
      " Review Summary7 \n",
      " ['Awesome', 'Perfect product!', 'Very poor', 'Fabulous!', 'Excellent', 'Must buy!', 'Value-for-money', 'Best in the market!', 'Brilliant', 'Terrific purchase'] \n",
      "\n",
      " Full Review7 \n",
      " ['Always love the apple products, upgraded from old iPhone 6S plus to this after having my first baby. I just love to click baby’s photos with it. Overall I just love this phone. Battery back up is okay, sound quality is good. Haven’t tested yet waterproof yet. Only one thing I hate is apple could have given charger & headphones in box.', 'Value for money\\n5 star rating\\nExcellent camera\\nBattery backup full day in single charge.\\n\\nTougher and water resistant design, glossy back.\\nThe screen has excellent brightness and contrast.\\nApple A13 Bionic is the fastest smartphone chip on the planet.\\nExcellent battery life, fast charging support.\\nStereo speakers with great quality.', 'Please DONT buy from here,\\n\\nI purchased Apple iPhone 11. with an exchange of IPhone 7, the exchange did not go well, iPhone 7 had a small scratch out side screen which i could never identify till date, but the FLIPKART person could, so he reduced 50% from exchange rate. I decided not to trade in, but paid money.\\n\\niPhone 11 Detail Below\\n---------------------------------------------\\nIt came with no charging, then i have put for charging, it took lot of time for charging, the phone also showe...\\nREAD MORE', 'awesome phone to have. it has got many smart features apart from mind blowing looks, camera, display, battery and sound. have fallen in love with this phone. must buy phone if you have got enough money. thanks to flipkart and apple of course..', 'Its a fabulous mobile look awesome performance unbeaten camera like dslr battery good i think this is a beast of mobile', 'Dear friends... I want to share my experience with you about this amazing I phone 11....this is my first iPhone and special things about this mobile is it has great camera, battery backup and awesome display.... I mean everything is perfect.loved it 👍👍👍', \"Just got this iphone 11\\nAnd it is most powerful mobile phone I have used ever\\n\\nSo,go for it if you want a phone with best specification like camera,battery backup,display, A13 bionic chip\\n\\nThat's my review about this phone but yours can be differ from me....\", \"The best all rounder iphone. Flipkart is doing a great job. They're delivery services are blazing fast. I got delivery on the same day. Genuine Apple Product. Working great. Talking about review There's no need of review for iphones. They're simply the best.\", 'Amazing phone and on great deal I received with super fast delivery by Flipkart...', 'finally an iPhone with very nice battery backup. update from iPhone 7 and happy to have it. camera is not up to the mark in low light but overall a recommended phone if your budget allows 😀']\n"
     ]
    }
   ],
   "source": [
    "#Rating\n",
    "Search_Rev_rating7 = driver4.find_elements_by_xpath('//div[@class=\"_3LWZlK _1BLPMq\" or @class=\"_3LWZlK _1rdVr6 _1BLPMq\"]')\n",
    "print(len(Search_Rev_rating7))\n",
    "Rev_rating7 = []\n",
    "for i in Search_Rev_rating7:\n",
    "    Rev_rating7.append(i.text)\n",
    "Rev_rating7\n",
    "\n",
    "#Review_Summary\n",
    "Search_Rev_Summary7 = driver4.find_elements_by_xpath('//p[@class=\"_2-N8zT\"]')\n",
    "print(len(Search_Rev_Summary7))\n",
    "Rev_Summary7 = []\n",
    "for i in Search_Rev_Summary7:\n",
    "    Rev_Summary7.append(i.text)\n",
    "Rev_Summary7\n",
    "\n",
    "#Full_Review\n",
    "Search_full_Review7 = driver4.find_elements_by_xpath('//div[@class=\"t-ZTKy\"]')\n",
    "print(len(Search_full_Review7))\n",
    "full_Review7 = []\n",
    "for i in Search_full_Review7:\n",
    "    full_Review7.append(i.text)\n",
    "print(\"Review Rating7\",'\\n',Rev_rating7,'\\n''\\n',\"Review Summary7\",'\\n',Rev_Summary7,'\\n''\\n',\"Full Review7\",'\\n',full_Review7)"
   ]
  },
  {
   "cell_type": "code",
   "execution_count": 137,
   "id": "6f53a59f",
   "metadata": {},
   "outputs": [],
   "source": [
    "# To click on Next page button\n",
    "\n",
    "iphone_Next_page_button8 = driver4.find_element_by_xpath('/html/body/div/div/div[3]/div/div/div[2]/div[13]/div/div/nav/a[12]/span')\n",
    "iphone_Next_page_button8.click()"
   ]
  },
  {
   "cell_type": "code",
   "execution_count": 138,
   "id": "3c880663",
   "metadata": {},
   "outputs": [
    {
     "name": "stdout",
     "output_type": "stream",
     "text": [
      "10\n",
      "10\n",
      "10\n",
      "Review Rating8 \n",
      " ['4', '5', '5', '5', '5', '4', '5', '1', '5', '5'] \n",
      "\n",
      " Review Summary8 \n",
      " ['Good quality product', 'Terrific', 'Best in the market!', 'Perfect product!', 'Awesome', 'Value-for-money', 'Just wow!', 'Worthless', 'Super!', 'Excellent'] \n",
      "\n",
      " Full Review8 \n",
      " [\"I'm switching this phone to oppo reno 10x zoom\\nIt's really impressive\\nRarely I'm missing smooth display touch response like oppo reno but\\nI really loved it.\\nCamera really impressive\", 'Simply Awesome\\n\\nI have upgraded from iPhone 7 to iPhone 11.\\n\\n3110 mah Battery is good. I am not a heavy gamer. For official purpose, this is better than 12 mini.\\n\\nTotally impressed with battery performance.', 'Damn this phone is a blast . Upgraded from android to ios and is a duperb experience. Battery backup is top notch and display also pretty good', 'Worth the money’ starting first from its performance it beats out all phones , second the smoothness of camera is awesome, contrast ratio is much than expected. Price will not matter if u r a quality person, if not other phones are available with better discount', 'I dreamt about this day from a long time.... Getting an iPhone with my own money.... Super happy and worth spending every penny', \"I'm Really happy with the product\\nDelivery was fast as well\\n..it was a gift for my sister and she loved it so much.\", 'Great iphone.\\nI am writing this review after 2 months of usage.\\nCamera is excellent, especially the nightmode\\nDisplay perfect\\nBattery backup awesome\\nSound quality very good\\nOverall Apple gives you a perfect iphone in this range.\\nReally in love with iPhone 11', \"Phone is awesome no doubt. But Camera & Display is not great. Performance is mind blowing.\\nBut the phone is heating too much when charging or when you regularly used. It's experience after using 1 week. It's heating extrem when I play PUBG for 30 minutes.\\nGo for iPhone 11 pro or 12. Otherwise go for Android phone you will get much better phone in less price.\", 'Did an upgrade from 6s plus to iphone 11.\\nAo far the experience is well and good. Felt smoother than 6s plus. The camera quality is superb. Battery backup is descent. Not a heavy user, and gets power more than a day. Go for it if you need an alrounder iphone in a competitve price.', \"It was amazing experience for me. Honestly i am using iPhone first time so I don't have that much past experience about that. But after using 7 days this mobile i want to give some honest feedback.\\n1- Display 9 out of 10\\n2- Camera 9.5 out of 10\\n3- Battery 7 out of 10\\n4- Performance 9.5 out of 10\\n5- Features & Functions 10 out of 10\\n6- Outer looks and colour 10 out of 10\\nRest i think i will understand after using this for few months.\\nI will highly recommend you guys if you have budget then you...\\nREAD MORE\"]\n"
     ]
    }
   ],
   "source": [
    "#Rating\n",
    "Search_Rev_rating8 = driver4.find_elements_by_xpath('//div[@class=\"_3LWZlK _1BLPMq\" or @class=\"_3LWZlK _1rdVr6 _1BLPMq\"]')\n",
    "print(len(Search_Rev_rating8))\n",
    "Rev_rating8 = []\n",
    "for i in Search_Rev_rating8:\n",
    "    Rev_rating8.append(i.text)\n",
    "Rev_rating8\n",
    "\n",
    "#Review_Summary\n",
    "Search_Rev_Summary8 = driver4.find_elements_by_xpath('//p[@class=\"_2-N8zT\"]')\n",
    "print(len(Search_Rev_Summary8))\n",
    "Rev_Summary8 = []\n",
    "for i in Search_Rev_Summary8:\n",
    "    Rev_Summary8.append(i.text)\n",
    "Rev_Summary8\n",
    "\n",
    "#Full_Review\n",
    "Search_full_Review8 = driver4.find_elements_by_xpath('//div[@class=\"t-ZTKy\"]')\n",
    "print(len(Search_full_Review8))\n",
    "full_Review8 = []\n",
    "for i in Search_full_Review8:\n",
    "    full_Review8.append(i.text)\n",
    "print(\"Review Rating8\",'\\n',Rev_rating8,'\\n''\\n',\"Review Summary8\",'\\n',Rev_Summary8,'\\n''\\n',\"Full Review8\",'\\n',full_Review8)"
   ]
  },
  {
   "cell_type": "code",
   "execution_count": 139,
   "id": "04c21a13",
   "metadata": {},
   "outputs": [],
   "source": [
    "# To click on Next page button\n",
    "\n",
    "iphone_Next_page_button9 = driver4.find_element_by_xpath('/html/body/div/div/div[3]/div/div/div[2]/div[13]/div/div/nav/a[12]/span')\n",
    "iphone_Next_page_button9.click()"
   ]
  },
  {
   "cell_type": "code",
   "execution_count": 140,
   "id": "2555ea70",
   "metadata": {},
   "outputs": [
    {
     "name": "stdout",
     "output_type": "stream",
     "text": [
      "10\n",
      "10\n",
      "10\n",
      "Review Rating9 \n",
      " ['5', '4', '5', '5', '5', '5', '5', '5', '4', '5'] \n",
      "\n",
      " Review Summary9 \n",
      " ['Wonderful', 'Nice product', 'Mind-blowing purchase', 'Classy product', 'Terrific', 'Worth every penny', 'Excellent', 'Fabulous!', 'Pretty good', 'Highly recommended'] \n",
      "\n",
      " Full Review9 \n",
      " ['Super and marvellous phone look very cute and nice sound. I love this phone i think white is good colur.Excellent camer 5*😍😘♥️♥️', \"If you are looking for a premium phone under 55k, this is the one for you.Got the iPhone 11 during the Republic day sale. Performance is top notch in this price range. Camera's do a perfect job in taking good quality photos and videos. Battery backup too is satisfactory. Writing this review after using for a week. Any further observations would be updated.\", 'awesome Phone Smooth Touch Too good Sexyy looks one word Awesome', 'Gifted my man on his 30th birthday 🎂 He loves it.. Him happy so i am more than happy 😍😘❤️🥰', 'I bought iPhone 11 On March 2021, And I am Writing this review after using the phone for 4 Months. I would Say Everything is fine, Top Performance, Nice Camera as Anyone would Expect from any series of iPhone but when the Question comes to Battery it is complicated. The Battery is fully optimised and it comes 3110 mAh capacity but the problem is with the charger. Honestly Apple Removed charger from in Box items in the name of Environment and they are also forcing us to buy any 20W PD 3rd part...\\nREAD MORE', 'Here is the thing\\n\\nThe only reason why you should buy this phone is for the camera, iOS, and if you have headaches looking at AMOLED display.\\n\\nI’m not an avid gamer but watch a lot of movies on smartphone. However, my migraine attacks increased considerably after using AMOLED Smartphone. That’s why I made a calculated decision to buy iPhone 11. It has the best LCD display and the blacks, though not as natural as an AMOLED, is better than some of the other smartphones.\\n\\nAdding to this the ste...\\nREAD MORE', \"Just go for it.\\nThis phone is really amazing. I ordered it for my wife and we click photos on this thing which are better than dslr. I own OnePlus 6t but it's camera sucks. iPhone is really amazing when it comes to camera. It's worth spending 50k on this. Cons- only display is lcd. While using u don't feel it but if u compare with other phone then u can see difference quite easily.\\nChanging from Android to iphone is bit difficult coz most of things u don't know but I liked it. Some of the a...\\nREAD MORE\", 'Everything is perfect pictures come out so clearly and at first I wasn’t sure when I got it then when I started to use it and get the hang of it it was amazing!! I can’t wait to see what the next future phones will be like. The screen display on this bad boy are unbelievable they are so clear and never fail me. The performance is super cool there is a lot of cool features as well I like this phone because I feel that it is easy to use and one of my favorite things about this phone is the Face...\\nREAD MORE', \"I've used this phone for over a month now and here are my takeaways.\\nI would like to first talk about the best things about this phone and then the cons of it.\\n\\nPros:\\nThis phone is a performance beast. It handles large games and applications effortlessly and you won't find any stutters or lags while playing graphic intensive games like pubg, cod , mortal kombat and asphalt.\\n\\nThis phone has only 4gb ram and yet the ram management is amazing, it can keep 3 heavy games in memory without reload...\\nREAD MORE\", 'Thanks Flipkart For this amazing deal! I had a dream of owning a iphone since i had known about.\\nIm very happy with my purchase & it is totally worth it.\\nAmazing experience all over !!\\n\\nAnyone who’s thinking of buying it in 2021, i would simply say go for it without any second thoughts ❤️']\n"
     ]
    }
   ],
   "source": [
    "#Rating\n",
    "Search_Rev_rating9 = driver4.find_elements_by_xpath('//div[@class=\"_3LWZlK _1BLPMq\" or @class=\"_3LWZlK _1rdVr6 _1BLPMq\"]')\n",
    "print(len(Search_Rev_rating9))\n",
    "Rev_rating9 = []\n",
    "for i in Search_Rev_rating9:\n",
    "    Rev_rating9.append(i.text)\n",
    "Rev_rating9\n",
    "\n",
    "#Review_Summary\n",
    "Search_Rev_Summary9 = driver4.find_elements_by_xpath('//p[@class=\"_2-N8zT\"]')\n",
    "print(len(Search_Rev_Summary9))\n",
    "Rev_Summary9 = []\n",
    "for i in Search_Rev_Summary9:\n",
    "    Rev_Summary9.append(i.text)\n",
    "Rev_Summary9\n",
    "\n",
    "#Full_Review\n",
    "Search_full_Review9 = driver4.find_elements_by_xpath('//div[@class=\"t-ZTKy\"]')\n",
    "print(len(Search_full_Review9))\n",
    "full_Review9 = []\n",
    "for i in Search_full_Review9:\n",
    "    full_Review9.append(i.text)\n",
    "print(\"Review Rating9\",'\\n',Rev_rating9,'\\n''\\n',\"Review Summary9\",'\\n',Rev_Summary9,'\\n''\\n',\"Full Review9\",'\\n',full_Review9)"
   ]
  },
  {
   "cell_type": "code",
   "execution_count": 141,
   "id": "a9f0ddd3",
   "metadata": {},
   "outputs": [],
   "source": [
    "# To click on Next page button\n",
    "\n",
    "iphone_Next_page_button10 = driver4.find_element_by_xpath('/html/body/div/div/div[3]/div/div/div[2]/div[13]/div/div/nav/a[12]/span')\n",
    "iphone_Next_page_button10.click()"
   ]
  },
  {
   "cell_type": "code",
   "execution_count": 142,
   "id": "f69cf0a4",
   "metadata": {},
   "outputs": [
    {
     "name": "stdout",
     "output_type": "stream",
     "text": [
      "10\n",
      "10\n",
      "10\n",
      "Review Rating10 \n",
      " ['5', '5', '5', '5', '5', '5', '5', '5', '3', '5'] \n",
      "\n",
      " Review Summary10 \n",
      " ['Excellent', 'Worth every penny', 'Fabulous!', 'Brilliant', 'Mind-blowing purchase', 'Just wow!', 'Terrific purchase', 'Awesome', 'Decent product', 'Wonderful'] \n",
      "\n",
      " Full Review10 \n",
      " ['A perfect phone and a good battery super camera and the sound is dynamic overall the phone is perfect for upgrading from lower iPhone model to iPhone 11', 'Undoubtedly Iphone 11 is the most successful model till now and its performance is extraordinary and the security features are very impressive, display is more vibrant sound quality Camera Quality 5*****, but Iphone should add accessories too and act like scrooge.', 'I purchased the iPhone 11 a month back. I must say Apple has impressed me yet again . I have been an Apple user for past 5 years . The phone is power packed with amazing features . What impressed me the most was the battery backup the phone offers . Battery can easily run upto 1.5 days in single charge with moderate to\\nHeavy usage . If you’re looking for a value for money device , I don’t see any other phone in the price range which can match the iPhone 11 .\\nOne thing I didn’t like was that ...\\nREAD MORE', 'A wort full value for money decision it’s . Simply go for it in 2021 its still a good decision . Awesome camera , Super smothered performance, Heck of build quality. And Most important it protects your privacy.', 'Excellent camera 📸 And Display touching very Nice And Smooth and very improvement against\\nI phone 11 and new processor is very fast', 'The ultimate performance\\nCamera is superb\\nThe battery backup also very good i never saw iphone gives this much of battery backup\\nIf any one wana buy iphone 11 definitely i will recommend this mobile\\nIt has the better battery and powerfull processer peak performance glorious camera and the display also 100% high quality lcd display if u had money for for 12 if u dont wana invest much money on that then go for iphone 11 it has maximum same specs only main difference between the 12 and 11 is...\\nREAD MORE', 'I use a Note10+ and have been using both iOS and Android devices.\\n\\nCamera has really good features and portraits are super good, better than Samsung flagship. Overall camera setup can still be enhanced and hopeful for better upgrades on software in next release\\n\\nOperating system is quite a breeze and user experience of daily usage is very high as compared to Android. I moved to iOS very swiftly in 2 days for all my office work from Note10+\\n\\nBattery holds up quite well with 4 hrs of call and ...\\nREAD MORE', 'The phone is completely good\\nAs far as camera Apple is king of it\\nAnd its a beast in performance\\nAnd the battery is pretty good too', 'Everything u ll like it when u use this iPhone. Simple changes only not many to lower models but it’s nice to use. Little heavy compared to previous models like 7,8', 'Nice value for money good and best price I phone mind blowing camera processor very fast other android mobile I am happy India top selling phone 2020']\n"
     ]
    }
   ],
   "source": [
    "#Rating\n",
    "Search_Rev_rating10 = driver4.find_elements_by_xpath('//div[@class=\"_3LWZlK _1BLPMq\" or @class=\"_3LWZlK _1rdVr6 _1BLPMq\"]')\n",
    "print(len(Search_Rev_rating10))\n",
    "Rev_rating10 = []\n",
    "for i in Search_Rev_rating10:\n",
    "    Rev_rating10.append(i.text)\n",
    "Rev_rating10\n",
    "\n",
    "#Review_Summary\n",
    "Search_Rev_Summary10 = driver4.find_elements_by_xpath('//p[@class=\"_2-N8zT\"]')\n",
    "print(len(Search_Rev_Summary10))\n",
    "Rev_Summary10 = []\n",
    "for i in Search_Rev_Summary10:\n",
    "    Rev_Summary10.append(i.text)\n",
    "Rev_Summary10\n",
    "\n",
    "#Full_Review\n",
    "Search_full_Review10 = driver4.find_elements_by_xpath('//div[@class=\"t-ZTKy\"]')\n",
    "print(len(Search_full_Review10))\n",
    "full_Review10 = []\n",
    "for i in Search_full_Review10:\n",
    "    full_Review10.append(i.text)\n",
    "print(\"Review Rating10\",'\\n',Rev_rating10,'\\n''\\n',\"Review Summary10\",'\\n',Rev_Summary10,'\\n''\\n',\"Full Review10\",'\\n',full_Review10)"
   ]
  },
  {
   "cell_type": "code",
   "execution_count": 144,
   "id": "bec65d6f",
   "metadata": {},
   "outputs": [
    {
     "name": "stdout",
     "output_type": "stream",
     "text": [
      "Rating List length =  100\n",
      "Summary List length =  100\n",
      "Full Review List length =  100\n"
     ]
    },
    {
     "data": {
      "text/html": [
       "<div>\n",
       "<style scoped>\n",
       "    .dataframe tbody tr th:only-of-type {\n",
       "        vertical-align: middle;\n",
       "    }\n",
       "\n",
       "    .dataframe tbody tr th {\n",
       "        vertical-align: top;\n",
       "    }\n",
       "\n",
       "    .dataframe thead th {\n",
       "        text-align: right;\n",
       "    }\n",
       "</style>\n",
       "<table border=\"1\" class=\"dataframe\">\n",
       "  <thead>\n",
       "    <tr style=\"text-align: right;\">\n",
       "      <th></th>\n",
       "      <th>Review Rating</th>\n",
       "      <th>Review summary</th>\n",
       "      <th>Full Review</th>\n",
       "    </tr>\n",
       "  </thead>\n",
       "  <tbody>\n",
       "    <tr>\n",
       "      <th>0</th>\n",
       "      <td>5</td>\n",
       "      <td>Brilliant</td>\n",
       "      <td>The Best Phone for the Money\\n\\nThe iPhone 11 ...</td>\n",
       "    </tr>\n",
       "    <tr>\n",
       "      <th>1</th>\n",
       "      <td>5</td>\n",
       "      <td>Simply awesome</td>\n",
       "      <td>Really satisfied with the Product I received.....</td>\n",
       "    </tr>\n",
       "    <tr>\n",
       "      <th>2</th>\n",
       "      <td>5</td>\n",
       "      <td>Perfect product!</td>\n",
       "      <td>Amazing phone with great cameras and better ba...</td>\n",
       "    </tr>\n",
       "    <tr>\n",
       "      <th>3</th>\n",
       "      <td>5</td>\n",
       "      <td>Best in the market!</td>\n",
       "      <td>Great iPhone very snappy experience as apple k...</td>\n",
       "    </tr>\n",
       "    <tr>\n",
       "      <th>4</th>\n",
       "      <td>5</td>\n",
       "      <td>Worth every penny</td>\n",
       "      <td>Previously I was using one plus 3t it was a gr...</td>\n",
       "    </tr>\n",
       "    <tr>\n",
       "      <th>...</th>\n",
       "      <td>...</td>\n",
       "      <td>...</td>\n",
       "      <td>...</td>\n",
       "    </tr>\n",
       "    <tr>\n",
       "      <th>95</th>\n",
       "      <td>5</td>\n",
       "      <td>Just wow!</td>\n",
       "      <td>The ultimate performance\\nCamera is superb\\nTh...</td>\n",
       "    </tr>\n",
       "    <tr>\n",
       "      <th>96</th>\n",
       "      <td>5</td>\n",
       "      <td>Terrific purchase</td>\n",
       "      <td>I use a Note10+ and have been using both iOS a...</td>\n",
       "    </tr>\n",
       "    <tr>\n",
       "      <th>97</th>\n",
       "      <td>5</td>\n",
       "      <td>Awesome</td>\n",
       "      <td>The phone is completely good\\nAs far as camera...</td>\n",
       "    </tr>\n",
       "    <tr>\n",
       "      <th>98</th>\n",
       "      <td>3</td>\n",
       "      <td>Decent product</td>\n",
       "      <td>Everything u ll like it when u use this iPhone...</td>\n",
       "    </tr>\n",
       "    <tr>\n",
       "      <th>99</th>\n",
       "      <td>5</td>\n",
       "      <td>Wonderful</td>\n",
       "      <td>Nice value for money good and best price I pho...</td>\n",
       "    </tr>\n",
       "  </tbody>\n",
       "</table>\n",
       "<p>100 rows × 3 columns</p>\n",
       "</div>"
      ],
      "text/plain": [
       "   Review Rating       Review summary  \\\n",
       "0              5            Brilliant   \n",
       "1              5       Simply awesome   \n",
       "2              5     Perfect product!   \n",
       "3              5  Best in the market!   \n",
       "4              5    Worth every penny   \n",
       "..           ...                  ...   \n",
       "95             5            Just wow!   \n",
       "96             5    Terrific purchase   \n",
       "97             5              Awesome   \n",
       "98             3       Decent product   \n",
       "99             5            Wonderful   \n",
       "\n",
       "                                          Full Review  \n",
       "0   The Best Phone for the Money\\n\\nThe iPhone 11 ...  \n",
       "1   Really satisfied with the Product I received.....  \n",
       "2   Amazing phone with great cameras and better ba...  \n",
       "3   Great iPhone very snappy experience as apple k...  \n",
       "4   Previously I was using one plus 3t it was a gr...  \n",
       "..                                                ...  \n",
       "95  The ultimate performance\\nCamera is superb\\nTh...  \n",
       "96  I use a Note10+ and have been using both iOS a...  \n",
       "97  The phone is completely good\\nAs far as camera...  \n",
       "98  Everything u ll like it when u use this iPhone...  \n",
       "99  Nice value for money good and best price I pho...  \n",
       "\n",
       "[100 rows x 3 columns]"
      ]
     },
     "execution_count": 144,
     "metadata": {},
     "output_type": "execute_result"
    }
   ],
   "source": [
    "# To create a final combined list of 10 pages data and create a DataFrame\n",
    "\n",
    "Final_Review_rating = Rev_rating1 + Rev_rating2 + Rev_rating3 + Rev_rating4 + Rev_rating5 + Rev_rating6 + Rev_rating7 + Rev_rating8 + Rev_rating9 + Rev_rating10\n",
    "Final_Review_summary = Rev_Summary1 + Rev_Summary2 + Rev_Summary3 + Rev_Summary4 + Rev_Summary5 + Rev_Summary6 + Rev_Summary7 + Rev_Summary8 + Rev_Summary9 + Rev_Summary10\n",
    "Final_Full_Review = full_Review1 + full_Review2 + full_Review3 + full_Review4 + full_Review5 + full_Review6 + full_Review7 + full_Review8 + full_Review9 + full_Review10\n",
    "print(\"Rating List length = \",len(Final_Review_rating))\n",
    "print(\"Summary List length = \",len(Final_Review_summary))\n",
    "print(\"Full Review List length = \",len(Final_Full_Review))\n",
    "\n",
    "df5 = pd.DataFrame({\"Review Rating\":Final_Review_rating,\"Review summary\":Final_Review_summary,\"Full Review\":Final_Full_Review})\n",
    "df5"
   ]
  },
  {
   "cell_type": "code",
   "execution_count": null,
   "id": "5c901873",
   "metadata": {},
   "outputs": [],
   "source": []
  }
 ],
 "metadata": {
  "kernelspec": {
   "display_name": "Python 3 (ipykernel)",
   "language": "python",
   "name": "python3"
  },
  "language_info": {
   "codemirror_mode": {
    "name": "ipython",
    "version": 3
   },
   "file_extension": ".py",
   "mimetype": "text/x-python",
   "name": "python",
   "nbconvert_exporter": "python",
   "pygments_lexer": "ipython3",
   "version": "3.9.7"
  }
 },
 "nbformat": 4,
 "nbformat_minor": 5
}
