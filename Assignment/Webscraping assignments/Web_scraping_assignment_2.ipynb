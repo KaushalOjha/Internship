{
 "cells": [
  {
   "cell_type": "markdown",
   "id": "5aeabc7c",
   "metadata": {},
   "source": [
    "## WEB SCRAPING – ASSIGNMENT 2\n",
    "\n",
    "\n",
    "### Instructions\n",
    "### 1. All the questions must be done in a single Jupyter notebook.\n",
    "### 2. There should be proper comments in code.\n",
    "\n",
    "### Q1: Write a python program to scrape data for “Data Analyst” Job position in “Bangalore” location. You\n",
    "### have to scrape the job-title, job-location, company_name, experience_required. You have to scrape first 10\n",
    "### jobs data.\n",
    "### This task will be done in following steps:\n",
    "### 1. First get the webpage https://www.naukri.com/\n",
    "### 2. Enter “Data Analyst” in “Skill, Designations, Companies” field and enter “Bangalore” in “enter the\n",
    "### location” field.\n",
    "### 3. Then click the search button.\n",
    "### 4. Then scrape the data for the first 10 jobs results you get.\n",
    "### 5. Finally create a dataframe of the scraped data.\n",
    "### Note: All of the above steps have to be done in code. No step is to be done manually."
   ]
  },
  {
   "cell_type": "code",
   "execution_count": 2,
   "id": "237f8d99",
   "metadata": {},
   "outputs": [
    {
     "name": "stdout",
     "output_type": "stream",
     "text": [
      "Requirement already satisfied: selenium in e:\\datatrained\\anaconda\\lib\\site-packages (4.1.0)\n",
      "Requirement already satisfied: trio~=0.17 in e:\\datatrained\\anaconda\\lib\\site-packages (from selenium) (0.19.0)\n",
      "Requirement already satisfied: trio-websocket~=0.9 in e:\\datatrained\\anaconda\\lib\\site-packages (from selenium) (0.9.2)\n",
      "Requirement already satisfied: urllib3[secure]~=1.26 in e:\\datatrained\\anaconda\\lib\\site-packages (from selenium) (1.26.7)\n",
      "Requirement already satisfied: idna in e:\\datatrained\\anaconda\\lib\\site-packages (from trio~=0.17->selenium) (3.2)\n",
      "Requirement already satisfied: sniffio in e:\\datatrained\\anaconda\\lib\\site-packages (from trio~=0.17->selenium) (1.2.0)\n",
      "Requirement already satisfied: outcome in e:\\datatrained\\anaconda\\lib\\site-packages (from trio~=0.17->selenium) (1.1.0)\n",
      "Requirement already satisfied: cffi>=1.14 in e:\\datatrained\\anaconda\\lib\\site-packages (from trio~=0.17->selenium) (1.14.6)\n",
      "Requirement already satisfied: async-generator>=1.9 in e:\\datatrained\\anaconda\\lib\\site-packages (from trio~=0.17->selenium) (1.10)\n",
      "Requirement already satisfied: attrs>=19.2.0 in e:\\datatrained\\anaconda\\lib\\site-packages (from trio~=0.17->selenium) (21.2.0)\n",
      "Requirement already satisfied: sortedcontainers in e:\\datatrained\\anaconda\\lib\\site-packages (from trio~=0.17->selenium) (2.4.0)\n",
      "Requirement already satisfied: pycparser in e:\\datatrained\\anaconda\\lib\\site-packages (from cffi>=1.14->trio~=0.17->selenium) (2.20)\n",
      "Requirement already satisfied: wsproto>=0.14 in e:\\datatrained\\anaconda\\lib\\site-packages (from trio-websocket~=0.9->selenium) (1.0.0)\n",
      "Requirement already satisfied: pyOpenSSL>=0.14 in e:\\datatrained\\anaconda\\lib\\site-packages (from urllib3[secure]~=1.26->selenium) (21.0.0)\n",
      "Requirement already satisfied: cryptography>=1.3.4 in e:\\datatrained\\anaconda\\lib\\site-packages (from urllib3[secure]~=1.26->selenium) (3.4.8)\n",
      "Requirement already satisfied: certifi in e:\\datatrained\\anaconda\\lib\\site-packages (from urllib3[secure]~=1.26->selenium) (2021.10.8)\n",
      "Requirement already satisfied: six>=1.5.2 in e:\\datatrained\\anaconda\\lib\\site-packages (from pyOpenSSL>=0.14->urllib3[secure]~=1.26->selenium) (1.16.0)\n",
      "Requirement already satisfied: h11<1,>=0.9.0 in e:\\datatrained\\anaconda\\lib\\site-packages (from wsproto>=0.14->trio-websocket~=0.9->selenium) (0.12.0)\n"
     ]
    }
   ],
   "source": [
    "# job-title, job-location, company_name, experience_required\n",
    "!pip install selenium\n",
    "\n",
    "from bs4 import BeautifulSoup\n",
    "import selenium\n",
    "from selenium import webdriver\n",
    "import requests\n",
    "import pandas as pd\n",
    "import warnings\n",
    "warnings.filterwarnings(\"ignore\")"
   ]
  },
  {
   "cell_type": "code",
   "execution_count": 34,
   "id": "f287d7bb",
   "metadata": {},
   "outputs": [],
   "source": [
    "driver = webdriver.Chrome('chromedriver.exe')"
   ]
  },
  {
   "cell_type": "code",
   "execution_count": 47,
   "id": "645ec7bf",
   "metadata": {},
   "outputs": [],
   "source": [
    "url = 'https://www.naukri.com'\n",
    "driver.get(url)\n",
    "\n",
    "#<a class=\"title fw500 ellipsis\" \n",
    "#href=\"https://www.naukri.com/job-listings-data-analyst-sears-holdings-bangalore-bengaluru-1-to-3-years-311221500434?src=sortby&amp;sid=16412401645262493_4&amp;xp=2&amp;px=1\" \n",
    "#title=\"Data Analyst\" target=\"_blank\">Data Analyst</a>"
   ]
  },
  {
   "cell_type": "code",
   "execution_count": 48,
   "id": "21dc6f49",
   "metadata": {},
   "outputs": [
    {
     "data": {
      "text/plain": [
       "<selenium.webdriver.remote.webelement.WebElement (session=\"b9baeb75db5c1a54a068d45984b93f3e\", element=\"ad88f6b5-e227-48af-aece-9055cbea4bff\")>"
      ]
     },
     "execution_count": 48,
     "metadata": {},
     "output_type": "execute_result"
    }
   ],
   "source": [
    "\n",
    "srch_title_xpath = driver.find_element_by_xpath('/html/body/div/div[2]/div[3]/div/div/div[1]/div/div/div/input')\n",
    "srch_title_xpath"
   ]
  },
  {
   "cell_type": "code",
   "execution_count": 49,
   "id": "f45dac63",
   "metadata": {},
   "outputs": [],
   "source": [
    "srch_title_xpath.send_keys('Data Analyst')"
   ]
  },
  {
   "cell_type": "code",
   "execution_count": 50,
   "id": "7ec1ea8d",
   "metadata": {},
   "outputs": [
    {
     "data": {
      "text/plain": [
       "<selenium.webdriver.remote.webelement.WebElement (session=\"b9baeb75db5c1a54a068d45984b93f3e\", element=\"7e87fde4-aabb-47a7-b9fe-a62dbedd7f88\")>"
      ]
     },
     "execution_count": 50,
     "metadata": {},
     "output_type": "execute_result"
    }
   ],
   "source": [
    "srch_loc_xpath = driver.find_element_by_xpath('/html/body/div/div[2]/div[3]/div/div/div[3]/div/div/div/input')\n",
    "srch_loc_xpath"
   ]
  },
  {
   "cell_type": "code",
   "execution_count": 51,
   "id": "b75ab226",
   "metadata": {},
   "outputs": [],
   "source": [
    "srch_loc_xpath.send_keys('Banglore')"
   ]
  },
  {
   "cell_type": "code",
   "execution_count": 52,
   "id": "ebe9da81",
   "metadata": {},
   "outputs": [
    {
     "data": {
      "text/plain": [
       "<selenium.webdriver.remote.webelement.WebElement (session=\"b9baeb75db5c1a54a068d45984b93f3e\", element=\"71c4f304-ca1a-46a3-b413-428fbf3604f5\")>"
      ]
     },
     "execution_count": 52,
     "metadata": {},
     "output_type": "execute_result"
    }
   ],
   "source": [
    "srch_btn = driver.find_element_by_xpath('/html/body/div/div[2]/div[3]/div/div/div[6]')\n",
    "srch_btn"
   ]
  },
  {
   "cell_type": "code",
   "execution_count": 53,
   "id": "9c3b2ff8",
   "metadata": {},
   "outputs": [],
   "source": [
    "srch_btn.click()"
   ]
  },
  {
   "cell_type": "code",
   "execution_count": 68,
   "id": "e74041f1",
   "metadata": {},
   "outputs": [
    {
     "data": {
      "text/plain": [
       "20"
      ]
     },
     "execution_count": 68,
     "metadata": {},
     "output_type": "execute_result"
    }
   ],
   "source": [
    "\n",
    "title_tags = driver.find_elements_by_xpath('//a[@class=\"title fw500 ellipsis\"]')\n",
    "len(title_tags)"
   ]
  },
  {
   "cell_type": "code",
   "execution_count": 74,
   "id": "a42714d6",
   "metadata": {
    "scrolled": true
   },
   "outputs": [
    {
     "data": {
      "text/plain": [
       "['Senior Data Analyst',\n",
       " 'Junior Data Analyst/ Scientist- Fresher Position',\n",
       " 'Assistant Clinical Data Analyst',\n",
       " 'Senior Data Analyst - CRM',\n",
       " 'Lead - Data Analyst / Scientist',\n",
       " 'Data Analyst',\n",
       " 'Consultant - Data Analyst',\n",
       " 'Hiring For Data Analyst',\n",
       " 'Senior Data Analyst',\n",
       " 'Senior Data Analyst - CRM']"
      ]
     },
     "execution_count": 74,
     "metadata": {},
     "output_type": "execute_result"
    }
   ],
   "source": [
    "job_titles = []\n",
    "\n",
    "for i in title_tags:\n",
    "    job_titles.append(i.text)\n",
    "job_titles = job_titles[0:10]\n",
    "job_titles"
   ]
  },
  {
   "cell_type": "code",
   "execution_count": 83,
   "id": "f66f4c52",
   "metadata": {},
   "outputs": [
    {
     "name": "stdout",
     "output_type": "stream",
     "text": [
      "20\n"
     ]
    },
    {
     "data": {
      "text/plain": [
       "['Bengaluru/Bangalore',\n",
       " 'Kolkata, Gurgaon/Gurugram, Bangalore/Bengaluru\\n(WFH during Covid)',\n",
       " 'Bangalore/Bengaluru',\n",
       " 'Bangalore/Bengaluru',\n",
       " 'Bangalore/Bengaluru',\n",
       " 'Bengaluru/Bangalore',\n",
       " 'Bengaluru/Bangalore',\n",
       " 'Bangalore/Bengaluru',\n",
       " 'Bangalore/Bengaluru',\n",
       " 'Bangalore/Bengaluru']"
      ]
     },
     "execution_count": 83,
     "metadata": {},
     "output_type": "execute_result"
    }
   ],
   "source": [
    "loc_tags = driver.find_elements_by_xpath('//li[@class=\"fleft grey-text br2 placeHolderLi location\"]')\n",
    "print(len(loc_tags))\n",
    "job_locations = []\n",
    "\n",
    "for i in loc_tags:\n",
    "    job_locations.append(i.text)\n",
    "job_locations = job_locations[:10] \n",
    "job_locations"
   ]
  },
  {
   "cell_type": "code",
   "execution_count": 84,
   "id": "299ee3f4",
   "metadata": {},
   "outputs": [
    {
     "name": "stdout",
     "output_type": "stream",
     "text": [
      "20\n"
     ]
    },
    {
     "data": {
      "text/plain": [
       "['Flipkart',\n",
       " 'Sejal Consulting Hub',\n",
       " 'Labcorp Drug Development India Private Limited',\n",
       " 'Gojek Tech',\n",
       " 'Axim Technologies',\n",
       " 'Flipkart',\n",
       " 'Flipkart',\n",
       " 'Flipkart',\n",
       " 'Walmart',\n",
       " 'GO-JEK India']"
      ]
     },
     "execution_count": 84,
     "metadata": {},
     "output_type": "execute_result"
    }
   ],
   "source": [
    "company_tags = driver.find_elements_by_xpath('//a[@class=\"subTitle ellipsis fleft\"]')\n",
    "print(len(company_tags))\n",
    "Company_names = []\n",
    "\n",
    "for i in company_tags:\n",
    "    Company_names.append(i.text)\n",
    "Company_names = Company_names[:10] \n",
    "Company_names"
   ]
  },
  {
   "cell_type": "code",
   "execution_count": 85,
   "id": "063cf0a9",
   "metadata": {},
   "outputs": [
    {
     "name": "stdout",
     "output_type": "stream",
     "text": [
      "20\n"
     ]
    },
    {
     "data": {
      "text/plain": [
       "['4-6 Yrs',\n",
       " '0-3 Yrs',\n",
       " '0-2 Yrs',\n",
       " '2-5 Yrs',\n",
       " '12-14 Yrs',\n",
       " '1-2 Yrs',\n",
       " '1-3 Yrs',\n",
       " '4-8 Yrs',\n",
       " '4-7 Yrs',\n",
       " '4-8 Yrs']"
      ]
     },
     "execution_count": 85,
     "metadata": {},
     "output_type": "execute_result"
    }
   ],
   "source": [
    "Exp_tags = driver.find_elements_by_xpath('//li[@class=\"fleft grey-text br2 placeHolderLi experience\"]')\n",
    "print(len(Exp_tags))\n",
    "Exp_req = []\n",
    "\n",
    "for i in Exp_tags:\n",
    "    Exp_req.append(i.text)\n",
    "Exp_req = Exp_req[:10] \n",
    "Exp_req\n"
   ]
  },
  {
   "cell_type": "code",
   "execution_count": 86,
   "id": "19935cda",
   "metadata": {},
   "outputs": [
    {
     "data": {
      "text/html": [
       "<div>\n",
       "<style scoped>\n",
       "    .dataframe tbody tr th:only-of-type {\n",
       "        vertical-align: middle;\n",
       "    }\n",
       "\n",
       "    .dataframe tbody tr th {\n",
       "        vertical-align: top;\n",
       "    }\n",
       "\n",
       "    .dataframe thead th {\n",
       "        text-align: right;\n",
       "    }\n",
       "</style>\n",
       "<table border=\"1\" class=\"dataframe\">\n",
       "  <thead>\n",
       "    <tr style=\"text-align: right;\">\n",
       "      <th></th>\n",
       "      <th>JOB_TITLE</th>\n",
       "      <th>Job-location</th>\n",
       "      <th>Company_name</th>\n",
       "      <th>Experience_required</th>\n",
       "    </tr>\n",
       "  </thead>\n",
       "  <tbody>\n",
       "    <tr>\n",
       "      <th>0</th>\n",
       "      <td>Senior Data Analyst</td>\n",
       "      <td>Bengaluru/Bangalore</td>\n",
       "      <td>Flipkart</td>\n",
       "      <td>4-6 Yrs</td>\n",
       "    </tr>\n",
       "    <tr>\n",
       "      <th>1</th>\n",
       "      <td>Junior Data Analyst/ Scientist- Fresher Position</td>\n",
       "      <td>Kolkata, Gurgaon/Gurugram, Bangalore/Bengaluru...</td>\n",
       "      <td>Sejal Consulting Hub</td>\n",
       "      <td>0-3 Yrs</td>\n",
       "    </tr>\n",
       "    <tr>\n",
       "      <th>2</th>\n",
       "      <td>Assistant Clinical Data Analyst</td>\n",
       "      <td>Bangalore/Bengaluru</td>\n",
       "      <td>Labcorp Drug Development India Private Limited</td>\n",
       "      <td>0-2 Yrs</td>\n",
       "    </tr>\n",
       "    <tr>\n",
       "      <th>3</th>\n",
       "      <td>Senior Data Analyst - CRM</td>\n",
       "      <td>Bangalore/Bengaluru</td>\n",
       "      <td>Gojek Tech</td>\n",
       "      <td>2-5 Yrs</td>\n",
       "    </tr>\n",
       "    <tr>\n",
       "      <th>4</th>\n",
       "      <td>Lead - Data Analyst / Scientist</td>\n",
       "      <td>Bangalore/Bengaluru</td>\n",
       "      <td>Axim Technologies</td>\n",
       "      <td>12-14 Yrs</td>\n",
       "    </tr>\n",
       "    <tr>\n",
       "      <th>5</th>\n",
       "      <td>Data Analyst</td>\n",
       "      <td>Bengaluru/Bangalore</td>\n",
       "      <td>Flipkart</td>\n",
       "      <td>1-2 Yrs</td>\n",
       "    </tr>\n",
       "    <tr>\n",
       "      <th>6</th>\n",
       "      <td>Consultant - Data Analyst</td>\n",
       "      <td>Bengaluru/Bangalore</td>\n",
       "      <td>Flipkart</td>\n",
       "      <td>1-3 Yrs</td>\n",
       "    </tr>\n",
       "    <tr>\n",
       "      <th>7</th>\n",
       "      <td>Hiring For Data Analyst</td>\n",
       "      <td>Bangalore/Bengaluru</td>\n",
       "      <td>Flipkart</td>\n",
       "      <td>4-8 Yrs</td>\n",
       "    </tr>\n",
       "    <tr>\n",
       "      <th>8</th>\n",
       "      <td>Senior Data Analyst</td>\n",
       "      <td>Bangalore/Bengaluru</td>\n",
       "      <td>Walmart</td>\n",
       "      <td>4-7 Yrs</td>\n",
       "    </tr>\n",
       "    <tr>\n",
       "      <th>9</th>\n",
       "      <td>Senior Data Analyst - CRM</td>\n",
       "      <td>Bangalore/Bengaluru</td>\n",
       "      <td>GO-JEK India</td>\n",
       "      <td>4-8 Yrs</td>\n",
       "    </tr>\n",
       "  </tbody>\n",
       "</table>\n",
       "</div>"
      ],
      "text/plain": [
       "                                          JOB_TITLE  \\\n",
       "0                               Senior Data Analyst   \n",
       "1  Junior Data Analyst/ Scientist- Fresher Position   \n",
       "2                   Assistant Clinical Data Analyst   \n",
       "3                         Senior Data Analyst - CRM   \n",
       "4                   Lead - Data Analyst / Scientist   \n",
       "5                                      Data Analyst   \n",
       "6                         Consultant - Data Analyst   \n",
       "7                           Hiring For Data Analyst   \n",
       "8                               Senior Data Analyst   \n",
       "9                         Senior Data Analyst - CRM   \n",
       "\n",
       "                                        Job-location  \\\n",
       "0                                Bengaluru/Bangalore   \n",
       "1  Kolkata, Gurgaon/Gurugram, Bangalore/Bengaluru...   \n",
       "2                                Bangalore/Bengaluru   \n",
       "3                                Bangalore/Bengaluru   \n",
       "4                                Bangalore/Bengaluru   \n",
       "5                                Bengaluru/Bangalore   \n",
       "6                                Bengaluru/Bangalore   \n",
       "7                                Bangalore/Bengaluru   \n",
       "8                                Bangalore/Bengaluru   \n",
       "9                                Bangalore/Bengaluru   \n",
       "\n",
       "                                     Company_name Experience_required  \n",
       "0                                        Flipkart             4-6 Yrs  \n",
       "1                            Sejal Consulting Hub             0-3 Yrs  \n",
       "2  Labcorp Drug Development India Private Limited             0-2 Yrs  \n",
       "3                                      Gojek Tech             2-5 Yrs  \n",
       "4                               Axim Technologies           12-14 Yrs  \n",
       "5                                        Flipkart             1-2 Yrs  \n",
       "6                                        Flipkart             1-3 Yrs  \n",
       "7                                        Flipkart             4-8 Yrs  \n",
       "8                                         Walmart             4-7 Yrs  \n",
       "9                                    GO-JEK India             4-8 Yrs  "
      ]
     },
     "execution_count": 86,
     "metadata": {},
     "output_type": "execute_result"
    }
   ],
   "source": [
    "df= pd.DataFrame({\"JOB_TITLE\":job_titles,\"Job-location\":job_locations,\"Company_name\":Company_names,\"Experience_required\":Exp_req})\n",
    "df"
   ]
  },
  {
   "cell_type": "markdown",
   "id": "0033fe99",
   "metadata": {},
   "source": [
    "### Q2: Write a python program to scrape data for “Data Scientist” Job position in “Bangalore” location. You\n",
    "### have to scrape the job-title, job-location, company_name. You have to scrape first 10 jobs data.\n",
    "### This task will be done in following steps:\n",
    "### 1. First get the webpage https://www.naukri.com/\n",
    "### 2. Enter “Data Scientist” in “Skill, Designations, Companies” field and enter “Bangalore” in “enter the\n",
    "### location” field.\n",
    "### 3. Then click the search button.\n",
    "### 4. Then scrape the data for the first 10 jobs results you get.\n",
    "### 5. Finally create a dataframe of the scraped data.\n",
    "### Note: All of the above steps have to be done in code. No step is to be done manually"
   ]
  },
  {
   "cell_type": "code",
   "execution_count": 88,
   "id": "d5a775e6",
   "metadata": {},
   "outputs": [],
   "source": [
    "driver1 = webdriver.Chrome('chromedriver.exe')"
   ]
  },
  {
   "cell_type": "code",
   "execution_count": 89,
   "id": "97049a87",
   "metadata": {},
   "outputs": [],
   "source": [
    "url1 = 'https://www.naukri.com/'\n",
    "driver1.get(url1)"
   ]
  },
  {
   "cell_type": "code",
   "execution_count": 90,
   "id": "be17ff74",
   "metadata": {},
   "outputs": [
    {
     "data": {
      "text/plain": [
       "<selenium.webdriver.remote.webelement.WebElement (session=\"e29d5f7b8926e38266742f367e87b0ac\", element=\"b08cd32d-bb1d-4319-8ec1-893e84c89d41\")>"
      ]
     },
     "execution_count": 90,
     "metadata": {},
     "output_type": "execute_result"
    }
   ],
   "source": [
    "search_title_path = driver1.find_element_by_xpath('/html/body/div/div[2]/div[3]/div/div/div[1]/div/div/div/input')\n",
    "search_title_path"
   ]
  },
  {
   "cell_type": "code",
   "execution_count": 92,
   "id": "7109efd0",
   "metadata": {},
   "outputs": [],
   "source": [
    "search_title_path.send_keys('Data Scientist')"
   ]
  },
  {
   "cell_type": "code",
   "execution_count": 100,
   "id": "db854400",
   "metadata": {},
   "outputs": [
    {
     "data": {
      "text/plain": [
       "<selenium.webdriver.remote.webelement.WebElement (session=\"e29d5f7b8926e38266742f367e87b0ac\", element=\"d0f8ba74-fa34-4c78-8517-c24502e92b5d\")>"
      ]
     },
     "execution_count": 100,
     "metadata": {},
     "output_type": "execute_result"
    }
   ],
   "source": [
    "search_loc_path = driver1.find_element_by_xpath('/html/body/div/div[2]/div[3]/div/div/div[3]/div/div/div/input')\n",
    "search_loc_path"
   ]
  },
  {
   "cell_type": "code",
   "execution_count": 101,
   "id": "9b52d5f7",
   "metadata": {},
   "outputs": [],
   "source": [
    "search_loc_path.send_keys('Banglore')"
   ]
  },
  {
   "cell_type": "code",
   "execution_count": 102,
   "id": "6c24399a",
   "metadata": {},
   "outputs": [],
   "source": [
    "srch_btn1 = driver1.find_element_by_xpath('/html/body/div/div[2]/div[3]/div/div/div[6]')\n",
    "srch_btn1.click()"
   ]
  },
  {
   "cell_type": "code",
   "execution_count": 103,
   "id": "9be6584c",
   "metadata": {},
   "outputs": [
    {
     "name": "stdout",
     "output_type": "stream",
     "text": [
      "20\n"
     ]
    },
    {
     "data": {
      "text/plain": [
       "['Sr Data Scientist',\n",
       " 'Senior/Lead Data Scientist - (Revenue Management)',\n",
       " 'Senior/Lead - Data Scientist (Supply Chain)',\n",
       " 'Associate Data Scientist',\n",
       " 'Junior Programmer - Data Scientist',\n",
       " 'Lead/Senior Data Scientist (NLP)',\n",
       " 'Sr . Data Scientist',\n",
       " 'Sr. Data Scientist',\n",
       " 'Sr. Data Scientist',\n",
       " 'Senior Data Scientist, Data Sciences']"
      ]
     },
     "execution_count": 103,
     "metadata": {},
     "output_type": "execute_result"
    }
   ],
   "source": [
    "srch_job_title1 = driver1.find_elements_by_xpath('//a[@class=\"title fw500 ellipsis\"]')\n",
    "print(len(srch_job_title1))\n",
    "\n",
    "Job_title1 = []\n",
    "\n",
    "for i in srch_job_title1 :\n",
    "    Job_title1.append(i.text)\n",
    "Job_title1 = Job_title1[:10]\n",
    "Job_title1\n"
   ]
  },
  {
   "cell_type": "code",
   "execution_count": 104,
   "id": "9a82b0d1",
   "metadata": {},
   "outputs": [
    {
     "name": "stdout",
     "output_type": "stream",
     "text": [
      "20\n"
     ]
    },
    {
     "data": {
      "text/plain": [
       "['Bangalore/Bengaluru',\n",
       " 'Bangalore/Bengaluru',\n",
       " 'Bangalore/Bengaluru',\n",
       " 'Chennai, Bangalore/Bengaluru',\n",
       " 'Bangalore/Bengaluru',\n",
       " 'Bangalore/Bengaluru\\n(WFH during Covid)',\n",
       " 'Mumbai, Bangalore/Bengaluru',\n",
       " 'Bangalore/Bengaluru',\n",
       " 'Pune, Bangalore/Bengaluru, Mumbai (All Areas)\\n(WFH during Covid)',\n",
       " 'Bangalore/Bengaluru']"
      ]
     },
     "execution_count": 104,
     "metadata": {},
     "output_type": "execute_result"
    }
   ],
   "source": [
    "Srch_job_loc1 = driver1.find_elements_by_xpath('//li[@class=\"fleft grey-text br2 placeHolderLi location\"]')\n",
    "print(len(Srch_job_loc1))\n",
    "Job_loc1 = []\n",
    "\n",
    "for i in Srch_job_loc1:\n",
    "    Job_loc1.append(i.text)\n",
    "Job_loc1 = Job_loc1[:10]\n",
    "Job_loc1"
   ]
  },
  {
   "cell_type": "code",
   "execution_count": 105,
   "id": "3d2fbc56",
   "metadata": {},
   "outputs": [
    {
     "name": "stdout",
     "output_type": "stream",
     "text": [
      "20\n"
     ]
    },
    {
     "data": {
      "text/plain": [
       "['Siemens',\n",
       " 'o9 Solutions Management India Private Limited',\n",
       " 'o9 Solutions Management India Private Limited',\n",
       " 'Shell',\n",
       " 'GSK India',\n",
       " 'Samya.AI A FRACTAL Entity',\n",
       " 'RKSV',\n",
       " 'Siemens',\n",
       " 'NutaNXT Technologies',\n",
       " 'Vmware']"
      ]
     },
     "execution_count": 105,
     "metadata": {},
     "output_type": "execute_result"
    }
   ],
   "source": [
    "Srch_comp_name1 = driver1.find_elements_by_xpath('//a[@class=\"subTitle ellipsis fleft\"]')\n",
    "print(len(Srch_comp_name1))\n",
    "Companies_Name1 = []\n",
    "for i in Srch_comp_name1:\n",
    "    Companies_Name1.append(i.text)\n",
    "Companies_Name1 = Companies_Name1[:10]\n",
    "Companies_Name1"
   ]
  },
  {
   "cell_type": "code",
   "execution_count": 107,
   "id": "b1d93a69",
   "metadata": {},
   "outputs": [
    {
     "data": {
      "text/html": [
       "<div>\n",
       "<style scoped>\n",
       "    .dataframe tbody tr th:only-of-type {\n",
       "        vertical-align: middle;\n",
       "    }\n",
       "\n",
       "    .dataframe tbody tr th {\n",
       "        vertical-align: top;\n",
       "    }\n",
       "\n",
       "    .dataframe thead th {\n",
       "        text-align: right;\n",
       "    }\n",
       "</style>\n",
       "<table border=\"1\" class=\"dataframe\">\n",
       "  <thead>\n",
       "    <tr style=\"text-align: right;\">\n",
       "      <th></th>\n",
       "      <th>Job-Title</th>\n",
       "      <th>Job-Location</th>\n",
       "      <th>Company_Name</th>\n",
       "    </tr>\n",
       "  </thead>\n",
       "  <tbody>\n",
       "    <tr>\n",
       "      <th>0</th>\n",
       "      <td>Sr Data Scientist</td>\n",
       "      <td>Bangalore/Bengaluru</td>\n",
       "      <td>Siemens</td>\n",
       "    </tr>\n",
       "    <tr>\n",
       "      <th>1</th>\n",
       "      <td>Senior/Lead Data Scientist - (Revenue Management)</td>\n",
       "      <td>Bangalore/Bengaluru</td>\n",
       "      <td>o9 Solutions Management India Private Limited</td>\n",
       "    </tr>\n",
       "    <tr>\n",
       "      <th>2</th>\n",
       "      <td>Senior/Lead - Data Scientist (Supply Chain)</td>\n",
       "      <td>Bangalore/Bengaluru</td>\n",
       "      <td>o9 Solutions Management India Private Limited</td>\n",
       "    </tr>\n",
       "    <tr>\n",
       "      <th>3</th>\n",
       "      <td>Associate Data Scientist</td>\n",
       "      <td>Chennai, Bangalore/Bengaluru</td>\n",
       "      <td>Shell</td>\n",
       "    </tr>\n",
       "    <tr>\n",
       "      <th>4</th>\n",
       "      <td>Junior Programmer - Data Scientist</td>\n",
       "      <td>Bangalore/Bengaluru</td>\n",
       "      <td>GSK India</td>\n",
       "    </tr>\n",
       "    <tr>\n",
       "      <th>5</th>\n",
       "      <td>Lead/Senior Data Scientist (NLP)</td>\n",
       "      <td>Bangalore/Bengaluru\\n(WFH during Covid)</td>\n",
       "      <td>Samya.AI A FRACTAL Entity</td>\n",
       "    </tr>\n",
       "    <tr>\n",
       "      <th>6</th>\n",
       "      <td>Sr . Data Scientist</td>\n",
       "      <td>Mumbai, Bangalore/Bengaluru</td>\n",
       "      <td>RKSV</td>\n",
       "    </tr>\n",
       "    <tr>\n",
       "      <th>7</th>\n",
       "      <td>Sr. Data Scientist</td>\n",
       "      <td>Bangalore/Bengaluru</td>\n",
       "      <td>Siemens</td>\n",
       "    </tr>\n",
       "    <tr>\n",
       "      <th>8</th>\n",
       "      <td>Sr. Data Scientist</td>\n",
       "      <td>Pune, Bangalore/Bengaluru, Mumbai (All Areas)\\...</td>\n",
       "      <td>NutaNXT Technologies</td>\n",
       "    </tr>\n",
       "    <tr>\n",
       "      <th>9</th>\n",
       "      <td>Senior Data Scientist, Data Sciences</td>\n",
       "      <td>Bangalore/Bengaluru</td>\n",
       "      <td>Vmware</td>\n",
       "    </tr>\n",
       "  </tbody>\n",
       "</table>\n",
       "</div>"
      ],
      "text/plain": [
       "                                           Job-Title  \\\n",
       "0                                  Sr Data Scientist   \n",
       "1  Senior/Lead Data Scientist - (Revenue Management)   \n",
       "2        Senior/Lead - Data Scientist (Supply Chain)   \n",
       "3                           Associate Data Scientist   \n",
       "4                 Junior Programmer - Data Scientist   \n",
       "5                   Lead/Senior Data Scientist (NLP)   \n",
       "6                                Sr . Data Scientist   \n",
       "7                                 Sr. Data Scientist   \n",
       "8                                 Sr. Data Scientist   \n",
       "9               Senior Data Scientist, Data Sciences   \n",
       "\n",
       "                                        Job-Location  \\\n",
       "0                                Bangalore/Bengaluru   \n",
       "1                                Bangalore/Bengaluru   \n",
       "2                                Bangalore/Bengaluru   \n",
       "3                       Chennai, Bangalore/Bengaluru   \n",
       "4                                Bangalore/Bengaluru   \n",
       "5            Bangalore/Bengaluru\\n(WFH during Covid)   \n",
       "6                        Mumbai, Bangalore/Bengaluru   \n",
       "7                                Bangalore/Bengaluru   \n",
       "8  Pune, Bangalore/Bengaluru, Mumbai (All Areas)\\...   \n",
       "9                                Bangalore/Bengaluru   \n",
       "\n",
       "                                    Company_Name  \n",
       "0                                        Siemens  \n",
       "1  o9 Solutions Management India Private Limited  \n",
       "2  o9 Solutions Management India Private Limited  \n",
       "3                                          Shell  \n",
       "4                                      GSK India  \n",
       "5                      Samya.AI A FRACTAL Entity  \n",
       "6                                           RKSV  \n",
       "7                                        Siemens  \n",
       "8                           NutaNXT Technologies  \n",
       "9                                         Vmware  "
      ]
     },
     "execution_count": 107,
     "metadata": {},
     "output_type": "execute_result"
    }
   ],
   "source": [
    "df1 = pd.DataFrame({\"Job-Title\":Job_title1, \"Job-Location\":Job_loc1 , \"Company_Name\":Companies_Name1})\n",
    "df1"
   ]
  },
  {
   "cell_type": "markdown",
   "id": "fee106b1",
   "metadata": {},
   "source": [
    "### Q3: In this question you have to scrape data using the filters available on the webpage as shown below:ASSIGNMENT 2\n",
    "### You have to use the location and salary filter.\n",
    "### You have to scrape data for “Data Scientist” designation for first 10 job results.\n",
    "### You have to scrape the job-title, job-location, company name, experience required.\n",
    "### The location filter to be used is “Delhi/NCR”. The salary filter to be used is “3-6” lakhs"
   ]
  },
  {
   "cell_type": "code",
   "execution_count": 3,
   "id": "583d4423",
   "metadata": {},
   "outputs": [],
   "source": [
    "driver2 = webdriver.Chrome('chromedriver.exe')"
   ]
  },
  {
   "cell_type": "code",
   "execution_count": 6,
   "id": "145658c7",
   "metadata": {},
   "outputs": [],
   "source": [
    "url2 = 'https://www.naukri.com/'\n",
    "driver2.get(url2)"
   ]
  },
  {
   "cell_type": "code",
   "execution_count": 11,
   "id": "3e51e8bf",
   "metadata": {},
   "outputs": [
    {
     "data": {
      "text/plain": [
       "<selenium.webdriver.remote.webelement.WebElement (session=\"0fbfd721be33217553a343201cad8699\", element=\"73cc4b39-ea3e-4370-8a6a-9e09fc829ab1\")>"
      ]
     },
     "execution_count": 11,
     "metadata": {},
     "output_type": "execute_result"
    }
   ],
   "source": [
    "search_title_path2 = driver2.find_element_by_xpath('/html/body/div/div[2]/div[3]/div/div/div[1]/div/div/div/input')\n",
    "search_title_path2"
   ]
  },
  {
   "cell_type": "code",
   "execution_count": 12,
   "id": "ce31546f",
   "metadata": {},
   "outputs": [],
   "source": [
    "search_title_path2.send_keys('Data Scientist')"
   ]
  },
  {
   "cell_type": "code",
   "execution_count": 13,
   "id": "a1279e9f",
   "metadata": {},
   "outputs": [],
   "source": [
    "srch_btn2 = driver2.find_element_by_xpath('/html/body/div/div[2]/div[3]/div/div/div[6]')\n",
    "srch_btn2.click()"
   ]
  },
  {
   "cell_type": "code",
   "execution_count": 14,
   "id": "375ae4de",
   "metadata": {},
   "outputs": [],
   "source": [
    "check_button = driver2.find_element_by_xpath('/html/body/div[1]/div[3]/div[2]/section[1]/div[2]/div[3]/div[2]/div[3]/label/i')\n",
    "check_button.click()"
   ]
  },
  {
   "cell_type": "code",
   "execution_count": 15,
   "id": "f5a5f959",
   "metadata": {},
   "outputs": [],
   "source": [
    "check_button1 = driver2.find_element_by_xpath('/html/body/div[1]/div[3]/div[2]/section[1]/div[2]/div[4]/div[2]/div[2]/label/i')\n",
    "check_button1.click()"
   ]
  },
  {
   "cell_type": "code",
   "execution_count": 16,
   "id": "3b190c68",
   "metadata": {},
   "outputs": [
    {
     "name": "stdout",
     "output_type": "stream",
     "text": [
      "20\n"
     ]
    },
    {
     "data": {
      "text/plain": [
       "['Data Scientist / Senior DS/ Team Lead',\n",
       " 'Data Scientist | Python | Machine Learning | Deep Learning- Fresher',\n",
       " 'Openings For Jr/mid/Sr level data Scientists',\n",
       " 'Job Opportunity || Data Scientist || HCL Technologies',\n",
       " 'Hiring For Data Analyst / Data Scientist',\n",
       " 'Senior Data Scientist I',\n",
       " 'Data Scientist',\n",
       " 'Data Scientist',\n",
       " 'Urgent Hiring For Data Scientist',\n",
       " 'Urgent Hiring For Data Scientist']"
      ]
     },
     "execution_count": 16,
     "metadata": {},
     "output_type": "execute_result"
    }
   ],
   "source": [
    "Srch_job_title2 = driver2.find_elements_by_xpath('//a[@class=\"title fw500 ellipsis\"]')\n",
    "print(len(Srch_job_title2))\n",
    "job_title2 = []\n",
    "for i in Srch_job_title2:\n",
    "    job_title2.append(i.text)\n",
    "job_title2 = job_title2[:10]\n",
    "job_title2"
   ]
  },
  {
   "cell_type": "code",
   "execution_count": 19,
   "id": "7191ad1c",
   "metadata": {},
   "outputs": [
    {
     "name": "stdout",
     "output_type": "stream",
     "text": [
      "20\n"
     ]
    },
    {
     "data": {
      "text/plain": [
       "['Mumbai, Gurgaon/Gurugram(Cyber City +1)',\n",
       " 'Noida, Gurgaon/Gurugram, Delhi / NCR',\n",
       " 'Kolkata, Hyderabad/Secunderabad, Pune, Ahmedabad, Chennai, Bangalore/Bengaluru, Delhi / NCR, Mumbai (All Areas)\\n(WFH during Covid)',\n",
       " 'Delhi / NCR',\n",
       " 'Noida(Sector-59 Noida)',\n",
       " 'Gurgaon/Gurugram',\n",
       " 'Gurgaon/Gurugram(Uday Nagar)',\n",
       " 'Gurgaon/Gurugram',\n",
       " 'Gurgaon/Gurugram, Bangalore/Bengaluru',\n",
       " 'Gurgaon/Gurugram, Bangalore/Bengaluru']"
      ]
     },
     "execution_count": 19,
     "metadata": {},
     "output_type": "execute_result"
    }
   ],
   "source": [
    "Srch_job_loc2 = driver2.find_elements_by_xpath('//li[@class=\"fleft grey-text br2 placeHolderLi location\"]')\n",
    "print(len(Srch_job_loc2))\n",
    "job_loc2 = []\n",
    "for i in Srch_job_loc2:\n",
    "    job_loc2.append(i.text)\n",
    "job_loc2 = job_loc2[:10]\n",
    "job_loc2"
   ]
  },
  {
   "cell_type": "code",
   "execution_count": 21,
   "id": "31e57982",
   "metadata": {},
   "outputs": [
    {
     "name": "stdout",
     "output_type": "stream",
     "text": [
      "20\n"
     ]
    },
    {
     "data": {
      "text/plain": [
       "['NebulARC Technologies Private Limited',\n",
       " 'Schlesinger Group',\n",
       " 'Pluto seven business solutions (p) limited',\n",
       " 'HCL',\n",
       " 'Careerera',\n",
       " 'Delhivery',\n",
       " 'Core Diagnostics Private Limited',\n",
       " 'T & A Solutions',\n",
       " 'Mount Talent Consulting Private Limited',\n",
       " 'Mount Talent Consulting Private Limited']"
      ]
     },
     "execution_count": 21,
     "metadata": {},
     "output_type": "execute_result"
    }
   ],
   "source": [
    "Srch_company_name2 = driver2.find_elements_by_xpath('//a[@class=\"subTitle ellipsis fleft\"]')\n",
    "print(len(Srch_company_name2))\n",
    "Company_name2 = []\n",
    "for i in Srch_company_name2:\n",
    "    Company_name2.append(i.text)\n",
    "Company_name2 = Company_name2[:10]\n",
    "Company_name2"
   ]
  },
  {
   "cell_type": "code",
   "execution_count": 23,
   "id": "3032ae3e",
   "metadata": {},
   "outputs": [
    {
     "name": "stdout",
     "output_type": "stream",
     "text": [
      "20\n"
     ]
    },
    {
     "data": {
      "text/plain": [
       "['0-4 Yrs',\n",
       " '0-3 Yrs',\n",
       " '2-6 Yrs',\n",
       " '2-6 Yrs',\n",
       " '2-5 Yrs',\n",
       " '3-7 Yrs',\n",
       " '2-7 Yrs',\n",
       " '2-6 Yrs',\n",
       " '1-6 Yrs',\n",
       " '1-6 Yrs']"
      ]
     },
     "execution_count": 23,
     "metadata": {},
     "output_type": "execute_result"
    }
   ],
   "source": [
    "Srch_exp_req2 = driver2.find_elements_by_xpath('//li[@class=\"fleft grey-text br2 placeHolderLi experience\"]')\n",
    "print(len(Srch_exp_req2))\n",
    "Exp_req2 = []\n",
    "for i in Srch_exp_req2:\n",
    "    Exp_req2.append(i.text)\n",
    "Exp_req2 = Exp_req2[:10]\n",
    "Exp_req2"
   ]
  },
  {
   "cell_type": "code",
   "execution_count": 24,
   "id": "fdae1b95",
   "metadata": {},
   "outputs": [
    {
     "data": {
      "text/html": [
       "<div>\n",
       "<style scoped>\n",
       "    .dataframe tbody tr th:only-of-type {\n",
       "        vertical-align: middle;\n",
       "    }\n",
       "\n",
       "    .dataframe tbody tr th {\n",
       "        vertical-align: top;\n",
       "    }\n",
       "\n",
       "    .dataframe thead th {\n",
       "        text-align: right;\n",
       "    }\n",
       "</style>\n",
       "<table border=\"1\" class=\"dataframe\">\n",
       "  <thead>\n",
       "    <tr style=\"text-align: right;\">\n",
       "      <th></th>\n",
       "      <th>Job-title2</th>\n",
       "      <th>Job-location2</th>\n",
       "      <th>Company_name2</th>\n",
       "      <th>Experience_required2</th>\n",
       "    </tr>\n",
       "  </thead>\n",
       "  <tbody>\n",
       "    <tr>\n",
       "      <th>0</th>\n",
       "      <td>Data Scientist / Senior DS/ Team Lead</td>\n",
       "      <td>Mumbai, Gurgaon/Gurugram(Cyber City +1)</td>\n",
       "      <td>NebulARC Technologies Private Limited</td>\n",
       "      <td>0-4 Yrs</td>\n",
       "    </tr>\n",
       "    <tr>\n",
       "      <th>1</th>\n",
       "      <td>Data Scientist | Python | Machine Learning | D...</td>\n",
       "      <td>Noida, Gurgaon/Gurugram, Delhi / NCR</td>\n",
       "      <td>Schlesinger Group</td>\n",
       "      <td>0-3 Yrs</td>\n",
       "    </tr>\n",
       "    <tr>\n",
       "      <th>2</th>\n",
       "      <td>Openings For Jr/mid/Sr level data Scientists</td>\n",
       "      <td>Kolkata, Hyderabad/Secunderabad, Pune, Ahmedab...</td>\n",
       "      <td>Pluto seven business solutions (p) limited</td>\n",
       "      <td>2-6 Yrs</td>\n",
       "    </tr>\n",
       "    <tr>\n",
       "      <th>3</th>\n",
       "      <td>Job Opportunity || Data Scientist || HCL Techn...</td>\n",
       "      <td>Delhi / NCR</td>\n",
       "      <td>HCL</td>\n",
       "      <td>2-6 Yrs</td>\n",
       "    </tr>\n",
       "    <tr>\n",
       "      <th>4</th>\n",
       "      <td>Hiring For Data Analyst / Data Scientist</td>\n",
       "      <td>Noida(Sector-59 Noida)</td>\n",
       "      <td>Careerera</td>\n",
       "      <td>2-5 Yrs</td>\n",
       "    </tr>\n",
       "    <tr>\n",
       "      <th>5</th>\n",
       "      <td>Senior Data Scientist I</td>\n",
       "      <td>Gurgaon/Gurugram</td>\n",
       "      <td>Delhivery</td>\n",
       "      <td>3-7 Yrs</td>\n",
       "    </tr>\n",
       "    <tr>\n",
       "      <th>6</th>\n",
       "      <td>Data Scientist</td>\n",
       "      <td>Gurgaon/Gurugram(Uday Nagar)</td>\n",
       "      <td>Core Diagnostics Private Limited</td>\n",
       "      <td>2-7 Yrs</td>\n",
       "    </tr>\n",
       "    <tr>\n",
       "      <th>7</th>\n",
       "      <td>Data Scientist</td>\n",
       "      <td>Gurgaon/Gurugram</td>\n",
       "      <td>T &amp; A Solutions</td>\n",
       "      <td>2-6 Yrs</td>\n",
       "    </tr>\n",
       "    <tr>\n",
       "      <th>8</th>\n",
       "      <td>Urgent Hiring For Data Scientist</td>\n",
       "      <td>Gurgaon/Gurugram, Bangalore/Bengaluru</td>\n",
       "      <td>Mount Talent Consulting Private Limited</td>\n",
       "      <td>1-6 Yrs</td>\n",
       "    </tr>\n",
       "    <tr>\n",
       "      <th>9</th>\n",
       "      <td>Urgent Hiring For Data Scientist</td>\n",
       "      <td>Gurgaon/Gurugram, Bangalore/Bengaluru</td>\n",
       "      <td>Mount Talent Consulting Private Limited</td>\n",
       "      <td>1-6 Yrs</td>\n",
       "    </tr>\n",
       "  </tbody>\n",
       "</table>\n",
       "</div>"
      ],
      "text/plain": [
       "                                          Job-title2  \\\n",
       "0              Data Scientist / Senior DS/ Team Lead   \n",
       "1  Data Scientist | Python | Machine Learning | D...   \n",
       "2       Openings For Jr/mid/Sr level data Scientists   \n",
       "3  Job Opportunity || Data Scientist || HCL Techn...   \n",
       "4           Hiring For Data Analyst / Data Scientist   \n",
       "5                            Senior Data Scientist I   \n",
       "6                                     Data Scientist   \n",
       "7                                     Data Scientist   \n",
       "8                   Urgent Hiring For Data Scientist   \n",
       "9                   Urgent Hiring For Data Scientist   \n",
       "\n",
       "                                       Job-location2  \\\n",
       "0            Mumbai, Gurgaon/Gurugram(Cyber City +1)   \n",
       "1               Noida, Gurgaon/Gurugram, Delhi / NCR   \n",
       "2  Kolkata, Hyderabad/Secunderabad, Pune, Ahmedab...   \n",
       "3                                        Delhi / NCR   \n",
       "4                             Noida(Sector-59 Noida)   \n",
       "5                                   Gurgaon/Gurugram   \n",
       "6                       Gurgaon/Gurugram(Uday Nagar)   \n",
       "7                                   Gurgaon/Gurugram   \n",
       "8              Gurgaon/Gurugram, Bangalore/Bengaluru   \n",
       "9              Gurgaon/Gurugram, Bangalore/Bengaluru   \n",
       "\n",
       "                                Company_name2 Experience_required2  \n",
       "0       NebulARC Technologies Private Limited              0-4 Yrs  \n",
       "1                           Schlesinger Group              0-3 Yrs  \n",
       "2  Pluto seven business solutions (p) limited              2-6 Yrs  \n",
       "3                                         HCL              2-6 Yrs  \n",
       "4                                   Careerera              2-5 Yrs  \n",
       "5                                   Delhivery              3-7 Yrs  \n",
       "6            Core Diagnostics Private Limited              2-7 Yrs  \n",
       "7                             T & A Solutions              2-6 Yrs  \n",
       "8     Mount Talent Consulting Private Limited              1-6 Yrs  \n",
       "9     Mount Talent Consulting Private Limited              1-6 Yrs  "
      ]
     },
     "execution_count": 24,
     "metadata": {},
     "output_type": "execute_result"
    }
   ],
   "source": [
    "df2 = pd.DataFrame({'Job-title2':job_title2,'Job-location2':job_loc2,'Company_name2':Company_name2,'Experience_required2':Exp_req2})\n",
    "df2"
   ]
  },
  {
   "cell_type": "markdown",
   "id": "6dd4f1b5",
   "metadata": {},
   "source": [
    "### Q4: Scrape data of first 100 sunglasses listings on flipkart.com. You have to scrape four attributes:\n",
    "### 1. Brand\n",
    "### 2. Product Description\n",
    "### 3. Price\n",
    "### The attributes which you have to scrape is ticked marked in the below image.\n",
    "### To scrape the data you have to go through following steps:\n",
    "### 1. Go to Flipkart webpage by url : https://www.flipkart.com/\n",
    "### 2. Enter “sunglasses” in the search field where “search for products, brands andmore” is written and\n",
    "### click the search icon\n",
    "### 3. After that you will reach to the page having a lot of sunglasses. From this pageyou can scrap the\n",
    "### required data as usual.ASSIGNMENT 2\n",
    "### 4. After scraping data from the first page, go to the “Next” Button at the bottom ofthe page , then\n",
    "### click on it.\n",
    "### 5. Now scrape data from this page as usual\n",
    "### 6. Repeat this until you get data for 100 sunglasses.\n",
    "### Note: That all of the above steps have to be done by coding only and not manually."
   ]
  },
  {
   "cell_type": "code",
   "execution_count": 32,
   "id": "cd53a822",
   "metadata": {},
   "outputs": [],
   "source": [
    "driver3 = webdriver.Chrome('chromedriver.exe')"
   ]
  },
  {
   "cell_type": "code",
   "execution_count": 33,
   "id": "9b0e0e39",
   "metadata": {},
   "outputs": [],
   "source": [
    "driver3.get('https://www.flipkart.com/')"
   ]
  },
  {
   "cell_type": "code",
   "execution_count": 42,
   "id": "16638ab1",
   "metadata": {},
   "outputs": [
    {
     "data": {
      "text/plain": [
       "<selenium.webdriver.remote.webelement.WebElement (session=\"7243d152a584aa8312d86063f9f2617c\", element=\"17678a6d-d6d5-4a3c-b348-07b92e5345f2\")>"
      ]
     },
     "execution_count": 42,
     "metadata": {},
     "output_type": "execute_result"
    }
   ],
   "source": [
    "search_item3 = driver3.find_element_by_xpath('/html/body/div[1]/div/div[1]/div[1]/div[2]/div[2]/form/div/div/input')\n",
    "search_item3"
   ]
  },
  {
   "cell_type": "code",
   "execution_count": 43,
   "id": "fc2fb45a",
   "metadata": {},
   "outputs": [],
   "source": [
    "search_item3.send_keys('sunglasses')"
   ]
  },
  {
   "cell_type": "code",
   "execution_count": 45,
   "id": "d8beeca2",
   "metadata": {
    "scrolled": true
   },
   "outputs": [],
   "source": [
    "search_flp_button1 = driver3.find_element_by_xpath('/html/body/div[1]/div/div[1]/div[1]/div[2]/div[2]/form/div/button')\n",
    "search_flp_button1.click()"
   ]
  },
  {
   "cell_type": "code",
   "execution_count": 46,
   "id": "28d2ac64",
   "metadata": {},
   "outputs": [
    {
     "name": "stdout",
     "output_type": "stream",
     "text": [
      "40\n"
     ]
    },
    {
     "data": {
      "text/plain": [
       "['SKYZA INDIA',\n",
       " 'Silver Kartz',\n",
       " 'PIRASO',\n",
       " 'Elligator',\n",
       " 'Fastrack',\n",
       " 'SRPM',\n",
       " 'kingsunglasses',\n",
       " 'chawla fashion',\n",
       " 'Fastrack',\n",
       " 'SHAAH COLLECTIONS',\n",
       " 'PIRASO',\n",
       " 'Singco India',\n",
       " 'PHENOMENAL',\n",
       " 'New Specs',\n",
       " 'PIRASO',\n",
       " 'ROZZETTA CRAFT',\n",
       " 'SUNBEE',\n",
       " 'ROZZETTA CRAFT',\n",
       " 'PIRASO',\n",
       " 'ROYAL SON',\n",
       " 'ROYAL SON',\n",
       " 'hipe',\n",
       " 'New Specs',\n",
       " 'Silver Kartz',\n",
       " 'SHAAH COLLECTIONS',\n",
       " 'kingsunglasses',\n",
       " 'Fastrack',\n",
       " 'ROZZETTA CRAFT',\n",
       " 'PIRASO',\n",
       " 'PHENOMENAL',\n",
       " 'Singco India',\n",
       " 'chawla fashion',\n",
       " 'ROZZETTA CRAFT',\n",
       " 'PHENOMENAL',\n",
       " 'agera',\n",
       " 'ROYAL SON',\n",
       " 'ROYAL SON',\n",
       " 'Elligator',\n",
       " 'Lee Topper',\n",
       " 'VINCENT CHASE']"
      ]
     },
     "execution_count": 46,
     "metadata": {},
     "output_type": "execute_result"
    }
   ],
   "source": [
    "Search_brand_name1 = driver3.find_elements_by_xpath('//div[@class=\"_2WkVRV\"]')\n",
    "print(len(Search_brand_name1))\n",
    "Brand_name1 = []\n",
    "for i in Search_brand_name1:\n",
    "    Brand_name1.append(i.text)\n",
    "Brand_name1"
   ]
  },
  {
   "cell_type": "code",
   "execution_count": 53,
   "id": "42c27fa5",
   "metadata": {},
   "outputs": [
    {
     "name": "stdout",
     "output_type": "stream",
     "text": [
      "40\n"
     ]
    },
    {
     "data": {
      "text/plain": [
       "['Mirrored, Riding Glasses, Gradient Cat-eye Sunglasses (...',\n",
       " 'UV Protection Clubmaster Sunglasses (53)',\n",
       " 'UV Protection Aviator Sunglasses (54)',\n",
       " 'UV Protection Round Sunglasses (54)',\n",
       " 'UV Protection Wayfarer Sunglasses (Free Size)',\n",
       " 'UV Protection Wayfarer Sunglasses (56)',\n",
       " 'UV Protection Round Sunglasses (54)',\n",
       " 'UV Protection, Riding Glasses Aviator Sunglasses (Free ...',\n",
       " 'Gradient, UV Protection Wayfarer Sunglasses (Free Size)',\n",
       " 'UV Protection, Polarized, Mirrored Rectangular Sunglass...',\n",
       " 'UV Protection Aviator Sunglasses (54)',\n",
       " 'UV Protection, Riding Glasses, Others Aviator, Wayfarer...',\n",
       " 'UV Protection Retro Square Sunglasses (Free Size)',\n",
       " 'Mirrored, UV Protection, Riding Glasses, Others Round S...',\n",
       " 'UV Protection Wayfarer Sunglasses (32)',\n",
       " 'UV Protection, Gradient Retro Square Sunglasses (Free S...',\n",
       " 'UV Protection, Polarized, Mirrored Round Sunglasses (Fr...',\n",
       " 'UV Protection, Gradient Rectangular Sunglasses (Free Si...',\n",
       " 'UV Protection Aviator Sunglasses (54)',\n",
       " 'UV Protection Rectangular Sunglasses (Free Size)',\n",
       " 'Mirrored Aviator Sunglasses (55)',\n",
       " 'Mirrored, Gradient, UV Protection Aviator Sunglasses (5...',\n",
       " 'UV Protection Rectangular Sunglasses (Free Size)',\n",
       " 'UV Protection Aviator Sunglasses (88)',\n",
       " 'UV Protection, Polarized, Mirrored Rectangular Sunglass...',\n",
       " 'Mirrored, UV Protection Wayfarer Sunglasses (53)',\n",
       " 'UV Protection Wayfarer Sunglasses (55)',\n",
       " 'Gradient, UV Protection Round Sunglasses (Free Size)',\n",
       " 'UV Protection Aviator Sunglasses (58)',\n",
       " 'UV Protection, Mirrored Retro Square Sunglasses (53)',\n",
       " 'Gradient, Toughened Glass Lens, UV Protection Retro Squ...',\n",
       " 'UV Protection, Riding Glasses Round Sunglasses (Free Si...',\n",
       " 'UV Protection Retro Square Sunglasses (Free Size)',\n",
       " 'UV Protection, Mirrored Retro Square Sunglasses (53)',\n",
       " 'Gradient Aviator Sunglasses (55)',\n",
       " 'Polarized Retro Square Sunglasses (59)',\n",
       " 'UV Protection Rectangular Sunglasses (58)',\n",
       " 'UV Protection Round Sunglasses (53)',\n",
       " 'Riding Glasses, Night Vision Wrap-around Sunglasses (Fr...',\n",
       " 'by Lenskart UV Protection Aviator Sunglasses (Free Size...']"
      ]
     },
     "execution_count": 53,
     "metadata": {},
     "output_type": "execute_result"
    }
   ],
   "source": [
    "Search_prod_disc1 = driver3.find_elements_by_xpath('//a[@class=\"IRpwTa\" or @class=\"IRpwTa _2-ICcC\"]')\n",
    "print(len(Search_prod_disc1))\n",
    "Prod_disc1 = []\n",
    "for i in Search_prod_disc1:\n",
    "    Prod_disc1.append(i.text)\n",
    "Prod_disc1"
   ]
  },
  {
   "cell_type": "code",
   "execution_count": 54,
   "id": "dda3ecca",
   "metadata": {},
   "outputs": [
    {
     "name": "stdout",
     "output_type": "stream",
     "text": [
      "40\n"
     ]
    },
    {
     "data": {
      "text/plain": [
       "['₹159',\n",
       " '₹367',\n",
       " '₹200',\n",
       " '₹248',\n",
       " '₹759',\n",
       " '₹198',\n",
       " '₹188',\n",
       " '₹165',\n",
       " '₹499',\n",
       " '₹165',\n",
       " '₹200',\n",
       " '₹203',\n",
       " '₹309',\n",
       " '₹262',\n",
       " '₹190',\n",
       " '₹349',\n",
       " '₹271',\n",
       " '₹383',\n",
       " '₹200',\n",
       " '₹449',\n",
       " '₹359',\n",
       " '₹178',\n",
       " '₹259',\n",
       " '₹255',\n",
       " '₹181',\n",
       " '₹273',\n",
       " '₹549',\n",
       " '₹426',\n",
       " '₹299',\n",
       " '₹299',\n",
       " '₹599',\n",
       " '₹165',\n",
       " '₹474',\n",
       " '₹299',\n",
       " '₹196',\n",
       " '₹664',\n",
       " '₹449',\n",
       " '₹189',\n",
       " '₹276',\n",
       " '₹999']"
      ]
     },
     "execution_count": 54,
     "metadata": {},
     "output_type": "execute_result"
    }
   ],
   "source": [
    "Search_prod_price1 = driver3.find_elements_by_xpath('//div[@class=\"_30jeq3\"]')\n",
    "print(len(Search_prod_price1))\n",
    "Prod_price1 = []\n",
    "for i in Search_prod_price1:\n",
    "    Prod_price1.append(i.text)\n",
    "Prod_price1"
   ]
  },
  {
   "cell_type": "code",
   "execution_count": 56,
   "id": "eb375fa9",
   "metadata": {},
   "outputs": [
    {
     "name": "stdout",
     "output_type": "stream",
     "text": [
      "40\n"
     ]
    },
    {
     "data": {
      "text/plain": [
       "['68% off',\n",
       " '75% off',\n",
       " '87% off',\n",
       " '90% off',\n",
       " '15% off',\n",
       " '84% off',\n",
       " '81% off',\n",
       " '86% off',\n",
       " '37% off',\n",
       " '90% off',\n",
       " '87% off',\n",
       " '70% off',\n",
       " '84% off',\n",
       " '83% off',\n",
       " '88% off',\n",
       " '82% off',\n",
       " '84% off',\n",
       " '80% off',\n",
       " '87% off',\n",
       " '70% off',\n",
       " '76% off',\n",
       " '85% off',\n",
       " '87% off',\n",
       " '78% off',\n",
       " '81% off',\n",
       " '86% off',\n",
       " '31% off',\n",
       " '78% off',\n",
       " '88% off',\n",
       " '85% off',\n",
       " '80% off',\n",
       " '86% off',\n",
       " '78% off',\n",
       " '85% off',\n",
       " '82% off',\n",
       " '55% off',\n",
       " '70% off',\n",
       " '87% off',\n",
       " '88% off',\n",
       " '50% off']"
      ]
     },
     "execution_count": 56,
     "metadata": {},
     "output_type": "execute_result"
    }
   ],
   "source": [
    "Search_prod_discount1 = driver3.find_elements_by_xpath('//div[@class=\"_3Ay6Sb\"]')\n",
    "print(len(Search_prod_discount1))\n",
    "Prod_discount1 = []\n",
    "for i in Search_prod_discount1:\n",
    "    Prod_discount1.append(i.text)\n",
    "Prod_discount1"
   ]
  },
  {
   "cell_type": "code",
   "execution_count": 57,
   "id": "18f77513",
   "metadata": {},
   "outputs": [],
   "source": [
    "Next_pg_button1 = driver3.find_element_by_xpath('/html/body/div[1]/div/div[3]/div[1]/div[2]/div[12]/div/div/nav/a[11]')\n",
    "Next_pg_button1.click()"
   ]
  },
  {
   "cell_type": "code",
   "execution_count": 58,
   "id": "b5e1dea2",
   "metadata": {},
   "outputs": [
    {
     "name": "stdout",
     "output_type": "stream",
     "text": [
      "40\n"
     ]
    },
    {
     "data": {
      "text/plain": [
       "['agera',\n",
       " 'kingsunglasses',\n",
       " 'Lee Topper',\n",
       " 'ROZZETTA CRAFT',\n",
       " 'Rich Club',\n",
       " 'Rich Club',\n",
       " 'Fastrack',\n",
       " 'DEIXELS',\n",
       " 'Elligator',\n",
       " 'PIRASO',\n",
       " 'DEIXELS',\n",
       " 'ROZZETTA CRAFT',\n",
       " 'ROYAL SON',\n",
       " 'maxa',\n",
       " 'Singco India',\n",
       " 'AISLIN',\n",
       " 'Fastrack',\n",
       " 'hipe',\n",
       " 'Fastrack',\n",
       " 'VILLAIN',\n",
       " 'Fastrack',\n",
       " 'ROZZETTA CRAFT',\n",
       " 'ROYAL SON',\n",
       " 'ROZZETTA CRAFT',\n",
       " 'ROZZETTA CRAFT',\n",
       " 'hipe',\n",
       " 'Silver Kartz',\n",
       " 'AISLIN',\n",
       " 'ROYAL SON',\n",
       " 'Fastrack',\n",
       " 'Elligator',\n",
       " 'ROZZETTA CRAFT',\n",
       " 'SUNBEE',\n",
       " 'ROZZETTA CRAFT',\n",
       " 'SRPM',\n",
       " 'NuVew',\n",
       " 'Fastrack',\n",
       " 'Rich Club',\n",
       " 'Lee Topper',\n",
       " 'AISLIN']"
      ]
     },
     "execution_count": 58,
     "metadata": {},
     "output_type": "execute_result"
    }
   ],
   "source": [
    "Search_brand_name2 = driver3.find_elements_by_xpath('//div[@class=\"_2WkVRV\"]')\n",
    "print(len(Search_brand_name2))\n",
    "Brand_name2 = []\n",
    "for i in Search_brand_name2:\n",
    "    Brand_name2.append(i.text)\n",
    "Brand_name2 "
   ]
  },
  {
   "cell_type": "code",
   "execution_count": 59,
   "id": "5a08f509",
   "metadata": {},
   "outputs": [
    {
     "name": "stdout",
     "output_type": "stream",
     "text": [
      "40\n"
     ]
    },
    {
     "data": {
      "text/plain": [
       "['Gradient Aviator Sunglasses (55)',\n",
       " 'UV Protection, Riding Glasses, Mirrored Wayfarer Sungla...',\n",
       " 'UV Protection Rectangular Sunglasses (Free Size)',\n",
       " 'UV Protection, Gradient Rectangular Sunglasses (Free Si...',\n",
       " 'Polarized Round Sunglasses (48)',\n",
       " 'UV Protection Round Sunglasses (50)',\n",
       " 'Gradient, UV Protection Wayfarer Sunglasses (Free Size)',\n",
       " 'UV Protection Rectangular Sunglasses (Free Size)',\n",
       " 'UV Protection Round Sunglasses (54)',\n",
       " 'UV Protection Butterfly Sunglasses (65)',\n",
       " 'UV Protection Aviator, Wayfarer Sunglasses (Free Size)',\n",
       " 'UV Protection, Gradient Round Sunglasses (Free Size)',\n",
       " 'Mirrored Aviator Sunglasses (Free Size)',\n",
       " 'UV Protection, Riding Glasses Rectangular, Wayfarer, Ov...',\n",
       " 'Riding Glasses, UV Protection, Others Aviator Sunglasse...',\n",
       " 'UV Protection, Gradient Round Sunglasses (58)',\n",
       " 'UV Protection Aviator Sunglasses (Free Size)',\n",
       " 'UV Protection, Mirrored, Riding Glasses, Night Vision, ...',\n",
       " 'UV Protection Shield Sunglasses (Free Size)',\n",
       " 'Others Retro Square Sunglasses (Free Size)',\n",
       " 'UV Protection Aviator Sunglasses (58)',\n",
       " 'UV Protection, Gradient Round Sunglasses (Free Size)',\n",
       " 'UV Protection, Gradient Butterfly Sunglasses (57)',\n",
       " 'UV Protection, Riding Glasses Rectangular Sunglasses (F...',\n",
       " 'UV Protection, Gradient Retro Square Sunglasses (Free S...',\n",
       " 'UV Protection, Gradient, Mirrored, Riding Glasses Aviat...',\n",
       " 'UV Protection Wayfarer Sunglasses (Free Size)',\n",
       " 'UV Protection, Gradient Cat-eye Sunglasses (58)',\n",
       " 'Mirrored Aviator Sunglasses (55)',\n",
       " 'Polarized Retro Square Sunglasses (Free Size)',\n",
       " 'UV Protection Retro Square, Round Sunglasses (54)',\n",
       " 'Gradient Round Sunglasses (Free Size)',\n",
       " 'UV Protection, Polarized, Mirrored Retro Square Sunglas...',\n",
       " 'UV Protection, Gradient Rectangular Sunglasses (Free Si...',\n",
       " 'UV Protection Wayfarer Sunglasses (53)',\n",
       " 'UV Protection, Mirrored Wayfarer, Rectangular Sunglasse...',\n",
       " 'UV Protection Aviator Sunglasses (Free Size)',\n",
       " 'Polarized Round Sunglasses (48)',\n",
       " 'UV Protection, Riding Glasses Retro Square, Spectacle ...',\n",
       " 'UV Protection, Gradient Oval Sunglasses (58)']"
      ]
     },
     "execution_count": 59,
     "metadata": {},
     "output_type": "execute_result"
    }
   ],
   "source": [
    "Search_prod_disc2 = driver3.find_elements_by_xpath('//a[@class=\"IRpwTa\" or @class=\"IRpwTa _2-ICcC\"]')\n",
    "print(len(Search_prod_disc2))\n",
    "Prod_disc2 = []\n",
    "for i in Search_prod_disc2:\n",
    "    Prod_disc2.append(i.text)\n",
    "Prod_disc2"
   ]
  },
  {
   "cell_type": "code",
   "execution_count": 60,
   "id": "b252af94",
   "metadata": {},
   "outputs": [
    {
     "name": "stdout",
     "output_type": "stream",
     "text": [
      "40\n"
     ]
    },
    {
     "data": {
      "text/plain": [
       "['82% off',\n",
       " '84% off',\n",
       " '80% off',\n",
       " '80% off',\n",
       " '66% off',\n",
       " '64% off',\n",
       " '17% off',\n",
       " '78% off',\n",
       " '79% off',\n",
       " '86% off',\n",
       " '80% off',\n",
       " '84% off',\n",
       " '76% off',\n",
       " '79% off',\n",
       " '86% off',\n",
       " '67% off',\n",
       " '28% off',\n",
       " '87% off',\n",
       " '12% off',\n",
       " '26% off',\n",
       " '16% off',\n",
       " '81% off',\n",
       " '66% off',\n",
       " '80% off',\n",
       " '82% off',\n",
       " '79% off',\n",
       " '83% off',\n",
       " '69% off',\n",
       " '76% off',\n",
       " '20% off',\n",
       " '85% off',\n",
       " '88% off',\n",
       " '82% off',\n",
       " '84% off',\n",
       " '79% off',\n",
       " '69% off',\n",
       " '20% off',\n",
       " '67% off',\n",
       " '71% off',\n",
       " '69% off']"
      ]
     },
     "execution_count": 60,
     "metadata": {},
     "output_type": "execute_result"
    }
   ],
   "source": [
    "Search_prod_discount2 = driver3.find_elements_by_xpath('//div[@class=\"_3Ay6Sb\"]')\n",
    "print(len(Search_prod_discount2))\n",
    "Prod_discount2 = []\n",
    "for i in Search_prod_discount2:\n",
    "    Prod_discount2.append(i.text)\n",
    "Prod_discount2"
   ]
  },
  {
   "cell_type": "code",
   "execution_count": 63,
   "id": "d5dbcdaa",
   "metadata": {},
   "outputs": [
    {
     "name": "stdout",
     "output_type": "stream",
     "text": [
      "40\n"
     ]
    },
    {
     "data": {
      "text/plain": [
       "['₹349',\n",
       " '₹1,089',\n",
       " '₹201',\n",
       " '₹599',\n",
       " '₹575',\n",
       " '₹789',\n",
       " '₹179',\n",
       " '₹449',\n",
       " '₹144',\n",
       " '₹209',\n",
       " '₹349',\n",
       " '₹383',\n",
       " '₹192',\n",
       " '₹291',\n",
       " '₹375',\n",
       " '₹1,179',\n",
       " '₹246',\n",
       " '₹163',\n",
       " '₹227',\n",
       " '₹549',\n",
       " '₹498',\n",
       " '₹207',\n",
       " '₹348',\n",
       " '₹1,179',\n",
       " '₹287',\n",
       " '₹229',\n",
       " '₹220',\n",
       " '₹1,415',\n",
       " '₹239',\n",
       " '₹256',\n",
       " '₹449',\n",
       " '₹499',\n",
       " '₹224',\n",
       " '₹209',\n",
       " '₹499',\n",
       " '₹426',\n",
       " '₹299',\n",
       " '₹200',\n",
       " '₹664',\n",
       " '₹426']"
      ]
     },
     "execution_count": 63,
     "metadata": {},
     "output_type": "execute_result"
    }
   ],
   "source": [
    "Search_prod_price2 = driver3.find_elements_by_xpath('//div[@class=\"_30jeq3\"]')\n",
    "print(len(Search_prod_price2))\n",
    "Prod_price2 = []\n",
    "for i in Search_prod_price2:\n",
    "    Prod_price2.append(i.text)\n",
    "Prod_price2"
   ]
  },
  {
   "cell_type": "code",
   "execution_count": 64,
   "id": "b9651470",
   "metadata": {},
   "outputs": [],
   "source": [
    "Next_pg_button1 = driver3.find_element_by_xpath('/html/body/div[1]/div/div[3]/div[1]/div[2]/div[12]/div/div/nav/a[12]')\n",
    "Next_pg_button1.click()"
   ]
  },
  {
   "cell_type": "code",
   "execution_count": 70,
   "id": "a512d647",
   "metadata": {},
   "outputs": [
    {
     "name": "stdout",
     "output_type": "stream",
     "text": [
      "40\n",
      "20\n"
     ]
    },
    {
     "data": {
      "text/plain": [
       "['Fastrack',\n",
       " 'ROZZETTA CRAFT',\n",
       " 'New Specs',\n",
       " 'ROZZETTA CRAFT',\n",
       " 'ROYAL SON',\n",
       " 'hipe',\n",
       " 'ROYAL SON',\n",
       " 'AISLIN',\n",
       " 'kingsunglasses',\n",
       " 'HIPPON',\n",
       " 'hipe',\n",
       " 'ROZZETTA CRAFT',\n",
       " 'ROYAL SON',\n",
       " 'PHENOMENAL',\n",
       " 'Fastrack',\n",
       " 'ROZZETTA CRAFT',\n",
       " 'kingsunglasses',\n",
       " 'Rich Club',\n",
       " 'ROZZETTA CRAFT',\n",
       " 'VINCENT CHASE']"
      ]
     },
     "execution_count": 70,
     "metadata": {},
     "output_type": "execute_result"
    }
   ],
   "source": [
    "Search_brand_name3 = driver3.find_elements_by_xpath('//div[@class=\"_2WkVRV\"]')\n",
    "print(len(Search_brand_name3))\n",
    "Brand_name3 = []\n",
    "for i in Search_brand_name3:\n",
    "    Brand_name3.append(i.text)\n",
    "Brand_name3 = Brand_name3[:20]\n",
    "print(len(Brand_name3))\n",
    "Brand_name3"
   ]
  },
  {
   "cell_type": "code",
   "execution_count": 69,
   "id": "0f9f95bd",
   "metadata": {},
   "outputs": [
    {
     "name": "stdout",
     "output_type": "stream",
     "text": [
      "40\n",
      "20\n"
     ]
    },
    {
     "data": {
      "text/plain": [
       "['UV Protection Aviator Sunglasses (Free Size)',\n",
       " 'UV Protection Round Sunglasses (Free Size)',\n",
       " 'UV Protection, Mirrored Sports Sunglasses (Free Size)',\n",
       " 'Polarized, Night Vision, Riding Glasses Sports, Wrap-ar...',\n",
       " 'Mirrored Aviator Sunglasses (Free Size)',\n",
       " 'UV Protection, Gradient, Mirrored, Riding Glasses, Nigh...',\n",
       " 'Mirrored Aviator Sunglasses (55)',\n",
       " 'UV Protection, Gradient Round Sunglasses (58)',\n",
       " 'UV Protection, Night Vision Wayfarer Sunglasses (Free S...',\n",
       " 'UV Protection Wayfarer Sunglasses (55)',\n",
       " 'UV Protection Sports Sunglasses (Free Size)',\n",
       " 'Gradient Round Sunglasses (Free Size)',\n",
       " 'Mirrored Aviator Sunglasses (58)',\n",
       " 'UV Protection Clubmaster Sunglasses (Free Size)',\n",
       " 'Polarized Retro Square Sunglasses (Free Size)',\n",
       " 'UV Protection Retro Square Sunglasses (Free Size)',\n",
       " 'UV Protection, Mirrored Round Sunglasses (Free Size)',\n",
       " 'UV Protection, Others Round Sunglasses (48)',\n",
       " 'Mirrored, UV Protection Round Sunglasses (Free Size)',\n",
       " 'by Lenskart UV Protection Wayfarer Sunglasses (49)']"
      ]
     },
     "execution_count": 69,
     "metadata": {},
     "output_type": "execute_result"
    }
   ],
   "source": [
    "Search_prod_disc3 = driver3.find_elements_by_xpath('//a[@class=\"IRpwTa\" or @class=\"IRpwTa _2-ICcC\"]')\n",
    "print(len(Search_prod_disc3))\n",
    "Prod_disc3 = []\n",
    "for i in Search_prod_disc3:\n",
    "    Prod_disc3.append(i.text)\n",
    "Prod_disc3 = Prod_disc3[:20]\n",
    "print(len(Prod_disc3))\n",
    "Prod_disc3"
   ]
  },
  {
   "cell_type": "code",
   "execution_count": 72,
   "id": "217a6bfd",
   "metadata": {},
   "outputs": [
    {
     "name": "stdout",
     "output_type": "stream",
     "text": [
      "40\n",
      "20\n"
     ]
    },
    {
     "data": {
      "text/plain": [
       "['20% off',\n",
       " '84% off',\n",
       " '88% off',\n",
       " '75% off',\n",
       " '76% off',\n",
       " '85% off',\n",
       " '76% off',\n",
       " '67% off',\n",
       " '83% off',\n",
       " '81% off',\n",
       " '84% off',\n",
       " '88% off',\n",
       " '76% off',\n",
       " '85% off',\n",
       " '20% off',\n",
       " '78% off',\n",
       " '86% off',\n",
       " '72% off',\n",
       " '75% off',\n",
       " '41% off']"
      ]
     },
     "execution_count": 72,
     "metadata": {},
     "output_type": "execute_result"
    }
   ],
   "source": [
    "Search_prod_discount3 = driver3.find_elements_by_xpath('//div[@class=\"_3Ay6Sb\"]')\n",
    "print(len(Search_prod_discount3))\n",
    "Prod_discount3 = []\n",
    "for i in Search_prod_discount3:\n",
    "    Prod_discount3.append(i.text)\n",
    "Prod_discount3 = Prod_discount3[:20]\n",
    "print(len(Prod_discount3))\n",
    "Prod_discount3"
   ]
  },
  {
   "cell_type": "code",
   "execution_count": 74,
   "id": "7300be84",
   "metadata": {},
   "outputs": [
    {
     "name": "stdout",
     "output_type": "stream",
     "text": [
      "40\n",
      "20\n"
     ]
    },
    {
     "data": {
      "text/plain": [
       "['₹639',\n",
       " '₹426',\n",
       " '₹148',\n",
       " '₹499',\n",
       " '₹359',\n",
       " '₹189',\n",
       " '₹359',\n",
       " '₹498',\n",
       " '₹273',\n",
       " '₹218',\n",
       " '₹287',\n",
       " '₹426',\n",
       " '₹359',\n",
       " '₹287',\n",
       " '₹639',\n",
       " '₹474',\n",
       " '₹235',\n",
       " '₹220',\n",
       " '₹360',\n",
       " '₹1,179']"
      ]
     },
     "execution_count": 74,
     "metadata": {},
     "output_type": "execute_result"
    }
   ],
   "source": [
    "Search_prod_price3 = driver3.find_elements_by_xpath('//div[@class=\"_30jeq3\"]')\n",
    "print(len(Search_prod_price3))\n",
    "Prod_price3 = []\n",
    "for i in Search_prod_price3:\n",
    "    Prod_price3.append(i.text)\n",
    "Prod_price3 = Prod_price3[:20]\n",
    "print(len(Prod_price3))\n",
    "Prod_price3"
   ]
  },
  {
   "cell_type": "code",
   "execution_count": 82,
   "id": "0cc53e56",
   "metadata": {},
   "outputs": [
    {
     "name": "stdout",
     "output_type": "stream",
     "text": [
      "100\n",
      "100\n",
      "100\n",
      "100\n"
     ]
    }
   ],
   "source": [
    "final_brand_names = Brand_name1 + Brand_name2 + Brand_name3\n",
    "final_prod_discr = Prod_disc1 + Prod_disc2 + Prod_disc3\n",
    "final_price_list = Prod_price1 + Prod_price2 + Prod_price3\n",
    "final_disc_list = Prod_discount1 + Prod_discount2 + Prod_discount3\n",
    "print(len(final_brand_names))\n",
    "print(len(final_prod_discr))\n",
    "print(len(final_price_list))\n",
    "print(len(final_disc_list))"
   ]
  },
  {
   "cell_type": "code",
   "execution_count": 83,
   "id": "078b2e52",
   "metadata": {},
   "outputs": [
    {
     "data": {
      "text/html": [
       "<div>\n",
       "<style scoped>\n",
       "    .dataframe tbody tr th:only-of-type {\n",
       "        vertical-align: middle;\n",
       "    }\n",
       "\n",
       "    .dataframe tbody tr th {\n",
       "        vertical-align: top;\n",
       "    }\n",
       "\n",
       "    .dataframe thead th {\n",
       "        text-align: right;\n",
       "    }\n",
       "</style>\n",
       "<table border=\"1\" class=\"dataframe\">\n",
       "  <thead>\n",
       "    <tr style=\"text-align: right;\">\n",
       "      <th></th>\n",
       "      <th>Brand</th>\n",
       "      <th>Product Description</th>\n",
       "      <th>Price</th>\n",
       "      <th>Discount</th>\n",
       "    </tr>\n",
       "  </thead>\n",
       "  <tbody>\n",
       "    <tr>\n",
       "      <th>0</th>\n",
       "      <td>SKYZA INDIA</td>\n",
       "      <td>Mirrored, Riding Glasses, Gradient Cat-eye Sun...</td>\n",
       "      <td>₹159</td>\n",
       "      <td>68% off</td>\n",
       "    </tr>\n",
       "    <tr>\n",
       "      <th>1</th>\n",
       "      <td>Silver Kartz</td>\n",
       "      <td>UV Protection Clubmaster Sunglasses (53)</td>\n",
       "      <td>₹367</td>\n",
       "      <td>75% off</td>\n",
       "    </tr>\n",
       "    <tr>\n",
       "      <th>2</th>\n",
       "      <td>PIRASO</td>\n",
       "      <td>UV Protection Aviator Sunglasses (54)</td>\n",
       "      <td>₹200</td>\n",
       "      <td>87% off</td>\n",
       "    </tr>\n",
       "    <tr>\n",
       "      <th>3</th>\n",
       "      <td>Elligator</td>\n",
       "      <td>UV Protection Round Sunglasses (54)</td>\n",
       "      <td>₹248</td>\n",
       "      <td>90% off</td>\n",
       "    </tr>\n",
       "    <tr>\n",
       "      <th>4</th>\n",
       "      <td>Fastrack</td>\n",
       "      <td>UV Protection Wayfarer Sunglasses (Free Size)</td>\n",
       "      <td>₹759</td>\n",
       "      <td>15% off</td>\n",
       "    </tr>\n",
       "    <tr>\n",
       "      <th>...</th>\n",
       "      <td>...</td>\n",
       "      <td>...</td>\n",
       "      <td>...</td>\n",
       "      <td>...</td>\n",
       "    </tr>\n",
       "    <tr>\n",
       "      <th>95</th>\n",
       "      <td>ROZZETTA CRAFT</td>\n",
       "      <td>UV Protection Retro Square Sunglasses (Free Size)</td>\n",
       "      <td>₹474</td>\n",
       "      <td>78% off</td>\n",
       "    </tr>\n",
       "    <tr>\n",
       "      <th>96</th>\n",
       "      <td>kingsunglasses</td>\n",
       "      <td>UV Protection, Mirrored Round Sunglasses (Free...</td>\n",
       "      <td>₹235</td>\n",
       "      <td>86% off</td>\n",
       "    </tr>\n",
       "    <tr>\n",
       "      <th>97</th>\n",
       "      <td>Rich Club</td>\n",
       "      <td>UV Protection, Others Round Sunglasses (48)</td>\n",
       "      <td>₹220</td>\n",
       "      <td>72% off</td>\n",
       "    </tr>\n",
       "    <tr>\n",
       "      <th>98</th>\n",
       "      <td>ROZZETTA CRAFT</td>\n",
       "      <td>Mirrored, UV Protection Round Sunglasses (Free...</td>\n",
       "      <td>₹360</td>\n",
       "      <td>75% off</td>\n",
       "    </tr>\n",
       "    <tr>\n",
       "      <th>99</th>\n",
       "      <td>VINCENT CHASE</td>\n",
       "      <td>by Lenskart UV Protection Wayfarer Sunglasses ...</td>\n",
       "      <td>₹1,179</td>\n",
       "      <td>41% off</td>\n",
       "    </tr>\n",
       "  </tbody>\n",
       "</table>\n",
       "<p>100 rows × 4 columns</p>\n",
       "</div>"
      ],
      "text/plain": [
       "             Brand                                Product Description   Price  \\\n",
       "0      SKYZA INDIA  Mirrored, Riding Glasses, Gradient Cat-eye Sun...    ₹159   \n",
       "1     Silver Kartz           UV Protection Clubmaster Sunglasses (53)    ₹367   \n",
       "2           PIRASO              UV Protection Aviator Sunglasses (54)    ₹200   \n",
       "3        Elligator                UV Protection Round Sunglasses (54)    ₹248   \n",
       "4         Fastrack      UV Protection Wayfarer Sunglasses (Free Size)    ₹759   \n",
       "..             ...                                                ...     ...   \n",
       "95  ROZZETTA CRAFT  UV Protection Retro Square Sunglasses (Free Size)    ₹474   \n",
       "96  kingsunglasses  UV Protection, Mirrored Round Sunglasses (Free...    ₹235   \n",
       "97       Rich Club        UV Protection, Others Round Sunglasses (48)    ₹220   \n",
       "98  ROZZETTA CRAFT  Mirrored, UV Protection Round Sunglasses (Free...    ₹360   \n",
       "99   VINCENT CHASE  by Lenskart UV Protection Wayfarer Sunglasses ...  ₹1,179   \n",
       "\n",
       "   Discount  \n",
       "0   68% off  \n",
       "1   75% off  \n",
       "2   87% off  \n",
       "3   90% off  \n",
       "4   15% off  \n",
       "..      ...  \n",
       "95  78% off  \n",
       "96  86% off  \n",
       "97  72% off  \n",
       "98  75% off  \n",
       "99  41% off  \n",
       "\n",
       "[100 rows x 4 columns]"
      ]
     },
     "execution_count": 83,
     "metadata": {},
     "output_type": "execute_result"
    }
   ],
   "source": [
    "df3 = pd.DataFrame({'Brand':final_brand_names ,' Product Description':final_prod_discr , 'Price':final_price_list ,'Discount':final_disc_list })\n",
    "df3"
   ]
  },
  {
   "cell_type": "markdown",
   "id": "669e76b3",
   "metadata": {},
   "source": [
    "## Q5: Scrape 100 reviews data from flipkart.com for iphone11 phone. You have to go the link:\n",
    "### https://www.flipkart.com/apple-iphone-11-black-64-gb-includes- earpods-poweradapter/p/itm0f37c2240b217?pid=MOBFKCTSVZAXUHGR&lid=LSTMOBFKC\n",
    "### TSVZAXUHGREPBFGI&marketplace.\n",
    "### As shown in the above page you have to scrape the tick marked attributes.These are:\n",
    "### 1. Rating\n",
    "### 2. Review summary\n",
    "### 3. Full review\n",
    "### 4. You have to scrape this data for first 100 reviews."
   ]
  },
  {
   "cell_type": "code",
   "execution_count": 88,
   "id": "ffe2b8ad",
   "metadata": {},
   "outputs": [],
   "source": [
    "driver4 = webdriver.Chrome('chromedriver.exe')\n",
    "driver4.get('https://www.flipkart.com/apple-iphone-11-black-64-gb-includes- earpods-poweradapter/p/itm0f37c2240b217?pid=MOBFKCTSVZAXUHGR&lid=LSTMOBFKCTSVZAXUHGREPBFGI&marketplace.')"
   ]
  },
  {
   "cell_type": "code",
   "execution_count": 91,
   "id": "a6661934",
   "metadata": {},
   "outputs": [],
   "source": [
    "All_reveiw_button1 = driver4.find_element_by_xpath('/html/body/div[1]/div/div[3]/div[1]/div[2]/div[9]/div/div/div[5]/div/a/div/span')\n",
    "All_reveiw_button1.click()"
   ]
  },
  {
   "cell_type": "code",
   "execution_count": 92,
   "id": "b42f39d6",
   "metadata": {},
   "outputs": [
    {
     "name": "stdout",
     "output_type": "stream",
     "text": [
      "10\n",
      "10\n",
      "10\n"
     ]
    },
    {
     "data": {
      "text/plain": [
       "['The Best Phone for the Money\\n\\nThe iPhone 11 offers superb cameras, a more durable design and excellent battery life for an affordable price.\\n\\nCompelling ultra-wide camera\\nNew Night mode is excellent\\nLong battery life',\n",
       " 'Really satisfied with the Product I received... It’s totally genuine and the packaging was also really good so if ur planning to buy just go for it.',\n",
       " 'Amazing phone with great cameras and better battery which gives you the best performance. I just love the camera .',\n",
       " 'Great iPhone very snappy experience as apple kind. Upgraded from iPhone 7.\\nPros\\n-Camera top class\\n- Battery top performed\\n-Chipset no need to say as apple kind\\n-Security as you expect from apple\\n- Display super bright industry leading colour\\naccuracy and super responsive\\n-Build quality as expect from apple sturdy\\npremium durable beautiful stylish.\\n-Os most stable os in smartphone industry\\n\\nCons\\n-No 5G\\n-Display is not based on OLED technology\\n-Charger headphones and 1 apple stic...\\nREAD MORE',\n",
       " 'Previously I was using one plus 3t it was a great phone\\nAnd then I decided to upgrade I am stuck between Samsung s10 plus or iPhone 11\\nI have seen the specs and everything were good except the display it’s somewhere between 720-1080 and it’s not even an amoled it’s an LCD display\\nBut I decided to go with iPhone because I have never used an IOS device I have Been an android user from the past 9 years I ordered IPhone 11 (128gb) product red\\nMy experience after using 3 weeks\\n1. The delivery ...\\nREAD MORE',\n",
       " 'This is my first iOS phone. I am very happy with this product. Very much satisfied with this. I love this phone.',\n",
       " 'Amazing Powerful and Durable Gadget.\\n\\nI’m am very happy with the camera picture quality, Amazing face id unlocked in dark room, Strong battery with perfect screen size as you can carry easily in pocket. This is my third iPhone.\\n\\nI shifted from android Samsung Note series to iPhone because of the strong build quality and peace of mind for next 3-4 years.\\n\\nDon’t think to much just go for it and I suggest you to go for minimum 128gb variant or more 256gb.\\n\\nI’ve attached my puppy pics and no fi...\\nREAD MORE',\n",
       " 'So far it’s been an AMAZING experience coming back to iOS after nearly a decade but it’s not as versatile as android though phone is sturdy dropped it accidentally a couple of times and nothing happened fortunately camera is awesome',\n",
       " 'What a camera .....just awesome ..you can feel this iPhone just awesome . Good for gaming also ...try pubg in hd it’s just wow',\n",
       " 'i11 is worthy to buy, too much happy with the product. Thank u flipkart I received the item on time..loved it..']"
      ]
     },
     "execution_count": 92,
     "metadata": {},
     "output_type": "execute_result"
    }
   ],
   "source": [
    "#Rating\n",
    "Search_Rev_rating1 = driver4.find_elements_by_xpath('//div[@class=\"_3LWZlK _1BLPMq\"]')\n",
    "print(len(Search_Rev_rating1))\n",
    "Rev_rating1 = []\n",
    "for i in Search_Rev_rating1:\n",
    "    Rev_rating1.append(i.text)\n",
    "Rev_rating1 \n",
    "\n",
    "#Review_Summary\n",
    "Search_Rev_Summary1 = driver4.find_elements_by_xpath('//p[@class=\"_2-N8zT\"]')\n",
    "print(len(Search_Rev_Summary1))\n",
    "Rev_Summary1 = []\n",
    "for i in Search_Rev_Summary1:\n",
    "    Rev_Summary1.append(i.text)\n",
    "Rev_Summary1 \n",
    "\n",
    "#Full_Review\n",
    "Search_full_Review1 = driver4.find_elements_by_xpath('//div[@class=\"t-ZTKy\"]')\n",
    "print(len(Search_full_Review1))\n",
    "full_Review1 = []\n",
    "for i in Search_full_Review1:\n",
    "    full_Review1.append(i.text)\n",
    "full_Review1"
   ]
  },
  {
   "cell_type": "code",
   "execution_count": 104,
   "id": "20b9b696",
   "metadata": {},
   "outputs": [],
   "source": [
    "iphone_Next_page_button1 = driver4.find_element_by_xpath('/html/body/div/div/div[3]/div/div/div[2]/div[13]/div/div/nav/a[2]')\n",
    "iphone_Next_page_button1.click()"
   ]
  },
  {
   "cell_type": "code",
   "execution_count": null,
   "id": "1b298d37",
   "metadata": {},
   "outputs": [],
   "source": []
  }
 ],
 "metadata": {
  "kernelspec": {
   "display_name": "Python 3 (ipykernel)",
   "language": "python",
   "name": "python3"
  },
  "language_info": {
   "codemirror_mode": {
    "name": "ipython",
    "version": 3
   },
   "file_extension": ".py",
   "mimetype": "text/x-python",
   "name": "python",
   "nbconvert_exporter": "python",
   "pygments_lexer": "ipython3",
   "version": "3.9.7"
  }
 },
 "nbformat": 4,
 "nbformat_minor": 5
}
