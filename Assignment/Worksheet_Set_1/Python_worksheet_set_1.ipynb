{
 "cells": [
  {
   "cell_type": "markdown",
   "id": "239b2107",
   "metadata": {},
   "source": [
    "# PYTHON – WORKSHEET 1"
   ]
  },
  {
   "cell_type": "markdown",
   "id": "8eaf827b",
   "metadata": {},
   "source": [
    "Q 11. Write a python program to find the factorial of a number."
   ]
  },
  {
   "cell_type": "code",
   "execution_count": 1,
   "id": "8973d05e",
   "metadata": {},
   "outputs": [
    {
     "name": "stdout",
     "output_type": "stream",
     "text": [
      "Enter a number: 6\n",
      "Factorial of 6  is  720\n"
     ]
    }
   ],
   "source": [
    "#Factorial\n",
    "num=int(input(\"Enter a number: \"))\n",
    "Factorial = 1\n",
    "if num<0:\n",
    "    print(\"Factorial not possible for negative num\")\n",
    "elif num==0:\n",
    "    print(\"Factorial of 0 is 1\")\n",
    "else:\n",
    "    for i in range(1,num + 1):\n",
    "        Factorial=Factorial*i\n",
    "    print(\"Factorial of\",num,\" is \",Factorial)"
   ]
  },
  {
   "cell_type": "markdown",
   "id": "ca938b28",
   "metadata": {},
   "source": [
    "Q 12. Write a python program to find whether a number is prime or composite?"
   ]
  },
  {
   "cell_type": "code",
   "execution_count": 8,
   "id": "7dd9c5ad",
   "metadata": {},
   "outputs": [
    {
     "name": "stdout",
     "output_type": "stream",
     "text": [
      "Enter a number: 80\n",
      "input number  80  is composite number\n"
     ]
    }
   ],
   "source": [
    "#Prime or Composite\n",
    "num1=int(input(\"Enter a number: \"))\n",
    "a=0\n",
    "\n",
    "for i in range(1,num1+1):\n",
    "    rem=num1%i\n",
    "    if (rem==0):\n",
    "        a=a+1\n",
    "\n",
    "if (a==1):\n",
    "    print(\"Number \",num1,\" is neither prime nor composite\")\n",
    "elif (a==2):\n",
    "    print(\"input number \",num1, \" is prime number\")\n",
    "elif a>3:\n",
    "    print(\"input number \",num1, \" is composite number\")"
   ]
  },
  {
   "cell_type": "markdown",
   "id": "102586fb",
   "metadata": {},
   "source": [
    "Q 13.  Write a python program to check whether a given string is palindrome or not."
   ]
  },
  {
   "cell_type": "code",
   "execution_count": 17,
   "id": "29152cb4",
   "metadata": {},
   "outputs": [
    {
     "name": "stdout",
     "output_type": "stream",
     "text": [
      "Enter the string: string\n",
      "string  is not palindrome\n"
     ]
    }
   ],
   "source": [
    "string1=str(input('Enter the string: '))\n",
    "revstr=string1[::-1]\n",
    "if (string1==revstr):\n",
    "    print(string1,\" is palindrome\")\n",
    "else:\n",
    "    print(string1,\" is not palindrome\")\n"
   ]
  },
  {
   "cell_type": "markdown",
   "id": "50e34ae2",
   "metadata": {},
   "source": [
    "Q 14.Write a Python program to get the third side of right-angled triangle from two given sides."
   ]
  },
  {
   "cell_type": "code",
   "execution_count": 23,
   "id": "50b46391",
   "metadata": {},
   "outputs": [
    {
     "name": "stdout",
     "output_type": "stream",
     "text": [
      "enter side1 value : 12\n",
      "enter side2 value : 13\n",
      "Value of third side is :  17.69180601295413\n"
     ]
    }
   ],
   "source": [
    "import math\n",
    "#side1 and side2 are the sides except hypotenuse of right angle triangle\n",
    "side1=int(input(\"enter side1 value : \"))\n",
    "side2=int(input(\"enter side2 value : \"))\n",
    "side3=math.sqrt(side1*side1+side2*side2)\n",
    "print(\"Value of third side is : \",side3)"
   ]
  },
  {
   "cell_type": "markdown",
   "id": "d99a5ea7",
   "metadata": {},
   "source": [
    "Q 15. Write a python program to print the frequency of each of the characters present in a given string."
   ]
  },
  {
   "cell_type": "code",
   "execution_count": 26,
   "id": "11f45d7e",
   "metadata": {},
   "outputs": [
    {
     "name": "stdout",
     "output_type": "stream",
     "text": [
      "Enter string to get freq : aaabbccdd\n",
      "freq of char in  aaabbccdd  is :{'a': 3, 'b': 2, 'c': 2, 'd': 2}\n"
     ]
    }
   ],
   "source": [
    "string2=str(input(\"Enter string to get freq : \"))\n",
    "freqq = {}\n",
    "for i in string2:\n",
    "    freqq[i]=freqq.get(i,0)+1\n",
    "\n",
    "print(\"freq of char in \",string2,\" is :\"+str(freqq))"
   ]
  }
 ],
 "metadata": {
  "kernelspec": {
   "display_name": "Python 3 (ipykernel)",
   "language": "python",
   "name": "python3"
  },
  "language_info": {
   "codemirror_mode": {
    "name": "ipython",
    "version": 3
   },
   "file_extension": ".py",
   "mimetype": "text/x-python",
   "name": "python",
   "nbconvert_exporter": "python",
   "pygments_lexer": "ipython3",
   "version": "3.9.7"
  }
 },
 "nbformat": 4,
 "nbformat_minor": 5
}
